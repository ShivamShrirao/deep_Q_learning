{
  "nbformat": 4,
  "nbformat_minor": 0,
  "metadata": {
    "colab": {
      "name": "Breakout_Deep_Q_RL.ipynb",
      "provenance": [],
      "collapsed_sections": [],
      "machine_shape": "hm"
    },
    "kernelspec": {
      "name": "python3",
      "display_name": "Python 3"
    },
    "accelerator": "GPU"
  },
  "cells": [
    {
      "cell_type": "code",
      "metadata": {
        "id": "LbuhMj8QkFUO",
        "colab_type": "code",
        "colab": {
          "base_uri": "https://localhost:8080/",
          "height": 357
        },
        "outputId": "09ce8a54-a5a9-46fb-8dcf-d5a3b4efe1b5"
      },
      "source": [
        "!nvidia-smi"
      ],
      "execution_count": 1,
      "outputs": [
        {
          "output_type": "stream",
          "text": [
            "Sat Aug 22 12:34:33 2020       \n",
            "+-----------------------------------------------------------------------------+\n",
            "| NVIDIA-SMI 450.57       Driver Version: 418.67       CUDA Version: 10.1     |\n",
            "|-------------------------------+----------------------+----------------------+\n",
            "| GPU  Name        Persistence-M| Bus-Id        Disp.A | Volatile Uncorr. ECC |\n",
            "| Fan  Temp  Perf  Pwr:Usage/Cap|         Memory-Usage | GPU-Util  Compute M. |\n",
            "|                               |                      |               MIG M. |\n",
            "|===============================+======================+======================|\n",
            "|   0  Tesla P100-PCIE...  Off  | 00000000:00:04.0 Off |                    0 |\n",
            "| N/A   45C    P0    30W / 250W |      0MiB / 16280MiB |      0%      Default |\n",
            "|                               |                      |                 ERR! |\n",
            "+-------------------------------+----------------------+----------------------+\n",
            "                                                                               \n",
            "+-----------------------------------------------------------------------------+\n",
            "| Processes:                                                                  |\n",
            "|  GPU   GI   CI        PID   Type   Process name                  GPU Memory |\n",
            "|        ID   ID                                                   Usage      |\n",
            "|=============================================================================|\n",
            "|  No running processes found                                                 |\n",
            "+-----------------------------------------------------------------------------+\n"
          ],
          "name": "stdout"
        }
      ]
    },
    {
      "cell_type": "code",
      "metadata": {
        "id": "TQZiX7WgkQeu",
        "colab_type": "code",
        "colab": {
          "base_uri": "https://localhost:8080/",
          "height": 122
        },
        "outputId": "e5ee548b-5205-45a4-d6e3-e29b28324bfb"
      },
      "source": [
        "from google.colab import drive\n",
        "drive.mount('/content/drive')"
      ],
      "execution_count": 2,
      "outputs": [
        {
          "output_type": "stream",
          "text": [
            "Go to this URL in a browser: https://accounts.google.com/o/oauth2/auth?client_id=947318989803-6bn6qk8qdgf4n4g3pfee6491hc0brc4i.apps.googleusercontent.com&redirect_uri=urn%3aietf%3awg%3aoauth%3a2.0%3aoob&scope=email%20https%3a%2f%2fwww.googleapis.com%2fauth%2fdocs.test%20https%3a%2f%2fwww.googleapis.com%2fauth%2fdrive%20https%3a%2f%2fwww.googleapis.com%2fauth%2fdrive.photos.readonly%20https%3a%2f%2fwww.googleapis.com%2fauth%2fpeopleapi.readonly&response_type=code\n",
            "\n",
            "Enter your authorization code:\n",
            "··········\n",
            "Mounted at /content/drive\n"
          ],
          "name": "stdout"
        }
      ]
    },
    {
      "cell_type": "code",
      "metadata": {
        "id": "v6pXJGDekFNt",
        "colab_type": "code",
        "colab": {
          "base_uri": "https://localhost:8080/",
          "height": 207
        },
        "outputId": "1bd73ec5-e1fa-4a05-ae09-e5baf6bb48f6"
      },
      "source": [
        "!python -m pip install git+https://github.com/ShivamShrirao/dnn_from_scratch.git"
      ],
      "execution_count": 3,
      "outputs": [
        {
          "output_type": "stream",
          "text": [
            "Collecting git+https://github.com/ShivamShrirao/dnn_from_scratch.git\n",
            "  Cloning https://github.com/ShivamShrirao/dnn_from_scratch.git to /tmp/pip-req-build-37ix8dpj\n",
            "  Running command git clone -q https://github.com/ShivamShrirao/dnn_from_scratch.git /tmp/pip-req-build-37ix8dpj\n",
            "Building wheels for collected packages: dnn-from-scratch\n",
            "  Building wheel for dnn-from-scratch (setup.py) ... \u001b[?25l\u001b[?25hdone\n",
            "  Created wheel for dnn-from-scratch: filename=dnn_from_scratch-0.1.dev1-cp36-none-any.whl size=39847 sha256=a3660c994598da163f8a0cf87e9885c2c37abf65faa345e0e76dffd0d98caa25\n",
            "  Stored in directory: /tmp/pip-ephem-wheel-cache-97uok4qh/wheels/33/77/6c/1140f6295368e7045f3b49fdda98e7f07b2513b8b55093ca7b\n",
            "Successfully built dnn-from-scratch\n",
            "Installing collected packages: dnn-from-scratch\n",
            "Successfully installed dnn-from-scratch-0.1.dev1\n"
          ],
          "name": "stdout"
        }
      ]
    },
    {
      "cell_type": "code",
      "metadata": {
        "id": "CgT-5T6EkO8a",
        "colab_type": "code",
        "colab": {
          "base_uri": "https://localhost:8080/",
          "height": 136
        },
        "outputId": "126239a3-db49-4a9a-b645-9654f67d0a64"
      },
      "source": [
        "!git clone https://github.com/ShivamShrirao/deep_Q_learning_from_scratch.git"
      ],
      "execution_count": 4,
      "outputs": [
        {
          "output_type": "stream",
          "text": [
            "Cloning into 'deep_Q_learning_from_scratch'...\n",
            "remote: Enumerating objects: 266, done.\u001b[K\n",
            "remote: Counting objects:   0% (1/266)\u001b[K\rremote: Counting objects:   1% (3/266)\u001b[K\rremote: Counting objects:   2% (6/266)\u001b[K\rremote: Counting objects:   3% (8/266)\u001b[K\rremote: Counting objects:   4% (11/266)\u001b[K\rremote: Counting objects:   5% (14/266)\u001b[K\rremote: Counting objects:   6% (16/266)\u001b[K\rremote: Counting objects:   7% (19/266)\u001b[K\rremote: Counting objects:   8% (22/266)\u001b[K\rremote: Counting objects:   9% (24/266)\u001b[K\rremote: Counting objects:  10% (27/266)\u001b[K\rremote: Counting objects:  11% (30/266)\u001b[K\rremote: Counting objects:  12% (32/266)\u001b[K\rremote: Counting objects:  13% (35/266)\u001b[K\rremote: Counting objects:  14% (38/266)\u001b[K\rremote: Counting objects:  15% (40/266)\u001b[K\rremote: Counting objects:  16% (43/266)\u001b[K\rremote: Counting objects:  17% (46/266)\u001b[K\rremote: Counting objects:  18% (48/266)\u001b[K\rremote: Counting objects:  19% (51/266)\u001b[K\rremote: Counting objects:  20% (54/266)\u001b[K\rremote: Counting objects:  21% (56/266)\u001b[K\rremote: Counting objects:  22% (59/266)\u001b[K\rremote: Counting objects:  23% (62/266)\u001b[K\rremote: Counting objects:  24% (64/266)\u001b[K\rremote: Counting objects:  25% (67/266)\u001b[K\rremote: Counting objects:  26% (70/266)\u001b[K\rremote: Counting objects:  27% (72/266)\u001b[K\rremote: Counting objects:  28% (75/266)\u001b[K\rremote: Counting objects:  29% (78/266)\u001b[K\rremote: Counting objects:  30% (80/266)\u001b[K\rremote: Counting objects:  31% (83/266)\u001b[K\rremote: Counting objects:  32% (86/266)\u001b[K\rremote: Counting objects:  33% (88/266)\u001b[K\rremote: Counting objects:  34% (91/266)\u001b[K\rremote: Counting objects:  35% (94/266)\u001b[K\rremote: Counting objects:  36% (96/266)\u001b[K\rremote: Counting objects:  37% (99/266)\u001b[K\rremote: Counting objects:  38% (102/266)\u001b[K\rremote: Counting objects:  39% (104/266)\u001b[K\rremote: Counting objects:  40% (107/266)\u001b[K\rremote: Counting objects:  41% (110/266)\u001b[K\rremote: Counting objects:  42% (112/266)\u001b[K\rremote: Counting objects:  43% (115/266)\u001b[K\rremote: Counting objects:  44% (118/266)\u001b[K\rremote: Counting objects:  45% (120/266)\u001b[K\rremote: Counting objects:  46% (123/266)\u001b[K\rremote: Counting objects:  47% (126/266)\u001b[K\rremote: Counting objects:  48% (128/266)\u001b[K\rremote: Counting objects:  49% (131/266)\u001b[K\rremote: Counting objects:  50% (133/266)\u001b[K\rremote: Counting objects:  51% (136/266)\u001b[K\rremote: Counting objects:  52% (139/266)\u001b[K\rremote: Counting objects:  53% (141/266)\u001b[K\rremote: Counting objects:  54% (144/266)\u001b[K\rremote: Counting objects:  55% (147/266)\u001b[K\rremote: Counting objects:  56% (149/266)\u001b[K\rremote: Counting objects:  57% (152/266)\u001b[K\rremote: Counting objects:  58% (155/266)\u001b[K\rremote: Counting objects:  59% (157/266)\u001b[K\rremote: Counting objects:  60% (160/266)\u001b[K\rremote: Counting objects:  61% (163/266)\u001b[K\rremote: Counting objects:  62% (165/266)\u001b[K\rremote: Counting objects:  63% (168/266)\u001b[K\rremote: Counting objects:  64% (171/266)\u001b[K\rremote: Counting objects:  65% (173/266)\u001b[K\rremote: Counting objects:  66% (176/266)\u001b[K\rremote: Counting objects:  67% (179/266)\u001b[K\rremote: Counting objects:  68% (181/266)\u001b[K\rremote: Counting objects:  69% (184/266)\u001b[K\rremote: Counting objects:  70% (187/266)\u001b[K\rremote: Counting objects:  71% (189/266)\u001b[K\rremote: Counting objects:  72% (192/266)\u001b[K\rremote: Counting objects:  73% (195/266)\u001b[K\rremote: Counting objects:  74% (197/266)\u001b[K\rremote: Counting objects:  75% (200/266)\u001b[K\rremote: Counting objects:  76% (203/266)\u001b[K\rremote: Counting objects:  77% (205/266)\u001b[K\rremote: Counting objects:  78% (208/266)\u001b[K\rremote: Counting objects:  79% (211/266)\u001b[K\rremote: Counting objects:  80% (213/266)\u001b[K\rremote: Counting objects:  81% (216/266)\u001b[K\rremote: Counting objects:  82% (219/266)\u001b[K\rremote: Counting objects:  83% (221/266)\u001b[K\rremote: Counting objects:  84% (224/266)\u001b[K\rremote: Counting objects:  85% (227/266)\u001b[K\rremote: Counting objects:  86% (229/266)\u001b[K\rremote: Counting objects:  87% (232/266)\u001b[K\rremote: Counting objects:  88% (235/266)\u001b[K\rremote: Counting objects:  89% (237/266)\u001b[K\rremote: Counting objects:  90% (240/266)\u001b[K\rremote: Counting objects:  91% (243/266)\u001b[K\rremote: Counting objects:  92% (245/266)\u001b[K\rremote: Counting objects:  93% (248/266)\u001b[K\rremote: Counting objects:  94% (251/266)\u001b[K\rremote: Counting objects:  95% (253/266)\u001b[K\rremote: Counting objects:  96% (256/266)\u001b[K\rremote: Counting objects:  97% (259/266)\u001b[K\rremote: Counting objects:  98% (261/266)\u001b[K\rremote: Counting objects:  99% (264/266)\u001b[K\rremote: Counting objects: 100% (266/266)\u001b[K\rremote: Counting objects: 100% (266/266), done.\u001b[K\n",
            "remote: Compressing objects:   0% (1/175)\u001b[K\rremote: Compressing objects:   1% (2/175)\u001b[K\rremote: Compressing objects:   2% (4/175)\u001b[K\rremote: Compressing objects:   3% (6/175)\u001b[K\rremote: Compressing objects:   4% (7/175)\u001b[K\rremote: Compressing objects:   5% (9/175)\u001b[K\rremote: Compressing objects:   6% (11/175)\u001b[K\rremote: Compressing objects:   7% (13/175)\u001b[K\rremote: Compressing objects:   8% (14/175)\u001b[K\rremote: Compressing objects:   9% (16/175)\u001b[K\rremote: Compressing objects:  10% (18/175)\u001b[K\rremote: Compressing objects:  11% (20/175)\u001b[K\rremote: Compressing objects:  12% (21/175)\u001b[K\rremote: Compressing objects:  13% (23/175)\u001b[K\rremote: Compressing objects:  14% (25/175)\u001b[K\rremote: Compressing objects:  15% (27/175)\u001b[K\rremote: Compressing objects:  16% (28/175)\u001b[K\rremote: Compressing objects:  17% (30/175)\u001b[K\rremote: Compressing objects:  18% (32/175)\u001b[K\rremote: Compressing objects:  19% (34/175)\u001b[K\rremote: Compressing objects:  20% (35/175)\u001b[K\rremote: Compressing objects:  21% (37/175)\u001b[K\rremote: Compressing objects:  22% (39/175)\u001b[K\rremote: Compressing objects:  23% (41/175)\u001b[K\rremote: Compressing objects:  24% (42/175)\u001b[K\rremote: Compressing objects:  25% (44/175)\u001b[K\rremote: Compressing objects:  26% (46/175)\u001b[K\rremote: Compressing objects:  27% (48/175)\u001b[K\rremote: Compressing objects:  28% (49/175)\u001b[K\rremote: Compressing objects:  29% (51/175)\u001b[K\rremote: Compressing objects:  30% (53/175)\u001b[K\rremote: Compressing objects:  31% (55/175)\u001b[K\rremote: Compressing objects:  32% (56/175)\u001b[K\rremote: Compressing objects:  33% (58/175)\u001b[K\rremote: Compressing objects:  34% (60/175)\u001b[K\rremote: Compressing objects:  35% (62/175)\u001b[K\rremote: Compressing objects:  36% (63/175)\u001b[K\rremote: Compressing objects:  37% (65/175)\u001b[K\rremote: Compressing objects:  38% (67/175)\u001b[K\rremote: Compressing objects:  39% (69/175)\u001b[K\rremote: Compressing objects:  40% (70/175)\u001b[K\rremote: Compressing objects:  41% (72/175)\u001b[K\rremote: Compressing objects:  42% (74/175)\u001b[K\rremote: Compressing objects:  43% (76/175)\u001b[K\rremote: Compressing objects:  44% (77/175)\u001b[K\rremote: Compressing objects:  45% (79/175)\u001b[K\rremote: Compressing objects:  46% (81/175)\u001b[K\rremote: Compressing objects:  47% (83/175)\u001b[K\rremote: Compressing objects:  48% (84/175)\u001b[K\rremote: Compressing objects:  49% (86/175)\u001b[K\rremote: Compressing objects:  50% (88/175)\u001b[K\rremote: Compressing objects:  51% (90/175)\u001b[K\rremote: Compressing objects:  52% (91/175)\u001b[K\rremote: Compressing objects:  53% (93/175)\u001b[K\rremote: Compressing objects:  54% (95/175)\u001b[K\rremote: Compressing objects:  55% (97/175)\u001b[K\rremote: Compressing objects:  56% (98/175)\u001b[K\rremote: Compressing objects:  57% (100/175)\u001b[K\rremote: Compressing objects:  58% (102/175)\u001b[K\rremote: Compressing objects:  59% (104/175)\u001b[K\rremote: Compressing objects:  60% (105/175)\u001b[K\rremote: Compressing objects:  61% (107/175)\u001b[K\rremote: Compressing objects:  62% (109/175)\u001b[K\rremote: Compressing objects:  63% (111/175)\u001b[K\rremote: Compressing objects:  64% (112/175)\u001b[K\rremote: Compressing objects:  65% (114/175)\u001b[K\rremote: Compressing objects:  66% (116/175)\u001b[K\rremote: Compressing objects:  67% (118/175)\u001b[K\rremote: Compressing objects:  68% (119/175)\u001b[K\rremote: Compressing objects:  69% (121/175)\u001b[K\rremote: Compressing objects:  70% (123/175)\u001b[K\rremote: Compressing objects:  71% (125/175)\u001b[K\rremote: Compressing objects:  72% (126/175)\u001b[K\rremote: Compressing objects:  73% (128/175)\u001b[K\rremote: Compressing objects:  74% (130/175)\u001b[K\rremote: Compressing objects:  75% (132/175)\u001b[K\rremote: Compressing objects:  76% (133/175)\u001b[K\rremote: Compressing objects:  77% (135/175)\u001b[K\rremote: Compressing objects:  78% (137/175)\u001b[K\rremote: Compressing objects:  79% (139/175)\u001b[K\rremote: Compressing objects:  80% (140/175)\u001b[K\rremote: Compressing objects:  81% (142/175)\u001b[K\rremote: Compressing objects:  82% (144/175)\u001b[K\rremote: Compressing objects:  83% (146/175)\u001b[K\rremote: Compressing objects:  84% (147/175)\u001b[K\rremote: Compressing objects:  85% (149/175)\u001b[K\rremote: Compressing objects:  86% (151/175)\u001b[K\rremote: Compressing objects:  87% (153/175)\u001b[K\rremote: Compressing objects:  88% (154/175)\u001b[K\rremote: Compressing objects:  89% (156/175)\u001b[K\rremote: Compressing objects:  90% (158/175)\u001b[K\rremote: Compressing objects:  91% (160/175)\u001b[K\rremote: Compressing objects:  92% (161/175)\u001b[K\rremote: Compressing objects:  93% (163/175)\u001b[K\rremote: Compressing objects:  94% (165/175)\u001b[K\rremote: Compressing objects:  95% (167/175)\u001b[K\rremote: Compressing objects:  96% (168/175)\u001b[K\rremote: Compressing objects:  97% (170/175)\u001b[K\rremote: Compressing objects:  98% (172/175)\u001b[K\rremote: Compressing objects:  99% (174/175)\u001b[K\rremote: Compressing objects: 100% (175/175)\u001b[K\rremote: Compressing objects: 100% (175/175), done.\u001b[K\n",
            "Receiving objects:   0% (1/266)   \rReceiving objects:   1% (3/266)   \rReceiving objects:   2% (6/266)   \rReceiving objects:   3% (8/266)   \rReceiving objects:   4% (11/266)   \rReceiving objects:   5% (14/266)   \rReceiving objects:   6% (16/266)   \rReceiving objects:   7% (19/266)   \rReceiving objects:   8% (22/266)   \rReceiving objects:   9% (24/266)   \rReceiving objects:  10% (27/266)   \rReceiving objects:  11% (30/266)   \rReceiving objects:  12% (32/266)   \rReceiving objects:  13% (35/266)   \rReceiving objects:  14% (38/266)   \rReceiving objects:  15% (40/266)   \rReceiving objects:  16% (43/266)   \rReceiving objects:  17% (46/266)   \rReceiving objects:  18% (48/266)   \rReceiving objects:  19% (51/266)   \rReceiving objects:  20% (54/266)   \rReceiving objects:  21% (56/266)   \rReceiving objects:  22% (59/266)   \rReceiving objects:  23% (62/266)   \rReceiving objects:  24% (64/266)   \rReceiving objects:  25% (67/266)   \rReceiving objects:  26% (70/266)   \rReceiving objects:  27% (72/266)   \rReceiving objects:  28% (75/266)   \rReceiving objects:  29% (78/266)   \rReceiving objects:  30% (80/266)   \rReceiving objects:  31% (83/266)   \rReceiving objects:  32% (86/266)   \rReceiving objects:  33% (88/266)   \rReceiving objects:  34% (91/266)   \rReceiving objects:  35% (94/266)   \rReceiving objects:  36% (96/266)   \rReceiving objects:  37% (99/266)   \rReceiving objects:  38% (102/266)   \rReceiving objects:  39% (104/266)   \rReceiving objects:  40% (107/266)   \rReceiving objects:  41% (110/266)   \rReceiving objects:  42% (112/266)   \rReceiving objects:  43% (115/266)   \rReceiving objects:  44% (118/266)   \rReceiving objects:  45% (120/266)   \rReceiving objects:  46% (123/266)   \rReceiving objects:  47% (126/266)   \rReceiving objects:  48% (128/266)   \rReceiving objects:  49% (131/266)   \rReceiving objects:  50% (133/266)   \rReceiving objects:  51% (136/266)   \rReceiving objects:  52% (139/266)   \rReceiving objects:  53% (141/266)   \rReceiving objects:  54% (144/266)   \rReceiving objects:  55% (147/266)   \rReceiving objects:  56% (149/266)   \rReceiving objects:  57% (152/266)   \rReceiving objects:  58% (155/266)   \rReceiving objects:  59% (157/266)   \rReceiving objects:  60% (160/266)   \rReceiving objects:  61% (163/266)   \rReceiving objects:  62% (165/266)   \rReceiving objects:  63% (168/266)   \rReceiving objects:  64% (171/266)   \rReceiving objects:  65% (173/266)   \rReceiving objects:  66% (176/266)   \rReceiving objects:  67% (179/266)   \rReceiving objects:  68% (181/266)   \rReceiving objects:  69% (184/266)   \rReceiving objects:  70% (187/266)   \rReceiving objects:  71% (189/266)   \rReceiving objects:  72% (192/266)   \rReceiving objects:  73% (195/266)   \rReceiving objects:  74% (197/266)   \rReceiving objects:  75% (200/266)   \rReceiving objects:  76% (203/266)   \rremote: Total 266 (delta 169), reused 181 (delta 84), pack-reused 0\u001b[K\n",
            "Receiving objects:  77% (205/266)   \rReceiving objects:  78% (208/266)   \rReceiving objects:  79% (211/266)   \rReceiving objects:  80% (213/266)   \rReceiving objects:  81% (216/266)   \rReceiving objects:  82% (219/266)   \rReceiving objects:  83% (221/266)   \rReceiving objects:  84% (224/266)   \rReceiving objects:  85% (227/266)   \rReceiving objects:  86% (229/266)   \rReceiving objects:  87% (232/266)   \rReceiving objects:  88% (235/266)   \rReceiving objects:  89% (237/266)   \rReceiving objects:  90% (240/266)   \rReceiving objects:  91% (243/266)   \rReceiving objects:  92% (245/266)   \rReceiving objects:  93% (248/266)   \rReceiving objects:  94% (251/266)   \rReceiving objects:  95% (253/266)   \rReceiving objects:  96% (256/266)   \rReceiving objects:  97% (259/266)   \rReceiving objects:  98% (261/266)   \rReceiving objects:  99% (264/266)   \rReceiving objects: 100% (266/266)   \rReceiving objects: 100% (266/266), 210.40 KiB | 6.57 MiB/s, done.\n",
            "Resolving deltas:   0% (0/169)   \rResolving deltas:   1% (3/169)   \rResolving deltas:   3% (6/169)   \rResolving deltas:  14% (25/169)   \rResolving deltas:  23% (40/169)   \rResolving deltas:  55% (94/169)   \rResolving deltas:  69% (117/169)   \rResolving deltas:  71% (121/169)   \rResolving deltas:  73% (124/169)   \rResolving deltas:  76% (129/169)   \rResolving deltas:  81% (137/169)   \rResolving deltas:  82% (140/169)   \rResolving deltas:  87% (148/169)   \rResolving deltas:  88% (150/169)   \rResolving deltas:  91% (154/169)   \rResolving deltas:  92% (156/169)   \rResolving deltas: 100% (169/169)   \rResolving deltas: 100% (169/169), done.\n"
          ],
          "name": "stdout"
        }
      ]
    },
    {
      "cell_type": "code",
      "metadata": {
        "id": "caNfRIj1kRcf",
        "colab_type": "code",
        "colab": {
          "base_uri": "https://localhost:8080/",
          "height": 34
        },
        "outputId": "17d2c7bd-9538-4b01-e1d2-e464e035bf15"
      },
      "source": [
        "%cd deep_Q_learning_from_scratch"
      ],
      "execution_count": 5,
      "outputs": [
        {
          "output_type": "stream",
          "text": [
            "/content/deep_Q_learning_from_scratch\n"
          ],
          "name": "stdout"
        }
      ]
    },
    {
      "cell_type": "code",
      "metadata": {
        "id": "OzhhtvRQkWJW",
        "colab_type": "code",
        "colab": {
          "base_uri": "https://localhost:8080/",
          "height": 68
        },
        "outputId": "dc43a914-343c-42b9-ce93-6b7d768a6677"
      },
      "source": [
        "!git pull origin master"
      ],
      "execution_count": 6,
      "outputs": [
        {
          "output_type": "stream",
          "text": [
            "From https://github.com/ShivamShrirao/deep_Q_learning_from_scratch\n",
            " * branch            master     -> FETCH_HEAD\n",
            "Already up to date.\n"
          ],
          "name": "stdout"
        }
      ]
    },
    {
      "cell_type": "code",
      "metadata": {
        "id": "W0SnQz--kXCg",
        "colab_type": "code",
        "colab": {}
      },
      "source": [
        "import gym\n",
        "import time\n",
        "import cv2\n",
        "import numpy as np\n",
        "from collections import deque\n",
        "\n",
        "from settings import *\n",
        "from agent import *\n",
        "from experience import *"
      ],
      "execution_count": 7,
      "outputs": []
    },
    {
      "cell_type": "code",
      "metadata": {
        "id": "_ALvjRInG3j1",
        "colab_type": "code",
        "colab": {}
      },
      "source": [
        "def get_model(input_shape=(HEIGHT,WIDTH,NFRAMES), no_of_actions=3):\n",
        "    model=Sequential()\n",
        "    model.add(Conv2D(num_kernels=16, kernel_size=3, stride=(2, 2), activation=functions.relu, input_shape=input_shape))\n",
        "    model.add(Conv2D(num_kernels=32, kernel_size=3, stride=(2, 2), activation=functions.relu))\n",
        "    model.add(Conv2D(num_kernels=64, kernel_size=3, stride=(2, 2), activation=functions.relu))\n",
        "    model.add(Conv2D(num_kernels=128, kernel_size=3, stride=(2, 2), activation=functions.relu))\n",
        "    model.add(Flatten())\n",
        "    model.add(Dense(256, activation=functions.relu))\n",
        "    model.add(Dense(no_of_actions, activation=functions.echo))\n",
        "\n",
        "    model.compile(optimizer=optimizers.adam, loss=functions.mean_squared_error, learning_rate=0.0001)\n",
        "    return model\n",
        "\n",
        "def preproc_obsv(obsv):\n",
        "    obsv = cv2.cvtColor(obsv, cv2.COLOR_RGB2GRAY)\n",
        "    obsv = obsv[34:194:2,::2]\n",
        "    return obsv"
      ],
      "execution_count": 8,
      "outputs": []
    },
    {
      "cell_type": "code",
      "metadata": {
        "id": "hc4bwkXTkX7_",
        "colab_type": "code",
        "colab": {
          "base_uri": "https://localhost:8080/",
          "height": 391
        },
        "outputId": "fe976146-4d13-476b-a933-c09d8cd6efa3"
      },
      "source": [
        "agt = DQN_Agent(actions=[0,2,3], epsilon=1, min_epsilon=0.1, eps_decay=2e-6, target_update_thresh=1000)\n",
        "agt.model = get_model(input_shape=(HEIGHT,WIDTH,NFRAMES), no_of_actions=len(agt.actions))\n",
        "agt.target = get_model(input_shape=(HEIGHT,WIDTH,NFRAMES), no_of_actions=len(agt.actions))\n",
        "agt.update_target()\n",
        "agt.model.summary()"
      ],
      "execution_count": 10,
      "outputs": [
        {
          "output_type": "stream",
          "text": [
            "⎽⎽⎽⎽⎽⎽⎽⎽⎽⎽⎽⎽⎽⎽⎽⎽⎽⎽⎽⎽⎽⎽⎽⎽⎽⎽⎽⎽⎽⎽⎽⎽⎽⎽⎽⎽⎽⎽⎽⎽⎽⎽⎽⎽⎽⎽⎽⎽⎽⎽⎽⎽⎽⎽⎽⎽⎽⎽⎽⎽⎽⎽⎽⎽⎽⎽⎽⎽⎽⎽⎽⎽⎽⎽⎽⎽⎽⎽⎽⎽⎽⎽⎽⎽⎽⎽⎽⎽⎽⎽\n",
            "Layer (type)               Output Shape             Activation        Param #\n",
            "==========================================================================================\n",
            "- InputLayer(InputLayer)  (None, 80, 80, 4)          echo             0\n",
            "__________________________________________________________________________________________\n",
            "0 Conv2D(Conv2D)          (None, 40, 40, 16)         relu             592\n",
            "__________________________________________________________________________________________\n",
            "1 Conv2D(Conv2D)          (None, 20, 20, 32)         relu             4640\n",
            "__________________________________________________________________________________________\n",
            "2 Conv2D(Conv2D)          (None, 10, 10, 64)         relu             18496\n",
            "__________________________________________________________________________________________\n",
            "3 Conv2D(Conv2D)          (None, 5, 5, 128)          relu             73856\n",
            "__________________________________________________________________________________________\n",
            "4 Flatten(Flatten)        (None, 3200)               echo             0\n",
            "__________________________________________________________________________________________\n",
            "5 Dense(Dense)            (None, 256)                relu             819456\n",
            "__________________________________________________________________________________________\n",
            "6 Dense(Dense)            (None, 3)                  echo             771\n",
            "==========================================================================================\n",
            "Total Params: 917,811\n",
            "Trainable Params: 917,811\n",
            "Non-trainable Params: 0\n"
          ],
          "name": "stdout"
        }
      ]
    },
    {
      "cell_type": "code",
      "metadata": {
        "id": "H_R_avOVHcaY",
        "colab_type": "code",
        "colab": {}
      },
      "source": [
        "D_exp = ReplayMemory(capacity=1_500_000, nlap=1)"
      ],
      "execution_count": null,
      "outputs": []
    },
    {
      "cell_type": "code",
      "metadata": {
        "id": "MDlH0rWlH2Kt",
        "colab_type": "code",
        "colab": {
          "base_uri": "https://localhost:8080/",
          "height": 34
        },
        "outputId": "9efeb7e6-2b99-4442-92d7-87d8e86dd5f1"
      },
      "source": [
        "D_exp.current_state.nbytes/1024/1024/1024"
      ],
      "execution_count": null,
      "outputs": [
        {
          "output_type": "execute_result",
          "data": {
            "text/plain": [
              "8.940696716308594"
            ]
          },
          "metadata": {
            "tags": []
          },
          "execution_count": 4
        }
      ]
    },
    {
      "cell_type": "code",
      "metadata": {
        "id": "XFlEoOqOkbcy",
        "colab_type": "code",
        "colab": {}
      },
      "source": [
        "env = gym.make('Breakout-v4')       # v4 to ensure ball is fired when required"
      ],
      "execution_count": null,
      "outputs": []
    },
    {
      "cell_type": "code",
      "metadata": {
        "id": "do2kpfL9Yd_o",
        "colab_type": "code",
        "colab": {
          "base_uri": "https://localhost:8080/",
          "height": 34
        },
        "outputId": "c07f7c78-c0df-43ad-829e-e1cd33e08781"
      },
      "source": [
        "D_exp.len"
      ],
      "execution_count": null,
      "outputs": [
        {
          "output_type": "execute_result",
          "data": {
            "text/plain": [
              "1111721"
            ]
          },
          "metadata": {
            "tags": []
          },
          "execution_count": 13
        }
      ]
    },
    {
      "cell_type": "code",
      "metadata": {
        "id": "1-zscT4Tkd2Z",
        "colab_type": "code",
        "colab": {}
      },
      "source": [
        "for i_episode in range(2000):\n",
        "    obinit = env.reset()\n",
        "    if not i_episode:\n",
        "        observation = obinit\n",
        "        state = preproc_obsv(observation)\n",
        "        state_que = deque([], maxlen=NFRAMES)\n",
        "        for i in range(NFRAMES):\n",
        "            state_que.append(state)\n",
        "    ep_score = 0\n",
        "    lives = 5\n",
        "    fire = True\n",
        "    start = time.time()\n",
        "    for t in range(10_000):\n",
        "        s_s = time.time()\n",
        "#         env.render()\n",
        "        state = preproc_obsv(observation)\n",
        "        state_que.append(state)\n",
        "        if fire:\n",
        "            action = 1\n",
        "            fire = False\n",
        "        else:\n",
        "            action = agt.get_action(state_que)\n",
        "        next_observation, reward, done, info = env.step(action)\n",
        "        if lives != info['ale.lives']:\n",
        "            lives = info['ale.lives']\n",
        "            reward = -1\n",
        "            fire = True\n",
        "        ep_score += reward\n",
        "        if action==1:\n",
        "            action = 0\n",
        "        D_exp.store_transition(state, agt.actions.index(action), reward, done)\n",
        "        observation = next_observation\n",
        "\n",
        "        if (D_exp.len-D_exp.idx_len) > BATCH_SIZE:\n",
        "            grads = agt.train(D_exp, BATCH_SIZE)\n",
        "        print('\\r', t, action, ep_score, end='  ')\n",
        "        if done:\n",
        "            break\n",
        "    print(f\"\\rEpisode {i_episode+1} finished after {t+1} timesteps, Score: {ep_score}, Epsilon: {agt.epsilon:.6f}, Time: {time.time()-start:.2f}\")\n",
        "    if not i_episode%8:\n",
        "        agt.model.save_weights(\"/content/drive/My Drive/breakout.w8s\")\n",
        "env.close()"
      ],
      "execution_count": null,
      "outputs": []
    },
    {
      "cell_type": "code",
      "metadata": {
        "id": "QEMyWHhqC_kD",
        "colab_type": "code",
        "colab": {}
      },
      "source": [
        "agt.epsilon = 0"
      ],
      "execution_count": null,
      "outputs": []
    },
    {
      "cell_type": "code",
      "metadata": {
        "id": "5GCMcH0otSUd",
        "colab_type": "code",
        "colab": {}
      },
      "source": [
        "from gym import wrappers"
      ],
      "execution_count": null,
      "outputs": []
    },
    {
      "cell_type": "code",
      "metadata": {
        "id": "7DqektqyH6Wb",
        "colab_type": "code",
        "colab": {
          "base_uri": "https://localhost:8080/",
          "height": 34
        },
        "outputId": "bca6a45c-c9b9-4268-b3fd-8998ff16dd04"
      },
      "source": [
        "wrapped_env = wrappers.Monitor(env.env, '/content/videos/' + str(time.time()) + '/')\n",
        "for i_episode in range(1):\n",
        "    obinit = wrapped_env.reset()\n",
        "    if not i_episode:\n",
        "        observation = obinit\n",
        "        state = preproc_obsv(observation)\n",
        "        state_que = deque([], maxlen=NFRAMES)\n",
        "        for i in range(NFRAMES):\n",
        "            state_que.append(state)\n",
        "    ep_score = 0\n",
        "    lives = 5\n",
        "    fire = True\n",
        "    preds = []\n",
        "    reward_history = []\n",
        "    start = time.time()\n",
        "    t=-1\n",
        "    while 1:\n",
        "        t+=1\n",
        "        s_s = time.time()\n",
        "#         wrapped_env.render()\n",
        "        state = preproc_obsv(observation)\n",
        "        state_que.append(state)\n",
        "        if fire:\n",
        "            action = 1\n",
        "            fire = False\n",
        "        else:\n",
        "            out = agt.predict(state_que)\n",
        "            pidx = cp.argmax(out[0]).item()\n",
        "            preds.append(out[0][pidx].item())\n",
        "            action = agt.actions[pidx]\n",
        "        next_observation, reward, done, info = wrapped_env.step(action)\n",
        "        if lives != info['ale.lives']:\n",
        "            lives = info['ale.lives']\n",
        "            reward = -1\n",
        "            fire = True\n",
        "        ep_score += reward\n",
        "        reward_history.append(reward)\n",
        "        if action==1:\n",
        "            action = 0\n",
        "        observation = next_observation\n",
        "        print('\\r', t, ep_score, end='  ')\n",
        "        if done:\n",
        "            break\n",
        "    print(f\"\\rEpisode {i_episode+1} finished after {t+1} timesteps, Score: {ep_score}, Epsilon: {agt.epsilon:.6f}, Time: {time.time()-start:.2f}\")\n",
        "wrapped_env.close()"
      ],
      "execution_count": null,
      "outputs": [
        {
          "output_type": "stream",
          "text": [
            "Episode 1 finished after 994 timesteps, Score: 19.0, Epsilon: 0.000000, Time: 2.53\n"
          ],
          "name": "stdout"
        }
      ]
    },
    {
      "cell_type": "code",
      "metadata": {
        "id": "PFHCbvnPtn8q",
        "colab_type": "code",
        "colab": {}
      },
      "source": [
        "!rm /content/videos/* -rf"
      ],
      "execution_count": null,
      "outputs": []
    },
    {
      "cell_type": "code",
      "metadata": {
        "id": "0ImTh1UpurGl",
        "colab_type": "code",
        "colab": {}
      },
      "source": [
        ""
      ],
      "execution_count": null,
      "outputs": []
    }
  ]
}