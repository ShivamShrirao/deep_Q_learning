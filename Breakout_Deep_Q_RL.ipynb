{
  "nbformat": 4,
  "nbformat_minor": 0,
  "metadata": {
    "colab": {
      "name": "Breakout_Deep_Q_RL.ipynb",
      "provenance": [],
      "collapsed_sections": [],
      "machine_shape": "hm"
    },
    "kernelspec": {
      "name": "python3",
      "display_name": "Python 3"
    },
    "accelerator": "GPU"
  },
  "cells": [
    {
      "cell_type": "code",
      "metadata": {
        "id": "LbuhMj8QkFUO",
        "colab_type": "code",
        "colab": {
          "base_uri": "https://localhost:8080/",
          "height": 357
        },
        "outputId": "35dc4a96-7845-4ef2-d350-be22b962cf95"
      },
      "source": [
        "!nvidia-smi"
      ],
      "execution_count": null,
      "outputs": [
        {
          "output_type": "stream",
          "text": [
            "Sat Aug 22 09:05:05 2020       \n",
            "+-----------------------------------------------------------------------------+\n",
            "| NVIDIA-SMI 450.57       Driver Version: 418.67       CUDA Version: 10.1     |\n",
            "|-------------------------------+----------------------+----------------------+\n",
            "| GPU  Name        Persistence-M| Bus-Id        Disp.A | Volatile Uncorr. ECC |\n",
            "| Fan  Temp  Perf  Pwr:Usage/Cap|         Memory-Usage | GPU-Util  Compute M. |\n",
            "|                               |                      |               MIG M. |\n",
            "|===============================+======================+======================|\n",
            "|   0  Tesla P100-PCIE...  Off  | 00000000:00:04.0 Off |                    0 |\n",
            "| N/A   35C    P0    27W / 250W |      0MiB / 16280MiB |      0%      Default |\n",
            "|                               |                      |                 ERR! |\n",
            "+-------------------------------+----------------------+----------------------+\n",
            "                                                                               \n",
            "+-----------------------------------------------------------------------------+\n",
            "| Processes:                                                                  |\n",
            "|  GPU   GI   CI        PID   Type   Process name                  GPU Memory |\n",
            "|        ID   ID                                                   Usage      |\n",
            "|=============================================================================|\n",
            "|  No running processes found                                                 |\n",
            "+-----------------------------------------------------------------------------+\n"
          ],
          "name": "stdout"
        }
      ]
    },
    {
      "cell_type": "code",
      "metadata": {
        "id": "TQZiX7WgkQeu",
        "colab_type": "code",
        "colab": {
          "base_uri": "https://localhost:8080/",
          "height": 122
        },
        "outputId": "1c7738ee-3b18-4dca-9495-ee6cbf676ae1"
      },
      "source": [
        "from google.colab import drive\n",
        "drive.mount('/content/drive')"
      ],
      "execution_count": null,
      "outputs": [
        {
          "output_type": "stream",
          "text": [
            "Go to this URL in a browser: https://accounts.google.com/o/oauth2/auth?client_id=947318989803-6bn6qk8qdgf4n4g3pfee6491hc0brc4i.apps.googleusercontent.com&redirect_uri=urn%3aietf%3awg%3aoauth%3a2.0%3aoob&scope=email%20https%3a%2f%2fwww.googleapis.com%2fauth%2fdocs.test%20https%3a%2f%2fwww.googleapis.com%2fauth%2fdrive%20https%3a%2f%2fwww.googleapis.com%2fauth%2fdrive.photos.readonly%20https%3a%2f%2fwww.googleapis.com%2fauth%2fpeopleapi.readonly&response_type=code\n",
            "\n",
            "Enter your authorization code:\n",
            "··········\n",
            "Mounted at /content/drive\n"
          ],
          "name": "stdout"
        }
      ]
    },
    {
      "cell_type": "code",
      "metadata": {
        "id": "v6pXJGDekFNt",
        "colab_type": "code",
        "colab": {
          "base_uri": "https://localhost:8080/",
          "height": 207
        },
        "outputId": "915918b3-2f74-4ea9-851a-2ed217215fee"
      },
      "source": [
        "!python -m pip install git+https://github.com/ShivamShrirao/dnn_from_scratch.git"
      ],
      "execution_count": null,
      "outputs": [
        {
          "output_type": "stream",
          "text": [
            "Collecting git+https://github.com/ShivamShrirao/dnn_from_scratch.git\n",
            "  Cloning https://github.com/ShivamShrirao/dnn_from_scratch.git to /tmp/pip-req-build-5si204gf\n",
            "  Running command git clone -q https://github.com/ShivamShrirao/dnn_from_scratch.git /tmp/pip-req-build-5si204gf\n",
            "Building wheels for collected packages: dnn-from-scratch\n",
            "  Building wheel for dnn-from-scratch (setup.py) ... \u001b[?25l\u001b[?25hdone\n",
            "  Created wheel for dnn-from-scratch: filename=dnn_from_scratch-0.1.dev1-cp36-none-any.whl size=39847 sha256=0215d3a3c520437be250f8e2aeb800d1a3f1b9f5ee7a39d669c053148a97fdcf\n",
            "  Stored in directory: /tmp/pip-ephem-wheel-cache-tlhr4vb4/wheels/33/77/6c/1140f6295368e7045f3b49fdda98e7f07b2513b8b55093ca7b\n",
            "Successfully built dnn-from-scratch\n",
            "Installing collected packages: dnn-from-scratch\n",
            "Successfully installed dnn-from-scratch-0.1.dev1\n"
          ],
          "name": "stdout"
        }
      ]
    },
    {
      "cell_type": "code",
      "metadata": {
        "id": "CgT-5T6EkO8a",
        "colab_type": "code",
        "colab": {
          "base_uri": "https://localhost:8080/",
          "height": 136
        },
        "outputId": "be5dda1c-fb5f-4b17-d1bd-e84ba2422a4f"
      },
      "source": [
        "!git clone https://github.com/ShivamShrirao/deep_Q_learning_from_scratch.git"
      ],
      "execution_count": null,
      "outputs": [
        {
          "output_type": "stream",
          "text": [
            "Cloning into 'deep_Q_learning_from_scratch'...\n",
            "remote: Enumerating objects: 260, done.\u001b[K\n",
            "remote: Counting objects:   0% (1/260)\u001b[K\rremote: Counting objects:   1% (3/260)\u001b[K\rremote: Counting objects:   2% (6/260)\u001b[K\rremote: Counting objects:   3% (8/260)\u001b[K\rremote: Counting objects:   4% (11/260)\u001b[K\rremote: Counting objects:   5% (13/260)\u001b[K\rremote: Counting objects:   6% (16/260)\u001b[K\rremote: Counting objects:   7% (19/260)\u001b[K\rremote: Counting objects:   8% (21/260)\u001b[K\rremote: Counting objects:   9% (24/260)\u001b[K\rremote: Counting objects:  10% (26/260)\u001b[K\rremote: Counting objects:  11% (29/260)\u001b[K\rremote: Counting objects:  12% (32/260)\u001b[K\rremote: Counting objects:  13% (34/260)\u001b[K\rremote: Counting objects:  14% (37/260)\u001b[K\rremote: Counting objects:  15% (39/260)\u001b[K\rremote: Counting objects:  16% (42/260)\u001b[K\rremote: Counting objects:  17% (45/260)\u001b[K\rremote: Counting objects:  18% (47/260)\u001b[K\rremote: Counting objects:  19% (50/260)\u001b[K\rremote: Counting objects:  20% (52/260)\u001b[K\rremote: Counting objects:  21% (55/260)\u001b[K\rremote: Counting objects:  22% (58/260)\u001b[K\rremote: Counting objects:  23% (60/260)\u001b[K\rremote: Counting objects:  24% (63/260)\u001b[K\rremote: Counting objects:  25% (65/260)\u001b[K\rremote: Counting objects:  26% (68/260)\u001b[K\rremote: Counting objects:  27% (71/260)\u001b[K\rremote: Counting objects:  28% (73/260)\u001b[K\rremote: Counting objects:  29% (76/260)\u001b[K\rremote: Counting objects:  30% (78/260)\u001b[K\rremote: Counting objects:  31% (81/260)\u001b[K\rremote: Counting objects:  32% (84/260)\u001b[K\rremote: Counting objects:  33% (86/260)\u001b[K\rremote: Counting objects:  34% (89/260)\u001b[K\rremote: Counting objects:  35% (91/260)\u001b[K\rremote: Counting objects:  36% (94/260)\u001b[K\rremote: Counting objects:  37% (97/260)\u001b[K\rremote: Counting objects:  38% (99/260)\u001b[K\rremote: Counting objects:  39% (102/260)\u001b[K\rremote: Counting objects:  40% (104/260)\u001b[K\rremote: Counting objects:  41% (107/260)\u001b[K\rremote: Counting objects:  42% (110/260)\u001b[K\rremote: Counting objects:  43% (112/260)\u001b[K\rremote: Counting objects:  44% (115/260)\u001b[K\rremote: Counting objects:  45% (117/260)\u001b[K\rremote: Counting objects:  46% (120/260)\u001b[K\rremote: Counting objects:  47% (123/260)\u001b[K\rremote: Counting objects:  48% (125/260)\u001b[K\rremote: Counting objects:  49% (128/260)\u001b[K\rremote: Counting objects:  50% (130/260)\u001b[K\rremote: Counting objects:  51% (133/260)\u001b[K\rremote: Counting objects:  52% (136/260)\u001b[K\rremote: Counting objects:  53% (138/260)\u001b[K\rremote: Counting objects:  54% (141/260)\u001b[K\rremote: Counting objects:  55% (143/260)\u001b[K\rremote: Counting objects:  56% (146/260)\u001b[K\rremote: Counting objects:  57% (149/260)\u001b[K\rremote: Counting objects:  58% (151/260)\u001b[K\rremote: Counting objects:  59% (154/260)\u001b[K\rremote: Counting objects:  60% (156/260)\u001b[K\rremote: Counting objects:  61% (159/260)\u001b[K\rremote: Counting objects:  62% (162/260)\u001b[K\rremote: Counting objects:  63% (164/260)\u001b[K\rremote: Counting objects:  64% (167/260)\u001b[K\rremote: Counting objects:  65% (169/260)\u001b[K\rremote: Counting objects:  66% (172/260)\u001b[K\rremote: Counting objects:  67% (175/260)\u001b[K\rremote: Counting objects:  68% (177/260)\u001b[K\rremote: Counting objects:  69% (180/260)\u001b[K\rremote: Counting objects:  70% (182/260)\u001b[K\rremote: Counting objects:  71% (185/260)\u001b[K\rremote: Counting objects:  72% (188/260)\u001b[K\rremote: Counting objects:  73% (190/260)\u001b[K\rremote: Counting objects:  74% (193/260)\u001b[K\rremote: Counting objects:  75% (195/260)\u001b[K\rremote: Counting objects:  76% (198/260)\u001b[K\rremote: Counting objects:  77% (201/260)\u001b[K\rremote: Counting objects:  78% (203/260)\u001b[K\rremote: Counting objects:  79% (206/260)\u001b[K\rremote: Counting objects:  80% (208/260)\u001b[K\rremote: Counting objects:  81% (211/260)\u001b[K\rremote: Counting objects:  82% (214/260)\u001b[K\rremote: Counting objects:  83% (216/260)\u001b[K\rremote: Counting objects:  84% (219/260)\u001b[K\rremote: Counting objects:  85% (221/260)\u001b[K\rremote: Counting objects:  86% (224/260)\u001b[K\rremote: Counting objects:  87% (227/260)\u001b[K\rremote: Counting objects:  88% (229/260)\u001b[K\rremote: Counting objects:  89% (232/260)\u001b[K\rremote: Counting objects:  90% (234/260)\u001b[K\rremote: Counting objects:  91% (237/260)\u001b[K\rremote: Counting objects:  92% (240/260)\u001b[K\rremote: Counting objects:  93% (242/260)\u001b[K\rremote: Counting objects:  94% (245/260)\u001b[K\rremote: Counting objects:  95% (247/260)\u001b[K\rremote: Counting objects:  96% (250/260)\u001b[K\rremote: Counting objects:  97% (253/260)\u001b[K\rremote: Counting objects:  98% (255/260)\u001b[K\rremote: Counting objects:  99% (258/260)\u001b[K\rremote: Counting objects: 100% (260/260)\u001b[K\rremote: Counting objects: 100% (260/260), done.\u001b[K\n",
            "remote: Compressing objects:   0% (1/169)\u001b[K\rremote: Compressing objects:   1% (2/169)\u001b[K\rremote: Compressing objects:   2% (4/169)\u001b[K\rremote: Compressing objects:   3% (6/169)\u001b[K\rremote: Compressing objects:   4% (7/169)\u001b[K\rremote: Compressing objects:   5% (9/169)\u001b[K\rremote: Compressing objects:   6% (11/169)\u001b[K\rremote: Compressing objects:   7% (12/169)\u001b[K\rremote: Compressing objects:   8% (14/169)\u001b[K\rremote: Compressing objects:   9% (16/169)\u001b[K\rremote: Compressing objects:  10% (17/169)\u001b[K\rremote: Compressing objects:  11% (19/169)\u001b[K\rremote: Compressing objects:  12% (21/169)\u001b[K\rremote: Compressing objects:  13% (22/169)\u001b[K\rremote: Compressing objects:  14% (24/169)\u001b[K\rremote: Compressing objects:  15% (26/169)\u001b[K\rremote: Compressing objects:  16% (28/169)\u001b[K\rremote: Compressing objects:  17% (29/169)\u001b[K\rremote: Compressing objects:  18% (31/169)\u001b[K\rremote: Compressing objects:  19% (33/169)\u001b[K\rremote: Compressing objects:  20% (34/169)\u001b[K\rremote: Compressing objects:  21% (36/169)\u001b[K\rremote: Compressing objects:  22% (38/169)\u001b[K\rremote: Compressing objects:  23% (39/169)\u001b[K\rremote: Compressing objects:  24% (41/169)\u001b[K\rremote: Compressing objects:  25% (43/169)\u001b[K\rremote: Compressing objects:  26% (44/169)\u001b[K\rremote: Compressing objects:  27% (46/169)\u001b[K\rremote: Compressing objects:  28% (48/169)\u001b[K\rremote: Compressing objects:  29% (50/169)\u001b[K\rremote: Compressing objects:  30% (51/169)\u001b[K\rremote: Compressing objects:  31% (53/169)\u001b[K\rremote: Compressing objects:  32% (55/169)\u001b[K\rremote: Compressing objects:  33% (56/169)\u001b[K\rremote: Compressing objects:  34% (58/169)\u001b[K\rremote: Compressing objects:  35% (60/169)\u001b[K\rremote: Compressing objects:  36% (61/169)\u001b[K\rremote: Compressing objects:  37% (63/169)\u001b[K\rremote: Compressing objects:  38% (65/169)\u001b[K\rremote: Compressing objects:  39% (66/169)\u001b[K\rremote: Compressing objects:  40% (68/169)\u001b[K\rremote: Compressing objects:  41% (70/169)\u001b[K\rremote: Compressing objects:  42% (71/169)\u001b[K\rremote: Compressing objects:  43% (73/169)\u001b[K\rremote: Compressing objects:  44% (75/169)\u001b[K\rremote: Compressing objects:  45% (77/169)\u001b[K\rremote: Compressing objects:  46% (78/169)\u001b[K\rremote: Compressing objects:  47% (80/169)\u001b[K\rremote: Compressing objects:  48% (82/169)\u001b[K\rremote: Compressing objects:  49% (83/169)\u001b[K\rremote: Compressing objects:  50% (85/169)\u001b[K\rremote: Compressing objects:  51% (87/169)\u001b[K\rremote: Compressing objects:  52% (88/169)\u001b[K\rremote: Compressing objects:  53% (90/169)\u001b[K\rremote: Compressing objects:  54% (92/169)\u001b[K\rremote: Compressing objects:  55% (93/169)\u001b[K\rremote: Compressing objects:  56% (95/169)\u001b[K\rremote: Compressing objects:  57% (97/169)\u001b[K\rremote: Compressing objects:  58% (99/169)\u001b[K\rremote: Compressing objects:  59% (100/169)\u001b[K\rremote: Compressing objects:  60% (102/169)\u001b[K\rremote: Compressing objects:  61% (104/169)\u001b[K\rremote: Compressing objects:  62% (105/169)\u001b[K\rremote: Compressing objects:  63% (107/169)\u001b[K\rremote: Compressing objects:  64% (109/169)\u001b[K\rremote: Compressing objects:  65% (110/169)\u001b[K\rremote: Compressing objects:  66% (112/169)\u001b[K\rremote: Compressing objects:  67% (114/169)\u001b[K\rremote: Compressing objects:  68% (115/169)\u001b[K\rremote: Compressing objects:  69% (117/169)\u001b[K\rremote: Compressing objects:  70% (119/169)\u001b[K\rremote: Compressing objects:  71% (120/169)\u001b[K\rremote: Compressing objects:  72% (122/169)\u001b[K\rremote: Compressing objects:  73% (124/169)\u001b[K\rremote: Compressing objects:  74% (126/169)\u001b[K\rremote: Compressing objects:  75% (127/169)\u001b[K\rremote: Compressing objects:  76% (129/169)\u001b[K\rremote: Compressing objects:  77% (131/169)\u001b[K\rremote: Compressing objects:  78% (132/169)\u001b[K\rremote: Compressing objects:  79% (134/169)\u001b[K\rremote: Compressing objects:  80% (136/169)\u001b[K\rremote: Compressing objects:  81% (137/169)\u001b[K\rremote: Compressing objects:  82% (139/169)\u001b[K\rremote: Compressing objects:  83% (141/169)\u001b[K\rremote: Compressing objects:  84% (142/169)\u001b[K\rremote: Compressing objects:  85% (144/169)\u001b[K\rremote: Compressing objects:  86% (146/169)\u001b[K\rremote: Compressing objects:  87% (148/169)\u001b[K\rremote: Compressing objects:  88% (149/169)\u001b[K\rremote: Compressing objects:  89% (151/169)\u001b[K\rremote: Compressing objects:  90% (153/169)\u001b[K\rremote: Compressing objects:  91% (154/169)\u001b[K\rremote: Compressing objects:  92% (156/169)\u001b[K\rremote: Compressing objects:  93% (158/169)\u001b[K\rremote: Compressing objects:  94% (159/169)\u001b[K\rremote: Compressing objects:  95% (161/169)\u001b[K\rremote: Compressing objects:  96% (163/169)\u001b[K\rremote: Compressing objects:  97% (164/169)\u001b[K\rremote: Compressing objects:  98% (166/169)\u001b[K\rremote: Compressing objects:  99% (168/169)\u001b[K\rremote: Compressing objects: 100% (169/169)\u001b[K\rremote: Compressing objects: 100% (169/169), done.\u001b[K\n",
            "Receiving objects:   0% (1/260)   \rReceiving objects:   1% (3/260)   \rReceiving objects:   2% (6/260)   \rReceiving objects:   3% (8/260)   \rReceiving objects:   4% (11/260)   \rReceiving objects:   5% (13/260)   \rReceiving objects:   6% (16/260)   \rReceiving objects:   7% (19/260)   \rReceiving objects:   8% (21/260)   \rReceiving objects:   9% (24/260)   \rReceiving objects:  10% (26/260)   \rReceiving objects:  11% (29/260)   \rReceiving objects:  12% (32/260)   \rReceiving objects:  13% (34/260)   \rReceiving objects:  14% (37/260)   \rReceiving objects:  15% (39/260)   \rReceiving objects:  16% (42/260)   \rReceiving objects:  17% (45/260)   \rReceiving objects:  18% (47/260)   \rReceiving objects:  19% (50/260)   \rReceiving objects:  20% (52/260)   \rReceiving objects:  21% (55/260)   \rReceiving objects:  22% (58/260)   \rReceiving objects:  23% (60/260)   \rReceiving objects:  24% (63/260)   \rReceiving objects:  25% (65/260)   \rReceiving objects:  26% (68/260)   \rReceiving objects:  27% (71/260)   \rReceiving objects:  28% (73/260)   \rReceiving objects:  29% (76/260)   \rReceiving objects:  30% (78/260)   \rReceiving objects:  31% (81/260)   \rReceiving objects:  32% (84/260)   \rReceiving objects:  33% (86/260)   \rReceiving objects:  34% (89/260)   \rReceiving objects:  35% (91/260)   \rReceiving objects:  36% (94/260)   \rReceiving objects:  37% (97/260)   \rReceiving objects:  38% (99/260)   \rReceiving objects:  39% (102/260)   \rReceiving objects:  40% (104/260)   \rReceiving objects:  41% (107/260)   \rReceiving objects:  42% (110/260)   \rReceiving objects:  43% (112/260)   \rReceiving objects:  44% (115/260)   \rReceiving objects:  45% (117/260)   \rReceiving objects:  46% (120/260)   \rReceiving objects:  47% (123/260)   \rReceiving objects:  48% (125/260)   \rReceiving objects:  49% (128/260)   \rReceiving objects:  50% (130/260)   \rReceiving objects:  51% (133/260)   \rReceiving objects:  52% (136/260)   \rReceiving objects:  53% (138/260)   \rReceiving objects:  54% (141/260)   \rReceiving objects:  55% (143/260)   \rReceiving objects:  56% (146/260)   \rReceiving objects:  57% (149/260)   \rReceiving objects:  58% (151/260)   \rReceiving objects:  59% (154/260)   \rReceiving objects:  60% (156/260)   \rReceiving objects:  61% (159/260)   \rReceiving objects:  62% (162/260)   \rReceiving objects:  63% (164/260)   \rReceiving objects:  64% (167/260)   \rReceiving objects:  65% (169/260)   \rReceiving objects:  66% (172/260)   \rReceiving objects:  67% (175/260)   \rReceiving objects:  68% (177/260)   \rReceiving objects:  69% (180/260)   \rReceiving objects:  70% (182/260)   \rReceiving objects:  71% (185/260)   \rReceiving objects:  72% (188/260)   \rReceiving objects:  73% (190/260)   \rReceiving objects:  74% (193/260)   \rReceiving objects:  75% (195/260)   \rReceiving objects:  76% (198/260)   \rReceiving objects:  77% (201/260)   \rReceiving objects:  78% (203/260)   \rReceiving objects:  79% (206/260)   \rReceiving objects:  80% (208/260)   \rReceiving objects:  81% (211/260)   \rremote: Total 260 (delta 164), reused 180 (delta 84), pack-reused 0\u001b[K\n",
            "Receiving objects:  82% (214/260), 180.00 KiB | 347.00 KiB/s   \rReceiving objects:  83% (216/260), 180.00 KiB | 347.00 KiB/s   \rReceiving objects:  84% (219/260), 180.00 KiB | 347.00 KiB/s   \rReceiving objects:  85% (221/260), 180.00 KiB | 347.00 KiB/s   \rReceiving objects:  86% (224/260), 180.00 KiB | 347.00 KiB/s   \rReceiving objects:  87% (227/260), 180.00 KiB | 347.00 KiB/s   \rReceiving objects:  88% (229/260), 180.00 KiB | 347.00 KiB/s   \rReceiving objects:  89% (232/260), 180.00 KiB | 347.00 KiB/s   \rReceiving objects:  90% (234/260), 180.00 KiB | 347.00 KiB/s   \rReceiving objects:  91% (237/260), 180.00 KiB | 347.00 KiB/s   \rReceiving objects:  92% (240/260), 180.00 KiB | 347.00 KiB/s   \rReceiving objects:  93% (242/260), 180.00 KiB | 347.00 KiB/s   \rReceiving objects:  94% (245/260), 180.00 KiB | 347.00 KiB/s   \rReceiving objects:  95% (247/260), 180.00 KiB | 347.00 KiB/s   \rReceiving objects:  96% (250/260), 180.00 KiB | 347.00 KiB/s   \rReceiving objects:  97% (253/260), 180.00 KiB | 347.00 KiB/s   \rReceiving objects:  98% (255/260), 180.00 KiB | 347.00 KiB/s   \rReceiving objects:  99% (258/260), 180.00 KiB | 347.00 KiB/s   \rReceiving objects: 100% (260/260), 180.00 KiB | 347.00 KiB/s   \rReceiving objects: 100% (260/260), 202.83 KiB | 399.00 KiB/s, done.\n",
            "Resolving deltas:   0% (0/164)   \rResolving deltas:   1% (2/164)   \rResolving deltas:   3% (5/164)   \rResolving deltas:  13% (22/164)   \rResolving deltas:  20% (33/164)   \rResolving deltas:  48% (79/164)   \rResolving deltas:  76% (126/164)   \rResolving deltas:  77% (127/164)   \rResolving deltas:  79% (131/164)   \rResolving deltas:  80% (132/164)   \rResolving deltas:  82% (135/164)   \rResolving deltas:  84% (139/164)   \rResolving deltas:  92% (151/164)   \rResolving deltas:  93% (153/164)   \rResolving deltas:  94% (155/164)   \rResolving deltas:  97% (160/164)   \rResolving deltas: 100% (164/164)   \rResolving deltas: 100% (164/164), done.\n"
          ],
          "name": "stdout"
        }
      ]
    },
    {
      "cell_type": "code",
      "metadata": {
        "id": "caNfRIj1kRcf",
        "colab_type": "code",
        "colab": {
          "base_uri": "https://localhost:8080/",
          "height": 34
        },
        "outputId": "c21fa975-3d50-42f8-dedf-7125a4499f09"
      },
      "source": [
        "%cd deep_Q_learning_from_scratch"
      ],
      "execution_count": null,
      "outputs": [
        {
          "output_type": "stream",
          "text": [
            "/content/deep_Q_learning_from_scratch\n"
          ],
          "name": "stdout"
        }
      ]
    },
    {
      "cell_type": "code",
      "metadata": {
        "id": "OzhhtvRQkWJW",
        "colab_type": "code",
        "colab": {
          "base_uri": "https://localhost:8080/",
          "height": 68
        },
        "outputId": "eb7641d6-cf2b-449f-bebe-0bc5f407eb64"
      },
      "source": [
        "!git pull origin master"
      ],
      "execution_count": null,
      "outputs": [
        {
          "output_type": "stream",
          "text": [
            "From https://github.com/ShivamShrirao/deep_Q_learning_from_scratch\n",
            " * branch            master     -> FETCH_HEAD\n",
            "Already up to date.\n"
          ],
          "name": "stdout"
        }
      ]
    },
    {
      "cell_type": "code",
      "metadata": {
        "id": "W0SnQz--kXCg",
        "colab_type": "code",
        "colab": {}
      },
      "source": [
        "import gym\n",
        "import time\n",
        "import cv2\n",
        "import numpy as np\n",
        "from collections import deque\n",
        "\n",
        "from settings import *\n",
        "from agent import *\n",
        "from experience import *"
      ],
      "execution_count": null,
      "outputs": []
    },
    {
      "cell_type": "code",
      "metadata": {
        "id": "_ALvjRInG3j1",
        "colab_type": "code",
        "colab": {}
      },
      "source": [
        "def get_model(input_shape=(HEIGHT,WIDTH,NFRAMES), no_of_actions=3):\n",
        "    model=Sequential()\n",
        "    model.add(Conv2D(num_kernels=32, kernel_size=3, stride=(2, 2), activation=functions.relu, input_shape=input_shape))\n",
        "    model.add(Conv2D(num_kernels=64, kernel_size=3, stride=(2, 2), activation=functions.relu))\n",
        "    model.add(Conv2D(num_kernels=128, kernel_size=3, stride=(2, 2), activation=functions.relu))\n",
        "    # model.add(Conv2D(num_kernels=256, kernel_size=3, stride=(2, 2), activation=functions.relu))\n",
        "    model.add(Flatten())\n",
        "    model.add(Dense(256, activation=functions.relu))\n",
        "    model.add(Dense(no_of_actions, activation=functions.echo))\n",
        "\n",
        "    model.compile(optimizer=optimizers.adam, loss=functions.mean_squared_error, learning_rate=0.0001)\n",
        "    return model\n",
        "\n",
        "def preproc_obsv(obsv):\n",
        "    obsv = cv2.cvtColor(obsv, cv2.COLOR_RGB2GRAY)\n",
        "    obsv = obsv[34:194:2,::2]\n",
        "    return obsv"
      ],
      "execution_count": null,
      "outputs": []
    },
    {
      "cell_type": "code",
      "metadata": {
        "id": "hc4bwkXTkX7_",
        "colab_type": "code",
        "colab": {
          "base_uri": "https://localhost:8080/",
          "height": 357
        },
        "outputId": "92a9f76b-9dde-4391-d2a6-400cf5507f51"
      },
      "source": [
        "agt = DQN_Agent(actions=[0,2,3], epsilon=1, min_epsilon=0.1, eps_decay=2e-6, target_update_thresh=1000)\n",
        "agt.model = get_model(input_shape=(HEIGHT,WIDTH,NFRAMES), no_of_actions=len(self.actions))\n",
        "agt.target = get_model(input_shape=(HEIGHT,WIDTH,NFRAMES), no_of_actions=len(self.actions))\n",
        "agt.update_target()\n",
        "agt.model.summary()"
      ],
      "execution_count": null,
      "outputs": [
        {
          "output_type": "stream",
          "text": [
            "⎽⎽⎽⎽⎽⎽⎽⎽⎽⎽⎽⎽⎽⎽⎽⎽⎽⎽⎽⎽⎽⎽⎽⎽⎽⎽⎽⎽⎽⎽⎽⎽⎽⎽⎽⎽⎽⎽⎽⎽⎽⎽⎽⎽⎽⎽⎽⎽⎽⎽⎽⎽⎽⎽⎽⎽⎽⎽⎽⎽⎽⎽⎽⎽⎽⎽⎽⎽⎽⎽⎽⎽⎽⎽⎽⎽⎽⎽⎽⎽⎽⎽⎽⎽⎽⎽⎽⎽⎽⎽\n",
            "Layer (type)               Output Shape             Activation        Param #\n",
            "==========================================================================================\n",
            "- InputLayer(InputLayer)  (None, 80, 80, 4)          echo             0\n",
            "__________________________________________________________________________________________\n",
            "0 Conv2D(Conv2D)          (None, 40, 40, 32)         relu             1184\n",
            "__________________________________________________________________________________________\n",
            "1 Conv2D(Conv2D)          (None, 20, 20, 64)         relu             18496\n",
            "__________________________________________________________________________________________\n",
            "2 Conv2D(Conv2D)          (None, 10, 10, 128)        relu             73856\n",
            "__________________________________________________________________________________________\n",
            "3 Flatten(Flatten)        (None, 12800)              echo             0\n",
            "__________________________________________________________________________________________\n",
            "4 Dense(Dense)            (None, 256)                relu             3277056\n",
            "__________________________________________________________________________________________\n",
            "5 Dense(Dense)            (None, 3)                  echo             771\n",
            "==========================================================================================\n",
            "Total Params: 3,371,363\n",
            "Trainable Params: 3,371,363\n",
            "Non-trainable Params: 0\n"
          ],
          "name": "stdout"
        }
      ]
    },
    {
      "cell_type": "code",
      "metadata": {
        "id": "H_R_avOVHcaY",
        "colab_type": "code",
        "colab": {}
      },
      "source": [
        "D_exp = ReplayMemory(capacity=1_500_000, nlap=1)"
      ],
      "execution_count": null,
      "outputs": []
    },
    {
      "cell_type": "code",
      "metadata": {
        "id": "MDlH0rWlH2Kt",
        "colab_type": "code",
        "colab": {
          "base_uri": "https://localhost:8080/",
          "height": 34
        },
        "outputId": "9efeb7e6-2b99-4442-92d7-87d8e86dd5f1"
      },
      "source": [
        "D_exp.current_state.nbytes/1024/1024/1024"
      ],
      "execution_count": null,
      "outputs": [
        {
          "output_type": "execute_result",
          "data": {
            "text/plain": [
              "8.940696716308594"
            ]
          },
          "metadata": {
            "tags": []
          },
          "execution_count": 4
        }
      ]
    },
    {
      "cell_type": "code",
      "metadata": {
        "id": "XFlEoOqOkbcy",
        "colab_type": "code",
        "colab": {}
      },
      "source": [
        "env = gym.make('Breakout-v4')       # v4 to ensure ball is fired when required"
      ],
      "execution_count": null,
      "outputs": []
    },
    {
      "cell_type": "code",
      "metadata": {
        "id": "do2kpfL9Yd_o",
        "colab_type": "code",
        "colab": {
          "base_uri": "https://localhost:8080/",
          "height": 34
        },
        "outputId": "c07f7c78-c0df-43ad-829e-e1cd33e08781"
      },
      "source": [
        "D_exp.len"
      ],
      "execution_count": null,
      "outputs": [
        {
          "output_type": "execute_result",
          "data": {
            "text/plain": [
              "1111721"
            ]
          },
          "metadata": {
            "tags": []
          },
          "execution_count": 13
        }
      ]
    },
    {
      "cell_type": "code",
      "metadata": {
        "id": "1-zscT4Tkd2Z",
        "colab_type": "code",
        "colab": {}
      },
      "source": [
        "for i_episode in range(2000):\n",
        "    obinit = env.reset()\n",
        "    if not i_episode:\n",
        "        observation = obinit\n",
        "        state = preproc_obsv(observation)\n",
        "        state_que = deque([], maxlen=NFRAMES)\n",
        "        for i in range(NFRAMES):\n",
        "            state_que.append(state)\n",
        "    ep_score = 0\n",
        "    lives = 5\n",
        "    fire = True\n",
        "    start = time.time()\n",
        "    for t in range(10_000):\n",
        "        s_s = time.time()\n",
        "#         env.render()\n",
        "        state = preproc_obsv(observation)\n",
        "        state_que.append(state)\n",
        "        if fire:\n",
        "            action = 1\n",
        "            fire = False\n",
        "        else:\n",
        "            action = agt.get_action(state_que)\n",
        "        next_observation, reward, done, info = env.step(action)\n",
        "        if lives != info['ale.lives']:\n",
        "            lives = info['ale.lives']\n",
        "            reward = -1\n",
        "            fire = True\n",
        "        ep_score += reward\n",
        "        if action==1:\n",
        "            action = 0\n",
        "        D_exp.store_transition(state, agt.actions.index(action), reward, done)\n",
        "        observation = next_observation\n",
        "\n",
        "        if (D_exp.len-D_exp.idx_len) > BATCH_SIZE:\n",
        "            grads = agt.train(D_exp, BATCH_SIZE)\n",
        "        print('\\r', t, action, ep_score, end='  ')\n",
        "        if done:\n",
        "            break\n",
        "    print(f\"\\rEpisode {i_episode+1} finished after {t+1} timesteps, Score: {ep_score}, Epsilon: {agt.epsilon:.6f}, Time: {time.time()-start:.2f}\")\n",
        "    if not i_episode%8:\n",
        "        agt.model.save_weights(\"/content/drive/My Drive/breakout.w8s\")\n",
        "env.close()"
      ],
      "execution_count": null,
      "outputs": []
    },
    {
      "cell_type": "code",
      "metadata": {
        "id": "QEMyWHhqC_kD",
        "colab_type": "code",
        "colab": {}
      },
      "source": [
        "agt.epsilon = 0"
      ],
      "execution_count": null,
      "outputs": []
    },
    {
      "cell_type": "code",
      "metadata": {
        "id": "5GCMcH0otSUd",
        "colab_type": "code",
        "colab": {}
      },
      "source": [
        "from gym import wrappers"
      ],
      "execution_count": null,
      "outputs": []
    },
    {
      "cell_type": "code",
      "metadata": {
        "id": "7DqektqyH6Wb",
        "colab_type": "code",
        "colab": {
          "base_uri": "https://localhost:8080/",
          "height": 34
        },
        "outputId": "bca6a45c-c9b9-4268-b3fd-8998ff16dd04"
      },
      "source": [
        "wrapped_env = wrappers.Monitor(env.env, '/content/videos/' + str(time.time()) + '/')\n",
        "for i_episode in range(1):\n",
        "    obinit = wrapped_env.reset()\n",
        "    if not i_episode:\n",
        "        observation = obinit\n",
        "        state = preproc_obsv(observation)\n",
        "        state_que = deque([], maxlen=NFRAMES)\n",
        "        for i in range(NFRAMES):\n",
        "            state_que.append(state)\n",
        "    ep_score = 0\n",
        "    lives = 5\n",
        "    fire = True\n",
        "    preds = []\n",
        "    reward_history = []\n",
        "    start = time.time()\n",
        "    t=-1\n",
        "    while 1:\n",
        "        t+=1\n",
        "        s_s = time.time()\n",
        "#         wrapped_env.render()\n",
        "        state = preproc_obsv(observation)\n",
        "        state_que.append(state)\n",
        "        if fire:\n",
        "            action = 1\n",
        "            fire = False\n",
        "        else:\n",
        "            out = agt.predict(state_que)\n",
        "            pidx = cp.argmax(out[0]).item()\n",
        "            preds.append(out[0][pidx].item())\n",
        "            action = agt.actions[pidx]\n",
        "        next_observation, reward, done, info = wrapped_env.step(action)\n",
        "        if lives != info['ale.lives']:\n",
        "            lives = info['ale.lives']\n",
        "            reward = -1\n",
        "            fire = True\n",
        "        ep_score += reward\n",
        "        reward_history.append(reward)\n",
        "        if action==1:\n",
        "            action = 0\n",
        "        observation = next_observation\n",
        "        print('\\r', t, ep_score, end='  ')\n",
        "        if done:\n",
        "            break\n",
        "    print(f\"\\rEpisode {i_episode+1} finished after {t+1} timesteps, Score: {ep_score}, Epsilon: {agt.epsilon:.6f}, Time: {time.time()-start:.2f}\")\n",
        "wrapped_env.close()"
      ],
      "execution_count": null,
      "outputs": [
        {
          "output_type": "stream",
          "text": [
            "Episode 1 finished after 994 timesteps, Score: 19.0, Epsilon: 0.000000, Time: 2.53\n"
          ],
          "name": "stdout"
        }
      ]
    },
    {
      "cell_type": "code",
      "metadata": {
        "id": "PFHCbvnPtn8q",
        "colab_type": "code",
        "colab": {}
      },
      "source": [
        "!rm /content/videos/* -rf"
      ],
      "execution_count": null,
      "outputs": []
    },
    {
      "cell_type": "code",
      "metadata": {
        "id": "0ImTh1UpurGl",
        "colab_type": "code",
        "colab": {}
      },
      "source": [
        ""
      ],
      "execution_count": null,
      "outputs": []
    }
  ]
}