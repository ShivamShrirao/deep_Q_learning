{
  "nbformat": 4,
  "nbformat_minor": 0,
  "metadata": {
    "colab": {
      "name": "Breakout_Deep_Q_RL.ipynb",
      "provenance": [],
      "collapsed_sections": [],
      "machine_shape": "hm"
    },
    "kernelspec": {
      "name": "python3",
      "display_name": "Python 3"
    },
    "accelerator": "GPU"
  },
  "cells": [
    {
      "cell_type": "code",
      "metadata": {
        "id": "LbuhMj8QkFUO",
        "colab_type": "code",
        "colab": {
          "base_uri": "https://localhost:8080/",
          "height": 357
        },
        "outputId": "f1ecec47-ad1a-4f1a-e8e2-1d4fe4f8db1c"
      },
      "source": [
        "!nvidia-smi"
      ],
      "execution_count": 1,
      "outputs": [
        {
          "output_type": "stream",
          "text": [
            "Fri Aug 21 11:01:22 2020       \n",
            "+-----------------------------------------------------------------------------+\n",
            "| NVIDIA-SMI 450.57       Driver Version: 418.67       CUDA Version: 10.1     |\n",
            "|-------------------------------+----------------------+----------------------+\n",
            "| GPU  Name        Persistence-M| Bus-Id        Disp.A | Volatile Uncorr. ECC |\n",
            "| Fan  Temp  Perf  Pwr:Usage/Cap|         Memory-Usage | GPU-Util  Compute M. |\n",
            "|                               |                      |               MIG M. |\n",
            "|===============================+======================+======================|\n",
            "|   0  Tesla P100-PCIE...  Off  | 00000000:00:04.0 Off |                    0 |\n",
            "| N/A   37C    P0    26W / 250W |      0MiB / 16280MiB |      0%      Default |\n",
            "|                               |                      |                 ERR! |\n",
            "+-------------------------------+----------------------+----------------------+\n",
            "                                                                               \n",
            "+-----------------------------------------------------------------------------+\n",
            "| Processes:                                                                  |\n",
            "|  GPU   GI   CI        PID   Type   Process name                  GPU Memory |\n",
            "|        ID   ID                                                   Usage      |\n",
            "|=============================================================================|\n",
            "|  No running processes found                                                 |\n",
            "+-----------------------------------------------------------------------------+\n"
          ],
          "name": "stdout"
        }
      ]
    },
    {
      "cell_type": "code",
      "metadata": {
        "id": "v6pXJGDekFNt",
        "colab_type": "code",
        "colab": {
          "base_uri": "https://localhost:8080/",
          "height": 207
        },
        "outputId": "ed7d9690-132b-4674-85ab-e4ef6d624746"
      },
      "source": [
        "!python -m pip install git+https://github.com/ShivamShrirao/dnn_from_scratch.git"
      ],
      "execution_count": 2,
      "outputs": [
        {
          "output_type": "stream",
          "text": [
            "Collecting git+https://github.com/ShivamShrirao/dnn_from_scratch.git\n",
            "  Cloning https://github.com/ShivamShrirao/dnn_from_scratch.git to /tmp/pip-req-build-g0_ouv17\n",
            "  Running command git clone -q https://github.com/ShivamShrirao/dnn_from_scratch.git /tmp/pip-req-build-g0_ouv17\n",
            "Building wheels for collected packages: dnn-from-scratch\n",
            "  Building wheel for dnn-from-scratch (setup.py) ... \u001b[?25l\u001b[?25hdone\n",
            "  Created wheel for dnn-from-scratch: filename=dnn_from_scratch-0.1.dev1-cp36-none-any.whl size=39847 sha256=98f22886475d0b737e7e2e3c77a5ffda396ddc05b97d6591edd7a5f948715d33\n",
            "  Stored in directory: /tmp/pip-ephem-wheel-cache-wihd95oy/wheels/33/77/6c/1140f6295368e7045f3b49fdda98e7f07b2513b8b55093ca7b\n",
            "Successfully built dnn-from-scratch\n",
            "Installing collected packages: dnn-from-scratch\n",
            "Successfully installed dnn-from-scratch-0.1.dev1\n"
          ],
          "name": "stdout"
        }
      ]
    },
    {
      "cell_type": "code",
      "metadata": {
        "id": "CgT-5T6EkO8a",
        "colab_type": "code",
        "colab": {
          "base_uri": "https://localhost:8080/",
          "height": 136
        },
        "outputId": "2c162040-7cce-440a-afff-fb2beaab596f"
      },
      "source": [
        "!git clone https://github.com/ShivamShrirao/deep_Q_learning_from_scratch.git"
      ],
      "execution_count": 3,
      "outputs": [
        {
          "output_type": "stream",
          "text": [
            "Cloning into 'deep_Q_learning_from_scratch'...\n",
            "remote: Enumerating objects: 242, done.\u001b[K\n",
            "remote: Counting objects:   0% (1/242)\u001b[K\rremote: Counting objects:   1% (3/242)\u001b[K\rremote: Counting objects:   2% (5/242)\u001b[K\rremote: Counting objects:   3% (8/242)\u001b[K\rremote: Counting objects:   4% (10/242)\u001b[K\rremote: Counting objects:   5% (13/242)\u001b[K\rremote: Counting objects:   6% (15/242)\u001b[K\rremote: Counting objects:   7% (17/242)\u001b[K\rremote: Counting objects:   8% (20/242)\u001b[K\rremote: Counting objects:   9% (22/242)\u001b[K\rremote: Counting objects:  10% (25/242)\u001b[K\rremote: Counting objects:  11% (27/242)\u001b[K\rremote: Counting objects:  12% (30/242)\u001b[K\rremote: Counting objects:  13% (32/242)\u001b[K\rremote: Counting objects:  14% (34/242)\u001b[K\rremote: Counting objects:  15% (37/242)\u001b[K\rremote: Counting objects:  16% (39/242)\u001b[K\rremote: Counting objects:  17% (42/242)\u001b[K\rremote: Counting objects:  18% (44/242)\u001b[K\rremote: Counting objects:  19% (46/242)\u001b[K\rremote: Counting objects:  20% (49/242)\u001b[K\rremote: Counting objects:  21% (51/242)\u001b[K\rremote: Counting objects:  22% (54/242)\u001b[K\rremote: Counting objects:  23% (56/242)\u001b[K\rremote: Counting objects:  24% (59/242)\u001b[K\rremote: Counting objects:  25% (61/242)\u001b[K\rremote: Counting objects:  26% (63/242)\u001b[K\rremote: Counting objects:  27% (66/242)\u001b[K\rremote: Counting objects:  28% (68/242)\u001b[K\rremote: Counting objects:  29% (71/242)\u001b[K\rremote: Counting objects:  30% (73/242)\u001b[K\rremote: Counting objects:  31% (76/242)\u001b[K\rremote: Counting objects:  32% (78/242)\u001b[K\rremote: Counting objects:  33% (80/242)\u001b[K\rremote: Counting objects:  34% (83/242)\u001b[K\rremote: Counting objects:  35% (85/242)\u001b[K\rremote: Counting objects:  36% (88/242)\u001b[K\rremote: Counting objects:  37% (90/242)\u001b[K\rremote: Counting objects:  38% (92/242)\u001b[K\rremote: Counting objects:  39% (95/242)\u001b[K\rremote: Counting objects:  40% (97/242)\u001b[K\rremote: Counting objects:  41% (100/242)\u001b[K\rremote: Counting objects:  42% (102/242)\u001b[K\rremote: Counting objects:  43% (105/242)\u001b[K\rremote: Counting objects:  44% (107/242)\u001b[K\rremote: Counting objects:  45% (109/242)\u001b[K\rremote: Counting objects:  46% (112/242)\u001b[K\rremote: Counting objects:  47% (114/242)\u001b[K\rremote: Counting objects:  48% (117/242)\u001b[K\rremote: Counting objects:  49% (119/242)\u001b[K\rremote: Counting objects:  50% (121/242)\u001b[K\rremote: Counting objects:  51% (124/242)\u001b[K\rremote: Counting objects:  52% (126/242)\u001b[K\rremote: Counting objects:  53% (129/242)\u001b[K\rremote: Counting objects:  54% (131/242)\u001b[K\rremote: Counting objects:  55% (134/242)\u001b[K\rremote: Counting objects:  56% (136/242)\u001b[K\rremote: Counting objects:  57% (138/242)\u001b[K\rremote: Counting objects:  58% (141/242)\u001b[K\rremote: Counting objects:  59% (143/242)\u001b[K\rremote: Counting objects:  60% (146/242)\u001b[K\rremote: Counting objects:  61% (148/242)\u001b[K\rremote: Counting objects:  62% (151/242)\u001b[K\rremote: Counting objects:  63% (153/242)\u001b[K\rremote: Counting objects:  64% (155/242)\u001b[K\rremote: Counting objects:  65% (158/242)\u001b[K\rremote: Counting objects:  66% (160/242)\u001b[K\rremote: Counting objects:  67% (163/242)\u001b[K\rremote: Counting objects:  68% (165/242)\u001b[K\rremote: Counting objects:  69% (167/242)\u001b[K\rremote: Counting objects:  70% (170/242)\u001b[K\rremote: Counting objects:  71% (172/242)\u001b[K\rremote: Counting objects:  72% (175/242)\u001b[K\rremote: Counting objects:  73% (177/242)\u001b[K\rremote: Counting objects:  74% (180/242)\u001b[K\rremote: Counting objects:  75% (182/242)\u001b[K\rremote: Counting objects:  76% (184/242)\u001b[K\rremote: Counting objects:  77% (187/242)\u001b[K\rremote: Counting objects:  78% (189/242)\u001b[K\rremote: Counting objects:  79% (192/242)\u001b[K\rremote: Counting objects:  80% (194/242)\u001b[K\rremote: Counting objects:  81% (197/242)\u001b[K\rremote: Counting objects:  82% (199/242)\u001b[K\rremote: Counting objects:  83% (201/242)\u001b[K\rremote: Counting objects:  84% (204/242)\u001b[K\rremote: Counting objects:  85% (206/242)\u001b[K\rremote: Counting objects:  86% (209/242)\u001b[K\rremote: Counting objects:  87% (211/242)\u001b[K\rremote: Counting objects:  88% (213/242)\u001b[K\rremote: Counting objects:  89% (216/242)\u001b[K\rremote: Counting objects:  90% (218/242)\u001b[K\rremote: Counting objects:  91% (221/242)\u001b[K\rremote: Counting objects:  92% (223/242)\u001b[K\rremote: Counting objects:  93% (226/242)\u001b[K\rremote: Counting objects:  94% (228/242)\u001b[K\rremote: Counting objects:  95% (230/242)\u001b[K\rremote: Counting objects:  96% (233/242)\u001b[K\rremote: Counting objects:  97% (235/242)\u001b[K\rremote: Counting objects:  98% (238/242)\u001b[K\rremote: Counting objects:  99% (240/242)\u001b[K\rremote: Counting objects: 100% (242/242)\u001b[K\rremote: Counting objects: 100% (242/242), done.\u001b[K\n",
            "remote: Compressing objects: 100% (160/160), done.\u001b[K\n",
            "remote: Total 242 (delta 149), reused 168 (delta 75), pack-reused 0\u001b[K\n",
            "Receiving objects: 100% (242/242), 196.18 KiB | 387.00 KiB/s, done.\n",
            "Resolving deltas: 100% (149/149), done.\n"
          ],
          "name": "stdout"
        }
      ]
    },
    {
      "cell_type": "code",
      "metadata": {
        "id": "TQZiX7WgkQeu",
        "colab_type": "code",
        "colab": {
          "base_uri": "https://localhost:8080/",
          "height": 122
        },
        "outputId": "e3d9b53b-1d68-4bd1-861f-32d4c86f2b61"
      },
      "source": [
        "from google.colab import drive\n",
        "drive.mount('/content/drive')"
      ],
      "execution_count": 4,
      "outputs": [
        {
          "output_type": "stream",
          "text": [
            "Go to this URL in a browser: https://accounts.google.com/o/oauth2/auth?client_id=947318989803-6bn6qk8qdgf4n4g3pfee6491hc0brc4i.apps.googleusercontent.com&redirect_uri=urn%3aietf%3awg%3aoauth%3a2.0%3aoob&scope=email%20https%3a%2f%2fwww.googleapis.com%2fauth%2fdocs.test%20https%3a%2f%2fwww.googleapis.com%2fauth%2fdrive%20https%3a%2f%2fwww.googleapis.com%2fauth%2fdrive.photos.readonly%20https%3a%2f%2fwww.googleapis.com%2fauth%2fpeopleapi.readonly&response_type=code\n",
            "\n",
            "Enter your authorization code:\n",
            "··········\n",
            "Mounted at /content/drive\n"
          ],
          "name": "stdout"
        }
      ]
    },
    {
      "cell_type": "code",
      "metadata": {
        "id": "caNfRIj1kRcf",
        "colab_type": "code",
        "colab": {
          "base_uri": "https://localhost:8080/",
          "height": 34
        },
        "outputId": "ca02ec54-97b2-4c75-a0a1-c071d2bd71e1"
      },
      "source": [
        "%cd deep_Q_learning_from_scratch"
      ],
      "execution_count": 1,
      "outputs": [
        {
          "output_type": "stream",
          "text": [
            "/content/deep_Q_learning_from_scratch\n"
          ],
          "name": "stdout"
        }
      ]
    },
    {
      "cell_type": "code",
      "metadata": {
        "id": "OzhhtvRQkWJW",
        "colab_type": "code",
        "colab": {
          "base_uri": "https://localhost:8080/",
          "height": 68
        },
        "outputId": "963132a7-0796-4760-c42d-b064ac2e1566"
      },
      "source": [
        "!git pull origin master"
      ],
      "execution_count": 2,
      "outputs": [
        {
          "output_type": "stream",
          "text": [
            "From https://github.com/ShivamShrirao/deep_Q_learning_from_scratch\n",
            " * branch            master     -> FETCH_HEAD\n",
            "Already up to date.\n"
          ],
          "name": "stdout"
        }
      ]
    },
    {
      "cell_type": "code",
      "metadata": {
        "id": "W0SnQz--kXCg",
        "colab_type": "code",
        "colab": {}
      },
      "source": [
        "import gym\n",
        "import time\n",
        "import cv2\n",
        "import numpy as np\n",
        "from collections import deque\n",
        "\n",
        "from settings import *\n",
        "from agent import *\n",
        "from experience import *"
      ],
      "execution_count": 3,
      "outputs": []
    },
    {
      "cell_type": "code",
      "metadata": {
        "id": "hc4bwkXTkX7_",
        "colab_type": "code",
        "colab": {
          "base_uri": "https://localhost:8080/",
          "height": 357
        },
        "outputId": "226bb9dd-7104-4b60-bc16-88cf7a70fd0e"
      },
      "source": [
        "agt = Agent(actions=[0,2,3], epsilon=1, min_epsilon=0.1, eps_decay=2e-6, target_update_thresh=1000)\n",
        "D_exp = ReplayMemory(capacity=1_000_000, nlap=1)"
      ],
      "execution_count": 4,
      "outputs": [
        {
          "output_type": "stream",
          "text": [
            "⎽⎽⎽⎽⎽⎽⎽⎽⎽⎽⎽⎽⎽⎽⎽⎽⎽⎽⎽⎽⎽⎽⎽⎽⎽⎽⎽⎽⎽⎽⎽⎽⎽⎽⎽⎽⎽⎽⎽⎽⎽⎽⎽⎽⎽⎽⎽⎽⎽⎽⎽⎽⎽⎽⎽⎽⎽⎽⎽⎽⎽⎽⎽⎽⎽⎽⎽⎽⎽⎽⎽⎽⎽⎽⎽⎽⎽⎽⎽⎽⎽⎽⎽⎽⎽⎽⎽⎽⎽⎽\n",
            "Layer (type)               Output Shape             Activation        Param #\n",
            "==========================================================================================\n",
            "- InputLayer(InputLayer)  (None, 80, 80, 4)          echo             0\n",
            "__________________________________________________________________________________________\n",
            "0 Conv2D(Conv2D)          (None, 40, 40, 32)         relu             1184\n",
            "__________________________________________________________________________________________\n",
            "1 Conv2D(Conv2D)          (None, 20, 20, 64)         relu             18496\n",
            "__________________________________________________________________________________________\n",
            "2 Conv2D(Conv2D)          (None, 10, 10, 128)        relu             73856\n",
            "__________________________________________________________________________________________\n",
            "3 Flatten(Flatten)        (None, 12800)              echo             0\n",
            "__________________________________________________________________________________________\n",
            "4 Dense(Dense)            (None, 512)                relu             6554112\n",
            "__________________________________________________________________________________________\n",
            "5 Dense(Dense)            (None, 3)                  echo             1539\n",
            "==========================================================================================\n",
            "Total Params: 6,649,187\n",
            "Trainable Params: 6,649,187\n",
            "Non-trainable Params: 0\n"
          ],
          "name": "stdout"
        }
      ]
    },
    {
      "cell_type": "code",
      "metadata": {
        "id": "MDlH0rWlH2Kt",
        "colab_type": "code",
        "colab": {
          "base_uri": "https://localhost:8080/",
          "height": 34
        },
        "outputId": "fe37f51a-b6c6-4ff9-9359-651bf85db96b"
      },
      "source": [
        "D_exp.current_state.nbytes/1024/1024/1024"
      ],
      "execution_count": 5,
      "outputs": [
        {
          "output_type": "execute_result",
          "data": {
            "text/plain": [
              "5.9604644775390625"
            ]
          },
          "metadata": {
            "tags": []
          },
          "execution_count": 5
        }
      ]
    },
    {
      "cell_type": "code",
      "metadata": {
        "id": "XFlEoOqOkbcy",
        "colab_type": "code",
        "colab": {}
      },
      "source": [
        "env = gym.make('Breakout-v4')       # v4 to ensure ball is fired when required"
      ],
      "execution_count": 6,
      "outputs": []
    },
    {
      "cell_type": "code",
      "metadata": {
        "id": "do2kpfL9Yd_o",
        "colab_type": "code",
        "colab": {
          "base_uri": "https://localhost:8080/",
          "height": 34
        },
        "outputId": "7b550d59-b7d0-491a-b0f5-fd92a23c6f55"
      },
      "source": [
        "D_exp.len"
      ],
      "execution_count": 37,
      "outputs": [
        {
          "output_type": "execute_result",
          "data": {
            "text/plain": [
              "1000000"
            ]
          },
          "metadata": {
            "tags": []
          },
          "execution_count": 37
        }
      ]
    },
    {
      "cell_type": "code",
      "metadata": {
        "id": "1-zscT4Tkd2Z",
        "colab_type": "code",
        "colab": {}
      },
      "source": [
        "for i_episode in range(1200):\n",
        "    obinit = env.reset()\n",
        "    if not i_episode:\n",
        "        observation = obinit\n",
        "        state = preproc_obsv(observation)\n",
        "        state_que = deque([], maxlen=NFRAMES)\n",
        "        for i in range(NFRAMES):\n",
        "            state_que.append(state)\n",
        "    ep_score = 0\n",
        "    lives = 5\n",
        "    fire = True\n",
        "    start = time.time()\n",
        "    for t in range(10_000):\n",
        "        s_s = time.time()\n",
        "#         env.render()\n",
        "        state = preproc_obsv(observation)\n",
        "        state_que.append(state)\n",
        "        if fire:\n",
        "            action = 1\n",
        "            fire = False\n",
        "        else:\n",
        "            action = agt.get_action(state_que)\n",
        "        next_observation, reward, done, info = env.step(action)\n",
        "        if lives != info['ale.lives']:\n",
        "            lives = info['ale.lives']\n",
        "            reward = -1\n",
        "            fire = True\n",
        "        ep_score += reward\n",
        "        if action==1:\n",
        "            action = 0\n",
        "        D_exp.store_transition(state, agt.actions.index(action), reward, done)\n",
        "        observation = next_observation\n",
        "\n",
        "        if (D_exp.len-D_exp.idx_len) > BATCH_SIZE:\n",
        "            grads = agt.train(D_exp, BATCH_SIZE)\n",
        "        print('\\r', t, action, ep_score, end='  ')\n",
        "        if done:\n",
        "            break\n",
        "    print(f\"\\rEpisode {i_episode+1} finished after {t+1} timesteps, Score: {ep_score}, Epsilon: {agt.epsilon:.6f}, Time: {time.time()-start:.2f}\")\n",
        "    if not i_episode%8:\n",
        "        agt.model.save_weights(\"/content/drive/My Drive/breakout.w8s\")\n",
        "env.close()"
      ],
      "execution_count": null,
      "outputs": []
    },
    {
      "cell_type": "code",
      "metadata": {
        "id": "QEMyWHhqC_kD",
        "colab_type": "code",
        "colab": {}
      },
      "source": [
        "agt.epsilon = 0"
      ],
      "execution_count": 44,
      "outputs": []
    },
    {
      "cell_type": "code",
      "metadata": {
        "id": "5GCMcH0otSUd",
        "colab_type": "code",
        "colab": {}
      },
      "source": [
        "from gym import wrappers"
      ],
      "execution_count": 27,
      "outputs": []
    },
    {
      "cell_type": "code",
      "metadata": {
        "id": "7DqektqyH6Wb",
        "colab_type": "code",
        "colab": {
          "base_uri": "https://localhost:8080/",
          "height": 34
        },
        "outputId": "624a221a-a51a-4067-9ef3-6ec87962ba6b"
      },
      "source": [
        "wrapped_env = wrappers.Monitor(env.env, '/content/videos/' + str(time.time()) + '/')\n",
        "for i_episode in range(1):\n",
        "    obinit = wrapped_env.reset()\n",
        "    if not i_episode:\n",
        "        observation = obinit\n",
        "        state = preproc_obsv(observation)\n",
        "        state_que = deque([], maxlen=NFRAMES)\n",
        "        for i in range(NFRAMES):\n",
        "            state_que.append(state)\n",
        "    ep_score = 0\n",
        "    lives = 5\n",
        "    fire = True\n",
        "    preds = []\n",
        "    reward_history = []\n",
        "    start = time.time()\n",
        "    t=-1\n",
        "    while 1:\n",
        "        t+=1\n",
        "        s_s = time.time()\n",
        "#         wrapped_env.render()\n",
        "        state = preproc_obsv(observation)\n",
        "        state_que.append(state)\n",
        "        if fire:\n",
        "            action = 1\n",
        "            fire = False\n",
        "        else:\n",
        "            out = agt.predict(state_que)\n",
        "            pidx = cp.argmax(out[0]).item()\n",
        "            preds.append(out[0][pidx].item())\n",
        "            action = agt.actions[pidx]\n",
        "        next_observation, reward, done, info = wrapped_env.step(action)\n",
        "        if lives != info['ale.lives']:\n",
        "            lives = info['ale.lives']\n",
        "            reward = -1\n",
        "            fire = True\n",
        "        ep_score += reward\n",
        "        reward_history.append(reward)\n",
        "        if action==1:\n",
        "            action = 0\n",
        "        observation = next_observation\n",
        "        print('\\r', t, ep_score, end='  ')\n",
        "        if done:\n",
        "            break\n",
        "    print(f\"\\rEpisode {i_episode+1} finished after {t+1} timesteps, Score: {ep_score}, Epsilon: {agt.epsilon:.6f}, Time: {time.time()-start:.2f}\")\n",
        "wrapped_env.close()"
      ],
      "execution_count": 51,
      "outputs": [
        {
          "output_type": "stream",
          "text": [
            "Episode 1 finished after 1708 timesteps, Score: 58.0, Epsilon: 0.000000, Time: 4.29\n"
          ],
          "name": "stdout"
        }
      ]
    },
    {
      "cell_type": "code",
      "metadata": {
        "id": "PFHCbvnPtn8q",
        "colab_type": "code",
        "colab": {}
      },
      "source": [
        "!rm /content/videos/* -rf"
      ],
      "execution_count": 34,
      "outputs": []
    },
    {
      "cell_type": "code",
      "metadata": {
        "id": "0ImTh1UpurGl",
        "colab_type": "code",
        "colab": {}
      },
      "source": [
        ""
      ],
      "execution_count": null,
      "outputs": []
    }
  ]
}