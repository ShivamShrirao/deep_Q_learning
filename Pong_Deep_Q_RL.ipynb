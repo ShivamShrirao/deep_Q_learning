{
 "cells": [
  {
   "cell_type": "code",
   "execution_count": 1,
   "metadata": {
    "colab": {
     "base_uri": "https://localhost:8080/",
     "height": 357
    },
    "colab_type": "code",
    "id": "LbuhMj8QkFUO",
    "outputId": "fafda981-c459-46d9-df0c-5df6be792a60"
   },
   "outputs": [
    {
     "name": "stdout",
     "output_type": "stream",
     "text": [
      "Fri Aug 21 07:21:00 2020       \n",
      "+-----------------------------------------------------------------------------+\n",
      "| NVIDIA-SMI 450.57       Driver Version: 418.67       CUDA Version: 10.1     |\n",
      "|-------------------------------+----------------------+----------------------+\n",
      "| GPU  Name        Persistence-M| Bus-Id        Disp.A | Volatile Uncorr. ECC |\n",
      "| Fan  Temp  Perf  Pwr:Usage/Cap|         Memory-Usage | GPU-Util  Compute M. |\n",
      "|                               |                      |               MIG M. |\n",
      "|===============================+======================+======================|\n",
      "|   0  Tesla P100-PCIE...  Off  | 00000000:00:04.0 Off |                    0 |\n",
      "| N/A   38C    P0    27W / 250W |      0MiB / 16280MiB |      0%      Default |\n",
      "|                               |                      |                 ERR! |\n",
      "+-------------------------------+----------------------+----------------------+\n",
      "                                                                               \n",
      "+-----------------------------------------------------------------------------+\n",
      "| Processes:                                                                  |\n",
      "|  GPU   GI   CI        PID   Type   Process name                  GPU Memory |\n",
      "|        ID   ID                                                   Usage      |\n",
      "|=============================================================================|\n",
      "|  No running processes found                                                 |\n",
      "+-----------------------------------------------------------------------------+\n"
     ]
    }
   ],
   "source": [
    "!nvidia-smi"
   ]
  },
  {
   "cell_type": "code",
   "execution_count": 7,
   "metadata": {
    "colab": {
     "base_uri": "https://localhost:8080/",
     "height": 207
    },
    "colab_type": "code",
    "id": "v6pXJGDekFNt",
    "outputId": "6b484309-f798-48b1-8999-03e837b71280"
   },
   "outputs": [
    {
     "name": "stdout",
     "output_type": "stream",
     "text": [
      "Collecting git+https://github.com/ShivamShrirao/dnn_from_scratch.git\n",
      "  Cloning https://github.com/ShivamShrirao/dnn_from_scratch.git to /tmp/pip-req-build-a1b73rn7\n",
      "  Running command git clone -q https://github.com/ShivamShrirao/dnn_from_scratch.git /tmp/pip-req-build-a1b73rn7\n",
      "Building wheels for collected packages: dnn-from-scratch\n",
      "  Building wheel for dnn-from-scratch (setup.py) ... \u001b[?25l\u001b[?25hdone\n",
      "  Created wheel for dnn-from-scratch: filename=dnn_from_scratch-0.1.dev1-cp36-none-any.whl size=39821 sha256=5b6f50fa864e7482a6139391d19ebca1879198634ea541064cd0862143d61b60\n",
      "  Stored in directory: /tmp/pip-ephem-wheel-cache-61sgrdqr/wheels/33/77/6c/1140f6295368e7045f3b49fdda98e7f07b2513b8b55093ca7b\n",
      "Successfully built dnn-from-scratch\n",
      "Installing collected packages: dnn-from-scratch\n",
      "Successfully installed dnn-from-scratch-0.1.dev1\n"
     ]
    }
   ],
   "source": [
    "!python -m pip install git+https://github.com/ShivamShrirao/dnn_from_scratch.git"
   ]
  },
  {
   "cell_type": "code",
   "execution_count": 9,
   "metadata": {
    "colab": {
     "base_uri": "https://localhost:8080/",
     "height": 136
    },
    "colab_type": "code",
    "id": "CgT-5T6EkO8a",
    "outputId": "1b4a1796-13a8-438e-d960-fb6f35e714ee"
   },
   "outputs": [
    {
     "name": "stdout",
     "output_type": "stream",
     "text": [
      "Cloning into 'deep_Q_learning_from_scratch'...\n",
      "remote: Enumerating objects: 231, done.\u001b[K\n",
      "remote: Counting objects:   0% (1/231)\u001b[K\r",
      "remote: Counting objects:   1% (3/231)\u001b[K\r",
      "remote: Counting objects:   2% (5/231)\u001b[K\r",
      "remote: Counting objects:   3% (7/231)\u001b[K\r",
      "remote: Counting objects:   4% (10/231)\u001b[K\r",
      "remote: Counting objects:   5% (12/231)\u001b[K\r",
      "remote: Counting objects:   6% (14/231)\u001b[K\r",
      "remote: Counting objects:   7% (17/231)\u001b[K\r",
      "remote: Counting objects:   8% (19/231)\u001b[K\r",
      "remote: Counting objects:   9% (21/231)\u001b[K\r",
      "remote: Counting objects:  10% (24/231)\u001b[K\r",
      "remote: Counting objects:  11% (26/231)\u001b[K\r",
      "remote: Counting objects:  12% (28/231)\u001b[K\r",
      "remote: Counting objects:  13% (31/231)\u001b[K\r",
      "remote: Counting objects:  14% (33/231)\u001b[K\r",
      "remote: Counting objects:  15% (35/231)\u001b[K\r",
      "remote: Counting objects:  16% (37/231)\u001b[K\r",
      "remote: Counting objects:  17% (40/231)\u001b[K\r",
      "remote: Counting objects:  18% (42/231)\u001b[K\r",
      "remote: Counting objects:  19% (44/231)\u001b[K\r",
      "remote: Counting objects:  20% (47/231)\u001b[K\r",
      "remote: Counting objects:  21% (49/231)\u001b[K\r",
      "remote: Counting objects:  22% (51/231)\u001b[K\r",
      "remote: Counting objects:  23% (54/231)\u001b[K\r",
      "remote: Counting objects:  24% (56/231)\u001b[K\r",
      "remote: Counting objects:  25% (58/231)\u001b[K\r",
      "remote: Counting objects:  26% (61/231)\u001b[K\r",
      "remote: Counting objects:  27% (63/231)\u001b[K\r",
      "remote: Counting objects:  28% (65/231)\u001b[K\r",
      "remote: Counting objects:  29% (67/231)\u001b[K\r",
      "remote: Counting objects:  30% (70/231)\u001b[K\r",
      "remote: Counting objects:  31% (72/231)\u001b[K\r",
      "remote: Counting objects:  32% (74/231)\u001b[K\r",
      "remote: Counting objects:  33% (77/231)\u001b[K\r",
      "remote: Counting objects:  34% (79/231)\u001b[K\r",
      "remote: Counting objects:  35% (81/231)\u001b[K\r",
      "remote: Counting objects:  36% (84/231)\u001b[K\r",
      "remote: Counting objects:  37% (86/231)\u001b[K\r",
      "remote: Counting objects:  38% (88/231)\u001b[K\r",
      "remote: Counting objects:  39% (91/231)\u001b[K\r",
      "remote: Counting objects:  40% (93/231)\u001b[K\r",
      "remote: Counting objects:  41% (95/231)\u001b[K\r",
      "remote: Counting objects:  42% (98/231)\u001b[K\r",
      "remote: Counting objects:  43% (100/231)\r",
      "remote: Counting objects:  44% (102/231)\u001b[K\r",
      "remote: Counting objects:  45% (104/231)\u001b[K\r",
      "remote: Counting objects:  46% (107/231)\u001b[K\r",
      "remote: Counting objects:  47% (109/231)\u001b[K\r",
      "remote: Counting objects:  48% (111/231)\u001b[K\r",
      "remote: Counting objects:  49% (114/231)\u001b[K\r",
      "remote: Counting objects:  50% (116/231)\u001b[K\r",
      "remote: Counting objects:  51% (118/231)\u001b[K\r",
      "remote: Counting objects:  52% (121/231)\u001b[K\r",
      "remote: Counting objects:  53% (123/231)\u001b[K\r",
      "remote: Counting objects:  54% (125/231)\u001b[K\r",
      "remote: Counting objects:  55% (128/231)\u001b[K\r",
      "remote: Counting objects:  56% (130/231)\u001b[K\r",
      "remote: Counting objects:  57% (132/231)\u001b[K\r",
      "remote: Counting objects:  58% (134/231)\u001b[K\r",
      "remote: Counting objects:  59% (137/231)\u001b[K\r",
      "remote: Counting objects:  60% (139/231)\u001b[K\r",
      "remote: Counting objects:  61% (141/231)\u001b[K\r",
      "remote: Counting objects:  62% (144/231)\u001b[K\r",
      "remote: Counting objects:  63% (146/231)\u001b[K\r",
      "remote: Counting objects:  64% (148/231)\u001b[K\r",
      "remote: Counting objects:  65% (151/231)\u001b[K\r",
      "remote: Counting objects:  66% (153/231)\u001b[K\r",
      "remote: Counting objects:  67% (155/231)\u001b[K\r",
      "remote: Counting objects:  68% (158/231)\u001b[K\r",
      "remote: Counting objects:  69% (160/231)\u001b[K\r",
      "remote: Counting objects:  70% (162/231)\u001b[K\r",
      "remote: Counting objects:  71% (165/231)\u001b[K\r",
      "remote: Counting objects:  72% (167/231)\u001b[K\r",
      "remote: Counting objects:  73% (169/231)\u001b[K\r",
      "remote: Counting objects:  74% (171/231)\u001b[K\r",
      "remote: Counting objects:  75% (174/231)\u001b[K\r",
      "remote: Counting objects:  76% (176/231)\u001b[K\r",
      "remote: Counting objects:  77% (178/231)\u001b[K\r",
      "remote: Counting objects:  78% (181/231)\u001b[K\r",
      "remote: Counting objects:  79% (183/231)\u001b[K\r",
      "remote: Counting objects:  80% (185/231)\u001b[K\r",
      "remote: Counting objects:  81% (188/231)\u001b[K\r",
      "remote: Counting objects:  82% (190/231)\u001b[K\r",
      "remote: Counting objects:  83% (192/231)\u001b[K\r",
      "remote: Counting objects:  84% (195/231)\u001b[K\r",
      "remote: Counting objects:  85% (197/231)\u001b[K\r",
      "remote: Counting objects:  86% (199/231)\u001b[K\r",
      "remote: Counting objects:  87% (201/231)\u001b[K\r",
      "remote: Counting objects:  88% (204/231)\u001b[K\r",
      "remote: Counting objects:  89% (206/231)\u001b[K\r",
      "remote: Counting objects:  90% (208/231)\u001b[K\r",
      "remote: Counting objects:  91% (211/231)\u001b[K\r",
      "remote: Counting objects:  92% (213/231)\u001b[K\r",
      "remote: Counting objects:  93% (215/231)\u001b[K\r",
      "remote: Counting objects:  94% (218/231)\u001b[K\r",
      "remote: Counting objects:  95% (220/231)\u001b[K\r",
      "remote: Counting objects:  96% (222/231)\u001b[K\r",
      "remote: Counting objects:  97% (225/231)\u001b[K\r",
      "remote: Counting objects:  98% (227/231)\u001b[K\r",
      "remote: Counting objects:  99% (229/231)\u001b[K\r",
      "remote: Counting objects: 100% (231/231)\u001b[K\r",
      "remote: Counting objects: 100% (231/231), done.\u001b[K\n",
      "remote: Compressing objects: 100% (155/155), done.\u001b[K\n",
      "remote: Total 231 (delta 143), reused 157 (delta 69), pack-reused 0\u001b[K\n",
      "Receiving objects: 100% (231/231), 186.41 KiB | 1.47 MiB/s, done.\n",
      "Resolving deltas: 100% (143/143), done.\n"
     ]
    }
   ],
   "source": [
    "!git clone https://github.com/ShivamShrirao/deep_Q_learning_from_scratch.git"
   ]
  },
  {
   "cell_type": "code",
   "execution_count": null,
   "metadata": {
    "colab": {
     "base_uri": "https://localhost:8080/",
     "height": 122
    },
    "colab_type": "code",
    "id": "TQZiX7WgkQeu",
    "outputId": "48789ed3-cfcf-4d80-9109-b858eafee956",
    "scrolled": true
   },
   "outputs": [],
   "source": [
    "from google.colab import drive\n",
    "drive.mount('/content/drive')"
   ]
  },
  {
   "cell_type": "code",
   "execution_count": 10,
   "metadata": {
    "colab": {
     "base_uri": "https://localhost:8080/",
     "height": 34
    },
    "colab_type": "code",
    "id": "caNfRIj1kRcf",
    "outputId": "cbf05923-bafc-45ef-e5b1-d6759f7602e1"
   },
   "outputs": [
    {
     "name": "stdout",
     "output_type": "stream",
     "text": [
      "/content/deep_Q_learning_from_scratch\n"
     ]
    }
   ],
   "source": [
    "%cd deep_Q_learning_from_scratch"
   ]
  },
  {
   "cell_type": "code",
   "execution_count": null,
   "metadata": {
    "colab": {
     "base_uri": "https://localhost:8080/",
     "height": 68
    },
    "colab_type": "code",
    "id": "OzhhtvRQkWJW",
    "outputId": "6d0732d7-9be6-4dc2-c5c0-de3ebac869eb"
   },
   "outputs": [
    {
     "name": "stdout",
     "output_type": "stream",
     "text": [
      "From https://github.com/ShivamShrirao/deep_Q_learning_from_scratch\n",
      " * branch            master     -> FETCH_HEAD\n",
      "Already up to date.\n"
     ]
    }
   ],
   "source": [
    "!git pull origin master"
   ]
  },
  {
   "cell_type": "code",
   "execution_count": 11,
   "metadata": {
    "colab": {},
    "colab_type": "code",
    "id": "W0SnQz--kXCg"
   },
   "outputs": [],
   "source": [
    "import gym\n",
    "import time\n",
    "import cv2\n",
    "import numpy as np\n",
    "from collections import deque\n",
    "\n",
    "from settings import *\n",
    "from agent import *\n",
    "from experience import *"
   ]
  },
  {
   "cell_type": "code",
   "execution_count": 12,
   "metadata": {
    "colab": {
     "base_uri": "https://localhost:8080/",
     "height": 357
    },
    "colab_type": "code",
    "id": "hc4bwkXTkX7_",
    "outputId": "c41bc947-7d60-4476-98c3-c20948bacc3a"
   },
   "outputs": [
    {
     "name": "stdout",
     "output_type": "stream",
     "text": [
      "⎽⎽⎽⎽⎽⎽⎽⎽⎽⎽⎽⎽⎽⎽⎽⎽⎽⎽⎽⎽⎽⎽⎽⎽⎽⎽⎽⎽⎽⎽⎽⎽⎽⎽⎽⎽⎽⎽⎽⎽⎽⎽⎽⎽⎽⎽⎽⎽⎽⎽⎽⎽⎽⎽⎽⎽⎽⎽⎽⎽⎽⎽⎽⎽⎽⎽⎽⎽⎽⎽⎽⎽⎽⎽⎽⎽⎽⎽⎽⎽⎽⎽⎽⎽⎽⎽⎽⎽⎽⎽\n",
      "Layer (type)               Output Shape             Activation        Param #\n",
      "==========================================================================================\n",
      "- InputLayer(InputLayer)  (None, 80, 80, 4)          echo             0\n",
      "__________________________________________________________________________________________\n",
      "0 Conv2D(Conv2D)          (None, 40, 40, 32)         relu             1184\n",
      "__________________________________________________________________________________________\n",
      "1 Conv2D(Conv2D)          (None, 20, 20, 64)         relu             18496\n",
      "__________________________________________________________________________________________\n",
      "2 Conv2D(Conv2D)          (None, 10, 10, 128)        relu             73856\n",
      "__________________________________________________________________________________________\n",
      "3 Flatten(Flatten)        (None, 12800)              echo             0\n",
      "__________________________________________________________________________________________\n",
      "4 Dense(Dense)            (None, 512)                relu             6554112\n",
      "__________________________________________________________________________________________\n",
      "5 Dense(Dense)            (None, 3)                  tanh             1539\n",
      "==========================================================================================\n",
      "Total Params: 6,649,187\n",
      "Trainable Params: 6,649,187\n",
      "Non-trainable Params: 0\n"
     ]
    }
   ],
   "source": [
    "agt = Agent(actions=[0,2,3], epsilon=1, min_epsilon=0.1, eps_decay=2e-6, target_update_thresh=1000)\n",
    "D_exp = ReplayMemory(capacity=1_000_000, nlap=2)"
   ]
  },
  {
   "cell_type": "code",
   "execution_count": null,
   "metadata": {
    "colab": {
     "base_uri": "https://localhost:8080/",
     "height": 34
    },
    "colab_type": "code",
    "id": "MDlH0rWlH2Kt",
    "outputId": "8df8494a-ac31-451f-f70a-327230d57874"
   },
   "outputs": [
    {
     "data": {
      "text/plain": [
       "5.9604644775390625"
      ]
     },
     "execution_count": 9,
     "metadata": {
      "tags": []
     },
     "output_type": "execute_result"
    }
   ],
   "source": [
    "D_exp.current_state.nbytes/1024/1024/1024"
   ]
  },
  {
   "cell_type": "code",
   "execution_count": null,
   "metadata": {
    "colab": {},
    "colab_type": "code",
    "id": "XFlEoOqOkbcy"
   },
   "outputs": [],
   "source": [
    "env = gym.make('Pong-v0')"
   ]
  },
  {
   "cell_type": "code",
   "execution_count": null,
   "metadata": {
    "colab": {
     "base_uri": "https://localhost:8080/",
     "height": 34
    },
    "colab_type": "code",
    "id": "do2kpfL9Yd_o",
    "outputId": "791df6ac-0abd-4433-ed06-90e1e0b6984f",
    "scrolled": true
   },
   "outputs": [],
   "source": [
    "D_exp.len"
   ]
  },
  {
   "cell_type": "code",
   "execution_count": null,
   "metadata": {
    "colab": {
     "base_uri": "https://localhost:8080/",
     "height": 1000
    },
    "colab_type": "code",
    "id": "1-zscT4Tkd2Z",
    "outputId": "fb730589-c5b7-4eba-d412-3e246cef9dde"
   },
   "outputs": [],
   "source": [
    "for i_episode in range(250):\n",
    "    obinit = env.reset()\n",
    "    if not i_episode:\n",
    "        observation = obinit\n",
    "        state = preproc_obsv(observation)\n",
    "        state_que = deque([], maxlen=NFRAMES)\n",
    "        for i in range(NFRAMES):\n",
    "            state_que.append(state)\n",
    "    ep_score = 0\n",
    "    start = time.time()\n",
    "    for t in range(10_000):\n",
    "        s_s = time.time()\n",
    "#         env.render()\n",
    "        state = preproc_obsv(observation)\n",
    "        state_que.append(state)\n",
    "        action = agt.get_action(state_que)\n",
    "        next_observation, reward, done, info = env.step(action)\n",
    "        ep_score += reward\n",
    "\n",
    "        D_exp.store_transition(state, agt.actions.index(action), reward, done)\n",
    "        observation = next_observation\n",
    "\n",
    "        if (D_exp.len-D_exp.idx_len) > BATCH_SIZE:\n",
    "            grads = agt.train(D_exp, BATCH_SIZE)\n",
    "        print('\\r', t, ep_score, end='  ')\n",
    "        if done:\n",
    "            break\n",
    "    print(f\"\\rEpisode {i_episode+1} finished after {t+1} timesteps, Score: {ep_score}, Epsilon: {agt.epsilon:.6f}, Time: {time.time()-start:.2f}\")\n",
    "    if not i_episode%8:\n",
    "        agt.model.save_weights(\"/content/drive/My Drive/model.w8s\")\n",
    "env.close()"
   ]
  },
  {
   "cell_type": "code",
   "execution_count": null,
   "metadata": {
    "colab": {},
    "colab_type": "code",
    "id": "iJ8xVnmIM-d_"
   },
   "outputs": [],
   "source": [
    "agt.epsilon = 1"
   ]
  },
  {
   "cell_type": "code",
   "execution_count": null,
   "metadata": {
    "colab": {
     "base_uri": "https://localhost:8080/",
     "height": 68
    },
    "colab_type": "code",
    "id": "WwhwhRmdbUjW",
    "outputId": "13dadbed-9723-4e33-c04e-037599281204"
   },
   "outputs": [],
   "source": [
    "for i_episode in range(3):\n",
    "    obinit = env.reset()\n",
    "    if not i_episode:\n",
    "        observation = obinit\n",
    "        state = preproc_obsv(observation)\n",
    "        state_que = deque([], maxlen=NFRAMES)\n",
    "        for i in range(NFRAMES):\n",
    "            state_que.append(state)\n",
    "    ep_score = 0\n",
    "    preds = []\n",
    "    reward_history = []\n",
    "    start = time.time()\n",
    "    t = -1\n",
    "    while 1:\n",
    "        t+=1\n",
    "        # env.render()\n",
    "        state = preproc_obsv(observation)\n",
    "        state_que.append(state)\n",
    "        # action = agt.get_action(state_que)\n",
    "        out = agt.predict(state_que)\n",
    "        pidx = cp.argmax(out[0]).item()\n",
    "        preds.append(out[0][pidx].item())\n",
    "        action = agt.actions[pidx]\n",
    "        next_observation, reward, done, info = env.step(action)\n",
    "        ep_score += reward\n",
    "        reward_history.append(reward)\n",
    "        observation = next_observation\n",
    "        # time.sleep(1/fps)\n",
    "        if done:\n",
    "            break\n",
    "        print('\\r', t, action, ep_score, end='  ')\n",
    "    print(f\"\\rEpisode {i_episode+1} finished after {t+1} timesteps, Score: {ep_score}, Epsilon: {agt.epsilon:.6f}, Time: {time.time()-start:.2f}\")"
   ]
  },
  {
   "cell_type": "code",
   "execution_count": null,
   "metadata": {
    "colab": {},
    "colab_type": "code",
    "id": "7DqektqyH6Wb"
   },
   "outputs": [],
   "source": []
  }
 ],
 "metadata": {
  "accelerator": "GPU",
  "colab": {
   "collapsed_sections": [],
   "machine_shape": "hm",
   "name": "Deep_Q_RL.ipynb",
   "provenance": []
  },
  "kernelspec": {
   "display_name": "Python 3",
   "language": "python",
   "name": "python3"
  },
  "language_info": {
   "codemirror_mode": {
    "name": "ipython",
    "version": 3
   },
   "file_extension": ".py",
   "mimetype": "text/x-python",
   "name": "python",
   "nbconvert_exporter": "python",
   "pygments_lexer": "ipython3",
   "version": "3.8.5"
  }
 },
 "nbformat": 4,
 "nbformat_minor": 1
}
