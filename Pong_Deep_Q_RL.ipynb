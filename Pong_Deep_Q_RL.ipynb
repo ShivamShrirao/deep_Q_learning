{
  "nbformat": 4,
  "nbformat_minor": 0,
  "metadata": {
    "colab": {
      "name": "Pong_Deep_Q_RL.ipynb",
      "provenance": [],
      "collapsed_sections": [],
      "machine_shape": "hm"
    },
    "kernelspec": {
      "name": "python3",
      "display_name": "Python 3"
    },
    "accelerator": "GPU"
  },
  "cells": [
    {
      "cell_type": "code",
      "metadata": {
        "id": "LbuhMj8QkFUO",
        "colab_type": "code",
        "colab": {
          "base_uri": "https://localhost:8080/",
          "height": 357
        },
        "outputId": "31aa2edc-cf3a-47c4-e7c5-12b464767400"
      },
      "source": [
        "!nvidia-smi"
      ],
      "execution_count": null,
      "outputs": [
        {
          "output_type": "stream",
          "text": [
            "Fri Aug 21 09:34:13 2020       \n",
            "+-----------------------------------------------------------------------------+\n",
            "| NVIDIA-SMI 450.57       Driver Version: 418.67       CUDA Version: 10.1     |\n",
            "|-------------------------------+----------------------+----------------------+\n",
            "| GPU  Name        Persistence-M| Bus-Id        Disp.A | Volatile Uncorr. ECC |\n",
            "| Fan  Temp  Perf  Pwr:Usage/Cap|         Memory-Usage | GPU-Util  Compute M. |\n",
            "|                               |                      |               MIG M. |\n",
            "|===============================+======================+======================|\n",
            "|   0  Tesla P100-PCIE...  Off  | 00000000:00:04.0 Off |                    0 |\n",
            "| N/A   33C    P0    26W / 250W |      0MiB / 16280MiB |      0%      Default |\n",
            "|                               |                      |                 ERR! |\n",
            "+-------------------------------+----------------------+----------------------+\n",
            "                                                                               \n",
            "+-----------------------------------------------------------------------------+\n",
            "| Processes:                                                                  |\n",
            "|  GPU   GI   CI        PID   Type   Process name                  GPU Memory |\n",
            "|        ID   ID                                                   Usage      |\n",
            "|=============================================================================|\n",
            "|  No running processes found                                                 |\n",
            "+-----------------------------------------------------------------------------+\n"
          ],
          "name": "stdout"
        }
      ]
    },
    {
      "cell_type": "code",
      "metadata": {
        "id": "v6pXJGDekFNt",
        "colab_type": "code",
        "colab": {
          "base_uri": "https://localhost:8080/",
          "height": 207
        },
        "outputId": "53e520a8-21d4-4752-8c1d-40ff6dd965fe"
      },
      "source": [
        "!python -m pip install git+https://github.com/ShivamShrirao/dnn_from_scratch.git"
      ],
      "execution_count": null,
      "outputs": [
        {
          "output_type": "stream",
          "text": [
            "Collecting git+https://github.com/ShivamShrirao/dnn_from_scratch.git\n",
            "  Cloning https://github.com/ShivamShrirao/dnn_from_scratch.git to /tmp/pip-req-build-rzx2qqj6\n",
            "  Running command git clone -q https://github.com/ShivamShrirao/dnn_from_scratch.git /tmp/pip-req-build-rzx2qqj6\n",
            "Building wheels for collected packages: dnn-from-scratch\n",
            "  Building wheel for dnn-from-scratch (setup.py) ... \u001b[?25l\u001b[?25hdone\n",
            "  Created wheel for dnn-from-scratch: filename=dnn_from_scratch-0.1.dev1-cp36-none-any.whl size=39847 sha256=f0c367c9cfd5cc376f7adec8c36c7c090b84d0268f0756e243a9f6c3fb891b5c\n",
            "  Stored in directory: /tmp/pip-ephem-wheel-cache-yintajup/wheels/33/77/6c/1140f6295368e7045f3b49fdda98e7f07b2513b8b55093ca7b\n",
            "Successfully built dnn-from-scratch\n",
            "Installing collected packages: dnn-from-scratch\n",
            "Successfully installed dnn-from-scratch-0.1.dev1\n"
          ],
          "name": "stdout"
        }
      ]
    },
    {
      "cell_type": "code",
      "metadata": {
        "id": "CgT-5T6EkO8a",
        "colab_type": "code",
        "colab": {
          "base_uri": "https://localhost:8080/",
          "height": 136
        },
        "outputId": "25332ffe-1273-4ecf-fbe4-6861cbb25cbf"
      },
      "source": [
        "!git clone https://github.com/ShivamShrirao/deep_Q_learning_from_scratch.git"
      ],
      "execution_count": null,
      "outputs": [
        {
          "output_type": "stream",
          "text": [
            "Cloning into 'deep_Q_learning_from_scratch'...\n",
            "remote: Enumerating objects: 235, done.\u001b[K\n",
            "remote: Counting objects:   0% (1/235)\u001b[K\rremote: Counting objects:   1% (3/235)\u001b[K\rremote: Counting objects:   2% (5/235)\u001b[K\rremote: Counting objects:   3% (8/235)\u001b[K\rremote: Counting objects:   4% (10/235)\u001b[K\rremote: Counting objects:   5% (12/235)\u001b[K\rremote: Counting objects:   6% (15/235)\u001b[K\rremote: Counting objects:   7% (17/235)\u001b[K\rremote: Counting objects:   8% (19/235)\u001b[K\rremote: Counting objects:   9% (22/235)\u001b[K\rremote: Counting objects:  10% (24/235)\u001b[K\rremote: Counting objects:  11% (26/235)\u001b[K\rremote: Counting objects:  12% (29/235)\u001b[K\rremote: Counting objects:  13% (31/235)\u001b[K\rremote: Counting objects:  14% (33/235)\u001b[K\rremote: Counting objects:  15% (36/235)\u001b[K\rremote: Counting objects:  16% (38/235)\u001b[K\rremote: Counting objects:  17% (40/235)\u001b[K\rremote: Counting objects:  18% (43/235)\u001b[K\rremote: Counting objects:  19% (45/235)\u001b[K\rremote: Counting objects:  20% (47/235)\u001b[K\rremote: Counting objects:  21% (50/235)\u001b[K\rremote: Counting objects:  22% (52/235)\u001b[K\rremote: Counting objects:  23% (55/235)\u001b[K\rremote: Counting objects:  24% (57/235)\u001b[K\rremote: Counting objects:  25% (59/235)\u001b[K\rremote: Counting objects:  26% (62/235)\u001b[K\rremote: Counting objects:  27% (64/235)\u001b[K\rremote: Counting objects:  28% (66/235)\u001b[K\rremote: Counting objects:  29% (69/235)\u001b[K\rremote: Counting objects:  30% (71/235)\u001b[K\rremote: Counting objects:  31% (73/235)\u001b[K\rremote: Counting objects:  32% (76/235)\u001b[K\rremote: Counting objects:  33% (78/235)\u001b[K\rremote: Counting objects:  34% (80/235)\u001b[K\rremote: Counting objects:  35% (83/235)\u001b[K\rremote: Counting objects:  36% (85/235)\u001b[K\rremote: Counting objects:  37% (87/235)\u001b[K\rremote: Counting objects:  38% (90/235)\u001b[K\rremote: Counting objects:  39% (92/235)\u001b[K\rremote: Counting objects:  40% (94/235)\u001b[K\rremote: Counting objects:  41% (97/235)\u001b[K\rremote: Counting objects:  42% (99/235)\u001b[K\rremote: Counting objects:  43% (102/235)\u001b[K\rremote: Counting objects:  44% (104/235)\u001b[K\rremote: Counting objects:  45% (106/235)\u001b[K\rremote: Counting objects:  46% (109/235)\u001b[K\rremote: Counting objects:  47% (111/235)\u001b[K\rremote: Counting objects:  48% (113/235)\u001b[K\rremote: Counting objects:  49% (116/235)\u001b[K\rremote: Counting objects:  50% (118/235)\u001b[K\rremote: Counting objects:  51% (120/235)\u001b[K\rremote: Counting objects:  52% (123/235)\u001b[K\rremote: Counting objects:  53% (125/235)\u001b[K\rremote: Counting objects:  54% (127/235)\u001b[K\rremote: Counting objects:  55% (130/235)\u001b[K\rremote: Counting objects:  56% (132/235)\u001b[K\rremote: Counting objects:  57% (134/235)\u001b[K\rremote: Counting objects:  58% (137/235)\u001b[K\rremote: Counting objects:  59% (139/235)\u001b[K\rremote: Counting objects:  60% (141/235)\u001b[K\rremote: Counting objects:  61% (144/235)\u001b[K\rremote: Counting objects:  62% (146/235)\u001b[K\rremote: Counting objects:  63% (149/235)\u001b[K\rremote: Counting objects:  64% (151/235)\u001b[K\rremote: Counting objects:  65% (153/235)\u001b[K\rremote: Counting objects:  66% (156/235)\u001b[K\rremote: Counting objects:  67% (158/235)\u001b[K\rremote: Counting objects:  68% (160/235)\u001b[K\rremote: Counting objects:  69% (163/235)\u001b[K\rremote: Counting objects:  70% (165/235)\u001b[K\rremote: Counting objects:  71% (167/235)\u001b[K\rremote: Counting objects:  72% (170/235)\u001b[K\rremote: Counting objects:  73% (172/235)\u001b[K\rremote: Counting objects:  74% (174/235)\u001b[K\rremote: Counting objects:  75% (177/235)\u001b[K\rremote: Counting objects:  76% (179/235)\u001b[K\rremote: Counting objects:  77% (181/235)\u001b[K\rremote: Counting objects:  78% (184/235)\u001b[K\rremote: Counting objects:  79% (186/235)\u001b[K\rremote: Counting objects:  80% (188/235)\u001b[K\rremote: Counting objects:  81% (191/235)\u001b[K\rremote: Counting objects:  82% (193/235)\u001b[K\rremote: Counting objects:  83% (196/235)\u001b[K\rremote: Counting objects:  84% (198/235)\u001b[K\rremote: Counting objects:  85% (200/235)\u001b[K\rremote: Counting objects:  86% (203/235)\u001b[K\rremote: Counting objects:  87% (205/235)\u001b[K\rremote: Counting objects:  88% (207/235)\u001b[K\rremote: Counting objects:  89% (210/235)\u001b[K\rremote: Counting objects:  90% (212/235)\u001b[K\rremote: Counting objects:  91% (214/235)\u001b[K\rremote: Counting objects:  92% (217/235)\u001b[K\rremote: Counting objects:  93% (219/235)\u001b[K\rremote: Counting objects:  94% (221/235)\u001b[K\rremote: Counting objects:  95% (224/235)\u001b[K\rremote: Counting objects:  96% (226/235)\u001b[K\rremote: Counting objects:  97% (228/235)\u001b[K\rremote: Counting objects:  98% (231/235)\u001b[K\rremote: Counting objects:  99% (233/235)\u001b[K\rremote: Counting objects: 100% (235/235)\u001b[K\rremote: Counting objects: 100% (235/235), done.\u001b[K\n",
            "remote: Compressing objects:   0% (1/155)\u001b[K\rremote: Compressing objects:   1% (2/155)\u001b[K\rremote: Compressing objects:   2% (4/155)\u001b[K\rremote: Compressing objects:   3% (5/155)\u001b[K\rremote: Compressing objects:   4% (7/155)\u001b[K\rremote: Compressing objects:   5% (8/155)\u001b[K\rremote: Compressing objects:   6% (10/155)\u001b[K\rremote: Compressing objects:   7% (11/155)\u001b[K\rremote: Compressing objects:   8% (13/155)\u001b[K\rremote: Compressing objects:   9% (14/155)\u001b[K\rremote: Compressing objects:  10% (16/155)\u001b[K\rremote: Compressing objects:  11% (18/155)\u001b[K\rremote: Compressing objects:  12% (19/155)\u001b[K\rremote: Compressing objects:  13% (21/155)\u001b[K\rremote: Compressing objects:  14% (22/155)\u001b[K\rremote: Compressing objects:  15% (24/155)\u001b[K\rremote: Compressing objects:  16% (25/155)\u001b[K\rremote: Compressing objects:  17% (27/155)\u001b[K\rremote: Compressing objects:  18% (28/155)\u001b[K\rremote: Compressing objects:  19% (30/155)\u001b[K\rremote: Compressing objects:  20% (31/155)\u001b[K\rremote: Compressing objects:  21% (33/155)\u001b[K\rremote: Compressing objects:  22% (35/155)\u001b[K\rremote: Compressing objects:  23% (36/155)\u001b[K\rremote: Compressing objects:  24% (38/155)\u001b[K\rremote: Compressing objects:  25% (39/155)\u001b[K\rremote: Compressing objects:  26% (41/155)\u001b[K\rremote: Compressing objects:  27% (42/155)\u001b[K\rremote: Compressing objects:  28% (44/155)\u001b[K\rremote: Compressing objects:  29% (45/155)\u001b[K\rremote: Compressing objects:  30% (47/155)\u001b[K\rremote: Compressing objects:  31% (49/155)\u001b[K\rremote: Compressing objects:  32% (50/155)\u001b[K\rremote: Compressing objects:  33% (52/155)\u001b[K\rremote: Compressing objects:  34% (53/155)\u001b[K\rremote: Compressing objects:  35% (55/155)\u001b[K\rremote: Compressing objects:  36% (56/155)\u001b[K\rremote: Compressing objects:  37% (58/155)\u001b[K\rremote: Compressing objects:  38% (59/155)\u001b[K\rremote: Compressing objects:  39% (61/155)\u001b[K\rremote: Compressing objects:  40% (62/155)\u001b[K\rremote: Compressing objects:  41% (64/155)\u001b[K\rremote: Compressing objects:  42% (66/155)\u001b[K\rremote: Compressing objects:  43% (67/155)\u001b[K\rremote: Compressing objects:  44% (69/155)\u001b[K\rremote: Compressing objects:  45% (70/155)\u001b[K\rremote: Compressing objects:  46% (72/155)\u001b[K\rremote: Compressing objects:  47% (73/155)\u001b[K\rremote: Compressing objects:  48% (75/155)\u001b[K\rremote: Compressing objects:  49% (76/155)\u001b[K\rremote: Compressing objects:  50% (78/155)\u001b[K\rremote: Compressing objects:  51% (80/155)\u001b[K\rremote: Compressing objects:  52% (81/155)\u001b[K\rremote: Compressing objects:  53% (83/155)\u001b[K\rremote: Compressing objects:  54% (84/155)\u001b[K\rremote: Compressing objects:  55% (86/155)\u001b[K\rremote: Compressing objects:  56% (87/155)\u001b[K\rremote: Compressing objects:  57% (89/155)\u001b[K\rremote: Compressing objects:  58% (90/155)\u001b[K\rremote: Compressing objects:  59% (92/155)\u001b[K\rremote: Compressing objects:  60% (93/155)\u001b[K\rremote: Compressing objects:  61% (95/155)\u001b[K\rremote: Compressing objects:  62% (97/155)\u001b[K\rremote: Compressing objects:  63% (98/155)\u001b[K\rremote: Compressing objects:  64% (100/155)\u001b[K\rremote: Compressing objects:  65% (101/155)\u001b[K\rremote: Compressing objects:  66% (103/155)\u001b[K\rremote: Compressing objects:  67% (104/155)\u001b[K\rremote: Compressing objects:  68% (106/155)\u001b[K\rremote: Compressing objects:  69% (107/155)\u001b[K\rremote: Compressing objects:  70% (109/155)\u001b[K\rremote: Compressing objects:  71% (111/155)\u001b[K\rremote: Compressing objects:  72% (112/155)\u001b[K\rremote: Compressing objects:  73% (114/155)\u001b[K\rremote: Compressing objects:  74% (115/155)\u001b[K\rremote: Compressing objects:  75% (117/155)\u001b[K\rremote: Compressing objects:  76% (118/155)\u001b[K\rremote: Compressing objects:  77% (120/155)\u001b[K\rremote: Compressing objects:  78% (121/155)\u001b[K\rremote: Compressing objects:  79% (123/155)\u001b[K\rremote: Compressing objects:  80% (124/155)\u001b[K\rremote: Compressing objects:  81% (126/155)\u001b[K\rremote: Compressing objects:  82% (128/155)\u001b[K\rremote: Compressing objects:  83% (129/155)\u001b[K\rremote: Compressing objects:  84% (131/155)\u001b[K\rremote: Compressing objects:  85% (132/155)\u001b[K\rremote: Compressing objects:  86% (134/155)\u001b[K\rremote: Compressing objects:  87% (135/155)\u001b[K\rremote: Compressing objects:  88% (137/155)\u001b[K\rremote: Compressing objects:  89% (138/155)\u001b[K\rremote: Compressing objects:  90% (140/155)\u001b[K\rremote: Compressing objects:  91% (142/155)\u001b[K\rremote: Compressing objects:  92% (143/155)\u001b[K\rremote: Compressing objects:  93% (145/155)\u001b[K\rremote: Compressing objects:  94% (146/155)\u001b[K\rremote: Compressing objects:  95% (148/155)\u001b[K\rremote: Compressing objects:  96% (149/155)\u001b[K\rremote: Compressing objects:  97% (151/155)\u001b[K\rremote: Compressing objects:  98% (152/155)\u001b[K\rremote: Compressing objects:  99% (154/155)\u001b[K\rremote: Compressing objects: 100% (155/155)\u001b[K\rremote: Compressing objects: 100% (155/155), done.\u001b[K\n",
            "Receiving objects:   0% (1/235)   \rReceiving objects:   1% (3/235)   \rReceiving objects:   2% (5/235)   \rReceiving objects:   3% (8/235)   \rReceiving objects:   4% (10/235)   \rReceiving objects:   5% (12/235)   \rReceiving objects:   6% (15/235)   \rReceiving objects:   7% (17/235)   \rReceiving objects:   8% (19/235)   \rReceiving objects:   9% (22/235)   \rReceiving objects:  10% (24/235)   \rReceiving objects:  11% (26/235)   \rReceiving objects:  12% (29/235)   \rReceiving objects:  13% (31/235)   \rReceiving objects:  14% (33/235)   \rReceiving objects:  15% (36/235)   \rReceiving objects:  16% (38/235)   \rReceiving objects:  17% (40/235)   \rReceiving objects:  18% (43/235)   \rReceiving objects:  19% (45/235)   \rReceiving objects:  20% (47/235)   \rReceiving objects:  21% (50/235)   \rReceiving objects:  22% (52/235)   \rReceiving objects:  23% (55/235)   \rReceiving objects:  24% (57/235)   \rReceiving objects:  25% (59/235)   \rReceiving objects:  26% (62/235)   \rReceiving objects:  27% (64/235)   \rReceiving objects:  28% (66/235)   \rReceiving objects:  29% (69/235)   \rReceiving objects:  30% (71/235)   \rReceiving objects:  31% (73/235)   \rReceiving objects:  32% (76/235)   \rReceiving objects:  33% (78/235)   \rReceiving objects:  34% (80/235)   \rReceiving objects:  35% (83/235)   \rReceiving objects:  36% (85/235)   \rReceiving objects:  37% (87/235)   \rReceiving objects:  38% (90/235)   \rReceiving objects:  39% (92/235)   \rReceiving objects:  40% (94/235)   \rReceiving objects:  41% (97/235)   \rReceiving objects:  42% (99/235)   \rReceiving objects:  43% (102/235)   \rReceiving objects:  44% (104/235)   \rReceiving objects:  45% (106/235)   \rReceiving objects:  46% (109/235)   \rReceiving objects:  47% (111/235)   \rReceiving objects:  48% (113/235)   \rReceiving objects:  49% (116/235)   \rReceiving objects:  50% (118/235)   \rReceiving objects:  51% (120/235)   \rReceiving objects:  52% (123/235)   \rReceiving objects:  53% (125/235)   \rReceiving objects:  54% (127/235)   \rReceiving objects:  55% (130/235)   \rReceiving objects:  56% (132/235)   \rReceiving objects:  57% (134/235)   \rReceiving objects:  58% (137/235)   \rReceiving objects:  59% (139/235)   \rReceiving objects:  60% (141/235)   \rReceiving objects:  61% (144/235)   \rReceiving objects:  62% (146/235)   \rReceiving objects:  63% (149/235)   \rReceiving objects:  64% (151/235)   \rReceiving objects:  65% (153/235)   \rReceiving objects:  66% (156/235)   \rReceiving objects:  67% (158/235)   \rReceiving objects:  68% (160/235)   \rReceiving objects:  69% (163/235)   \rReceiving objects:  70% (165/235)   \rReceiving objects:  71% (167/235)   \rReceiving objects:  72% (170/235)   \rReceiving objects:  73% (172/235)   \rReceiving objects:  74% (174/235)   \rReceiving objects:  75% (177/235)   \rReceiving objects:  76% (179/235)   \rReceiving objects:  77% (181/235)   \rReceiving objects:  78% (184/235)   \rReceiving objects:  79% (186/235)   \rReceiving objects:  80% (188/235)   \rremote: Total 235 (delta 146), reused 162 (delta 73), pack-reused 0\u001b[K\n",
            "Receiving objects:  81% (191/235)   \rReceiving objects:  82% (193/235)   \rReceiving objects:  83% (196/235)   \rReceiving objects:  84% (198/235)   \rReceiving objects:  85% (200/235)   \rReceiving objects:  86% (203/235)   \rReceiving objects:  87% (205/235)   \rReceiving objects:  88% (207/235)   \rReceiving objects:  89% (210/235)   \rReceiving objects:  90% (212/235)   \rReceiving objects:  91% (214/235)   \rReceiving objects:  92% (217/235)   \rReceiving objects:  93% (219/235)   \rReceiving objects:  94% (221/235)   \rReceiving objects:  95% (224/235)   \rReceiving objects:  96% (226/235)   \rReceiving objects:  97% (228/235)   \rReceiving objects:  98% (231/235)   \rReceiving objects:  99% (233/235)   \rReceiving objects: 100% (235/235)   \rReceiving objects: 100% (235/235), 189.09 KiB | 6.10 MiB/s, done.\n",
            "Resolving deltas:   0% (0/146)   \rResolving deltas:  33% (49/146)   \rResolving deltas:  46% (68/146)   \rResolving deltas:  55% (81/146)   \rResolving deltas:  58% (86/146)   \rResolving deltas:  60% (88/146)   \rResolving deltas:  63% (92/146)   \rResolving deltas:  75% (110/146)   \rResolving deltas:  77% (113/146)   \rResolving deltas:  84% (123/146)   \rResolving deltas:  86% (126/146)   \rResolving deltas:  87% (128/146)   \rResolving deltas: 100% (146/146)   \rResolving deltas: 100% (146/146), done.\n"
          ],
          "name": "stdout"
        }
      ]
    },
    {
      "cell_type": "code",
      "metadata": {
        "id": "TQZiX7WgkQeu",
        "colab_type": "code",
        "colab": {
          "base_uri": "https://localhost:8080/",
          "height": 122
        },
        "outputId": "a156a1dd-4413-486a-ae1b-1e38e52ea0ba"
      },
      "source": [
        "from google.colab import drive\n",
        "drive.mount('/content/drive')"
      ],
      "execution_count": null,
      "outputs": [
        {
          "output_type": "stream",
          "text": [
            "Go to this URL in a browser: https://accounts.google.com/o/oauth2/auth?client_id=947318989803-6bn6qk8qdgf4n4g3pfee6491hc0brc4i.apps.googleusercontent.com&redirect_uri=urn%3aietf%3awg%3aoauth%3a2.0%3aoob&scope=email%20https%3a%2f%2fwww.googleapis.com%2fauth%2fdocs.test%20https%3a%2f%2fwww.googleapis.com%2fauth%2fdrive%20https%3a%2f%2fwww.googleapis.com%2fauth%2fdrive.photos.readonly%20https%3a%2f%2fwww.googleapis.com%2fauth%2fpeopleapi.readonly&response_type=code\n",
            "\n",
            "Enter your authorization code:\n",
            "··········\n",
            "Mounted at /content/drive\n"
          ],
          "name": "stdout"
        }
      ]
    },
    {
      "cell_type": "code",
      "metadata": {
        "id": "caNfRIj1kRcf",
        "colab_type": "code",
        "colab": {
          "base_uri": "https://localhost:8080/",
          "height": 34
        },
        "outputId": "9986adf7-30da-4798-8e78-8656531f0ed2"
      },
      "source": [
        "%cd deep_Q_learning_from_scratch"
      ],
      "execution_count": null,
      "outputs": [
        {
          "output_type": "stream",
          "text": [
            "/content/deep_Q_learning_from_scratch\n"
          ],
          "name": "stdout"
        }
      ]
    },
    {
      "cell_type": "code",
      "metadata": {
        "id": "OzhhtvRQkWJW",
        "colab_type": "code",
        "colab": {
          "base_uri": "https://localhost:8080/",
          "height": 68
        },
        "outputId": "869c6d56-d293-4ec6-805b-c0e38b1258e9"
      },
      "source": [
        "!git pull origin master"
      ],
      "execution_count": null,
      "outputs": [
        {
          "output_type": "stream",
          "text": [
            "From https://github.com/ShivamShrirao/deep_Q_learning_from_scratch\n",
            " * branch            master     -> FETCH_HEAD\n",
            "Already up to date.\n"
          ],
          "name": "stdout"
        }
      ]
    },
    {
      "cell_type": "code",
      "metadata": {
        "id": "W0SnQz--kXCg",
        "colab_type": "code",
        "colab": {}
      },
      "source": [
        "import gym\n",
        "import time\n",
        "import cv2\n",
        "import numpy as np\n",
        "from collections import deque\n",
        "\n",
        "from settings import *\n",
        "from agent import *\n",
        "from experience import *"
      ],
      "execution_count": null,
      "outputs": []
    },
    {
      "cell_type": "code",
      "metadata": {
        "id": "hc4bwkXTkX7_",
        "colab_type": "code",
        "colab": {
          "base_uri": "https://localhost:8080/",
          "height": 357
        },
        "outputId": "a4f2d1cc-3577-4703-fd88-c4fbc780ba81"
      },
      "source": [
        "agt = Agent(actions=[0,2,3], epsilon=1, min_epsilon=0.1, eps_decay=2e-6, target_update_thresh=1000)\n",
        "D_exp = ReplayMemory(capacity=1_000_000, nlap=1)"
      ],
      "execution_count": null,
      "outputs": [
        {
          "output_type": "stream",
          "text": [
            "⎽⎽⎽⎽⎽⎽⎽⎽⎽⎽⎽⎽⎽⎽⎽⎽⎽⎽⎽⎽⎽⎽⎽⎽⎽⎽⎽⎽⎽⎽⎽⎽⎽⎽⎽⎽⎽⎽⎽⎽⎽⎽⎽⎽⎽⎽⎽⎽⎽⎽⎽⎽⎽⎽⎽⎽⎽⎽⎽⎽⎽⎽⎽⎽⎽⎽⎽⎽⎽⎽⎽⎽⎽⎽⎽⎽⎽⎽⎽⎽⎽⎽⎽⎽⎽⎽⎽⎽⎽⎽\n",
            "Layer (type)               Output Shape             Activation        Param #\n",
            "==========================================================================================\n",
            "- InputLayer(InputLayer)  (None, 80, 80, 4)          echo             0\n",
            "__________________________________________________________________________________________\n",
            "0 Conv2D(Conv2D)          (None, 40, 40, 32)         relu             1184\n",
            "__________________________________________________________________________________________\n",
            "1 Conv2D(Conv2D)          (None, 20, 20, 64)         relu             18496\n",
            "__________________________________________________________________________________________\n",
            "2 Conv2D(Conv2D)          (None, 10, 10, 128)        relu             73856\n",
            "__________________________________________________________________________________________\n",
            "3 Flatten(Flatten)        (None, 12800)              echo             0\n",
            "__________________________________________________________________________________________\n",
            "4 Dense(Dense)            (None, 512)                relu             6554112\n",
            "__________________________________________________________________________________________\n",
            "5 Dense(Dense)            (None, 3)                  echo             1539\n",
            "==========================================================================================\n",
            "Total Params: 6,649,187\n",
            "Trainable Params: 6,649,187\n",
            "Non-trainable Params: 0\n"
          ],
          "name": "stdout"
        }
      ]
    },
    {
      "cell_type": "code",
      "metadata": {
        "id": "MDlH0rWlH2Kt",
        "colab_type": "code",
        "colab": {
          "base_uri": "https://localhost:8080/",
          "height": 34
        },
        "outputId": "6c35c055-166e-48b1-fb7b-c7e3b14a8963"
      },
      "source": [
        "D_exp.current_state.nbytes/1024/1024/1024"
      ],
      "execution_count": null,
      "outputs": [
        {
          "output_type": "execute_result",
          "data": {
            "text/plain": [
              "5.9604644775390625"
            ]
          },
          "metadata": {
            "tags": []
          },
          "execution_count": 9
        }
      ]
    },
    {
      "cell_type": "code",
      "metadata": {
        "id": "XFlEoOqOkbcy",
        "colab_type": "code",
        "colab": {}
      },
      "source": [
        "env = gym.make('Pong-v0')"
      ],
      "execution_count": null,
      "outputs": []
    },
    {
      "cell_type": "code",
      "metadata": {
        "id": "do2kpfL9Yd_o",
        "colab_type": "code",
        "colab": {
          "base_uri": "https://localhost:8080/",
          "height": 34
        },
        "outputId": "bc719477-3efc-424e-dc23-365558a0bbcd"
      },
      "source": [
        "D_exp.len"
      ],
      "execution_count": 21,
      "outputs": [
        {
          "output_type": "execute_result",
          "data": {
            "text/plain": [
              "1000000"
            ]
          },
          "metadata": {
            "tags": []
          },
          "execution_count": 21
        }
      ]
    },
    {
      "cell_type": "code",
      "metadata": {
        "id": "1-zscT4Tkd2Z",
        "colab_type": "code",
        "colab": {}
      },
      "source": [
        "for i_episode in range(250):\n",
        "    obinit = env.reset()\n",
        "    if not i_episode:\n",
        "        observation = obinit\n",
        "        state = preproc_obsv(observation)\n",
        "        state_que = deque([], maxlen=NFRAMES)\n",
        "        for i in range(NFRAMES):\n",
        "            state_que.append(state)\n",
        "    ep_score = 0\n",
        "    start = time.time()\n",
        "    for t in range(10_000):\n",
        "        s_s = time.time()\n",
        "#         env.render()\n",
        "        state = preproc_obsv(observation)\n",
        "        state_que.append(state)\n",
        "        action = agt.get_action(state_que)\n",
        "        next_observation, reward, done, info = env.step(action)\n",
        "        ep_score += reward\n",
        "\n",
        "        D_exp.store_transition(state, agt.actions.index(action), reward, done)\n",
        "        observation = next_observation\n",
        "\n",
        "        if (D_exp.len-D_exp.idx_len) > BATCH_SIZE:\n",
        "            grads = agt.train(D_exp, BATCH_SIZE)\n",
        "        print('\\r', t, action, ep_score, end='  ')\n",
        "        if done:\n",
        "            break\n",
        "    print(f\"\\rEpisode {i_episode+1} finished after {t+1} timesteps, Score: {ep_score}, Epsilon: {agt.epsilon:.6f}, Time: {time.time()-start:.2f}\")\n",
        "    if not i_episode%8:\n",
        "        agt.model.save_weights(\"/content/drive/My Drive/pong.w8s\")\n",
        "env.close()"
      ],
      "execution_count": null,
      "outputs": []
    },
    {
      "cell_type": "code",
      "metadata": {
        "id": "iJ8xVnmIM-d_",
        "colab_type": "code",
        "colab": {}
      },
      "source": [
        "agt.epsilon = 0#1"
      ],
      "execution_count": 36,
      "outputs": []
    },
    {
      "cell_type": "code",
      "metadata": {
        "id": "rwdoEVpjtJLZ",
        "colab_type": "code",
        "colab": {}
      },
      "source": [
        "from gym import wrappers"
      ],
      "execution_count": 24,
      "outputs": []
    },
    {
      "cell_type": "code",
      "metadata": {
        "id": "WwhwhRmdbUjW",
        "colab_type": "code",
        "colab": {}
      },
      "source": [
        "wrapped_env = wrappers.Monitor(env.env, '/content/videos/' + str(time.time()) + '/')\n",
        "for i_episode in range(1):\n",
        "    obinit = wrapped_env.reset()\n",
        "    if not i_episode:\n",
        "        observation = obinit\n",
        "        state = preproc_obsv(observation)\n",
        "        state_que = deque([], maxlen=NFRAMES)\n",
        "        for i in range(NFRAMES):\n",
        "            state_que.append(state)\n",
        "    ep_score = 0\n",
        "    preds = []\n",
        "    reward_history = []\n",
        "    start = time.time()\n",
        "    t = -1\n",
        "    while 1:\n",
        "        t+=1\n",
        "        # wrapped_env.render()\n",
        "        state = preproc_obsv(observation)\n",
        "        state_que.append(state)\n",
        "        # action = agt.get_action(state_que)\n",
        "        out = agt.predict(state_que)\n",
        "        pidx = cp.argmax(out[0]).item()\n",
        "        preds.append(out[0][pidx].item())\n",
        "        action = agt.actions[pidx]\n",
        "        next_observation, reward, done, info = wrapped_env.step(action)\n",
        "        ep_score += reward\n",
        "        reward_history.append(reward)\n",
        "        observation = next_observation\n",
        "        # time.sleep(1/fps)\n",
        "        print('\\r', t, action, ep_score, end='  ')\n",
        "        if done:\n",
        "            break\n",
        "    print(f\"\\rEpisode {i_episode+1} finished after {t+1} timesteps, Score: {ep_score}, Epsilon: {agt.epsilon:.6f}, Time: {time.time()-start:.2f}\")\n",
        "wrapped_env.close()"
      ],
      "execution_count": null,
      "outputs": []
    },
    {
      "cell_type": "code",
      "metadata": {
        "id": "wdixxSk7x9Bs",
        "colab_type": "code",
        "colab": {}
      },
      "source": [
        "!rm /content/videos/* -rf"
      ],
      "execution_count": 39,
      "outputs": []
    },
    {
      "cell_type": "code",
      "metadata": {
        "id": "KSssAGGzyaWe",
        "colab_type": "code",
        "colab": {}
      },
      "source": [
        ""
      ],
      "execution_count": null,
      "outputs": []
    }
  ]
}