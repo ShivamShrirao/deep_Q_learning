{
  "nbformat": 4,
  "nbformat_minor": 0,
  "metadata": {
    "colab": {
      "name": "Deep_Q_RL.ipynb",
      "provenance": [],
      "collapsed_sections": [],
      "machine_shape": "hm"
    },
    "kernelspec": {
      "name": "python3",
      "display_name": "Python 3"
    },
    "accelerator": "GPU"
  },
  "cells": [
    {
      "cell_type": "code",
      "metadata": {
        "id": "LbuhMj8QkFUO",
        "colab_type": "code",
        "colab": {
          "base_uri": "https://localhost:8080/",
          "height": 357
        },
        "outputId": "f667e034-f7e8-41ba-fcfb-217b4f0eaf6b"
      },
      "source": [
        "!nvidia-smi"
      ],
      "execution_count": 1,
      "outputs": [
        {
          "output_type": "stream",
          "text": [
            "Wed Aug 12 20:41:18 2020       \n",
            "+-----------------------------------------------------------------------------+\n",
            "| NVIDIA-SMI 450.57       Driver Version: 418.67       CUDA Version: 10.1     |\n",
            "|-------------------------------+----------------------+----------------------+\n",
            "| GPU  Name        Persistence-M| Bus-Id        Disp.A | Volatile Uncorr. ECC |\n",
            "| Fan  Temp  Perf  Pwr:Usage/Cap|         Memory-Usage | GPU-Util  Compute M. |\n",
            "|                               |                      |               MIG M. |\n",
            "|===============================+======================+======================|\n",
            "|   0  Tesla P100-PCIE...  Off  | 00000000:00:04.0 Off |                    0 |\n",
            "| N/A   41C    P0    27W / 250W |      0MiB / 16280MiB |      0%      Default |\n",
            "|                               |                      |                 ERR! |\n",
            "+-------------------------------+----------------------+----------------------+\n",
            "                                                                               \n",
            "+-----------------------------------------------------------------------------+\n",
            "| Processes:                                                                  |\n",
            "|  GPU   GI   CI        PID   Type   Process name                  GPU Memory |\n",
            "|        ID   ID                                                   Usage      |\n",
            "|=============================================================================|\n",
            "|  No running processes found                                                 |\n",
            "+-----------------------------------------------------------------------------+\n"
          ],
          "name": "stdout"
        }
      ]
    },
    {
      "cell_type": "code",
      "metadata": {
        "id": "v6pXJGDekFNt",
        "colab_type": "code",
        "colab": {
          "base_uri": "https://localhost:8080/",
          "height": 136
        },
        "outputId": "ccd5b196-f012-4ae3-e941-1b616760a7ec"
      },
      "source": [
        "!git clone https://github.com/ShivamShrirao/dnn_from_scratch.git"
      ],
      "execution_count": 2,
      "outputs": [
        {
          "output_type": "stream",
          "text": [
            "Cloning into 'dnn_from_scratch'...\n",
            "remote: Enumerating objects: 214, done.\u001b[K\n",
            "remote: Counting objects:   0% (1/214)\u001b[K\rremote: Counting objects:   1% (3/214)\u001b[K\rremote: Counting objects:   2% (5/214)\u001b[K\rremote: Counting objects:   3% (7/214)\u001b[K\rremote: Counting objects:   4% (9/214)\u001b[K\rremote: Counting objects:   5% (11/214)\u001b[K\rremote: Counting objects:   6% (13/214)\u001b[K\rremote: Counting objects:   7% (15/214)\u001b[K\rremote: Counting objects:   8% (18/214)\u001b[K\rremote: Counting objects:   9% (20/214)\u001b[K\rremote: Counting objects:  10% (22/214)\u001b[K\rremote: Counting objects:  11% (24/214)\u001b[K\rremote: Counting objects:  12% (26/214)\u001b[K\rremote: Counting objects:  13% (28/214)\u001b[K\rremote: Counting objects:  14% (30/214)\u001b[K\rremote: Counting objects:  15% (33/214)\u001b[K\rremote: Counting objects:  16% (35/214)\u001b[K\rremote: Counting objects:  17% (37/214)\u001b[K\rremote: Counting objects:  18% (39/214)\u001b[K\rremote: Counting objects:  19% (41/214)\u001b[K\rremote: Counting objects:  20% (43/214)\u001b[K\rremote: Counting objects:  21% (45/214)\u001b[K\rremote: Counting objects:  22% (48/214)\u001b[K\rremote: Counting objects:  23% (50/214)\u001b[K\rremote: Counting objects:  24% (52/214)\u001b[K\rremote: Counting objects:  25% (54/214)\u001b[K\rremote: Counting objects:  26% (56/214)\u001b[K\rremote: Counting objects:  27% (58/214)\u001b[K\rremote: Counting objects:  28% (60/214)\u001b[K\rremote: Counting objects:  29% (63/214)\u001b[K\rremote: Counting objects:  30% (65/214)\u001b[K\rremote: Counting objects:  31% (67/214)\u001b[K\rremote: Counting objects:  32% (69/214)\u001b[K\rremote: Counting objects:  33% (71/214)\u001b[K\rremote: Counting objects:  34% (73/214)\u001b[K\rremote: Counting objects:  35% (75/214)\u001b[K\rremote: Counting objects:  36% (78/214)\u001b[K\rremote: Counting objects:  37% (80/214)\u001b[K\rremote: Counting objects:  38% (82/214)\u001b[K\rremote: Counting objects:  39% (84/214)\u001b[K\rremote: Counting objects:  40% (86/214)\u001b[K\rremote: Counting objects:  41% (88/214)\u001b[K\rremote: Counting objects:  42% (90/214)\u001b[K\rremote: Counting objects:  43% (93/214)\u001b[K\rremote: Counting objects:  44% (95/214)\u001b[K\rremote: Counting objects:  45% (97/214)\u001b[K\rremote: Counting objects:  46% (99/214)\u001b[K\rremote: Counting objects:  47% (101/214)\u001b[K\rremote: Counting objects:  48% (103/214)\u001b[K\rremote: Counting objects:  49% (105/214)\u001b[K\rremote: Counting objects:  50% (107/214)\u001b[K\rremote: Counting objects:  51% (110/214)\u001b[K\rremote: Counting objects:  52% (112/214)\u001b[K\rremote: Counting objects:  53% (114/214)\u001b[K\rremote: Counting objects:  54% (116/214)\u001b[K\rremote: Counting objects:  55% (118/214)\u001b[K\rremote: Counting objects:  56% (120/214)\u001b[K\rremote: Counting objects:  57% (122/214)\u001b[K\rremote: Counting objects:  58% (125/214)\u001b[K\rremote: Counting objects:  59% (127/214)\u001b[K\rremote: Counting objects:  60% (129/214)\u001b[K\rremote: Counting objects:  61% (131/214)\u001b[K\rremote: Counting objects:  62% (133/214)\u001b[K\rremote: Counting objects:  63% (135/214)\u001b[K\rremote: Counting objects:  64% (137/214)\u001b[K\rremote: Counting objects:  65% (140/214)\u001b[K\rremote: Counting objects:  66% (142/214)\u001b[K\rremote: Counting objects:  67% (144/214)\u001b[K\rremote: Counting objects:  68% (146/214)\u001b[K\rremote: Counting objects:  69% (148/214)\u001b[K\rremote: Counting objects:  70% (150/214)\u001b[K\rremote: Counting objects:  71% (152/214)\u001b[K\rremote: Counting objects:  72% (155/214)\u001b[K\rremote: Counting objects:  73% (157/214)\u001b[K\rremote: Counting objects:  74% (159/214)\u001b[K\rremote: Counting objects:  75% (161/214)\u001b[K\rremote: Counting objects:  76% (163/214)\u001b[K\rremote: Counting objects:  77% (165/214)\u001b[K\rremote: Counting objects:  78% (167/214)\u001b[K\rremote: Counting objects:  79% (170/214)\u001b[K\rremote: Counting objects:  80% (172/214)\u001b[K\rremote: Counting objects:  81% (174/214)\u001b[K\rremote: Counting objects:  82% (176/214)\u001b[K\rremote: Counting objects:  83% (178/214)\u001b[K\rremote: Counting objects:  84% (180/214)\u001b[K\rremote: Counting objects:  85% (182/214)\u001b[K\rremote: Counting objects:  86% (185/214)\u001b[K\rremote: Counting objects:  87% (187/214)\u001b[K\rremote: Counting objects:  88% (189/214)\u001b[K\rremote: Counting objects:  89% (191/214)\u001b[K\rremote: Counting objects:  90% (193/214)\u001b[K\rremote: Counting objects:  91% (195/214)\u001b[K\rremote: Counting objects:  92% (197/214)\u001b[K\rremote: Counting objects:  93% (200/214)\u001b[K\rremote: Counting objects:  94% (202/214)\u001b[K\rremote: Counting objects:  95% (204/214)\u001b[K\rremote: Counting objects:  96% (206/214)\u001b[K\rremote: Counting objects:  97% (208/214)\u001b[K\rremote: Counting objects:  98% (210/214)\u001b[K\rremote: Counting objects:  99% (212/214)\u001b[K\rremote: Counting objects: 100% (214/214)\u001b[K\rremote: Counting objects: 100% (214/214), done.\u001b[K\n",
            "remote: Compressing objects: 100% (129/129), done.\u001b[K\n",
            "remote: Total 1432 (delta 137), reused 148 (delta 83), pack-reused 1218\u001b[K\n",
            "Receiving objects: 100% (1432/1432), 13.74 MiB | 3.97 MiB/s, done.\n",
            "Resolving deltas: 100% (952/952), done.\n"
          ],
          "name": "stdout"
        }
      ]
    },
    {
      "cell_type": "code",
      "metadata": {
        "id": "CgT-5T6EkO8a",
        "colab_type": "code",
        "colab": {
          "base_uri": "https://localhost:8080/",
          "height": 136
        },
        "outputId": "ba1cef24-25a7-4556-bfb0-97fcff4fc760"
      },
      "source": [
        "!git clone https://github.com/ShivamShrirao/deep_Q_learning_from_scratch.git"
      ],
      "execution_count": 3,
      "outputs": [
        {
          "output_type": "stream",
          "text": [
            "Cloning into 'deep_Q_learning_from_scratch'...\n",
            "remote: Enumerating objects: 126, done.\u001b[K\n",
            "remote: Counting objects:   0% (1/126)\u001b[K\rremote: Counting objects:   1% (2/126)\u001b[K\rremote: Counting objects:   2% (3/126)\u001b[K\rremote: Counting objects:   3% (4/126)\u001b[K\rremote: Counting objects:   4% (6/126)\u001b[K\rremote: Counting objects:   5% (7/126)\u001b[K\rremote: Counting objects:   6% (8/126)\u001b[K\rremote: Counting objects:   7% (9/126)\u001b[K\rremote: Counting objects:   8% (11/126)\u001b[K\rremote: Counting objects:   9% (12/126)\u001b[K\rremote: Counting objects:  10% (13/126)\u001b[K\rremote: Counting objects:  11% (14/126)\u001b[K\rremote: Counting objects:  12% (16/126)\u001b[K\rremote: Counting objects:  13% (17/126)\u001b[K\rremote: Counting objects:  14% (18/126)\u001b[K\rremote: Counting objects:  15% (19/126)\u001b[K\rremote: Counting objects:  16% (21/126)\u001b[K\rremote: Counting objects:  17% (22/126)\u001b[K\rremote: Counting objects:  18% (23/126)\u001b[K\rremote: Counting objects:  19% (24/126)\u001b[K\rremote: Counting objects:  20% (26/126)\u001b[K\rremote: Counting objects:  21% (27/126)\u001b[K\rremote: Counting objects:  22% (28/126)\u001b[K\rremote: Counting objects:  23% (29/126)\u001b[K\rremote: Counting objects:  24% (31/126)\u001b[K\rremote: Counting objects:  25% (32/126)\u001b[K\rremote: Counting objects:  26% (33/126)\u001b[K\rremote: Counting objects:  27% (35/126)\u001b[K\rremote: Counting objects:  28% (36/126)\u001b[K\rremote: Counting objects:  29% (37/126)\u001b[K\rremote: Counting objects:  30% (38/126)\u001b[K\rremote: Counting objects:  31% (40/126)\u001b[K\rremote: Counting objects:  32% (41/126)\u001b[K\rremote: Counting objects:  33% (42/126)\u001b[K\rremote: Counting objects:  34% (43/126)\u001b[K\rremote: Counting objects:  35% (45/126)\u001b[K\rremote: Counting objects:  36% (46/126)\u001b[K\rremote: Counting objects:  37% (47/126)\u001b[K\rremote: Counting objects:  38% (48/126)\u001b[K\rremote: Counting objects:  39% (50/126)\u001b[K\rremote: Counting objects:  40% (51/126)\u001b[K\rremote: Counting objects:  41% (52/126)\u001b[K\rremote: Counting objects:  42% (53/126)\u001b[K\rremote: Counting objects:  43% (55/126)\u001b[K\rremote: Counting objects:  44% (56/126)\u001b[K\rremote: Counting objects:  45% (57/126)\u001b[K\rremote: Counting objects:  46% (58/126)\u001b[K\rremote: Counting objects:  47% (60/126)\u001b[K\rremote: Counting objects:  48% (61/126)\u001b[K\rremote: Counting objects:  49% (62/126)\u001b[K\rremote: Counting objects:  50% (63/126)\u001b[K\rremote: Counting objects:  51% (65/126)\u001b[K\rremote: Counting objects:  52% (66/126)\u001b[K\rremote: Counting objects:  53% (67/126)\u001b[K\rremote: Counting objects:  54% (69/126)\u001b[K\rremote: Counting objects:  55% (70/126)\u001b[K\rremote: Counting objects:  56% (71/126)\u001b[K\rremote: Counting objects:  57% (72/126)\u001b[K\rremote: Counting objects:  58% (74/126)\u001b[K\rremote: Counting objects:  59% (75/126)\u001b[K\rremote: Counting objects:  60% (76/126)\u001b[K\rremote: Counting objects:  61% (77/126)\u001b[K\rremote: Counting objects:  62% (79/126)\u001b[K\rremote: Counting objects:  63% (80/126)\u001b[K\rremote: Counting objects:  64% (81/126)\u001b[K\rremote: Counting objects:  65% (82/126)\u001b[K\rremote: Counting objects:  66% (84/126)\u001b[K\rremote: Counting objects:  67% (85/126)\u001b[K\rremote: Counting objects:  68% (86/126)\u001b[K\rremote: Counting objects:  69% (87/126)\u001b[K\rremote: Counting objects:  70% (89/126)\u001b[K\rremote: Counting objects:  71% (90/126)\u001b[K\rremote: Counting objects:  72% (91/126)\u001b[K\rremote: Counting objects:  73% (92/126)\u001b[K\rremote: Counting objects:  74% (94/126)\u001b[K\rremote: Counting objects:  75% (95/126)\u001b[K\rremote: Counting objects:  76% (96/126)\u001b[K\rremote: Counting objects:  77% (98/126)\u001b[K\rremote: Counting objects:  78% (99/126)\u001b[K\rremote: Counting objects:  79% (100/126)\u001b[K\rremote: Counting objects:  80% (101/126)\u001b[K\rremote: Counting objects:  81% (103/126)\u001b[K\rremote: Counting objects:  82% (104/126)\u001b[K\rremote: Counting objects:  83% (105/126)\u001b[K\rremote: Counting objects:  84% (106/126)\u001b[K\rremote: Counting objects:  85% (108/126)\u001b[K\rremote: Counting objects:  86% (109/126)\u001b[K\rremote: Counting objects:  87% (110/126)\u001b[K\rremote: Counting objects:  88% (111/126)\u001b[K\rremote: Counting objects:  89% (113/126)\u001b[K\rremote: Counting objects:  90% (114/126)\u001b[K\rremote: Counting objects:  91% (115/126)\u001b[K\rremote: Counting objects:  92% (116/126)\u001b[K\rremote: Counting objects:  93% (118/126)\u001b[K\rremote: Counting objects:  94% (119/126)\u001b[K\rremote: Counting objects:  95% (120/126)\u001b[K\rremote: Counting objects:  96% (121/126)\u001b[K\rremote: Counting objects:  97% (123/126)\u001b[K\rremote: Counting objects:  98% (124/126)\u001b[K\rremote: Counting objects:  99% (125/126)\u001b[K\rremote: Counting objects: 100% (126/126)\u001b[K\rremote: Counting objects: 100% (126/126), done.\u001b[K\n",
            "remote: Compressing objects:   1% (1/78)\u001b[K\rremote: Compressing objects:   2% (2/78)\u001b[K\rremote: Compressing objects:   3% (3/78)\u001b[K\rremote: Compressing objects:   5% (4/78)\u001b[K\rremote: Compressing objects:   6% (5/78)\u001b[K\rremote: Compressing objects:   7% (6/78)\u001b[K\rremote: Compressing objects:   8% (7/78)\u001b[K\rremote: Compressing objects:  10% (8/78)\u001b[K\rremote: Compressing objects:  11% (9/78)\u001b[K\rremote: Compressing objects:  12% (10/78)\u001b[K\rremote: Compressing objects:  14% (11/78)\u001b[K\rremote: Compressing objects:  15% (12/78)\u001b[K\rremote: Compressing objects:  16% (13/78)\u001b[K\rremote: Compressing objects:  17% (14/78)\u001b[K\rremote: Compressing objects:  19% (15/78)\u001b[K\rremote: Compressing objects:  20% (16/78)\u001b[K\rremote: Compressing objects:  21% (17/78)\u001b[K\rremote: Compressing objects:  23% (18/78)\u001b[K\rremote: Compressing objects:  24% (19/78)\u001b[K\rremote: Compressing objects:  25% (20/78)\u001b[K\rremote: Compressing objects:  26% (21/78)\u001b[K\rremote: Compressing objects:  28% (22/78)\u001b[K\rremote: Compressing objects:  29% (23/78)\u001b[K\rremote: Compressing objects:  30% (24/78)\u001b[K\rremote: Compressing objects:  32% (25/78)\u001b[K\rremote: Compressing objects:  33% (26/78)\u001b[K\rremote: Compressing objects:  34% (27/78)\u001b[K\rremote: Compressing objects:  35% (28/78)\u001b[K\rremote: Compressing objects:  37% (29/78)\u001b[K\rremote: Compressing objects:  38% (30/78)\u001b[K\rremote: Compressing objects:  39% (31/78)\u001b[K\rremote: Compressing objects:  41% (32/78)\u001b[K\rremote: Compressing objects:  42% (33/78)\u001b[K\rremote: Compressing objects:  43% (34/78)\u001b[K\rremote: Compressing objects:  44% (35/78)\u001b[K\rremote: Compressing objects:  46% (36/78)\u001b[K\rremote: Compressing objects:  47% (37/78)\u001b[K\rremote: Compressing objects:  48% (38/78)\u001b[K\rremote: Compressing objects:  50% (39/78)\u001b[K\rremote: Compressing objects:  51% (40/78)\u001b[K\rremote: Compressing objects:  52% (41/78)\u001b[K\rremote: Compressing objects:  53% (42/78)\u001b[K\rremote: Compressing objects:  55% (43/78)\u001b[K\rremote: Compressing objects:  56% (44/78)\u001b[K\rremote: Compressing objects:  57% (45/78)\u001b[K\rremote: Compressing objects:  58% (46/78)\u001b[K\rremote: Compressing objects:  60% (47/78)\u001b[K\rremote: Compressing objects:  61% (48/78)\u001b[K\rremote: Compressing objects:  62% (49/78)\u001b[K\rremote: Compressing objects:  64% (50/78)\u001b[K\rremote: Compressing objects:  65% (51/78)\u001b[K\rremote: Compressing objects:  66% (52/78)\u001b[K\rremote: Compressing objects:  67% (53/78)\u001b[K\rremote: Compressing objects:  69% (54/78)\u001b[K\rremote: Compressing objects:  70% (55/78)\u001b[K\rremote: Compressing objects:  71% (56/78)\u001b[K\rremote: Compressing objects:  73% (57/78)\u001b[K\rremote: Compressing objects:  74% (58/78)\u001b[K\rremote: Compressing objects:  75% (59/78)\u001b[K\rremote: Compressing objects:  76% (60/78)\u001b[K\rremote: Compressing objects:  78% (61/78)\u001b[K\rremote: Compressing objects:  79% (62/78)\u001b[K\rremote: Compressing objects:  80% (63/78)\u001b[K\rremote: Compressing objects:  82% (64/78)\u001b[K\rremote: Compressing objects:  83% (65/78)\u001b[K\rremote: Compressing objects:  84% (66/78)\u001b[K\rremote: Compressing objects:  85% (67/78)\u001b[K\rremote: Compressing objects:  87% (68/78)\u001b[K\rremote: Compressing objects:  88% (69/78)\u001b[K\rremote: Compressing objects:  89% (70/78)\u001b[K\rremote: Compressing objects:  91% (71/78)\u001b[K\rremote: Compressing objects:  92% (72/78)\u001b[K\rremote: Compressing objects:  93% (73/78)\u001b[K\rremote: Compressing objects:  94% (74/78)\u001b[K\rremote: Compressing objects:  96% (75/78)\u001b[K\rremote: Compressing objects:  97% (76/78)\u001b[K\rremote: Compressing objects:  98% (77/78)\u001b[K\rremote: Compressing objects: 100% (78/78)\u001b[K\rremote: Compressing objects: 100% (78/78), done.\u001b[K\n",
            "Receiving objects:   0% (1/126)   \rReceiving objects:   1% (2/126)   \rReceiving objects:   2% (3/126)   \rReceiving objects:   3% (4/126)   \rReceiving objects:   4% (6/126)   \rReceiving objects:   5% (7/126)   \rReceiving objects:   6% (8/126)   \rReceiving objects:   7% (9/126)   \rReceiving objects:   8% (11/126)   \rReceiving objects:   9% (12/126)   \rReceiving objects:  10% (13/126)   \rReceiving objects:  11% (14/126)   \rReceiving objects:  12% (16/126)   \rReceiving objects:  13% (17/126)   \rReceiving objects:  14% (18/126)   \rReceiving objects:  15% (19/126)   \rReceiving objects:  16% (21/126)   \rReceiving objects:  17% (22/126)   \rReceiving objects:  18% (23/126)   \rReceiving objects:  19% (24/126)   \rReceiving objects:  20% (26/126)   \rReceiving objects:  21% (27/126)   \rReceiving objects:  22% (28/126)   \rReceiving objects:  23% (29/126)   \rReceiving objects:  24% (31/126)   \rReceiving objects:  25% (32/126)   \rReceiving objects:  26% (33/126)   \rReceiving objects:  27% (35/126)   \rReceiving objects:  28% (36/126)   \rReceiving objects:  29% (37/126)   \rReceiving objects:  30% (38/126)   \rReceiving objects:  31% (40/126)   \rReceiving objects:  32% (41/126)   \rReceiving objects:  33% (42/126)   \rReceiving objects:  34% (43/126)   \rReceiving objects:  35% (45/126)   \rReceiving objects:  36% (46/126)   \rReceiving objects:  37% (47/126)   \rReceiving objects:  38% (48/126)   \rReceiving objects:  39% (50/126)   \rReceiving objects:  40% (51/126)   \rReceiving objects:  41% (52/126)   \rReceiving objects:  42% (53/126)   \rReceiving objects:  43% (55/126)   \rReceiving objects:  44% (56/126)   \rReceiving objects:  45% (57/126)   \rReceiving objects:  46% (58/126)   \rReceiving objects:  47% (60/126)   \rReceiving objects:  48% (61/126)   \rReceiving objects:  49% (62/126)   \rReceiving objects:  50% (63/126)   \rReceiving objects:  51% (65/126)   \rReceiving objects:  52% (66/126)   \rReceiving objects:  53% (67/126)   \rReceiving objects:  54% (69/126)   \rReceiving objects:  55% (70/126)   \rReceiving objects:  56% (71/126)   \rReceiving objects:  57% (72/126)   \rReceiving objects:  58% (74/126)   \rReceiving objects:  59% (75/126)   \rReceiving objects:  60% (76/126)   \rReceiving objects:  61% (77/126)   \rReceiving objects:  62% (79/126)   \rReceiving objects:  63% (80/126)   \rReceiving objects:  64% (81/126)   \rReceiving objects:  65% (82/126)   \rReceiving objects:  66% (84/126)   \rReceiving objects:  67% (85/126)   \rReceiving objects:  68% (86/126)   \rReceiving objects:  69% (87/126)   \rReceiving objects:  70% (89/126)   \rReceiving objects:  71% (90/126)   \rReceiving objects:  72% (91/126)   \rReceiving objects:  73% (92/126)   \rremote: Total 126 (delta 71), reused 97 (delta 42), pack-reused 0\u001b[K\n",
            "Receiving objects:  74% (94/126)   \rReceiving objects:  75% (95/126)   \rReceiving objects:  76% (96/126)   \rReceiving objects:  77% (98/126)   \rReceiving objects:  78% (99/126)   \rReceiving objects:  79% (100/126)   \rReceiving objects:  80% (101/126)   \rReceiving objects:  81% (103/126)   \rReceiving objects:  82% (104/126)   \rReceiving objects:  83% (105/126)   \rReceiving objects:  84% (106/126)   \rReceiving objects:  85% (108/126)   \rReceiving objects:  86% (109/126)   \rReceiving objects:  87% (110/126)   \rReceiving objects:  88% (111/126)   \rReceiving objects:  89% (113/126)   \rReceiving objects:  90% (114/126)   \rReceiving objects:  91% (115/126)   \rReceiving objects:  92% (116/126)   \rReceiving objects:  93% (118/126)   \rReceiving objects:  94% (119/126)   \rReceiving objects:  95% (120/126)   \rReceiving objects:  96% (121/126)   \rReceiving objects:  97% (123/126)   \rReceiving objects:  98% (124/126)   \rReceiving objects:  99% (125/126)   \rReceiving objects: 100% (126/126)   \rReceiving objects: 100% (126/126), 77.38 KiB | 200.00 KiB/s, done.\n",
            "Resolving deltas:   0% (0/71)   \rResolving deltas:   7% (5/71)   \rResolving deltas:  15% (11/71)   \rResolving deltas:  18% (13/71)   \rResolving deltas:  19% (14/71)   \rResolving deltas:  25% (18/71)   \rResolving deltas:  60% (43/71)   \rResolving deltas:  69% (49/71)   \rResolving deltas:  76% (54/71)   \rResolving deltas:  78% (56/71)   \rResolving deltas:  84% (60/71)   \rResolving deltas:  98% (70/71)   \rResolving deltas: 100% (71/71)   \rResolving deltas: 100% (71/71), done.\n"
          ],
          "name": "stdout"
        }
      ]
    },
    {
      "cell_type": "code",
      "metadata": {
        "id": "TQZiX7WgkQeu",
        "colab_type": "code",
        "colab": {
          "base_uri": "https://localhost:8080/",
          "height": 122
        },
        "outputId": "cbdf8ab9-b0e1-400b-935d-c46e35ce4369"
      },
      "source": [
        "from google.colab import drive\n",
        "drive.mount('/content/drive')"
      ],
      "execution_count": 4,
      "outputs": [
        {
          "output_type": "stream",
          "text": [
            "Go to this URL in a browser: https://accounts.google.com/o/oauth2/auth?client_id=947318989803-6bn6qk8qdgf4n4g3pfee6491hc0brc4i.apps.googleusercontent.com&redirect_uri=urn%3aietf%3awg%3aoauth%3a2.0%3aoob&scope=email%20https%3a%2f%2fwww.googleapis.com%2fauth%2fdocs.test%20https%3a%2f%2fwww.googleapis.com%2fauth%2fdrive%20https%3a%2f%2fwww.googleapis.com%2fauth%2fdrive.photos.readonly%20https%3a%2f%2fwww.googleapis.com%2fauth%2fpeopleapi.readonly&response_type=code\n",
            "\n",
            "Enter your authorization code:\n",
            "··········\n",
            "Mounted at /content/drive\n"
          ],
          "name": "stdout"
        }
      ]
    },
    {
      "cell_type": "code",
      "metadata": {
        "id": "caNfRIj1kRcf",
        "colab_type": "code",
        "colab": {
          "base_uri": "https://localhost:8080/",
          "height": 34
        },
        "outputId": "c8d489e0-642c-4ea0-f81b-ca6f26a2c7c3"
      },
      "source": [
        "%cd deep_Q_learning_from_scratch"
      ],
      "execution_count": 1,
      "outputs": [
        {
          "output_type": "stream",
          "text": [
            "/content/deep_Q_learning_from_scratch\n"
          ],
          "name": "stdout"
        }
      ]
    },
    {
      "cell_type": "code",
      "metadata": {
        "id": "OzhhtvRQkWJW",
        "colab_type": "code",
        "colab": {
          "base_uri": "https://localhost:8080/",
          "height": 204
        },
        "outputId": "fa5cff3a-fe3e-49db-ede2-7fc329476098"
      },
      "source": [
        "!git pull"
      ],
      "execution_count": 2,
      "outputs": [
        {
          "output_type": "stream",
          "text": [
            "remote: Enumerating objects: 5, done.\u001b[K\n",
            "remote: Counting objects:  20% (1/5)\u001b[K\rremote: Counting objects:  40% (2/5)\u001b[K\rremote: Counting objects:  60% (3/5)\u001b[K\rremote: Counting objects:  80% (4/5)\u001b[K\rremote: Counting objects: 100% (5/5)\u001b[K\rremote: Counting objects: 100% (5/5), done.\u001b[K\n",
            "remote: Compressing objects: 100% (1/1)\u001b[K\rremote: Compressing objects: 100% (1/1), done.\u001b[K\n",
            "remote: Total 3 (delta 2), reused 3 (delta 2), pack-reused 0\u001b[K\n",
            "Unpacking objects:  33% (1/3)   \rUnpacking objects:  66% (2/3)   \rUnpacking objects: 100% (3/3)   \rUnpacking objects: 100% (3/3), done.\n",
            "From https://github.com/ShivamShrirao/deep_Q_learning_from_scratch\n",
            "   8fdfa27..6f82c89  master     -> origin/master\n",
            "Updating 8fdfa27..6f82c89\n",
            "Fast-forward\n",
            " agent.py | 9 \u001b[32m+++++\u001b[m\u001b[31m----\u001b[m\n",
            " 1 file changed, 5 insertions(+), 4 deletions(-)\n"
          ],
          "name": "stdout"
        }
      ]
    },
    {
      "cell_type": "code",
      "metadata": {
        "id": "W0SnQz--kXCg",
        "colab_type": "code",
        "colab": {}
      },
      "source": [
        "import gym\n",
        "import time\n",
        "import cv2\n",
        "import numpy as np\n",
        "\n",
        "from settings import *\n",
        "from agent import *\n",
        "from experience import *\n",
        "from atari_wrappers import *"
      ],
      "execution_count": 8,
      "outputs": []
    },
    {
      "cell_type": "code",
      "metadata": {
        "id": "hc4bwkXTkX7_",
        "colab_type": "code",
        "colab": {
          "base_uri": "https://localhost:8080/",
          "height": 459
        },
        "outputId": "aa164b7d-8807-4ed1-958a-7c02f2737c6b"
      },
      "source": [
        "agt = Agent(actions=[0,2,3], epsilon=1, min_epsilon=0.1, eps_decay=1e-6)\n",
        "D_exp = ReplayMemory(capacity=600000)"
      ],
      "execution_count": 4,
      "outputs": [
        {
          "output_type": "stream",
          "text": [
            "⎽⎽⎽⎽⎽⎽⎽⎽⎽⎽⎽⎽⎽⎽⎽⎽⎽⎽⎽⎽⎽⎽⎽⎽⎽⎽⎽⎽⎽⎽⎽⎽⎽⎽⎽⎽⎽⎽⎽⎽⎽⎽⎽⎽⎽⎽⎽⎽⎽⎽⎽⎽⎽⎽⎽⎽⎽⎽⎽⎽⎽⎽⎽⎽⎽⎽⎽⎽⎽⎽⎽⎽⎽⎽⎽⎽⎽⎽⎽⎽⎽⎽⎽⎽⎽⎽⎽⎽⎽⎽\n",
            "Layer (type)               Output Shape             Activation        Param #\n",
            "==========================================================================================\n",
            "- InputLayer(InputLayer)  (None, 80, 80, 4)          echo             0\n",
            "__________________________________________________________________________________________\n",
            "0 Conv2D(Conv2D)          (None, 40, 40, 32)         relu             1184\n",
            "__________________________________________________________________________________________\n",
            "1 BatchNormalization(Batc (None, 40, 40, 32)         echo             128\n",
            "__________________________________________________________________________________________\n",
            "2 Conv2D(Conv2D)          (None, 20, 20, 64)         relu             18496\n",
            "__________________________________________________________________________________________\n",
            "3 BatchNormalization(Batc (None, 20, 20, 64)         echo             256\n",
            "__________________________________________________________________________________________\n",
            "4 Conv2D(Conv2D)          (None, 10, 10, 128)        relu             73856\n",
            "__________________________________________________________________________________________\n",
            "5 BatchNormalization(Batc (None, 10, 10, 128)        echo             512\n",
            "__________________________________________________________________________________________\n",
            "6 Flatten(Flatten)        (None, 12800)              echo             0\n",
            "__________________________________________________________________________________________\n",
            "7 Dense(Dense)            (None, 256)                relu             3277056\n",
            "__________________________________________________________________________________________\n",
            "8 Dense(Dense)            (None, 3)                  echo             771\n",
            "==========================================================================================\n",
            "Total Params: 3,372,259\n",
            "Trainable Params: 3,371,811\n",
            "Non-trainable Params: 448\n"
          ],
          "name": "stdout"
        }
      ]
    },
    {
      "cell_type": "code",
      "metadata": {
        "id": "XFlEoOqOkbcy",
        "colab_type": "code",
        "colab": {}
      },
      "source": [
        "env = gym.make('Pong-v0')\n",
        "env = FrameStack(env, NFRAMES)      # preprocess and stack frames"
      ],
      "execution_count": 5,
      "outputs": []
    },
    {
      "cell_type": "code",
      "metadata": {
        "id": "OdUHf1_ZkcqT",
        "colab_type": "code",
        "colab": {
          "base_uri": "https://localhost:8080/",
          "height": 34
        },
        "outputId": "811edd15-d05d-49f1-b877-e718d32e00f7"
      },
      "source": [
        "len(D_exp.ndone)"
      ],
      "execution_count": 6,
      "outputs": [
        {
          "output_type": "execute_result",
          "data": {
            "text/plain": [
              "0"
            ]
          },
          "metadata": {
            "tags": []
          },
          "execution_count": 6
        }
      ]
    },
    {
      "cell_type": "code",
      "metadata": {
        "id": "1-zscT4Tkd2Z",
        "colab_type": "code",
        "colab": {}
      },
      "source": [
        "for i_episode in range(1000):\n",
        "    observation = env.reset()\n",
        "    ep_score = 0\n",
        "    start = time.time()\n",
        "    nlap = NFRAMES - 2\n",
        "    sv_obs = deque([], maxlen=nlap)\n",
        "    sv_act = deque([], maxlen=nlap)\n",
        "    sv_rew = deque([], maxlen=nlap)\n",
        "    sv_don = deque([], maxlen=nlap)\n",
        "    for t in range(10000):\n",
        "#         env.render()\n",
        "        action = agt.get_action(observation)\n",
        "        next_observation, reward, done, info = env.step(action)\n",
        "        ep_score += reward\n",
        "\n",
        "        sv_obs.append(observation)\n",
        "        sv_act.append(action)\n",
        "        sv_rew.append(reward)\n",
        "        sv_don.append(done)\n",
        "\n",
        "        if t >= nlap-1:\n",
        "            D_exp.store_transition(sv_obs[0], agt.actions.index(sv_act[0]), sv_rew[0], next_observation, sv_don[0])\n",
        "        observation = next_observation\n",
        "\n",
        "        # D_exp.current_state.popleft()\n",
        "        # D_exp.action_idx.popleft()\n",
        "        # D_exp.reward.popleft()\n",
        "        # D_exp.next_state.popleft()\n",
        "        # D_exp.ndone.popleft()\n",
        "\n",
        "        if len(D_exp.ndone) > BATCH_SIZE:\n",
        "            agt.trainDDQN(D_exp, BATCH_SIZE)\n",
        "            agt.update_target()\n",
        "        if done:\n",
        "            D_exp.store_transition(sv_obs[-1], agt.actions.index(sv_act[-1]), sv_rew[-1], next_observation, sv_don[-1])\n",
        "            break\n",
        "        print('\\r', t, action, ep_score, end='  ')\n",
        "    print(f\"\\rEpisode {i_episode+1} finished after {t+1} timesteps, Score: {ep_score}, Epsilon: {agt.epsilon}, Time: {time.time()-start}\")\n",
        "    if not i_episode%4:\n",
        "        agt.model.save_weights(\"/content/drive/My Drive/model.w8s\")\n",
        "env.close()"
      ],
      "execution_count": null,
      "outputs": []
    },
    {
      "cell_type": "code",
      "metadata": {
        "id": "sxsgV_xJkhHi",
        "colab_type": "code",
        "colab": {}
      },
      "source": [
        "env.close()"
      ],
      "execution_count": null,
      "outputs": []
    }
  ]
}