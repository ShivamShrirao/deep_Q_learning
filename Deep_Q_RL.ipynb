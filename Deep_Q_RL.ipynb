{
 "cells": [
  {
   "cell_type": "code",
   "execution_count": 1,
   "metadata": {
    "colab": {
     "base_uri": "https://localhost:8080/",
     "height": 357
    },
    "colab_type": "code",
    "id": "hl0TlbMIF5XM",
    "outputId": "13f3f578-8757-4ea1-a6d2-4d3895245ffc"
   },
   "outputs": [
    {
     "name": "stdout",
     "output_type": "stream",
     "text": [
      "Wed Aug 12 01:28:57 2020       \r\n",
      "+-----------------------------------------------------------------------------+\r\n",
      "| NVIDIA-SMI 440.100      Driver Version: 440.100      CUDA Version: 10.2     |\r\n",
      "|-------------------------------+----------------------+----------------------+\r\n",
      "| GPU  Name        Persistence-M| Bus-Id        Disp.A | Volatile Uncorr. ECC |\r\n",
      "| Fan  Temp  Perf  Pwr:Usage/Cap|         Memory-Usage | GPU-Util  Compute M. |\r\n",
      "|===============================+======================+======================|\r\n",
      "|   0  GeForce 920MX       Off  | 00000000:03:00.0 Off |                  N/A |\r\n",
      "| N/A   44C    P0    N/A /  N/A |      5MiB /  2004MiB |      0%      Default |\r\n",
      "+-------------------------------+----------------------+----------------------+\r\n",
      "                                                                               \r\n",
      "+-----------------------------------------------------------------------------+\r\n",
      "| Processes:                                                       GPU Memory |\r\n",
      "|  GPU       PID   Type   Process name                             Usage      |\r\n",
      "|=============================================================================|\r\n",
      "|    0      9328      G   /usr/lib/Xorg                                  4MiB |\r\n",
      "+-----------------------------------------------------------------------------+\r\n"
     ]
    }
   ],
   "source": [
    "!nvidia-smi"
   ]
  },
  {
   "cell_type": "code",
   "execution_count": 2,
   "metadata": {
    "colab": {
     "base_uri": "https://localhost:8080/",
     "height": 136
    },
    "colab_type": "code",
    "id": "UjWCJCnyF_CG",
    "outputId": "ea86c429-0ac0-45d2-e22a-bfaaecd59b62"
   },
   "outputs": [],
   "source": [
    "# !git clone https://github.com/ShivamShrirao/dnn_from_scratch.git"
   ]
  },
  {
   "cell_type": "code",
   "execution_count": 3,
   "metadata": {
    "colab": {
     "base_uri": "https://localhost:8080/",
     "height": 119
    },
    "colab_type": "code",
    "id": "HZ-ws5xXFd9f",
    "outputId": "6f731104-849d-4d24-9ed9-ed4bdd096a80"
   },
   "outputs": [],
   "source": [
    "# !git clone https://github.com/ShivamShrirao/deep_Q_learning.git"
   ]
  },
  {
   "cell_type": "code",
   "execution_count": 4,
   "metadata": {
    "colab": {
     "base_uri": "https://localhost:8080/",
     "height": 122
    },
    "colab_type": "code",
    "id": "aYPN0ivKPy0m",
    "outputId": "7ca281d9-109d-4be4-8aea-165d56c5d6dd"
   },
   "outputs": [],
   "source": [
    "# from google.colab import drive\n",
    "# drive.mount('/content/drive')"
   ]
  },
  {
   "cell_type": "code",
   "execution_count": 5,
   "metadata": {
    "colab": {
     "base_uri": "https://localhost:8080/",
     "height": 34
    },
    "colab_type": "code",
    "id": "P5TCqkk1GSc9",
    "outputId": "c1c60359-4100-477f-c64e-41dc7a58227d"
   },
   "outputs": [],
   "source": [
    "# %cd deep_Q_learning"
   ]
  },
  {
   "cell_type": "code",
   "execution_count": 1,
   "metadata": {
    "colab": {},
    "colab_type": "code",
    "id": "bpWyQD5DGWmv"
   },
   "outputs": [],
   "source": [
    "import gym\n",
    "import time\n",
    "import cv2\n",
    "import numpy as np\n",
    "\n",
    "from settings import *\n",
    "from agent import *\n",
    "from experience import *\n",
    "from atari_wrappers import *"
   ]
  },
  {
   "cell_type": "code",
   "execution_count": 7,
   "metadata": {},
   "outputs": [
    {
     "name": "stdout",
     "output_type": "stream",
     "text": [
      "⎽⎽⎽⎽⎽⎽⎽⎽⎽⎽⎽⎽⎽⎽⎽⎽⎽⎽⎽⎽⎽⎽⎽⎽⎽⎽⎽⎽⎽⎽⎽⎽⎽⎽⎽⎽⎽⎽⎽⎽⎽⎽⎽⎽⎽⎽⎽⎽⎽⎽⎽⎽⎽⎽⎽⎽⎽⎽⎽⎽⎽⎽⎽⎽⎽⎽⎽⎽⎽⎽⎽⎽⎽⎽⎽⎽⎽⎽⎽⎽⎽⎽⎽⎽⎽⎽⎽⎽⎽⎽\n",
      "Layer (type)               Output Shape             Activation        Param #\n",
      "==========================================================================================\n",
      "- InputLayer(InputLayer)  (None, 80, 80, 4)          echo             0\n",
      "__________________________________________________________________________________________\n",
      "0 Conv2D(Conv2D)          (None, 40, 40, 32)         relu             1184\n",
      "__________________________________________________________________________________________\n",
      "1 Conv2D(Conv2D)          (None, 20, 20, 64)         relu             18496\n",
      "__________________________________________________________________________________________\n",
      "2 Conv2D(Conv2D)          (None, 10, 10, 128)        relu             73856\n",
      "__________________________________________________________________________________________\n",
      "3 Flatten(Flatten)        (None, 12800)              echo             0\n",
      "__________________________________________________________________________________________\n",
      "4 Dense(Dense)            (None, 256)                relu             3277056\n",
      "__________________________________________________________________________________________\n",
      "5 Dense(Dense)            (None, 3)                  echo             771\n",
      "==========================================================================================\n",
      "Total Params: 3,371,363\n",
      "Trainable Params: 3,371,363\n",
      "Non-trainable Params: 0\n"
     ]
    }
   ],
   "source": [
    "agt = Agent(actions=[0,2,3], epsilon=1, min_epsilon=0.1, eps_decay=1e-5)\n",
    "D_exp = ReplayMemory(capacity=100000)"
   ]
  },
  {
   "cell_type": "code",
   "execution_count": 8,
   "metadata": {
    "colab": {
     "base_uri": "https://localhost:8080/",
     "height": 391
    },
    "colab_type": "code",
    "id": "z805jkgjGaTW",
    "outputId": "3933b00d-dd9d-4d09-99be-aba0461cf327",
    "scrolled": true
   },
   "outputs": [],
   "source": [
    "env = gym.make('Pong-v0')\n",
    "env = FrameStack(env, NFRAMES)      # preprocess and stack frames"
   ]
  },
  {
   "cell_type": "code",
   "execution_count": 11,
   "metadata": {},
   "outputs": [
    {
     "name": "stdout",
     "output_type": "stream",
     "text": [
      " 1433 -18.0  \n",
      "Episode 0 finished after 1435 timesteps, Score: -19.0, Epsilon: 0.9738200000001191, Time: 260.87434434890747\n",
      " 1371 -19.0  \n",
      "Episode 1 finished after 1373 timesteps, Score: -20.0, Epsilon: 0.9600900000001816, Time: 247.1152000427246\n"
     ]
    }
   ],
   "source": [
    "for i_episode in range(2):\n",
    "    observation = env.reset()\n",
    "    ep_score = 0\n",
    "    start = time.time()\n",
    "    for t in range(10000):\n",
    "#         env.render()\n",
    "        action = agt.get_action(observation)\n",
    "        next_observation, reward, done, info = env.step(action)\n",
    "        ep_score += reward\n",
    "\n",
    "        D_exp.store_transition(observation, agt.actions.index(action), reward, next_observation, done)\n",
    "        observation = next_observation\n",
    "\n",
    "        if len(D_exp.ndone) > BATCH_SIZE:\n",
    "            agt.train(D_exp)\n",
    "        \n",
    "        if done:\n",
    "            break\n",
    "        print('\\r', t, ep_score, end='  ')\n",
    "    print(f\"\\rEpisode {i_episode+1} finished after {t+1} timesteps, Score: {ep_score}, Epsilon: {agt.epsilon}, Time: {time.time()-start}\")\n",
    "#     agt.model.save_weights(\"model.w8s\")\n",
    "env.close()"
   ]
  },
  {
   "cell_type": "code",
   "execution_count": 11,
   "metadata": {},
   "outputs": [],
   "source": [
    "env.close()"
   ]
  },
  {
   "cell_type": "code",
   "execution_count": null,
   "metadata": {
    "colab": {},
    "colab_type": "code",
    "id": "QRHpe1GJGoHM"
   },
   "outputs": [],
   "source": []
  }
 ],
 "metadata": {
  "accelerator": "GPU",
  "colab": {
   "collapsed_sections": [],
   "name": "Deep_Q_RL.ipynb",
   "provenance": []
  },
  "kernelspec": {
   "display_name": "Python 3",
   "language": "python",
   "name": "python3"
  },
  "language_info": {
   "codemirror_mode": {
    "name": "ipython",
    "version": 3
   },
   "file_extension": ".py",
   "mimetype": "text/x-python",
   "name": "python",
   "nbconvert_exporter": "python",
   "pygments_lexer": "ipython3",
   "version": "3.8.3"
  }
 },
 "nbformat": 4,
 "nbformat_minor": 1
}
