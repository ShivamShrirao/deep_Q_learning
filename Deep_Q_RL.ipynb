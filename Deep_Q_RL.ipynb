{
  "nbformat": 4,
  "nbformat_minor": 0,
  "metadata": {
    "colab": {
      "name": "Deep_Q_RL.ipynb",
      "provenance": [],
      "collapsed_sections": [],
      "machine_shape": "hm"
    },
    "kernelspec": {
      "name": "python3",
      "display_name": "Python 3"
    },
    "accelerator": "GPU"
  },
  "cells": [
    {
      "cell_type": "code",
      "metadata": {
        "id": "LbuhMj8QkFUO",
        "colab_type": "code",
        "colab": {
          "base_uri": "https://localhost:8080/",
          "height": 357
        },
        "outputId": "0277f811-8dbb-4a13-d8d4-b26107e4bb3e"
      },
      "source": [
        "!nvidia-smi"
      ],
      "execution_count": 1,
      "outputs": [
        {
          "output_type": "stream",
          "text": [
            "Thu Aug 13 02:08:29 2020       \n",
            "+-----------------------------------------------------------------------------+\n",
            "| NVIDIA-SMI 450.57       Driver Version: 418.67       CUDA Version: 10.1     |\n",
            "|-------------------------------+----------------------+----------------------+\n",
            "| GPU  Name        Persistence-M| Bus-Id        Disp.A | Volatile Uncorr. ECC |\n",
            "| Fan  Temp  Perf  Pwr:Usage/Cap|         Memory-Usage | GPU-Util  Compute M. |\n",
            "|                               |                      |               MIG M. |\n",
            "|===============================+======================+======================|\n",
            "|   0  Tesla P100-PCIE...  Off  | 00000000:00:04.0 Off |                    0 |\n",
            "| N/A   35C    P0    25W / 250W |      0MiB / 16280MiB |      0%      Default |\n",
            "|                               |                      |                 ERR! |\n",
            "+-------------------------------+----------------------+----------------------+\n",
            "                                                                               \n",
            "+-----------------------------------------------------------------------------+\n",
            "| Processes:                                                                  |\n",
            "|  GPU   GI   CI        PID   Type   Process name                  GPU Memory |\n",
            "|        ID   ID                                                   Usage      |\n",
            "|=============================================================================|\n",
            "|  No running processes found                                                 |\n",
            "+-----------------------------------------------------------------------------+\n"
          ],
          "name": "stdout"
        }
      ]
    },
    {
      "cell_type": "code",
      "metadata": {
        "id": "v6pXJGDekFNt",
        "colab_type": "code",
        "colab": {
          "base_uri": "https://localhost:8080/",
          "height": 136
        },
        "outputId": "518e0478-0e82-4256-c965-95a5e7feec87"
      },
      "source": [
        "!git clone https://github.com/ShivamShrirao/dnn_from_scratch.git"
      ],
      "execution_count": 2,
      "outputs": [
        {
          "output_type": "stream",
          "text": [
            "Cloning into 'dnn_from_scratch'...\n",
            "remote: Enumerating objects: 222, done.\u001b[K\n",
            "remote: Counting objects: 100% (222/222), done.\u001b[K\n",
            "remote: Compressing objects: 100% (134/134), done.\u001b[K\n",
            "remote: Total 1440 (delta 143), reused 153 (delta 86), pack-reused 1218\u001b[K\n",
            "Receiving objects: 100% (1440/1440), 13.74 MiB | 7.10 MiB/s, done.\n",
            "Resolving deltas: 100% (958/958), done.\n"
          ],
          "name": "stdout"
        }
      ]
    },
    {
      "cell_type": "code",
      "metadata": {
        "id": "CgT-5T6EkO8a",
        "colab_type": "code",
        "colab": {
          "base_uri": "https://localhost:8080/",
          "height": 136
        },
        "outputId": "69c18587-5c45-4a6f-c506-e32aaf54ab6a"
      },
      "source": [
        "!git clone https://github.com/ShivamShrirao/deep_Q_learning_from_scratch.git"
      ],
      "execution_count": 3,
      "outputs": [
        {
          "output_type": "stream",
          "text": [
            "Cloning into 'deep_Q_learning_from_scratch'...\n",
            "remote: Enumerating objects: 153, done.\u001b[K\n",
            "remote: Counting objects:   0% (1/153)\u001b[K\rremote: Counting objects:   1% (2/153)\u001b[K\rremote: Counting objects:   2% (4/153)\u001b[K\rremote: Counting objects:   3% (5/153)\u001b[K\rremote: Counting objects:   4% (7/153)\u001b[K\rremote: Counting objects:   5% (8/153)\u001b[K\rremote: Counting objects:   6% (10/153)\u001b[K\rremote: Counting objects:   7% (11/153)\u001b[K\rremote: Counting objects:   8% (13/153)\u001b[K\rremote: Counting objects:   9% (14/153)\u001b[K\rremote: Counting objects:  10% (16/153)\u001b[K\rremote: Counting objects:  11% (17/153)\u001b[K\rremote: Counting objects:  12% (19/153)\u001b[K\rremote: Counting objects:  13% (20/153)\u001b[K\rremote: Counting objects:  14% (22/153)\u001b[K\rremote: Counting objects:  15% (23/153)\u001b[K\rremote: Counting objects:  16% (25/153)\u001b[K\rremote: Counting objects:  17% (27/153)\u001b[K\rremote: Counting objects:  18% (28/153)\u001b[K\rremote: Counting objects:  19% (30/153)\u001b[K\rremote: Counting objects:  20% (31/153)\u001b[K\rremote: Counting objects:  21% (33/153)\u001b[K\rremote: Counting objects:  22% (34/153)\u001b[K\rremote: Counting objects:  23% (36/153)\u001b[K\rremote: Counting objects:  24% (37/153)\u001b[K\rremote: Counting objects:  25% (39/153)\u001b[K\rremote: Counting objects:  26% (40/153)\u001b[K\rremote: Counting objects:  27% (42/153)\u001b[K\rremote: Counting objects:  28% (43/153)\u001b[K\rremote: Counting objects:  29% (45/153)\u001b[K\rremote: Counting objects:  30% (46/153)\u001b[K\rremote: Counting objects:  31% (48/153)\u001b[K\rremote: Counting objects:  32% (49/153)\u001b[K\rremote: Counting objects:  33% (51/153)\u001b[K\rremote: Counting objects:  34% (53/153)\u001b[K\rremote: Counting objects:  35% (54/153)\u001b[K\rremote: Counting objects:  36% (56/153)\u001b[K\rremote: Counting objects:  37% (57/153)\u001b[K\rremote: Counting objects:  38% (59/153)\u001b[K\rremote: Counting objects:  39% (60/153)\u001b[K\rremote: Counting objects:  40% (62/153)\u001b[K\rremote: Counting objects:  41% (63/153)\u001b[K\rremote: Counting objects:  42% (65/153)\u001b[K\rremote: Counting objects:  43% (66/153)\u001b[K\rremote: Counting objects:  44% (68/153)\u001b[K\rremote: Counting objects:  45% (69/153)\u001b[K\rremote: Counting objects:  46% (71/153)\u001b[K\rremote: Counting objects:  47% (72/153)\u001b[K\rremote: Counting objects:  48% (74/153)\u001b[K\rremote: Counting objects:  49% (75/153)\u001b[K\rremote: Counting objects:  50% (77/153)\u001b[K\rremote: Counting objects:  51% (79/153)\u001b[K\rremote: Counting objects:  52% (80/153)\u001b[K\rremote: Counting objects:  53% (82/153)\u001b[K\rremote: Counting objects:  54% (83/153)\u001b[K\rremote: Counting objects:  55% (85/153)\u001b[K\rremote: Counting objects:  56% (86/153)\u001b[K\rremote: Counting objects:  57% (88/153)\u001b[K\rremote: Counting objects:  58% (89/153)\u001b[K\rremote: Counting objects:  59% (91/153)\u001b[K\rremote: Counting objects:  60% (92/153)\u001b[K\rremote: Counting objects:  61% (94/153)\u001b[K\rremote: Counting objects:  62% (95/153)\u001b[K\rremote: Counting objects:  63% (97/153)\u001b[K\rremote: Counting objects:  64% (98/153)\u001b[K\rremote: Counting objects:  65% (100/153)\u001b[K\rremote: Counting objects:  66% (101/153)\u001b[K\rremote: Counting objects:  67% (103/153)\u001b[K\rremote: Counting objects:  68% (105/153)\u001b[K\rremote: Counting objects:  69% (106/153)\u001b[K\rremote: Counting objects:  70% (108/153)\u001b[K\rremote: Counting objects:  71% (109/153)\u001b[K\rremote: Counting objects:  72% (111/153)\u001b[K\rremote: Counting objects:  73% (112/153)\u001b[K\rremote: Counting objects:  74% (114/153)\u001b[K\rremote: Counting objects:  75% (115/153)\u001b[K\rremote: Counting objects:  76% (117/153)\u001b[K\rremote: Counting objects:  77% (118/153)\u001b[K\rremote: Counting objects:  78% (120/153)\u001b[K\rremote: Counting objects:  79% (121/153)\u001b[K\rremote: Counting objects:  80% (123/153)\u001b[K\rremote: Counting objects:  81% (124/153)\u001b[K\rremote: Counting objects:  82% (126/153)\u001b[K\rremote: Counting objects:  83% (127/153)\u001b[K\rremote: Counting objects:  84% (129/153)\u001b[K\rremote: Counting objects:  85% (131/153)\u001b[K\rremote: Counting objects:  86% (132/153)\u001b[K\rremote: Counting objects:  87% (134/153)\u001b[K\rremote: Counting objects:  88% (135/153)\u001b[K\rremote: Counting objects:  89% (137/153)\u001b[K\rremote: Counting objects:  90% (138/153)\u001b[K\rremote: Counting objects:  91% (140/153)\u001b[K\rremote: Counting objects:  92% (141/153)\u001b[K\rremote: Counting objects:  93% (143/153)\u001b[K\rremote: Counting objects:  94% (144/153)\u001b[K\rremote: Counting objects:  95% (146/153)\u001b[K\rremote: Counting objects:  96% (147/153)\u001b[K\rremote: Counting objects:  97% (149/153)\u001b[K\rremote: Counting objects:  98% (150/153)\u001b[K\rremote: Counting objects:  99% (152/153)\u001b[K\rremote: Counting objects: 100% (153/153)\u001b[K\rremote: Counting objects: 100% (153/153), done.\u001b[K\n",
            "remote: Compressing objects:   1% (1/96)\u001b[K\rremote: Compressing objects:   2% (2/96)\u001b[K\rremote: Compressing objects:   3% (3/96)\u001b[K\rremote: Compressing objects:   4% (4/96)\u001b[K\rremote: Compressing objects:   5% (5/96)\u001b[K\rremote: Compressing objects:   6% (6/96)\u001b[K\rremote: Compressing objects:   7% (7/96)\u001b[K\rremote: Compressing objects:   8% (8/96)\u001b[K\rremote: Compressing objects:   9% (9/96)\u001b[K\rremote: Compressing objects:  10% (10/96)\u001b[K\rremote: Compressing objects:  11% (11/96)\u001b[K\rremote: Compressing objects:  12% (12/96)\u001b[K\rremote: Compressing objects:  13% (13/96)\u001b[K\rremote: Compressing objects:  14% (14/96)\u001b[K\rremote: Compressing objects:  15% (15/96)\u001b[K\rremote: Compressing objects:  16% (16/96)\u001b[K\rremote: Compressing objects:  17% (17/96)\u001b[K\rremote: Compressing objects:  18% (18/96)\u001b[K\rremote: Compressing objects:  19% (19/96)\u001b[K\rremote: Compressing objects:  20% (20/96)\u001b[K\rremote: Compressing objects:  21% (21/96)\u001b[K\rremote: Compressing objects:  22% (22/96)\u001b[K\rremote: Compressing objects:  23% (23/96)\u001b[K\rremote: Compressing objects:  25% (24/96)\u001b[K\rremote: Compressing objects:  26% (25/96)\u001b[K\rremote: Compressing objects:  27% (26/96)\u001b[K\rremote: Compressing objects:  28% (27/96)\u001b[K\rremote: Compressing objects:  29% (28/96)\u001b[K\rremote: Compressing objects:  30% (29/96)\u001b[K\rremote: Compressing objects:  31% (30/96)\u001b[K\rremote: Compressing objects:  32% (31/96)\u001b[K\rremote: Compressing objects:  33% (32/96)\u001b[K\rremote: Compressing objects:  34% (33/96)\u001b[K\rremote: Compressing objects:  35% (34/96)\u001b[K\rremote: Compressing objects:  36% (35/96)\u001b[K\rremote: Compressing objects:  37% (36/96)\u001b[K\rremote: Compressing objects:  38% (37/96)\u001b[K\rremote: Compressing objects:  39% (38/96)\u001b[K\rremote: Compressing objects:  40% (39/96)\u001b[K\rremote: Compressing objects:  41% (40/96)\u001b[K\rremote: Compressing objects:  42% (41/96)\u001b[K\rremote: Compressing objects:  43% (42/96)\u001b[K\rremote: Compressing objects:  44% (43/96)\u001b[K\rremote: Compressing objects:  45% (44/96)\u001b[K\rremote: Compressing objects:  46% (45/96)\u001b[K\rremote: Compressing objects:  47% (46/96)\u001b[K\rremote: Compressing objects:  48% (47/96)\u001b[K\rremote: Compressing objects:  50% (48/96)\u001b[K\rremote: Compressing objects:  51% (49/96)\u001b[K\rremote: Compressing objects:  52% (50/96)\u001b[K\rremote: Compressing objects:  53% (51/96)\u001b[K\rremote: Compressing objects:  54% (52/96)\u001b[K\rremote: Compressing objects:  55% (53/96)\u001b[K\rremote: Compressing objects:  56% (54/96)\u001b[K\rremote: Compressing objects:  57% (55/96)\u001b[K\rremote: Compressing objects:  58% (56/96)\u001b[K\rremote: Compressing objects:  59% (57/96)\u001b[K\rremote: Compressing objects:  60% (58/96)\u001b[K\rremote: Compressing objects:  61% (59/96)\u001b[K\rremote: Compressing objects:  62% (60/96)\u001b[K\rremote: Compressing objects:  63% (61/96)\u001b[K\rremote: Compressing objects:  64% (62/96)\u001b[K\rremote: Compressing objects:  65% (63/96)\u001b[K\rremote: Compressing objects:  66% (64/96)\u001b[K\rremote: Compressing objects:  67% (65/96)\u001b[K\rremote: Compressing objects:  68% (66/96)\u001b[K\rremote: Compressing objects:  69% (67/96)\u001b[K\rremote: Compressing objects:  70% (68/96)\u001b[K\rremote: Compressing objects:  71% (69/96)\u001b[K\rremote: Compressing objects:  72% (70/96)\u001b[K\rremote: Compressing objects:  73% (71/96)\u001b[K\rremote: Compressing objects:  75% (72/96)\u001b[K\rremote: Compressing objects:  76% (73/96)\u001b[K\rremote: Compressing objects:  77% (74/96)\u001b[K\rremote: Compressing objects:  78% (75/96)\u001b[K\rremote: Compressing objects:  79% (76/96)\u001b[K\rremote: Compressing objects:  80% (77/96)\u001b[K\rremote: Compressing objects:  81% (78/96)\u001b[K\rremote: Compressing objects:  82% (79/96)\u001b[K\rremote: Compressing objects:  83% (80/96)\u001b[K\rremote: Compressing objects:  84% (81/96)\u001b[K\rremote: Compressing objects:  85% (82/96)\u001b[K\rremote: Compressing objects:  86% (83/96)\u001b[K\rremote: Compressing objects:  87% (84/96)\u001b[K\rremote: Compressing objects:  88% (85/96)\u001b[K\rremote: Compressing objects:  89% (86/96)\u001b[K\rremote: Compressing objects:  90% (87/96)\u001b[K\rremote: Compressing objects:  91% (88/96)\u001b[K\rremote: Compressing objects:  92% (89/96)\u001b[K\rremote: Compressing objects:  93% (90/96)\u001b[K\rremote: Compressing objects:  94% (91/96)\u001b[K\rremote: Compressing objects:  95% (92/96)\u001b[K\rremote: Compressing objects:  96% (93/96)\u001b[K\rremote: Compressing objects:  97% (94/96)\u001b[K\rremote: Compressing objects:  98% (95/96)\u001b[K\rremote: Compressing objects: 100% (96/96)\u001b[K\rremote: Compressing objects: 100% (96/96), done.\u001b[K\n",
            "Receiving objects:   0% (1/153)   \rReceiving objects:   1% (2/153)   \rReceiving objects:   2% (4/153)   \rReceiving objects:   3% (5/153)   \rReceiving objects:   4% (7/153)   \rReceiving objects:   5% (8/153)   \rReceiving objects:   6% (10/153)   \rReceiving objects:   7% (11/153)   \rReceiving objects:   8% (13/153)   \rReceiving objects:   9% (14/153)   \rReceiving objects:  10% (16/153)   \rReceiving objects:  11% (17/153)   \rReceiving objects:  12% (19/153)   \rReceiving objects:  13% (20/153)   \rReceiving objects:  14% (22/153)   \rReceiving objects:  15% (23/153)   \rReceiving objects:  16% (25/153)   \rReceiving objects:  17% (27/153)   \rReceiving objects:  18% (28/153)   \rReceiving objects:  19% (30/153)   \rReceiving objects:  20% (31/153)   \rReceiving objects:  21% (33/153)   \rReceiving objects:  22% (34/153)   \rReceiving objects:  23% (36/153)   \rReceiving objects:  24% (37/153)   \rReceiving objects:  25% (39/153)   \rReceiving objects:  26% (40/153)   \rReceiving objects:  27% (42/153)   \rReceiving objects:  28% (43/153)   \rReceiving objects:  29% (45/153)   \rReceiving objects:  30% (46/153)   \rReceiving objects:  31% (48/153)   \rReceiving objects:  32% (49/153)   \rReceiving objects:  33% (51/153)   \rReceiving objects:  34% (53/153)   \rReceiving objects:  35% (54/153)   \rReceiving objects:  36% (56/153)   \rReceiving objects:  37% (57/153)   \rReceiving objects:  38% (59/153)   \rReceiving objects:  39% (60/153)   \rReceiving objects:  40% (62/153)   \rReceiving objects:  41% (63/153)   \rReceiving objects:  42% (65/153)   \rReceiving objects:  43% (66/153)   \rReceiving objects:  44% (68/153)   \rReceiving objects:  45% (69/153)   \rReceiving objects:  46% (71/153)   \rReceiving objects:  47% (72/153)   \rReceiving objects:  48% (74/153)   \rReceiving objects:  49% (75/153)   \rReceiving objects:  50% (77/153)   \rReceiving objects:  51% (79/153)   \rReceiving objects:  52% (80/153)   \rReceiving objects:  53% (82/153)   \rReceiving objects:  54% (83/153)   \rReceiving objects:  55% (85/153)   \rReceiving objects:  56% (86/153)   \rReceiving objects:  57% (88/153)   \rReceiving objects:  58% (89/153)   \rReceiving objects:  59% (91/153)   \rReceiving objects:  60% (92/153)   \rReceiving objects:  61% (94/153)   \rReceiving objects:  62% (95/153)   \rReceiving objects:  63% (97/153)   \rReceiving objects:  64% (98/153)   \rReceiving objects:  65% (100/153)   \rReceiving objects:  66% (101/153)   \rReceiving objects:  67% (103/153)   \rReceiving objects:  68% (105/153)   \rReceiving objects:  69% (106/153)   \rremote: Total 153 (delta 90), reused 114 (delta 51), pack-reused 0\u001b[K\n",
            "Receiving objects:  70% (108/153)   \rReceiving objects:  71% (109/153)   \rReceiving objects:  72% (111/153)   \rReceiving objects:  73% (112/153)   \rReceiving objects:  74% (114/153)   \rReceiving objects:  75% (115/153)   \rReceiving objects:  76% (117/153)   \rReceiving objects:  77% (118/153)   \rReceiving objects:  78% (120/153)   \rReceiving objects:  79% (121/153)   \rReceiving objects:  80% (123/153)   \rReceiving objects:  81% (124/153)   \rReceiving objects:  82% (126/153)   \rReceiving objects:  83% (127/153)   \rReceiving objects:  84% (129/153)   \rReceiving objects:  85% (131/153)   \rReceiving objects:  86% (132/153)   \rReceiving objects:  87% (134/153)   \rReceiving objects:  88% (135/153)   \rReceiving objects:  89% (137/153)   \rReceiving objects:  90% (138/153)   \rReceiving objects:  91% (140/153)   \rReceiving objects:  92% (141/153)   \rReceiving objects:  93% (143/153)   \rReceiving objects:  94% (144/153)   \rReceiving objects:  95% (146/153)   \rReceiving objects:  96% (147/153)   \rReceiving objects:  97% (149/153)   \rReceiving objects:  98% (150/153)   \rReceiving objects:  99% (152/153)   \rReceiving objects: 100% (153/153)   \rReceiving objects: 100% (153/153), 89.33 KiB | 417.00 KiB/s, done.\n",
            "Resolving deltas:   0% (0/90)   \rResolving deltas:   6% (6/90)   \rResolving deltas:  22% (20/90)   \rResolving deltas:  24% (22/90)   \rResolving deltas:  28% (26/90)   \rResolving deltas:  52% (47/90)   \rResolving deltas:  60% (54/90)   \rResolving deltas:  78% (71/90)   \rResolving deltas:  81% (73/90)   \rResolving deltas:  84% (76/90)   \rResolving deltas:  91% (82/90)   \rResolving deltas: 100% (90/90)   \rResolving deltas: 100% (90/90), done.\n"
          ],
          "name": "stdout"
        }
      ]
    },
    {
      "cell_type": "code",
      "metadata": {
        "id": "TQZiX7WgkQeu",
        "colab_type": "code",
        "colab": {
          "base_uri": "https://localhost:8080/",
          "height": 122
        },
        "outputId": "cd6b879a-4e83-40d1-c6c4-aee00ad5fe26"
      },
      "source": [
        "from google.colab import drive\n",
        "drive.mount('/content/drive')"
      ],
      "execution_count": 4,
      "outputs": [
        {
          "output_type": "stream",
          "text": [
            "Go to this URL in a browser: https://accounts.google.com/o/oauth2/auth?client_id=947318989803-6bn6qk8qdgf4n4g3pfee6491hc0brc4i.apps.googleusercontent.com&redirect_uri=urn%3aietf%3awg%3aoauth%3a2.0%3aoob&scope=email%20https%3a%2f%2fwww.googleapis.com%2fauth%2fdocs.test%20https%3a%2f%2fwww.googleapis.com%2fauth%2fdrive%20https%3a%2f%2fwww.googleapis.com%2fauth%2fdrive.photos.readonly%20https%3a%2f%2fwww.googleapis.com%2fauth%2fpeopleapi.readonly&response_type=code\n",
            "\n",
            "Enter your authorization code:\n",
            "··········\n",
            "Mounted at /content/drive\n"
          ],
          "name": "stdout"
        }
      ]
    },
    {
      "cell_type": "code",
      "metadata": {
        "id": "caNfRIj1kRcf",
        "colab_type": "code",
        "colab": {
          "base_uri": "https://localhost:8080/",
          "height": 34
        },
        "outputId": "464623c2-c00f-4cda-b94b-043f1b18d0d5"
      },
      "source": [
        "%cd deep_Q_learning_from_scratch"
      ],
      "execution_count": 5,
      "outputs": [
        {
          "output_type": "stream",
          "text": [
            "/content/deep_Q_learning_from_scratch\n"
          ],
          "name": "stdout"
        }
      ]
    },
    {
      "cell_type": "code",
      "metadata": {
        "id": "OzhhtvRQkWJW",
        "colab_type": "code",
        "colab": {
          "base_uri": "https://localhost:8080/",
          "height": 34
        },
        "outputId": "31143000-013e-4794-a812-8d913ebeb9f9"
      },
      "source": [
        "!git pull"
      ],
      "execution_count": 6,
      "outputs": [
        {
          "output_type": "stream",
          "text": [
            "Already up to date.\n"
          ],
          "name": "stdout"
        }
      ]
    },
    {
      "cell_type": "code",
      "metadata": {
        "id": "W0SnQz--kXCg",
        "colab_type": "code",
        "colab": {}
      },
      "source": [
        "import gym\n",
        "import time\n",
        "import cv2\n",
        "import numpy as np\n",
        "\n",
        "from settings import *\n",
        "from agent import *\n",
        "from experience import *\n",
        "from atari_wrappers import *"
      ],
      "execution_count": 7,
      "outputs": []
    },
    {
      "cell_type": "code",
      "metadata": {
        "id": "hc4bwkXTkX7_",
        "colab_type": "code",
        "colab": {
          "base_uri": "https://localhost:8080/",
          "height": 459
        },
        "outputId": "b3d2b67a-51e7-4091-f078-637737ce0f0d"
      },
      "source": [
        "agt = Agent(actions=[0,2,3], epsilon=1, min_epsilon=0.1, eps_decay=1e-6)\n",
        "D_exp = ReplayMemory(capacity=600000)"
      ],
      "execution_count": 8,
      "outputs": [
        {
          "output_type": "stream",
          "text": [
            "⎽⎽⎽⎽⎽⎽⎽⎽⎽⎽⎽⎽⎽⎽⎽⎽⎽⎽⎽⎽⎽⎽⎽⎽⎽⎽⎽⎽⎽⎽⎽⎽⎽⎽⎽⎽⎽⎽⎽⎽⎽⎽⎽⎽⎽⎽⎽⎽⎽⎽⎽⎽⎽⎽⎽⎽⎽⎽⎽⎽⎽⎽⎽⎽⎽⎽⎽⎽⎽⎽⎽⎽⎽⎽⎽⎽⎽⎽⎽⎽⎽⎽⎽⎽⎽⎽⎽⎽⎽⎽\n",
            "Layer (type)               Output Shape             Activation        Param #\n",
            "==========================================================================================\n",
            "- InputLayer(InputLayer)  (None, 80, 80, 4)          echo             0\n",
            "__________________________________________________________________________________________\n",
            "0 Conv2D(Conv2D)          (None, 40, 40, 32)         relu             1184\n",
            "__________________________________________________________________________________________\n",
            "1 BatchNormalization(Batc (None, 40, 40, 32)         echo             128\n",
            "__________________________________________________________________________________________\n",
            "2 Conv2D(Conv2D)          (None, 20, 20, 64)         relu             18496\n",
            "__________________________________________________________________________________________\n",
            "3 BatchNormalization(Batc (None, 20, 20, 64)         echo             256\n",
            "__________________________________________________________________________________________\n",
            "4 Conv2D(Conv2D)          (None, 10, 10, 128)        relu             73856\n",
            "__________________________________________________________________________________________\n",
            "5 BatchNormalization(Batc (None, 10, 10, 128)        echo             512\n",
            "__________________________________________________________________________________________\n",
            "6 Flatten(Flatten)        (None, 12800)              echo             0\n",
            "__________________________________________________________________________________________\n",
            "7 Dense(Dense)            (None, 512)                relu             6554112\n",
            "__________________________________________________________________________________________\n",
            "8 Dense(Dense)            (None, 3)                  echo             1539\n",
            "==========================================================================================\n",
            "Total Params: 6,650,083\n",
            "Trainable Params: 6,649,635\n",
            "Non-trainable Params: 448\n"
          ],
          "name": "stdout"
        }
      ]
    },
    {
      "cell_type": "code",
      "metadata": {
        "id": "XFlEoOqOkbcy",
        "colab_type": "code",
        "colab": {}
      },
      "source": [
        "env = gym.make('Pong-v0')\n",
        "env = FrameStack(env, NFRAMES)      # preprocess and stack frames"
      ],
      "execution_count": 9,
      "outputs": []
    },
    {
      "cell_type": "code",
      "metadata": {
        "id": "OdUHf1_ZkcqT",
        "colab_type": "code",
        "colab": {
          "base_uri": "https://localhost:8080/",
          "height": 34
        },
        "outputId": "ca320f06-8230-426e-e051-2929fcbd1a4e"
      },
      "source": [
        "len(D_exp.ndone)"
      ],
      "execution_count": 14,
      "outputs": [
        {
          "output_type": "execute_result",
          "data": {
            "text/plain": [
              "42677"
            ]
          },
          "metadata": {
            "tags": []
          },
          "execution_count": 14
        }
      ]
    },
    {
      "cell_type": "code",
      "metadata": {
        "id": "1-zscT4Tkd2Z",
        "colab_type": "code",
        "colab": {}
      },
      "source": [
        "for i_episode in range(1000):\n",
        "    observation = env.reset()\n",
        "    ep_score = 0\n",
        "    start = time.time()\n",
        "    nlap = NFRAMES - 2\n",
        "    sv_obs = deque([], maxlen=nlap)\n",
        "    sv_act = deque([], maxlen=nlap)\n",
        "    sv_rew = deque([], maxlen=nlap)\n",
        "    sv_don = deque([], maxlen=nlap)\n",
        "    for t in range(10000):\n",
        "#         env.render()\n",
        "        action = agt.get_action(observation)\n",
        "        next_observation, reward, done, info = env.step(action)\n",
        "        ep_score += reward\n",
        "\n",
        "        sv_obs.append(observation)\n",
        "        sv_act.append(action)\n",
        "        sv_rew.append(reward)\n",
        "        sv_don.append(done)\n",
        "\n",
        "        if t >= nlap-1:\n",
        "            D_exp.store_transition(sv_obs[0], agt.actions.index(sv_act[0]), sv_rew[0], next_observation, sv_don[0])\n",
        "        observation = next_observation\n",
        "\n",
        "        if len(D_exp.ndone) > BATCH_SIZE:\n",
        "            agt.train(D_exp, BATCH_SIZE)\n",
        "        if done:\n",
        "            D_exp.store_transition(sv_obs[-1], agt.actions.index(sv_act[-1]), sv_rew[-1], next_observation, sv_don[-1])\n",
        "            break\n",
        "        print('\\r', t, action, ep_score, end='  ')\n",
        "    print(f\"\\rEpisode {i_episode+1} finished after {t+1} timesteps, Score: {ep_score}, Epsilon: {agt.epsilon:.6f}, Time: {time.time()-start:.2f}\")\n",
        "    agt.update_target()\n",
        "    if not i_episode%4:\n",
        "        agt.model.save_weights(\"/content/drive/My Drive/model.w8s\")\n",
        "env.close()"
      ],
      "execution_count": null,
      "outputs": []
    },
    {
      "cell_type": "code",
      "metadata": {
        "id": "sxsgV_xJkhHi",
        "colab_type": "code",
        "colab": {}
      },
      "source": [
        "env.close()"
      ],
      "execution_count": null,
      "outputs": []
    }
  ]
}