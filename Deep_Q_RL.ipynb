{
 "cells": [
  {
   "cell_type": "code",
   "execution_count": 1,
   "metadata": {
    "colab": {
     "base_uri": "https://localhost:8080/",
     "height": 357
    },
    "colab_type": "code",
    "id": "LbuhMj8QkFUO",
    "outputId": "0277f811-8dbb-4a13-d8d4-b26107e4bb3e"
   },
   "outputs": [
    {
     "name": "stdout",
     "output_type": "stream",
     "text": [
      "Thu Aug 13 11:15:57 2020       \r\n",
      "+-----------------------------------------------------------------------------+\r\n",
      "| NVIDIA-SMI 440.100      Driver Version: 440.100      CUDA Version: 10.2     |\r\n",
      "|-------------------------------+----------------------+----------------------+\r\n",
      "| GPU  Name        Persistence-M| Bus-Id        Disp.A | Volatile Uncorr. ECC |\r\n",
      "| Fan  Temp  Perf  Pwr:Usage/Cap|         Memory-Usage | GPU-Util  Compute M. |\r\n",
      "|===============================+======================+======================|\r\n",
      "|   0  GeForce 920MX       Off  | 00000000:03:00.0 Off |                  N/A |\r\n",
      "| N/A   51C    P0    N/A /  N/A |      5MiB /  2004MiB |      0%      Default |\r\n",
      "+-------------------------------+----------------------+----------------------+\r\n",
      "                                                                               \r\n",
      "+-----------------------------------------------------------------------------+\r\n",
      "| Processes:                                                       GPU Memory |\r\n",
      "|  GPU       PID   Type   Process name                             Usage      |\r\n",
      "|=============================================================================|\r\n",
      "|    0     25945      G   /usr/lib/Xorg                                  4MiB |\r\n",
      "+-----------------------------------------------------------------------------+\r\n"
     ]
    }
   ],
   "source": [
    "!nvidia-smi"
   ]
  },
  {
   "cell_type": "code",
   "execution_count": 2,
   "metadata": {
    "colab": {
     "base_uri": "https://localhost:8080/",
     "height": 136
    },
    "colab_type": "code",
    "id": "v6pXJGDekFNt",
    "outputId": "518e0478-0e82-4256-c965-95a5e7feec87"
   },
   "outputs": [],
   "source": [
    "# !git clone https://github.com/ShivamShrirao/dnn_from_scratch.git"
   ]
  },
  {
   "cell_type": "code",
   "execution_count": 3,
   "metadata": {
    "colab": {
     "base_uri": "https://localhost:8080/",
     "height": 136
    },
    "colab_type": "code",
    "id": "CgT-5T6EkO8a",
    "outputId": "69c18587-5c45-4a6f-c506-e32aaf54ab6a"
   },
   "outputs": [],
   "source": [
    "# !git clone https://github.com/ShivamShrirao/deep_Q_learning_from_scratch.git"
   ]
  },
  {
   "cell_type": "code",
   "execution_count": 4,
   "metadata": {
    "colab": {
     "base_uri": "https://localhost:8080/",
     "height": 122
    },
    "colab_type": "code",
    "id": "TQZiX7WgkQeu",
    "outputId": "cd6b879a-4e83-40d1-c6c4-aee00ad5fe26"
   },
   "outputs": [],
   "source": [
    "# from google.colab import drive\n",
    "# drive.mount('/content/drive')"
   ]
  },
  {
   "cell_type": "code",
   "execution_count": 5,
   "metadata": {
    "colab": {
     "base_uri": "https://localhost:8080/",
     "height": 34
    },
    "colab_type": "code",
    "id": "caNfRIj1kRcf",
    "outputId": "464623c2-c00f-4cda-b94b-043f1b18d0d5"
   },
   "outputs": [],
   "source": [
    "# %cd deep_Q_learning_from_scratch"
   ]
  },
  {
   "cell_type": "code",
   "execution_count": 6,
   "metadata": {
    "colab": {
     "base_uri": "https://localhost:8080/",
     "height": 34
    },
    "colab_type": "code",
    "id": "OzhhtvRQkWJW",
    "outputId": "31143000-013e-4794-a812-8d913ebeb9f9"
   },
   "outputs": [],
   "source": [
    "# !git pull"
   ]
  },
  {
   "cell_type": "code",
   "execution_count": 7,
   "metadata": {
    "colab": {},
    "colab_type": "code",
    "id": "W0SnQz--kXCg"
   },
   "outputs": [],
   "source": [
    "import gym\n",
    "import time\n",
    "import cv2\n",
    "import numpy as np\n",
    "\n",
    "from settings import *\n",
    "from agent import *\n",
    "from experience import *\n",
    "from atari_wrappers import *"
   ]
  },
  {
   "cell_type": "code",
   "execution_count": 8,
   "metadata": {
    "colab": {
     "base_uri": "https://localhost:8080/",
     "height": 459
    },
    "colab_type": "code",
    "id": "hc4bwkXTkX7_",
    "outputId": "b3d2b67a-51e7-4091-f078-637737ce0f0d"
   },
   "outputs": [
    {
     "name": "stdout",
     "output_type": "stream",
     "text": [
      "⎽⎽⎽⎽⎽⎽⎽⎽⎽⎽⎽⎽⎽⎽⎽⎽⎽⎽⎽⎽⎽⎽⎽⎽⎽⎽⎽⎽⎽⎽⎽⎽⎽⎽⎽⎽⎽⎽⎽⎽⎽⎽⎽⎽⎽⎽⎽⎽⎽⎽⎽⎽⎽⎽⎽⎽⎽⎽⎽⎽⎽⎽⎽⎽⎽⎽⎽⎽⎽⎽⎽⎽⎽⎽⎽⎽⎽⎽⎽⎽⎽⎽⎽⎽⎽⎽⎽⎽⎽⎽\n",
      "Layer (type)               Output Shape             Activation        Param #\n",
      "==========================================================================================\n",
      "- InputLayer(InputLayer)  (None, 80, 80, 4)          echo             0\n",
      "__________________________________________________________________________________________\n",
      "0 Conv2D(Conv2D)          (None, 40, 40, 32)         relu             1184\n",
      "__________________________________________________________________________________________\n",
      "1 Conv2D(Conv2D)          (None, 20, 20, 64)         relu             18496\n",
      "__________________________________________________________________________________________\n",
      "2 Conv2D(Conv2D)          (None, 10, 10, 128)        relu             73856\n",
      "__________________________________________________________________________________________\n",
      "3 Flatten(Flatten)        (None, 12800)              echo             0\n",
      "__________________________________________________________________________________________\n",
      "4 Dense(Dense)            (None, 512)                relu             6554112\n",
      "__________________________________________________________________________________________\n",
      "5 Dense(Dense)            (None, 3)                  tanh             1539\n",
      "==========================================================================================\n",
      "Total Params: 6,649,187\n",
      "Trainable Params: 6,649,187\n",
      "Non-trainable Params: 0\n"
     ]
    }
   ],
   "source": [
    "agt = Agent(actions=[0,2,3], epsilon=1, min_epsilon=0.1, eps_decay=1e-6)\n",
    "D_exp = ReplayMemory(capacity=600000)"
   ]
  },
  {
   "cell_type": "code",
   "execution_count": 9,
   "metadata": {
    "colab": {},
    "colab_type": "code",
    "id": "XFlEoOqOkbcy"
   },
   "outputs": [],
   "source": [
    "env = gym.make('Pong-v0')\n",
    "env = FrameStack(env, NFRAMES)      # preprocess and stack frames"
   ]
  },
  {
   "cell_type": "code",
   "execution_count": 10,
   "metadata": {
    "colab": {
     "base_uri": "https://localhost:8080/",
     "height": 34
    },
    "colab_type": "code",
    "id": "OdUHf1_ZkcqT",
    "outputId": "ca320f06-8230-426e-e051-2929fcbd1a4e"
   },
   "outputs": [
    {
     "data": {
      "text/plain": [
       "0"
      ]
     },
     "execution_count": 10,
     "metadata": {},
     "output_type": "execute_result"
    }
   ],
   "source": [
    "len(D_exp.ndone)"
   ]
  },
  {
   "cell_type": "code",
   "execution_count": null,
   "metadata": {
    "colab": {},
    "colab_type": "code",
    "id": "1-zscT4Tkd2Z"
   },
   "outputs": [],
   "source": [
    "for i_episode in range(1000):\n",
    "    observation = env.reset()\n",
    "    ep_score = 0\n",
    "    start = time.time()\n",
    "    nlap = NFRAMES - 2\n",
    "    sv_obs = deque([], maxlen=nlap)\n",
    "    sv_act = deque([], maxlen=nlap)\n",
    "    sv_rew = deque([], maxlen=nlap)\n",
    "    sv_don = deque([], maxlen=nlap)\n",
    "    for t in range(10000):\n",
    "#         env.render()\n",
    "        action = agt.get_action(observation)\n",
    "        next_observation, reward, done, info = env.step(action)\n",
    "        ep_score += reward\n",
    "\n",
    "        sv_obs.append(observation)\n",
    "        sv_act.append(action)\n",
    "        sv_rew.append(reward)\n",
    "        sv_don.append(done)\n",
    "\n",
    "        if t >= nlap-1:\n",
    "            D_exp.store_transition(sv_obs[0], agt.actions.index(sv_act[0]), sv_rew[0], next_observation, sv_don[0])\n",
    "        observation = next_observation\n",
    "\n",
    "        if len(D_exp.ndone) > BATCH_SIZE:\n",
    "            agt.train(D_exp, BATCH_SIZE)\n",
    "            if not t%100:\n",
    "                agt.update_target()\n",
    "        if done:\n",
    "            D_exp.store_transition(sv_obs[-1], agt.actions.index(sv_act[-1]), sv_rew[-1], next_observation, sv_don[-1])\n",
    "            break\n",
    "        print('\\r', t, action, ep_score, end='  ')\n",
    "    print(f\"\\rEpisode {i_episode+1} finished after {t+1} timesteps, Score: {ep_score}, Epsilon: {agt.epsilon:.6f}, Time: {time.time()-start:.2f}\")\n",
    "    agt.update_target()\n",
    "#     if not i_episode%4:\n",
    "#         agt.model.save_weights(\"/content/drive/My Drive/model.w8s\")\n",
    "env.close()"
   ]
  },
  {
   "cell_type": "code",
   "execution_count": null,
   "metadata": {
    "colab": {},
    "colab_type": "code",
    "id": "sxsgV_xJkhHi"
   },
   "outputs": [],
   "source": [
    "env.close()"
   ]
  }
 ],
 "metadata": {
  "accelerator": "GPU",
  "colab": {
   "collapsed_sections": [],
   "machine_shape": "hm",
   "name": "Deep_Q_RL.ipynb",
   "provenance": []
  },
  "kernelspec": {
   "display_name": "Python 3",
   "language": "python",
   "name": "python3"
  },
  "language_info": {
   "codemirror_mode": {
    "name": "ipython",
    "version": 3
   },
   "file_extension": ".py",
   "mimetype": "text/x-python",
   "name": "python",
   "nbconvert_exporter": "python",
   "pygments_lexer": "ipython3",
   "version": "3.8.3"
  }
 },
 "nbformat": 4,
 "nbformat_minor": 1
}
