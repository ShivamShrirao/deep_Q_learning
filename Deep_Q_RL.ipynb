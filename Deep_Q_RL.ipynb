{
  "nbformat": 4,
  "nbformat_minor": 0,
  "metadata": {
    "colab": {
      "name": "Deep_Q_RL.ipynb",
      "provenance": [],
      "collapsed_sections": [],
      "machine_shape": "hm"
    },
    "kernelspec": {
      "name": "python3",
      "display_name": "Python 3"
    },
    "accelerator": "GPU"
  },
  "cells": [
    {
      "cell_type": "code",
      "metadata": {
        "id": "LbuhMj8QkFUO",
        "colab_type": "code",
        "colab": {
          "base_uri": "https://localhost:8080/",
          "height": 357
        },
        "outputId": "7b372f0e-9abe-4f77-a81c-43459ed5b7bc"
      },
      "source": [
        "!nvidia-smi"
      ],
      "execution_count": null,
      "outputs": [
        {
          "output_type": "stream",
          "text": [
            "Thu Aug 20 13:36:59 2020       \n",
            "+-----------------------------------------------------------------------------+\n",
            "| NVIDIA-SMI 450.57       Driver Version: 418.67       CUDA Version: 10.1     |\n",
            "|-------------------------------+----------------------+----------------------+\n",
            "| GPU  Name        Persistence-M| Bus-Id        Disp.A | Volatile Uncorr. ECC |\n",
            "| Fan  Temp  Perf  Pwr:Usage/Cap|         Memory-Usage | GPU-Util  Compute M. |\n",
            "|                               |                      |               MIG M. |\n",
            "|===============================+======================+======================|\n",
            "|   0  Tesla P100-PCIE...  Off  | 00000000:00:04.0 Off |                    0 |\n",
            "| N/A   45C    P0    25W / 250W |      0MiB / 16280MiB |      0%      Default |\n",
            "|                               |                      |                 ERR! |\n",
            "+-------------------------------+----------------------+----------------------+\n",
            "                                                                               \n",
            "+-----------------------------------------------------------------------------+\n",
            "| Processes:                                                                  |\n",
            "|  GPU   GI   CI        PID   Type   Process name                  GPU Memory |\n",
            "|        ID   ID                                                   Usage      |\n",
            "|=============================================================================|\n",
            "|  No running processes found                                                 |\n",
            "+-----------------------------------------------------------------------------+\n"
          ],
          "name": "stdout"
        }
      ]
    },
    {
      "cell_type": "code",
      "metadata": {
        "id": "v6pXJGDekFNt",
        "colab_type": "code",
        "colab": {
          "base_uri": "https://localhost:8080/",
          "height": 136
        },
        "outputId": "7a27aa03-491d-47d5-d413-10fb0a261e97"
      },
      "source": [
        "!git clone https://github.com/ShivamShrirao/dnn_from_scratch.git"
      ],
      "execution_count": null,
      "outputs": [
        {
          "output_type": "stream",
          "text": [
            "Cloning into 'dnn_from_scratch'...\n",
            "remote: Enumerating objects: 222, done.\u001b[K\n",
            "remote: Counting objects:   0% (1/222)\u001b[K\rremote: Counting objects:   1% (3/222)\u001b[K\rremote: Counting objects:   2% (5/222)\u001b[K\rremote: Counting objects:   3% (7/222)\u001b[K\rremote: Counting objects:   4% (9/222)\u001b[K\rremote: Counting objects:   5% (12/222)\u001b[K\rremote: Counting objects:   6% (14/222)\u001b[K\rremote: Counting objects:   7% (16/222)\u001b[K\rremote: Counting objects:   8% (18/222)\u001b[K\rremote: Counting objects:   9% (20/222)\u001b[K\rremote: Counting objects:  10% (23/222)\u001b[K\rremote: Counting objects:  11% (25/222)\u001b[K\rremote: Counting objects:  12% (27/222)\u001b[K\rremote: Counting objects:  13% (29/222)\u001b[K\rremote: Counting objects:  14% (32/222)\u001b[K\rremote: Counting objects:  15% (34/222)\u001b[K\rremote: Counting objects:  16% (36/222)\u001b[K\rremote: Counting objects:  17% (38/222)\u001b[K\rremote: Counting objects:  18% (40/222)\u001b[K\rremote: Counting objects:  19% (43/222)\u001b[K\rremote: Counting objects:  20% (45/222)\u001b[K\rremote: Counting objects:  21% (47/222)\u001b[K\rremote: Counting objects:  22% (49/222)\u001b[K\rremote: Counting objects:  23% (52/222)\u001b[K\rremote: Counting objects:  24% (54/222)\u001b[K\rremote: Counting objects:  25% (56/222)\u001b[K\rremote: Counting objects:  26% (58/222)\u001b[K\rremote: Counting objects:  27% (60/222)\u001b[K\rremote: Counting objects:  28% (63/222)\u001b[K\rremote: Counting objects:  29% (65/222)\u001b[K\rremote: Counting objects:  30% (67/222)\u001b[K\rremote: Counting objects:  31% (69/222)\u001b[K\rremote: Counting objects:  32% (72/222)\u001b[K\rremote: Counting objects:  33% (74/222)\u001b[K\rremote: Counting objects:  34% (76/222)\u001b[K\rremote: Counting objects:  35% (78/222)\u001b[K\rremote: Counting objects:  36% (80/222)\u001b[K\rremote: Counting objects:  37% (83/222)\u001b[K\rremote: Counting objects:  38% (85/222)\u001b[K\rremote: Counting objects:  39% (87/222)\u001b[K\rremote: Counting objects:  40% (89/222)\u001b[K\rremote: Counting objects:  41% (92/222)\u001b[K\rremote: Counting objects:  42% (94/222)\u001b[K\rremote: Counting objects:  43% (96/222)\u001b[K\rremote: Counting objects:  44% (98/222)\u001b[K\rremote: Counting objects:  45% (100/222)\u001b[K\rremote: Counting objects:  46% (103/222)\u001b[K\rremote: Counting objects:  47% (105/222)\u001b[K\rremote: Counting objects:  48% (107/222)\u001b[K\rremote: Counting objects:  49% (109/222)\u001b[K\rremote: Counting objects:  50% (111/222)\u001b[K\rremote: Counting objects:  51% (114/222)\u001b[K\rremote: Counting objects:  52% (116/222)\u001b[K\rremote: Counting objects:  53% (118/222)\u001b[K\rremote: Counting objects:  54% (120/222)\u001b[K\rremote: Counting objects:  55% (123/222)\u001b[K\rremote: Counting objects:  56% (125/222)\u001b[K\rremote: Counting objects:  57% (127/222)\u001b[K\rremote: Counting objects:  58% (129/222)\u001b[K\rremote: Counting objects:  59% (131/222)\u001b[K\rremote: Counting objects:  60% (134/222)\u001b[K\rremote: Counting objects:  61% (136/222)\u001b[K\rremote: Counting objects:  62% (138/222)\u001b[K\rremote: Counting objects:  63% (140/222)\u001b[K\rremote: Counting objects:  64% (143/222)\u001b[K\rremote: Counting objects:  65% (145/222)\u001b[K\rremote: Counting objects:  66% (147/222)\u001b[K\rremote: Counting objects:  67% (149/222)\u001b[K\rremote: Counting objects:  68% (151/222)\u001b[K\rremote: Counting objects:  69% (154/222)\u001b[K\rremote: Counting objects:  70% (156/222)\u001b[K\rremote: Counting objects:  71% (158/222)\u001b[K\rremote: Counting objects:  72% (160/222)\u001b[K\rremote: Counting objects:  73% (163/222)\u001b[K\rremote: Counting objects:  74% (165/222)\u001b[K\rremote: Counting objects:  75% (167/222)\u001b[K\rremote: Counting objects:  76% (169/222)\u001b[K\rremote: Counting objects:  77% (171/222)\u001b[K\rremote: Counting objects:  78% (174/222)\u001b[K\rremote: Counting objects:  79% (176/222)\u001b[K\rremote: Counting objects:  80% (178/222)\u001b[K\rremote: Counting objects:  81% (180/222)\u001b[K\rremote: Counting objects:  82% (183/222)\u001b[K\rremote: Counting objects:  83% (185/222)\u001b[K\rremote: Counting objects:  84% (187/222)\u001b[K\rremote: Counting objects:  85% (189/222)\u001b[K\rremote: Counting objects:  86% (191/222)\u001b[K\rremote: Counting objects:  87% (194/222)\u001b[K\rremote: Counting objects:  88% (196/222)\u001b[K\rremote: Counting objects:  89% (198/222)\u001b[K\rremote: Counting objects:  90% (200/222)\u001b[K\rremote: Counting objects:  91% (203/222)\u001b[K\rremote: Counting objects:  92% (205/222)\u001b[K\rremote: Counting objects:  93% (207/222)\u001b[K\rremote: Counting objects:  94% (209/222)\u001b[K\rremote: Counting objects:  95% (211/222)\u001b[K\rremote: Counting objects:  96% (214/222)\u001b[K\rremote: Counting objects:  97% (216/222)\u001b[K\rremote: Counting objects:  98% (218/222)\u001b[K\rremote: Counting objects:  99% (220/222)\u001b[K\rremote: Counting objects: 100% (222/222)\u001b[K\rremote: Counting objects: 100% (222/222), done.\u001b[K\n",
            "remote: Compressing objects:   0% (1/134)\u001b[K\rremote: Compressing objects:   1% (2/134)\u001b[K\rremote: Compressing objects:   2% (3/134)\u001b[K\rremote: Compressing objects:   3% (5/134)\u001b[K\rremote: Compressing objects:   4% (6/134)\u001b[K\rremote: Compressing objects:   5% (7/134)\u001b[K\rremote: Compressing objects:   6% (9/134)\u001b[K\rremote: Compressing objects:   7% (10/134)\u001b[K\rremote: Compressing objects:   8% (11/134)\u001b[K\rremote: Compressing objects:   9% (13/134)\u001b[K\rremote: Compressing objects:  10% (14/134)\u001b[K\rremote: Compressing objects:  11% (15/134)\u001b[K\rremote: Compressing objects:  12% (17/134)\u001b[K\rremote: Compressing objects:  13% (18/134)\u001b[K\rremote: Compressing objects:  14% (19/134)\u001b[K\rremote: Compressing objects:  15% (21/134)\u001b[K\rremote: Compressing objects:  16% (22/134)\u001b[K\rremote: Compressing objects:  17% (23/134)\u001b[K\rremote: Compressing objects:  18% (25/134)\u001b[K\rremote: Compressing objects:  19% (26/134)\u001b[K\rremote: Compressing objects:  20% (27/134)\u001b[K\rremote: Compressing objects:  21% (29/134)\u001b[K\rremote: Compressing objects:  22% (30/134)\u001b[K\rremote: Compressing objects:  23% (31/134)\u001b[K\rremote: Compressing objects:  24% (33/134)\u001b[K\rremote: Compressing objects:  25% (34/134)\u001b[K\rremote: Compressing objects:  26% (35/134)\u001b[K\rremote: Compressing objects:  27% (37/134)\u001b[K\rremote: Compressing objects:  28% (38/134)\u001b[K\rremote: Compressing objects:  29% (39/134)\u001b[K\rremote: Compressing objects:  30% (41/134)\u001b[K\rremote: Compressing objects:  31% (42/134)\u001b[K\rremote: Compressing objects:  32% (43/134)\u001b[K\rremote: Compressing objects:  33% (45/134)\u001b[K\rremote: Compressing objects:  34% (46/134)\u001b[K\rremote: Compressing objects:  35% (47/134)\u001b[K\rremote: Compressing objects:  36% (49/134)\u001b[K\rremote: Compressing objects:  37% (50/134)\u001b[K\rremote: Compressing objects:  38% (51/134)\u001b[K\rremote: Compressing objects:  39% (53/134)\u001b[K\rremote: Compressing objects:  40% (54/134)\u001b[K\rremote: Compressing objects:  41% (55/134)\u001b[K\rremote: Compressing objects:  42% (57/134)\u001b[K\rremote: Compressing objects:  43% (58/134)\u001b[K\rremote: Compressing objects:  44% (59/134)\u001b[K\rremote: Compressing objects:  45% (61/134)\u001b[K\rremote: Compressing objects:  46% (62/134)\u001b[K\rremote: Compressing objects:  47% (63/134)\u001b[K\rremote: Compressing objects:  48% (65/134)\u001b[K\rremote: Compressing objects:  49% (66/134)\u001b[K\rremote: Compressing objects:  50% (67/134)\u001b[K\rremote: Compressing objects:  51% (69/134)\u001b[K\rremote: Compressing objects:  52% (70/134)\u001b[K\rremote: Compressing objects:  53% (72/134)\u001b[K\rremote: Compressing objects:  54% (73/134)\u001b[K\rremote: Compressing objects:  55% (74/134)\u001b[K\rremote: Compressing objects:  56% (76/134)\u001b[K\rremote: Compressing objects:  57% (77/134)\u001b[K\rremote: Compressing objects:  58% (78/134)\u001b[K\rremote: Compressing objects:  59% (80/134)\u001b[K\rremote: Compressing objects:  60% (81/134)\u001b[K\rremote: Compressing objects:  61% (82/134)\u001b[K\rremote: Compressing objects:  62% (84/134)\u001b[K\rremote: Compressing objects:  63% (85/134)\u001b[K\rremote: Compressing objects:  64% (86/134)\u001b[K\rremote: Compressing objects:  65% (88/134)\u001b[K\rremote: Compressing objects:  66% (89/134)\u001b[K\rremote: Compressing objects:  67% (90/134)\u001b[K\rremote: Compressing objects:  68% (92/134)\u001b[K\rremote: Compressing objects:  69% (93/134)\u001b[K\rremote: Compressing objects:  70% (94/134)\u001b[K\rremote: Compressing objects:  71% (96/134)\u001b[K\rremote: Compressing objects:  72% (97/134)\u001b[K\rremote: Compressing objects:  73% (98/134)\u001b[K\rremote: Compressing objects:  74% (100/134)\u001b[K\rremote: Compressing objects:  75% (101/134)\u001b[K\rremote: Compressing objects:  76% (102/134)\u001b[K\rremote: Compressing objects:  77% (104/134)\u001b[K\rremote: Compressing objects:  78% (105/134)\u001b[K\rremote: Compressing objects:  79% (106/134)\u001b[K\rremote: Compressing objects:  80% (108/134)\u001b[K\rremote: Compressing objects:  81% (109/134)\u001b[K\rremote: Compressing objects:  82% (110/134)\u001b[K\rremote: Compressing objects:  83% (112/134)\u001b[K\rremote: Compressing objects:  84% (113/134)\u001b[K\rremote: Compressing objects:  85% (114/134)\u001b[K\rremote: Compressing objects:  86% (116/134)\u001b[K\rremote: Compressing objects:  87% (117/134)\u001b[K\rremote: Compressing objects:  88% (118/134)\u001b[K\rremote: Compressing objects:  89% (120/134)\u001b[K\rremote: Compressing objects:  90% (121/134)\u001b[K\rremote: Compressing objects:  91% (122/134)\u001b[K\rremote: Compressing objects:  92% (124/134)\u001b[K\rremote: Compressing objects:  93% (125/134)\u001b[K\rremote: Compressing objects:  94% (126/134)\u001b[K\rremote: Compressing objects:  95% (128/134)\u001b[K\rremote: Compressing objects:  96% (129/134)\u001b[K\rremote: Compressing objects:  97% (130/134)\u001b[K\rremote: Compressing objects:  98% (132/134)\u001b[K\rremote: Compressing objects:  99% (133/134)\u001b[K\rremote: Compressing objects: 100% (134/134)\u001b[K\rremote: Compressing objects: 100% (134/134), done.\u001b[K\n",
            "Receiving objects:   0% (1/1440)   \rReceiving objects:   1% (15/1440)   \rReceiving objects:   2% (29/1440)   \rReceiving objects:   3% (44/1440)   \rReceiving objects:   4% (58/1440)   \rReceiving objects:   5% (72/1440)   \rReceiving objects:   6% (87/1440)   \rReceiving objects:   7% (101/1440)   \rReceiving objects:   8% (116/1440)   \rReceiving objects:   9% (130/1440)   \rReceiving objects:  10% (144/1440)   \rReceiving objects:  11% (159/1440)   \rReceiving objects:  12% (173/1440)   \rReceiving objects:  13% (188/1440)   \rReceiving objects:  14% (202/1440)   \rReceiving objects:  15% (216/1440)   \rReceiving objects:  16% (231/1440)   \rReceiving objects:  17% (245/1440)   \rReceiving objects:  18% (260/1440)   \rReceiving objects:  19% (274/1440)   \rReceiving objects:  20% (288/1440)   \rReceiving objects:  21% (303/1440)   \rReceiving objects:  22% (317/1440)   \rReceiving objects:  23% (332/1440)   \rReceiving objects:  24% (346/1440)   \rReceiving objects:  25% (360/1440)   \rReceiving objects:  26% (375/1440)   \rReceiving objects:  27% (389/1440)   \rReceiving objects:  28% (404/1440)   \rReceiving objects:  29% (418/1440)   \rReceiving objects:  30% (432/1440)   \rReceiving objects:  31% (447/1440)   \rReceiving objects:  32% (461/1440)   \rReceiving objects:  33% (476/1440)   \rReceiving objects:  34% (490/1440)   \rReceiving objects:  35% (504/1440)   \rReceiving objects:  36% (519/1440)   \rReceiving objects:  37% (533/1440)   \rReceiving objects:  38% (548/1440)   \rReceiving objects:  39% (562/1440)   \rReceiving objects:  40% (576/1440)   \rReceiving objects:  41% (591/1440)   \rReceiving objects:  42% (605/1440)   \rReceiving objects:  43% (620/1440)   \rReceiving objects:  44% (634/1440)   \rReceiving objects:  45% (648/1440)   \rReceiving objects:  46% (663/1440)   \rReceiving objects:  47% (677/1440)   \rReceiving objects:  48% (692/1440)   \rReceiving objects:  49% (706/1440)   \rReceiving objects:  50% (720/1440)   \rReceiving objects:  51% (735/1440)   \rReceiving objects:  52% (749/1440)   \rReceiving objects:  53% (764/1440)   \rReceiving objects:  54% (778/1440)   \rReceiving objects:  55% (792/1440)   \rReceiving objects:  56% (807/1440)   \rReceiving objects:  57% (821/1440)   \rReceiving objects:  58% (836/1440)   \rReceiving objects:  59% (850/1440)   \rReceiving objects:  60% (864/1440)   \rReceiving objects:  61% (879/1440)   \rReceiving objects:  62% (893/1440)   \rReceiving objects:  63% (908/1440)   \rReceiving objects:  64% (922/1440)   \rReceiving objects:  65% (936/1440)   \rReceiving objects:  66% (951/1440)   \rReceiving objects:  67% (965/1440)   \rReceiving objects:  68% (980/1440)   \rReceiving objects:  69% (994/1440)   \rReceiving objects:  70% (1008/1440)   \rReceiving objects:  71% (1023/1440)   \rReceiving objects:  72% (1037/1440)   \rReceiving objects:  73% (1052/1440)   \rReceiving objects:  74% (1066/1440)   \rReceiving objects:  75% (1080/1440)   \rReceiving objects:  76% (1095/1440)   \rReceiving objects:  77% (1109/1440)   \rReceiving objects:  78% (1124/1440)   \rReceiving objects:  79% (1138/1440)   \rReceiving objects:  80% (1152/1440)   \rReceiving objects:  81% (1167/1440)   \rReceiving objects:  82% (1181/1440)   \rReceiving objects:  83% (1196/1440)   \rReceiving objects:  84% (1210/1440)   \rReceiving objects:  85% (1224/1440)   \rReceiving objects:  86% (1239/1440)   \rReceiving objects:  87% (1253/1440)   \rReceiving objects:  88% (1268/1440)   \rReceiving objects:  89% (1282/1440)   \rReceiving objects:  90% (1296/1440)   \rReceiving objects:  91% (1311/1440)   \rReceiving objects:  92% (1325/1440)   \rReceiving objects:  93% (1340/1440)   \rReceiving objects:  94% (1354/1440)   \rReceiving objects:  95% (1368/1440)   \rReceiving objects:  96% (1383/1440)   \rReceiving objects:  97% (1397/1440)   \rReceiving objects:  98% (1412/1440)   \rReceiving objects:  99% (1426/1440)   \rremote: Total 1440 (delta 143), reused 153 (delta 86), pack-reused 1218\u001b[K\n",
            "Receiving objects: 100% (1440/1440)   \rReceiving objects: 100% (1440/1440), 13.74 MiB | 30.86 MiB/s, done.\n",
            "Resolving deltas:   0% (0/958)   \rResolving deltas:   1% (10/958)   \rResolving deltas:   2% (20/958)   \rResolving deltas:   6% (61/958)   \rResolving deltas:   7% (72/958)   \rResolving deltas:  11% (109/958)   \rResolving deltas:  15% (152/958)   \rResolving deltas:  16% (162/958)   \rResolving deltas:  17% (164/958)   \rResolving deltas:  19% (187/958)   \rResolving deltas:  20% (201/958)   \rResolving deltas:  23% (223/958)   \rResolving deltas:  24% (239/958)   \rResolving deltas:  25% (244/958)   \rResolving deltas:  26% (253/958)   \rResolving deltas:  27% (261/958)   \rResolving deltas:  28% (270/958)   \rResolving deltas:  29% (283/958)   \rResolving deltas:  32% (314/958)   \rResolving deltas:  33% (320/958)   \rResolving deltas:  34% (334/958)   \rResolving deltas:  35% (338/958)   \rResolving deltas:  36% (351/958)   \rResolving deltas:  37% (363/958)   \rResolving deltas:  38% (368/958)   \rResolving deltas:  39% (381/958)   \rResolving deltas:  40% (385/958)   \rResolving deltas:  41% (395/958)   \rResolving deltas:  44% (425/958)   \rResolving deltas:  45% (432/958)   \rResolving deltas:  46% (447/958)   \rResolving deltas:  52% (503/958)   \rResolving deltas:  54% (526/958)   \rResolving deltas:  56% (543/958)   \rResolving deltas:  68% (658/958)   \rResolving deltas:  69% (668/958)   \rResolving deltas:  70% (674/958)   \rResolving deltas:  71% (684/958)   \rResolving deltas:  72% (693/958)   \rResolving deltas:  73% (702/958)   \rResolving deltas:  75% (719/958)   \rResolving deltas:  76% (731/958)   \rResolving deltas:  77% (742/958)   \rResolving deltas:  78% (748/958)   \rResolving deltas:  79% (764/958)   \rResolving deltas:  80% (767/958)   \rResolving deltas:  81% (777/958)   \rResolving deltas:  82% (786/958)   \rResolving deltas:  83% (796/958)   \rResolving deltas:  85% (816/958)   \rResolving deltas:  86% (824/958)   \rResolving deltas:  87% (837/958)   \rResolving deltas:  88% (845/958)   \rResolving deltas:  89% (855/958)   \rResolving deltas:  90% (868/958)   \rResolving deltas:  91% (872/958)   \rResolving deltas:  92% (882/958)   \rResolving deltas:  93% (891/958)   \rResolving deltas:  94% (901/958)   \rResolving deltas:  95% (916/958)   \rResolving deltas:  96% (928/958)   \rResolving deltas:  97% (936/958)   \rResolving deltas:  99% (952/958)   \rResolving deltas: 100% (958/958)   \rResolving deltas: 100% (958/958), done.\n"
          ],
          "name": "stdout"
        }
      ]
    },
    {
      "cell_type": "code",
      "metadata": {
        "id": "CgT-5T6EkO8a",
        "colab_type": "code",
        "colab": {
          "base_uri": "https://localhost:8080/",
          "height": 136
        },
        "outputId": "3911471f-30b2-4b99-ba43-6b306f131600"
      },
      "source": [
        "!git clone https://github.com/ShivamShrirao/deep_Q_learning_from_scratch.git"
      ],
      "execution_count": null,
      "outputs": [
        {
          "output_type": "stream",
          "text": [
            "Cloning into 'deep_Q_learning_from_scratch'...\n",
            "remote: Enumerating objects: 220, done.\u001b[K\n",
            "remote: Counting objects:   0% (1/220)\u001b[K\rremote: Counting objects:   1% (3/220)\u001b[K\rremote: Counting objects:   2% (5/220)\u001b[K\rremote: Counting objects:   3% (7/220)\u001b[K\rremote: Counting objects:   4% (9/220)\u001b[K\rremote: Counting objects:   5% (11/220)\u001b[K\rremote: Counting objects:   6% (14/220)\u001b[K\rremote: Counting objects:   7% (16/220)\u001b[K\rremote: Counting objects:   8% (18/220)\u001b[K\rremote: Counting objects:   9% (20/220)\u001b[K\rremote: Counting objects:  10% (22/220)\u001b[K\rremote: Counting objects:  11% (25/220)\u001b[K\rremote: Counting objects:  12% (27/220)\u001b[K\rremote: Counting objects:  13% (29/220)\u001b[K\rremote: Counting objects:  14% (31/220)\u001b[K\rremote: Counting objects:  15% (33/220)\u001b[K\rremote: Counting objects:  16% (36/220)\u001b[K\rremote: Counting objects:  17% (38/220)\u001b[K\rremote: Counting objects:  18% (40/220)\u001b[K\rremote: Counting objects:  19% (42/220)\u001b[K\rremote: Counting objects:  20% (44/220)\u001b[K\rremote: Counting objects:  21% (47/220)\u001b[K\rremote: Counting objects:  22% (49/220)\u001b[K\rremote: Counting objects:  23% (51/220)\u001b[K\rremote: Counting objects:  24% (53/220)\u001b[K\rremote: Counting objects:  25% (55/220)\u001b[K\rremote: Counting objects:  26% (58/220)\u001b[K\rremote: Counting objects:  27% (60/220)\u001b[K\rremote: Counting objects:  28% (62/220)\u001b[K\rremote: Counting objects:  29% (64/220)\u001b[K\rremote: Counting objects:  30% (66/220)\u001b[K\rremote: Counting objects:  31% (69/220)\u001b[K\rremote: Counting objects:  32% (71/220)\u001b[K\rremote: Counting objects:  33% (73/220)\u001b[K\rremote: Counting objects:  34% (75/220)\u001b[K\rremote: Counting objects:  35% (77/220)\u001b[K\rremote: Counting objects:  36% (80/220)\u001b[K\rremote: Counting objects:  37% (82/220)\u001b[K\rremote: Counting objects:  38% (84/220)\u001b[K\rremote: Counting objects:  39% (86/220)\u001b[K\rremote: Counting objects:  40% (88/220)\u001b[K\rremote: Counting objects:  41% (91/220)\u001b[K\rremote: Counting objects:  42% (93/220)\u001b[K\rremote: Counting objects:  43% (95/220)\u001b[K\rremote: Counting objects:  44% (97/220)\u001b[K\rremote: Counting objects:  45% (99/220)\u001b[K\rremote: Counting objects:  46% (102/220)\u001b[K\rremote: Counting objects:  47% (104/220)\u001b[K\rremote: Counting objects:  48% (106/220)\u001b[K\rremote: Counting objects:  49% (108/220)\u001b[K\rremote: Counting objects:  50% (110/220)\u001b[K\rremote: Counting objects:  51% (113/220)\u001b[K\rremote: Counting objects:  52% (115/220)\u001b[K\rremote: Counting objects:  53% (117/220)\u001b[K\rremote: Counting objects:  54% (119/220)\u001b[K\rremote: Counting objects:  55% (121/220)\u001b[K\rremote: Counting objects:  56% (124/220)\u001b[K\rremote: Counting objects:  57% (126/220)\u001b[K\rremote: Counting objects:  58% (128/220)\u001b[K\rremote: Counting objects:  59% (130/220)\u001b[K\rremote: Counting objects:  60% (132/220)\u001b[K\rremote: Counting objects:  61% (135/220)\u001b[K\rremote: Counting objects:  62% (137/220)\u001b[K\rremote: Counting objects:  63% (139/220)\u001b[K\rremote: Counting objects:  64% (141/220)\u001b[K\rremote: Counting objects:  65% (143/220)\u001b[K\rremote: Counting objects:  66% (146/220)\u001b[K\rremote: Counting objects:  67% (148/220)\u001b[K\rremote: Counting objects:  68% (150/220)\u001b[K\rremote: Counting objects:  69% (152/220)\u001b[K\rremote: Counting objects:  70% (154/220)\u001b[K\rremote: Counting objects:  71% (157/220)\u001b[K\rremote: Counting objects:  72% (159/220)\u001b[K\rremote: Counting objects:  73% (161/220)\u001b[K\rremote: Counting objects:  74% (163/220)\u001b[K\rremote: Counting objects:  75% (165/220)\u001b[K\rremote: Counting objects:  76% (168/220)\u001b[K\rremote: Counting objects:  77% (170/220)\u001b[K\rremote: Counting objects:  78% (172/220)\rremote: Counting objects:  79% (174/220)\u001b[K\rremote: Counting objects:  80% (176/220)\u001b[K\rremote: Counting objects:  81% (179/220)\u001b[K\rremote: Counting objects:  82% (181/220)\u001b[K\rremote: Counting objects:  83% (183/220)\u001b[K\rremote: Counting objects:  84% (185/220)\u001b[K\rremote: Counting objects:  85% (187/220)\u001b[K\rremote: Counting objects:  86% (190/220)\u001b[K\rremote: Counting objects:  87% (192/220)\u001b[K\rremote: Counting objects:  88% (194/220)\u001b[K\rremote: Counting objects:  89% (196/220)\u001b[K\rremote: Counting objects:  90% (198/220)\u001b[K\rremote: Counting objects:  91% (201/220)\u001b[K\rremote: Counting objects:  92% (203/220)\u001b[K\rremote: Counting objects:  93% (205/220)\u001b[K\rremote: Counting objects:  94% (207/220)\u001b[K\rremote: Counting objects:  95% (209/220)\u001b[K\rremote: Counting objects:  96% (212/220)\u001b[K\rremote: Counting objects:  97% (214/220)\u001b[K\rremote: Counting objects:  98% (216/220)\u001b[K\rremote: Counting objects:  99% (218/220)\u001b[K\rremote: Counting objects: 100% (220/220)\u001b[K\rremote: Counting objects: 100% (220/220), done.\u001b[K\n",
            "remote: Compressing objects:   0% (1/146)\u001b[K\rremote: Compressing objects:   1% (2/146)\u001b[K\rremote: Compressing objects:   2% (3/146)\u001b[K\rremote: Compressing objects:   3% (5/146)\u001b[K\rremote: Compressing objects:   4% (6/146)\u001b[K\rremote: Compressing objects:   5% (8/146)\u001b[K\rremote: Compressing objects:   6% (9/146)\u001b[K\rremote: Compressing objects:   7% (11/146)\u001b[K\rremote: Compressing objects:   8% (12/146)\u001b[K\rremote: Compressing objects:   9% (14/146)\u001b[K\rremote: Compressing objects:  10% (15/146)\u001b[K\rremote: Compressing objects:  11% (17/146)\u001b[K\rremote: Compressing objects:  12% (18/146)\u001b[K\rremote: Compressing objects:  13% (19/146)\u001b[K\rremote: Compressing objects:  14% (21/146)\u001b[K\rremote: Compressing objects:  15% (22/146)\u001b[K\rremote: Compressing objects:  16% (24/146)\u001b[K\rremote: Compressing objects:  17% (25/146)\u001b[K\rremote: Compressing objects:  18% (27/146)\u001b[K\rremote: Compressing objects:  19% (28/146)\u001b[K\rremote: Compressing objects:  20% (30/146)\u001b[K\rremote: Compressing objects:  21% (31/146)\u001b[K\rremote: Compressing objects:  22% (33/146)\u001b[K\rremote: Compressing objects:  23% (34/146)\u001b[K\rremote: Compressing objects:  24% (36/146)\u001b[K\rremote: Compressing objects:  25% (37/146)\u001b[K\rremote: Compressing objects:  26% (38/146)\u001b[K\rremote: Compressing objects:  27% (40/146)\u001b[K\rremote: Compressing objects:  28% (41/146)\u001b[K\rremote: Compressing objects:  29% (43/146)\u001b[K\rremote: Compressing objects:  30% (44/146)\u001b[K\rremote: Compressing objects:  31% (46/146)\u001b[K\rremote: Compressing objects:  32% (47/146)\u001b[K\rremote: Compressing objects:  33% (49/146)\u001b[K\rremote: Compressing objects:  34% (50/146)\u001b[K\rremote: Compressing objects:  35% (52/146)\u001b[K\rremote: Compressing objects:  36% (53/146)\u001b[K\rremote: Compressing objects:  37% (55/146)\u001b[K\rremote: Compressing objects:  38% (56/146)\u001b[K\rremote: Compressing objects:  39% (57/146)\u001b[K\rremote: Compressing objects:  40% (59/146)\u001b[K\rremote: Compressing objects:  41% (60/146)\u001b[K\rremote: Compressing objects:  42% (62/146)\u001b[K\rremote: Compressing objects:  43% (63/146)\u001b[K\rremote: Compressing objects:  44% (65/146)\u001b[K\rremote: Compressing objects:  45% (66/146)\u001b[K\rremote: Compressing objects:  46% (68/146)\u001b[K\rremote: Compressing objects:  47% (69/146)\u001b[K\rremote: Compressing objects:  48% (71/146)\u001b[K\rremote: Compressing objects:  49% (72/146)\u001b[K\rremote: Compressing objects:  50% (73/146)\u001b[K\rremote: Compressing objects:  51% (75/146)\u001b[K\rremote: Compressing objects:  52% (76/146)\u001b[K\rremote: Compressing objects:  53% (78/146)\u001b[K\rremote: Compressing objects:  54% (79/146)\u001b[K\rremote: Compressing objects:  55% (81/146)\u001b[K\rremote: Compressing objects:  56% (82/146)\u001b[K\rremote: Compressing objects:  57% (84/146)\u001b[K\rremote: Compressing objects:  58% (85/146)\u001b[K\rremote: Compressing objects:  59% (87/146)\u001b[K\rremote: Compressing objects:  60% (88/146)\u001b[K\rremote: Compressing objects:  61% (90/146)\u001b[K\rremote: Compressing objects:  62% (91/146)\u001b[K\rremote: Compressing objects:  63% (92/146)\u001b[K\rremote: Compressing objects:  64% (94/146)\u001b[K\rremote: Compressing objects:  65% (95/146)\u001b[K\rremote: Compressing objects:  66% (97/146)\u001b[K\rremote: Compressing objects:  67% (98/146)\u001b[K\rremote: Compressing objects:  68% (100/146)\u001b[K\rremote: Compressing objects:  69% (101/146)\u001b[K\rremote: Compressing objects:  70% (103/146)\u001b[K\rremote: Compressing objects:  71% (104/146)\u001b[K\rremote: Compressing objects:  72% (106/146)\u001b[K\rremote: Compressing objects:  73% (107/146)\u001b[K\rremote: Compressing objects:  74% (109/146)\u001b[K\rremote: Compressing objects:  75% (110/146)\u001b[K\rremote: Compressing objects:  76% (111/146)\u001b[K\rremote: Compressing objects:  77% (113/146)\u001b[K\rremote: Compressing objects:  78% (114/146)\u001b[K\rremote: Compressing objects:  79% (116/146)\u001b[K\rremote: Compressing objects:  80% (117/146)\u001b[K\rremote: Compressing objects:  81% (119/146)\u001b[K\rremote: Compressing objects:  82% (120/146)\u001b[K\rremote: Compressing objects:  83% (122/146)\u001b[K\rremote: Compressing objects:  84% (123/146)\u001b[K\rremote: Compressing objects:  85% (125/146)\u001b[K\rremote: Compressing objects:  86% (126/146)\u001b[K\rremote: Compressing objects:  87% (128/146)\u001b[K\rremote: Compressing objects:  88% (129/146)\u001b[K\rremote: Compressing objects:  89% (130/146)\u001b[K\rremote: Compressing objects:  90% (132/146)\u001b[K\rremote: Compressing objects:  91% (133/146)\u001b[K\rremote: Compressing objects:  92% (135/146)\u001b[K\rremote: Compressing objects:  93% (136/146)\u001b[K\rremote: Compressing objects:  94% (138/146)\u001b[K\rremote: Compressing objects:  95% (139/146)\u001b[K\rremote: Compressing objects:  96% (141/146)\u001b[K\rremote: Compressing objects:  97% (142/146)\u001b[K\rremote: Compressing objects:  98% (144/146)\u001b[K\rremote: Compressing objects:  99% (145/146)\u001b[K\rremote: Compressing objects: 100% (146/146)\u001b[K\rremote: Compressing objects: 100% (146/146), done.\u001b[K\n",
            "Receiving objects:   0% (1/220)   \rReceiving objects:   1% (3/220)   \rReceiving objects:   2% (5/220)   \rReceiving objects:   3% (7/220)   \rReceiving objects:   4% (9/220)   \rReceiving objects:   5% (11/220)   \rReceiving objects:   6% (14/220)   \rReceiving objects:   7% (16/220)   \rReceiving objects:   8% (18/220)   \rReceiving objects:   9% (20/220)   \rReceiving objects:  10% (22/220)   \rReceiving objects:  11% (25/220)   \rReceiving objects:  12% (27/220)   \rReceiving objects:  13% (29/220)   \rReceiving objects:  14% (31/220)   \rReceiving objects:  15% (33/220)   \rReceiving objects:  16% (36/220)   \rReceiving objects:  17% (38/220)   \rReceiving objects:  18% (40/220)   \rReceiving objects:  19% (42/220)   \rReceiving objects:  20% (44/220)   \rReceiving objects:  21% (47/220)   \rReceiving objects:  22% (49/220)   \rReceiving objects:  23% (51/220)   \rReceiving objects:  24% (53/220)   \rReceiving objects:  25% (55/220)   \rReceiving objects:  26% (58/220)   \rReceiving objects:  27% (60/220)   \rReceiving objects:  28% (62/220)   \rReceiving objects:  29% (64/220)   \rReceiving objects:  30% (66/220)   \rReceiving objects:  31% (69/220)   \rReceiving objects:  32% (71/220)   \rReceiving objects:  33% (73/220)   \rReceiving objects:  34% (75/220)   \rReceiving objects:  35% (77/220)   \rReceiving objects:  36% (80/220)   \rReceiving objects:  37% (82/220)   \rReceiving objects:  38% (84/220)   \rReceiving objects:  39% (86/220)   \rReceiving objects:  40% (88/220)   \rReceiving objects:  41% (91/220)   \rReceiving objects:  42% (93/220)   \rremote: Total 220 (delta 135), reused 152 (delta 67), pack-reused 0\u001b[K\n",
            "Receiving objects:  43% (95/220)   \rReceiving objects:  44% (97/220)   \rReceiving objects:  45% (99/220)   \rReceiving objects:  46% (102/220)   \rReceiving objects:  47% (104/220)   \rReceiving objects:  48% (106/220)   \rReceiving objects:  49% (108/220)   \rReceiving objects:  50% (110/220)   \rReceiving objects:  51% (113/220)   \rReceiving objects:  52% (115/220)   \rReceiving objects:  53% (117/220)   \rReceiving objects:  54% (119/220)   \rReceiving objects:  55% (121/220)   \rReceiving objects:  56% (124/220)   \rReceiving objects:  57% (126/220)   \rReceiving objects:  58% (128/220)   \rReceiving objects:  59% (130/220)   \rReceiving objects:  60% (132/220)   \rReceiving objects:  61% (135/220)   \rReceiving objects:  62% (137/220)   \rReceiving objects:  63% (139/220)   \rReceiving objects:  64% (141/220)   \rReceiving objects:  65% (143/220)   \rReceiving objects:  66% (146/220)   \rReceiving objects:  67% (148/220)   \rReceiving objects:  68% (150/220)   \rReceiving objects:  69% (152/220)   \rReceiving objects:  70% (154/220)   \rReceiving objects:  71% (157/220)   \rReceiving objects:  72% (159/220)   \rReceiving objects:  73% (161/220)   \rReceiving objects:  74% (163/220)   \rReceiving objects:  75% (165/220)   \rReceiving objects:  76% (168/220)   \rReceiving objects:  77% (170/220)   \rReceiving objects:  78% (172/220)   \rReceiving objects:  79% (174/220)   \rReceiving objects:  80% (176/220)   \rReceiving objects:  81% (179/220)   \rReceiving objects:  82% (181/220)   \rReceiving objects:  83% (183/220)   \rReceiving objects:  84% (185/220)   \rReceiving objects:  85% (187/220)   \rReceiving objects:  86% (190/220)   \rReceiving objects:  87% (192/220)   \rReceiving objects:  88% (194/220)   \rReceiving objects:  89% (196/220)   \rReceiving objects:  90% (198/220)   \rReceiving objects:  91% (201/220)   \rReceiving objects:  92% (203/220)   \rReceiving objects:  93% (205/220)   \rReceiving objects:  94% (207/220)   \rReceiving objects:  95% (209/220)   \rReceiving objects:  96% (212/220)   \rReceiving objects:  97% (214/220)   \rReceiving objects:  98% (216/220)   \rReceiving objects:  99% (218/220)   \rReceiving objects: 100% (220/220)   \rReceiving objects: 100% (220/220), 175.87 KiB | 3.52 MiB/s, done.\n",
            "Resolving deltas:   0% (0/135)   \rResolving deltas:   2% (3/135)   \rResolving deltas:  29% (40/135)   \rResolving deltas:  37% (50/135)   \rResolving deltas:  45% (62/135)   \rResolving deltas:  50% (68/135)   \rResolving deltas:  52% (71/135)   \rResolving deltas:  56% (76/135)   \rResolving deltas:  76% (103/135)   \rResolving deltas:  80% (109/135)   \rResolving deltas:  88% (119/135)   \rResolving deltas:  90% (122/135)   \rResolving deltas:  92% (125/135)   \rResolving deltas:  96% (130/135)   \rResolving deltas: 100% (135/135)   \rResolving deltas: 100% (135/135), done.\n"
          ],
          "name": "stdout"
        }
      ]
    },
    {
      "cell_type": "code",
      "metadata": {
        "id": "TQZiX7WgkQeu",
        "colab_type": "code",
        "colab": {
          "base_uri": "https://localhost:8080/",
          "height": 122
        },
        "outputId": "25859976-7305-4c03-e743-3ae7b1f7183c"
      },
      "source": [
        "from google.colab import drive\n",
        "drive.mount('/content/drive')"
      ],
      "execution_count": null,
      "outputs": [
        {
          "output_type": "stream",
          "text": [
            "Go to this URL in a browser: https://accounts.google.com/o/oauth2/auth?client_id=947318989803-6bn6qk8qdgf4n4g3pfee6491hc0brc4i.apps.googleusercontent.com&redirect_uri=urn%3aietf%3awg%3aoauth%3a2.0%3aoob&scope=email%20https%3a%2f%2fwww.googleapis.com%2fauth%2fdocs.test%20https%3a%2f%2fwww.googleapis.com%2fauth%2fdrive%20https%3a%2f%2fwww.googleapis.com%2fauth%2fdrive.photos.readonly%20https%3a%2f%2fwww.googleapis.com%2fauth%2fpeopleapi.readonly&response_type=code\n",
            "\n",
            "Enter your authorization code:\n",
            "··········\n",
            "Mounted at /content/drive\n"
          ],
          "name": "stdout"
        }
      ]
    },
    {
      "cell_type": "code",
      "metadata": {
        "id": "caNfRIj1kRcf",
        "colab_type": "code",
        "colab": {
          "base_uri": "https://localhost:8080/",
          "height": 34
        },
        "outputId": "a8edbf2b-0748-40e1-b19e-025d8e21eaf1"
      },
      "source": [
        "%cd deep_Q_learning_from_scratch"
      ],
      "execution_count": 1,
      "outputs": [
        {
          "output_type": "stream",
          "text": [
            "/content/deep_Q_learning_from_scratch\n"
          ],
          "name": "stdout"
        }
      ]
    },
    {
      "cell_type": "code",
      "metadata": {
        "id": "OzhhtvRQkWJW",
        "colab_type": "code",
        "colab": {
          "base_uri": "https://localhost:8080/",
          "height": 68
        },
        "outputId": "deb479d1-54d7-4b82-dc82-fb6757cd9fae"
      },
      "source": [
        "!git pull origin master"
      ],
      "execution_count": null,
      "outputs": [
        {
          "output_type": "stream",
          "text": [
            "From https://github.com/ShivamShrirao/deep_Q_learning_from_scratch\n",
            " * branch            master     -> FETCH_HEAD\n",
            "Already up to date.\n"
          ],
          "name": "stdout"
        }
      ]
    },
    {
      "cell_type": "code",
      "metadata": {
        "id": "W0SnQz--kXCg",
        "colab_type": "code",
        "colab": {}
      },
      "source": [
        "import gym\n",
        "import time\n",
        "import cv2\n",
        "import numpy as np\n",
        "from collections import deque\n",
        "\n",
        "from settings import *\n",
        "from agent import *\n",
        "from experience import *"
      ],
      "execution_count": 3,
      "outputs": []
    },
    {
      "cell_type": "code",
      "metadata": {
        "id": "hc4bwkXTkX7_",
        "colab_type": "code",
        "colab": {
          "base_uri": "https://localhost:8080/",
          "height": 357
        },
        "outputId": "3308803e-857b-45a2-c38a-f91f40b5b9e6"
      },
      "source": [
        "agt = Agent(actions=[0,2,3], epsilon=1, min_epsilon=0.1, eps_decay=2e-6, target_update_thresh=1000)\n",
        "D_exp = ReplayMemory(capacity=1_000_000, nlap=2)"
      ],
      "execution_count": 4,
      "outputs": [
        {
          "output_type": "stream",
          "text": [
            "⎽⎽⎽⎽⎽⎽⎽⎽⎽⎽⎽⎽⎽⎽⎽⎽⎽⎽⎽⎽⎽⎽⎽⎽⎽⎽⎽⎽⎽⎽⎽⎽⎽⎽⎽⎽⎽⎽⎽⎽⎽⎽⎽⎽⎽⎽⎽⎽⎽⎽⎽⎽⎽⎽⎽⎽⎽⎽⎽⎽⎽⎽⎽⎽⎽⎽⎽⎽⎽⎽⎽⎽⎽⎽⎽⎽⎽⎽⎽⎽⎽⎽⎽⎽⎽⎽⎽⎽⎽⎽\n",
            "Layer (type)               Output Shape             Activation        Param #\n",
            "==========================================================================================\n",
            "- InputLayer(InputLayer)  (None, 80, 80, 4)          echo             0\n",
            "__________________________________________________________________________________________\n",
            "0 Conv2D(Conv2D)          (None, 40, 40, 32)         relu             1184\n",
            "__________________________________________________________________________________________\n",
            "1 Conv2D(Conv2D)          (None, 20, 20, 64)         relu             18496\n",
            "__________________________________________________________________________________________\n",
            "2 Conv2D(Conv2D)          (None, 10, 10, 128)        relu             73856\n",
            "__________________________________________________________________________________________\n",
            "3 Flatten(Flatten)        (None, 12800)              echo             0\n",
            "__________________________________________________________________________________________\n",
            "4 Dense(Dense)            (None, 512)                relu             6554112\n",
            "__________________________________________________________________________________________\n",
            "5 Dense(Dense)            (None, 3)                  tanh             1539\n",
            "==========================================================================================\n",
            "Total Params: 6,649,187\n",
            "Trainable Params: 6,649,187\n",
            "Non-trainable Params: 0\n"
          ],
          "name": "stdout"
        }
      ]
    },
    {
      "cell_type": "code",
      "metadata": {
        "id": "MDlH0rWlH2Kt",
        "colab_type": "code",
        "colab": {
          "base_uri": "https://localhost:8080/",
          "height": 34
        },
        "outputId": "26d19978-1802-4690-80bf-c9d48668408f"
      },
      "source": [
        "D_exp.current_state.nbytes/1024/1024/1024"
      ],
      "execution_count": 5,
      "outputs": [
        {
          "output_type": "execute_result",
          "data": {
            "text/plain": [
              "5.9604644775390625"
            ]
          },
          "metadata": {
            "tags": []
          },
          "execution_count": 5
        }
      ]
    },
    {
      "cell_type": "code",
      "metadata": {
        "id": "XFlEoOqOkbcy",
        "colab_type": "code",
        "colab": {}
      },
      "source": [
        "env = gym.make('Pong-v0')"
      ],
      "execution_count": 6,
      "outputs": []
    },
    {
      "cell_type": "code",
      "metadata": {
        "id": "do2kpfL9Yd_o",
        "colab_type": "code",
        "colab": {
          "base_uri": "https://localhost:8080/",
          "height": 34
        },
        "outputId": "626ab3fc-26c9-4bbe-c7ef-e3c7d554c3d5"
      },
      "source": [
        "D_exp.len"
      ],
      "execution_count": 7,
      "outputs": [
        {
          "output_type": "execute_result",
          "data": {
            "text/plain": [
              "0"
            ]
          },
          "metadata": {
            "tags": []
          },
          "execution_count": 7
        }
      ]
    },
    {
      "cell_type": "code",
      "metadata": {
        "id": "P5wyrabdjar3",
        "colab_type": "code",
        "colab": {}
      },
      "source": [
        "agt.target_update_thresh = 1000"
      ],
      "execution_count": 14,
      "outputs": []
    },
    {
      "cell_type": "code",
      "metadata": {
        "id": "1-zscT4Tkd2Z",
        "colab_type": "code",
        "colab": {
          "base_uri": "https://localhost:8080/",
          "height": 272
        },
        "outputId": "0ea72597-b357-4eb9-ea49-b066ffa07787"
      },
      "source": [
        "for i_episode in range(500):\n",
        "    obinit = env.reset()\n",
        "    if not i_episode:\n",
        "        observation = obinit\n",
        "        state = preproc_obsv(observation)\n",
        "        state_que = deque([], maxlen=NFRAMES)\n",
        "        for i in range(NFRAMES):\n",
        "            state_que.append(state)\n",
        "    ep_score = 0\n",
        "    start = time.time()\n",
        "    for t in range(10_000):\n",
        "        s_s = time.time()\n",
        "#         env.render()\n",
        "        state = preproc_obsv(observation)\n",
        "        state_que.append(state)\n",
        "        action = agt.get_action(state_que)\n",
        "        next_observation, reward, done, info = env.step(action)\n",
        "        ep_score += reward\n",
        "\n",
        "        D_exp.store_transition(state, agt.actions.index(action), reward, done)\n",
        "        observation = next_observation\n",
        "\n",
        "        if (D_exp.len-D_exp.idx_len) > BATCH_SIZE:\n",
        "            grads = agt.train(D_exp, BATCH_SIZE)\n",
        "        if done:\n",
        "            break\n",
        "        print('\\r', t, action, ep_score, end='  ')\n",
        "    print(f\"\\rEpisode {i_episode+1} finished after {t+1} timesteps, Score: {ep_score}, Epsilon: {agt.epsilon:.6f}, Time: {time.time()-start:.2f}\")\n",
        "    if not i_episode%8:\n",
        "        agt.model.save_weights(\"/content/drive/My Drive/model.w8s\")\n",
        "env.close()"
      ],
      "execution_count": null,
      "outputs": [
        {
          "output_type": "stream",
          "text": [
            "Episode 1 finished after 2339 timesteps, Score: -19.0, Epsilon: 0.695322, Time: 30.79\n",
            "Episode 2 finished after 2594 timesteps, Score: -18.0, Epsilon: 0.690134, Time: 33.87\n",
            "Episode 3 finished after 1997 timesteps, Score: -17.0, Epsilon: 0.686140, Time: 26.49\n",
            "Episode 4 finished after 2691 timesteps, Score: -18.0, Epsilon: 0.680758, Time: 35.36\n",
            "Episode 5 finished after 2687 timesteps, Score: -18.0, Epsilon: 0.675384, Time: 35.25\n",
            "Episode 6 finished after 2047 timesteps, Score: -21.0, Epsilon: 0.671290, Time: 26.78\n",
            "Episode 7 finished after 1354 timesteps, Score: -21.0, Epsilon: 0.668582, Time: 17.78\n",
            "Episode 8 finished after 2338 timesteps, Score: -20.0, Epsilon: 0.663906, Time: 30.66\n",
            "Episode 9 finished after 1738 timesteps, Score: -19.0, Epsilon: 0.660430, Time: 22.68\n",
            "Episode 10 finished after 2594 timesteps, Score: -20.0, Epsilon: 0.655242, Time: 34.12\n",
            "Episode 11 finished after 2454 timesteps, Score: -18.0, Epsilon: 0.650334, Time: 32.37\n",
            "Episode 12 finished after 2057 timesteps, Score: -20.0, Epsilon: 0.646220, Time: 27.31\n",
            "Episode 13 finished after 2806 timesteps, Score: -17.0, Epsilon: 0.640608, Time: 37.29\n",
            "Episode 14 finished after 2165 timesteps, Score: -21.0, Epsilon: 0.636278, Time: 28.60\n",
            " 3696 3 -15.0  "
          ],
          "name": "stdout"
        }
      ]
    },
    {
      "cell_type": "code",
      "metadata": {
        "id": "iJ8xVnmIM-d_",
        "colab_type": "code",
        "colab": {}
      },
      "source": [
        "agt.epsilon = 0.7"
      ],
      "execution_count": 16,
      "outputs": []
    },
    {
      "cell_type": "code",
      "metadata": {
        "id": "WwhwhRmdbUjW",
        "colab_type": "code",
        "colab": {
          "base_uri": "https://localhost:8080/",
          "height": 51
        },
        "outputId": "ca091962-8ba6-4a6a-d019-20c934cf5166"
      },
      "source": [
        "for i_episode in range(2):\n",
        "    obinit = env.reset()\n",
        "    if not i_episode:\n",
        "        observation = obinit\n",
        "        state = preproc_obsv(observation)\n",
        "        state_que = deque([], maxlen=NFRAMES)\n",
        "        for i in range(NFRAMES):\n",
        "            state_que.append(state)\n",
        "    ep_score = 0\n",
        "    preds = []\n",
        "    reward_history = []\n",
        "    start = time.time()\n",
        "    t = -1\n",
        "    while 1:\n",
        "        t+=1\n",
        "        # env.render()\n",
        "        state = preproc_obsv(observation)\n",
        "        state_que.append(state)\n",
        "        # action = agt.get_action(state_que)\n",
        "        out = agt.predict(state_que)\n",
        "        pidx = cp.argmax(out[0]).item()\n",
        "        preds.append(out[0][pidx].item())\n",
        "        action = agt.actions[pidx]\n",
        "        next_observation, reward, done, info = env.step(action)\n",
        "        ep_score += reward\n",
        "        reward_history.append(reward)\n",
        "        observation = next_observation\n",
        "        # time.sleep(1/fps)\n",
        "        if done:\n",
        "            break\n",
        "        print('\\r', t, action, ep_score, end='  ')\n",
        "    print(f\"\\rEpisode {i_episode+1} finished after {t+1} timesteps, Score: {ep_score}, Epsilon: {agt.epsilon:.6f}, Time: {time.time()-start:.2f}\")"
      ],
      "execution_count": 13,
      "outputs": [
        {
          "output_type": "stream",
          "text": [
            "Episode 1 finished after 3200 timesteps, Score: -12.0, Epsilon: 0.000000, Time: 10.47\n",
            "Episode 2 finished after 2793 timesteps, Score: -17.0, Epsilon: 0.000000, Time: 9.17\n"
          ],
          "name": "stdout"
        }
      ]
    },
    {
      "cell_type": "code",
      "metadata": {
        "id": "7DqektqyH6Wb",
        "colab_type": "code",
        "colab": {}
      },
      "source": [
        ""
      ],
      "execution_count": null,
      "outputs": []
    }
  ]
}