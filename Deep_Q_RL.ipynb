{
 "cells": [
  {
   "cell_type": "code",
   "execution_count": 1,
   "metadata": {
    "colab": {
     "base_uri": "https://localhost:8080/",
     "height": 357
    },
    "colab_type": "code",
    "id": "LbuhMj8QkFUO",
    "outputId": "ea18807c-2fe5-4780-d371-62620ee4b839"
   },
   "outputs": [
    {
     "name": "stdout",
     "output_type": "stream",
     "text": [
      "Wed Aug 12 11:16:15 2020       \r\n",
      "+-----------------------------------------------------------------------------+\r\n",
      "| NVIDIA-SMI 440.100      Driver Version: 440.100      CUDA Version: 10.2     |\r\n",
      "|-------------------------------+----------------------+----------------------+\r\n",
      "| GPU  Name        Persistence-M| Bus-Id        Disp.A | Volatile Uncorr. ECC |\r\n",
      "| Fan  Temp  Perf  Pwr:Usage/Cap|         Memory-Usage | GPU-Util  Compute M. |\r\n",
      "|===============================+======================+======================|\r\n",
      "|   0  GeForce 920MX       Off  | 00000000:03:00.0 Off |                  N/A |\r\n",
      "| N/A   45C    P0    N/A /  N/A |      5MiB /  2004MiB |      0%      Default |\r\n",
      "+-------------------------------+----------------------+----------------------+\r\n",
      "                                                                               \r\n",
      "+-----------------------------------------------------------------------------+\r\n",
      "| Processes:                                                       GPU Memory |\r\n",
      "|  GPU       PID   Type   Process name                             Usage      |\r\n",
      "|=============================================================================|\r\n",
      "|    0     24122      G   /usr/lib/Xorg                                  4MiB |\r\n",
      "+-----------------------------------------------------------------------------+\r\n"
     ]
    }
   ],
   "source": [
    "!nvidia-smi"
   ]
  },
  {
   "cell_type": "code",
   "execution_count": 2,
   "metadata": {
    "colab": {
     "base_uri": "https://localhost:8080/",
     "height": 136
    },
    "colab_type": "code",
    "id": "v6pXJGDekFNt",
    "outputId": "854aec8c-d678-4e22-c8b7-31530aa5a5dd"
   },
   "outputs": [],
   "source": [
    "# !git clone https://github.com/ShivamShrirao/dnn_from_scratch.git"
   ]
  },
  {
   "cell_type": "code",
   "execution_count": 3,
   "metadata": {
    "colab": {
     "base_uri": "https://localhost:8080/",
     "height": 136
    },
    "colab_type": "code",
    "id": "CgT-5T6EkO8a",
    "outputId": "8e707203-5404-4310-ab4e-b903c5b5593e"
   },
   "outputs": [],
   "source": [
    "# !git clone https://github.com/ShivamShrirao/deep_Q_learning_from_scratch.git"
   ]
  },
  {
   "cell_type": "code",
   "execution_count": 4,
   "metadata": {
    "colab": {
     "base_uri": "https://localhost:8080/",
     "height": 122
    },
    "colab_type": "code",
    "id": "TQZiX7WgkQeu",
    "outputId": "1f248295-d700-4d7a-f93e-9ec7546ef512"
   },
   "outputs": [],
   "source": [
    "# from google.colab import drive\n",
    "# drive.mount('/content/drive')"
   ]
  },
  {
   "cell_type": "code",
   "execution_count": 5,
   "metadata": {
    "colab": {
     "base_uri": "https://localhost:8080/",
     "height": 34
    },
    "colab_type": "code",
    "id": "caNfRIj1kRcf",
    "outputId": "4c09ddca-0924-450e-cb39-3beba7b45085"
   },
   "outputs": [],
   "source": [
    "# %cd deep_Q_learning_from_scratch"
   ]
  },
  {
   "cell_type": "code",
   "execution_count": 6,
   "metadata": {
    "colab": {},
    "colab_type": "code",
    "id": "W0SnQz--kXCg"
   },
   "outputs": [],
   "source": [
    "import gym\n",
    "import time\n",
    "import cv2\n",
    "import numpy as np\n",
    "\n",
    "from settings import *\n",
    "from agent import *\n",
    "from experience import *\n",
    "from atari_wrappers import *"
   ]
  },
  {
   "cell_type": "code",
   "execution_count": 7,
   "metadata": {
    "colab": {
     "base_uri": "https://localhost:8080/",
     "height": 357
    },
    "colab_type": "code",
    "id": "hc4bwkXTkX7_",
    "outputId": "f8c6d0b7-f742-4519-b75a-2e435a5d1092"
   },
   "outputs": [
    {
     "name": "stdout",
     "output_type": "stream",
     "text": [
      "⎽⎽⎽⎽⎽⎽⎽⎽⎽⎽⎽⎽⎽⎽⎽⎽⎽⎽⎽⎽⎽⎽⎽⎽⎽⎽⎽⎽⎽⎽⎽⎽⎽⎽⎽⎽⎽⎽⎽⎽⎽⎽⎽⎽⎽⎽⎽⎽⎽⎽⎽⎽⎽⎽⎽⎽⎽⎽⎽⎽⎽⎽⎽⎽⎽⎽⎽⎽⎽⎽⎽⎽⎽⎽⎽⎽⎽⎽⎽⎽⎽⎽⎽⎽⎽⎽⎽⎽⎽⎽\n",
      "Layer (type)               Output Shape             Activation        Param #\n",
      "==========================================================================================\n",
      "- InputLayer(InputLayer)  (None, 80, 80, 4)          echo             0\n",
      "__________________________________________________________________________________________\n",
      "0 Conv2D(Conv2D)          (None, 40, 40, 32)         relu             1184\n",
      "__________________________________________________________________________________________\n",
      "1 Conv2D(Conv2D)          (None, 20, 20, 64)         relu             18496\n",
      "__________________________________________________________________________________________\n",
      "2 Conv2D(Conv2D)          (None, 10, 10, 128)        relu             73856\n",
      "__________________________________________________________________________________________\n",
      "3 Flatten(Flatten)        (None, 12800)              echo             0\n",
      "__________________________________________________________________________________________\n",
      "4 Dense(Dense)            (None, 256)                relu             3277056\n",
      "__________________________________________________________________________________________\n",
      "5 Dense(Dense)            (None, 3)                  echo             771\n",
      "==========================================================================================\n",
      "Total Params: 3,371,363\n",
      "Trainable Params: 3,371,363\n",
      "Non-trainable Params: 0\n"
     ]
    }
   ],
   "source": [
    "agt = Agent(actions=[0,2,3], epsilon=1, min_epsilon=0.1, eps_decay=1e-6)\n",
    "D_exp = ReplayMemory(capacity=600000)"
   ]
  },
  {
   "cell_type": "code",
   "execution_count": 8,
   "metadata": {
    "colab": {},
    "colab_type": "code",
    "id": "XFlEoOqOkbcy"
   },
   "outputs": [],
   "source": [
    "env = gym.make('Pong-v0')\n",
    "env = FrameStack(env, NFRAMES)      # preprocess and stack frames"
   ]
  },
  {
   "cell_type": "code",
   "execution_count": 9,
   "metadata": {
    "colab": {
     "base_uri": "https://localhost:8080/",
     "height": 34
    },
    "colab_type": "code",
    "id": "OdUHf1_ZkcqT",
    "outputId": "c33ec29a-f1c2-4b1f-9b5f-401ba3363d71"
   },
   "outputs": [
    {
     "data": {
      "text/plain": [
       "0"
      ]
     },
     "execution_count": 9,
     "metadata": {},
     "output_type": "execute_result"
    }
   ],
   "source": [
    "len(D_exp.ndone)"
   ]
  },
  {
   "cell_type": "code",
   "execution_count": 14,
   "metadata": {},
   "outputs": [],
   "source": [
    "agt.model.load_weights(\"model.w8s\")"
   ]
  },
  {
   "cell_type": "code",
   "execution_count": 15,
   "metadata": {},
   "outputs": [],
   "source": [
    "agt.epsilon = 0"
   ]
  },
  {
   "cell_type": "code",
   "execution_count": 16,
   "metadata": {
    "colab": {
     "base_uri": "https://localhost:8080/",
     "height": 1000
    },
    "colab_type": "code",
    "id": "1-zscT4Tkd2Z",
    "outputId": "fdcd01d9-fa2d-42bc-dc84-362126f07aeb"
   },
   "outputs": [
    {
     "name": "stdout",
     "output_type": "stream",
     "text": [
      "Episode 1 finished after 1024 timesteps, Score: -21.0, Epsilon: 0, Time: 5.9434897899627686\n",
      "Episode 2 finished after 1016 timesteps, Score: -21.0, Epsilon: 0, Time: 5.845656156539917\n",
      "Episode 3 finished after 1019 timesteps, Score: -21.0, Epsilon: 0, Time: 5.788917064666748\n"
     ]
    }
   ],
   "source": [
    "for i_episode in range(3):\n",
    "    observation = env.reset()\n",
    "    ep_score = 0\n",
    "    start = time.time()\n",
    "    sv_obs = deque([], maxlen=NFRAMES)\n",
    "    sv_act = deque([], maxlen=NFRAMES)\n",
    "    sv_rew = deque([], maxlen=NFRAMES)\n",
    "    sv_don = deque([], maxlen=NFRAMES)\n",
    "    for t in range(10000):\n",
    "        env.render()\n",
    "        action = agt.get_action(observation)\n",
    "        next_observation, reward, done, info = env.step(action)\n",
    "        ep_score += reward\n",
    "\n",
    "        sv_obs.append(observation)\n",
    "        sv_act.append(action)\n",
    "        sv_rew.append(reward)\n",
    "        sv_don.append(done)\n",
    "\n",
    "#         D_exp.store_transition(sv_obs[0], agt.actions.index(sv_act[0]), sv_rew[0], next_observation, sv_don[0])\n",
    "        observation = next_observation\n",
    "#         time.sleep(1/80)\n",
    "\n",
    "        # D_exp.current_state.popleft()\n",
    "        # D_exp.action_idx.popleft()\n",
    "        # D_exp.reward.popleft()\n",
    "        # D_exp.next_state.popleft()\n",
    "        # D_exp.ndone.popleft()\n",
    "\n",
    "#         if len(D_exp.ndone) > BATCH_SIZE:\n",
    "#             agt.train(D_exp, BATCH_SIZE)\n",
    "        \n",
    "        if done:\n",
    "            break\n",
    "        print('\\r', t, action, ep_score, end='  ')\n",
    "    print(f\"\\rEpisode {i_episode+1} finished after {t+1} timesteps, Score: {ep_score}, Epsilon: {agt.epsilon}, Time: {time.time()-start}\")\n",
    "#     agt.model.save_weights(\"/content/drive/My Drive/model.w8s\")\n",
    "env.close()"
   ]
  },
  {
   "cell_type": "code",
   "execution_count": 13,
   "metadata": {
    "colab": {},
    "colab_type": "code",
    "id": "sxsgV_xJkhHi"
   },
   "outputs": [],
   "source": [
    "env.close()"
   ]
  },
  {
   "cell_type": "code",
   "execution_count": null,
   "metadata": {},
   "outputs": [],
   "source": []
  }
 ],
 "metadata": {
  "accelerator": "GPU",
  "colab": {
   "collapsed_sections": [],
   "machine_shape": "hm",
   "name": "Deep_Q_RL.ipynb",
   "provenance": []
  },
  "kernelspec": {
   "display_name": "Python 3",
   "language": "python",
   "name": "python3"
  },
  "language_info": {
   "codemirror_mode": {
    "name": "ipython",
    "version": 3
   },
   "file_extension": ".py",
   "mimetype": "text/x-python",
   "name": "python",
   "nbconvert_exporter": "python",
   "pygments_lexer": "ipython3",
   "version": "3.8.3"
  }
 },
 "nbformat": 4,
 "nbformat_minor": 1
}
