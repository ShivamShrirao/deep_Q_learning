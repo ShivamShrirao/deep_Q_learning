{
  "nbformat": 4,
  "nbformat_minor": 0,
  "metadata": {
    "colab": {
      "name": "Deep_Q_RL.ipynb",
      "provenance": [],
      "collapsed_sections": [],
      "machine_shape": "hm"
    },
    "kernelspec": {
      "name": "python3",
      "display_name": "Python 3"
    },
    "accelerator": "GPU"
  },
  "cells": [
    {
      "cell_type": "code",
      "metadata": {
        "id": "LbuhMj8QkFUO",
        "colab_type": "code",
        "colab": {
          "base_uri": "https://localhost:8080/",
          "height": 357
        },
        "outputId": "395895d2-8c7b-48e5-c13e-e763b6f734e4"
      },
      "source": [
        "!nvidia-smi"
      ],
      "execution_count": 1,
      "outputs": [
        {
          "output_type": "stream",
          "text": [
            "Tue Aug 18 15:09:23 2020       \n",
            "+-----------------------------------------------------------------------------+\n",
            "| NVIDIA-SMI 450.57       Driver Version: 418.67       CUDA Version: 10.1     |\n",
            "|-------------------------------+----------------------+----------------------+\n",
            "| GPU  Name        Persistence-M| Bus-Id        Disp.A | Volatile Uncorr. ECC |\n",
            "| Fan  Temp  Perf  Pwr:Usage/Cap|         Memory-Usage | GPU-Util  Compute M. |\n",
            "|                               |                      |               MIG M. |\n",
            "|===============================+======================+======================|\n",
            "|   0  Tesla P100-PCIE...  Off  | 00000000:00:04.0 Off |                    0 |\n",
            "| N/A   43C    P0    29W / 250W |      0MiB / 16280MiB |      0%      Default |\n",
            "|                               |                      |                 ERR! |\n",
            "+-------------------------------+----------------------+----------------------+\n",
            "                                                                               \n",
            "+-----------------------------------------------------------------------------+\n",
            "| Processes:                                                                  |\n",
            "|  GPU   GI   CI        PID   Type   Process name                  GPU Memory |\n",
            "|        ID   ID                                                   Usage      |\n",
            "|=============================================================================|\n",
            "|  No running processes found                                                 |\n",
            "+-----------------------------------------------------------------------------+\n"
          ],
          "name": "stdout"
        }
      ]
    },
    {
      "cell_type": "code",
      "metadata": {
        "id": "v6pXJGDekFNt",
        "colab_type": "code",
        "colab": {
          "base_uri": "https://localhost:8080/",
          "height": 136
        },
        "outputId": "b05c5244-d9dc-4771-b84f-484c1bb7d3f1"
      },
      "source": [
        "!git clone https://github.com/ShivamShrirao/dnn_from_scratch.git"
      ],
      "execution_count": 2,
      "outputs": [
        {
          "output_type": "stream",
          "text": [
            "Cloning into 'dnn_from_scratch'...\n",
            "remote: Enumerating objects: 222, done.\u001b[K\n",
            "remote: Counting objects:   0% (1/222)\u001b[K\rremote: Counting objects:   1% (3/222)\u001b[K\rremote: Counting objects:   2% (5/222)\u001b[K\rremote: Counting objects:   3% (7/222)\u001b[K\rremote: Counting objects:   4% (9/222)\u001b[K\rremote: Counting objects:   5% (12/222)\u001b[K\rremote: Counting objects:   6% (14/222)\u001b[K\rremote: Counting objects:   7% (16/222)\u001b[K\rremote: Counting objects:   8% (18/222)\u001b[K\rremote: Counting objects:   9% (20/222)\u001b[K\rremote: Counting objects:  10% (23/222)\u001b[K\rremote: Counting objects:  11% (25/222)\u001b[K\rremote: Counting objects:  12% (27/222)\u001b[K\rremote: Counting objects:  13% (29/222)\u001b[K\rremote: Counting objects:  14% (32/222)\u001b[K\rremote: Counting objects:  15% (34/222)\u001b[K\rremote: Counting objects:  16% (36/222)\u001b[K\rremote: Counting objects:  17% (38/222)\u001b[K\rremote: Counting objects:  18% (40/222)\u001b[K\rremote: Counting objects:  19% (43/222)\u001b[K\rremote: Counting objects:  20% (45/222)\u001b[K\rremote: Counting objects:  21% (47/222)\u001b[K\rremote: Counting objects:  22% (49/222)\u001b[K\rremote: Counting objects:  23% (52/222)\u001b[K\rremote: Counting objects:  24% (54/222)\u001b[K\rremote: Counting objects:  25% (56/222)\u001b[K\rremote: Counting objects:  26% (58/222)\u001b[K\rremote: Counting objects:  27% (60/222)\u001b[K\rremote: Counting objects:  28% (63/222)\u001b[K\rremote: Counting objects:  29% (65/222)\u001b[K\rremote: Counting objects:  30% (67/222)\u001b[K\rremote: Counting objects:  31% (69/222)\u001b[K\rremote: Counting objects:  32% (72/222)\u001b[K\rremote: Counting objects:  33% (74/222)\u001b[K\rremote: Counting objects:  34% (76/222)\u001b[K\rremote: Counting objects:  35% (78/222)\u001b[K\rremote: Counting objects:  36% (80/222)\u001b[K\rremote: Counting objects:  37% (83/222)\u001b[K\rremote: Counting objects:  38% (85/222)\u001b[K\rremote: Counting objects:  39% (87/222)\u001b[K\rremote: Counting objects:  40% (89/222)\u001b[K\rremote: Counting objects:  41% (92/222)\u001b[K\rremote: Counting objects:  42% (94/222)\u001b[K\rremote: Counting objects:  43% (96/222)\u001b[K\rremote: Counting objects:  44% (98/222)\u001b[K\rremote: Counting objects:  45% (100/222)\u001b[K\rremote: Counting objects:  46% (103/222)\u001b[K\rremote: Counting objects:  47% (105/222)\u001b[K\rremote: Counting objects:  48% (107/222)\u001b[K\rremote: Counting objects:  49% (109/222)\u001b[K\rremote: Counting objects:  50% (111/222)\u001b[K\rremote: Counting objects:  51% (114/222)\u001b[K\rremote: Counting objects:  52% (116/222)\u001b[K\rremote: Counting objects:  53% (118/222)\u001b[K\rremote: Counting objects:  54% (120/222)\u001b[K\rremote: Counting objects:  55% (123/222)\u001b[K\rremote: Counting objects:  56% (125/222)\u001b[K\rremote: Counting objects:  57% (127/222)\u001b[K\rremote: Counting objects:  58% (129/222)\u001b[K\rremote: Counting objects:  59% (131/222)\u001b[K\rremote: Counting objects:  60% (134/222)\u001b[K\rremote: Counting objects:  61% (136/222)\u001b[K\rremote: Counting objects:  62% (138/222)\u001b[K\rremote: Counting objects:  63% (140/222)\u001b[K\rremote: Counting objects:  64% (143/222)\u001b[K\rremote: Counting objects:  65% (145/222)\u001b[K\rremote: Counting objects:  66% (147/222)\u001b[K\rremote: Counting objects:  67% (149/222)\u001b[K\rremote: Counting objects:  68% (151/222)\u001b[K\rremote: Counting objects:  69% (154/222)\u001b[K\rremote: Counting objects:  70% (156/222)\u001b[K\rremote: Counting objects:  71% (158/222)\u001b[K\rremote: Counting objects:  72% (160/222)\u001b[K\rremote: Counting objects:  73% (163/222)\u001b[K\rremote: Counting objects:  74% (165/222)\u001b[K\rremote: Counting objects:  75% (167/222)\u001b[K\rremote: Counting objects:  76% (169/222)\u001b[K\rremote: Counting objects:  77% (171/222)\u001b[K\rremote: Counting objects:  78% (174/222)\u001b[K\rremote: Counting objects:  79% (176/222)\u001b[K\rremote: Counting objects:  80% (178/222)\u001b[K\rremote: Counting objects:  81% (180/222)\u001b[K\rremote: Counting objects:  82% (183/222)\u001b[K\rremote: Counting objects:  83% (185/222)\u001b[K\rremote: Counting objects:  84% (187/222)\u001b[K\rremote: Counting objects:  85% (189/222)\u001b[K\rremote: Counting objects:  86% (191/222)\u001b[K\rremote: Counting objects:  87% (194/222)\u001b[K\rremote: Counting objects:  88% (196/222)\u001b[K\rremote: Counting objects:  89% (198/222)\u001b[K\rremote: Counting objects:  90% (200/222)\u001b[K\rremote: Counting objects:  91% (203/222)\u001b[K\rremote: Counting objects:  92% (205/222)\u001b[K\rremote: Counting objects:  93% (207/222)\u001b[K\rremote: Counting objects:  94% (209/222)\u001b[K\rremote: Counting objects:  95% (211/222)\u001b[K\rremote: Counting objects:  96% (214/222)\u001b[K\rremote: Counting objects:  97% (216/222)\u001b[K\rremote: Counting objects:  98% (218/222)\u001b[K\rremote: Counting objects:  99% (220/222)\u001b[K\rremote: Counting objects: 100% (222/222)\u001b[K\rremote: Counting objects: 100% (222/222), done.\u001b[K\n",
            "remote: Compressing objects: 100% (134/134), done.\u001b[K\n",
            "remote: Total 1440 (delta 143), reused 153 (delta 86), pack-reused 1218\u001b[K\n",
            "Receiving objects: 100% (1440/1440), 13.74 MiB | 30.52 MiB/s, done.\n",
            "Resolving deltas: 100% (958/958), done.\n"
          ],
          "name": "stdout"
        }
      ]
    },
    {
      "cell_type": "code",
      "metadata": {
        "id": "CgT-5T6EkO8a",
        "colab_type": "code",
        "colab": {
          "base_uri": "https://localhost:8080/",
          "height": 136
        },
        "outputId": "d2155a83-e730-495f-8040-99b3be6da7e2"
      },
      "source": [
        "!git clone https://github.com/ShivamShrirao/deep_Q_learning_from_scratch.git"
      ],
      "execution_count": 3,
      "outputs": [
        {
          "output_type": "stream",
          "text": [
            "Cloning into 'deep_Q_learning_from_scratch'...\n",
            "remote: Enumerating objects: 195, done.\u001b[K\n",
            "remote: Counting objects:   0% (1/195)\u001b[K\rremote: Counting objects:   1% (2/195)\u001b[K\rremote: Counting objects:   2% (4/195)\u001b[K\rremote: Counting objects:   3% (6/195)\u001b[K\rremote: Counting objects:   4% (8/195)\u001b[K\rremote: Counting objects:   5% (10/195)\u001b[K\rremote: Counting objects:   6% (12/195)\u001b[K\rremote: Counting objects:   7% (14/195)\u001b[K\rremote: Counting objects:   8% (16/195)\u001b[K\rremote: Counting objects:   9% (18/195)\u001b[K\rremote: Counting objects:  10% (20/195)\u001b[K\rremote: Counting objects:  11% (22/195)\u001b[K\rremote: Counting objects:  12% (24/195)\u001b[K\rremote: Counting objects:  13% (26/195)\u001b[K\rremote: Counting objects:  14% (28/195)\u001b[K\rremote: Counting objects:  15% (30/195)\u001b[K\rremote: Counting objects:  16% (32/195)\u001b[K\rremote: Counting objects:  17% (34/195)\u001b[K\rremote: Counting objects:  18% (36/195)\u001b[K\rremote: Counting objects:  19% (38/195)\u001b[K\rremote: Counting objects:  20% (39/195)\u001b[K\rremote: Counting objects:  21% (41/195)\u001b[K\rremote: Counting objects:  22% (43/195)\u001b[K\rremote: Counting objects:  23% (45/195)\u001b[K\rremote: Counting objects:  24% (47/195)\u001b[K\rremote: Counting objects:  25% (49/195)\u001b[K\rremote: Counting objects:  26% (51/195)\u001b[K\rremote: Counting objects:  27% (53/195)\u001b[K\rremote: Counting objects:  28% (55/195)\u001b[K\rremote: Counting objects:  29% (57/195)\u001b[K\rremote: Counting objects:  30% (59/195)\u001b[K\rremote: Counting objects:  31% (61/195)\u001b[K\rremote: Counting objects:  32% (63/195)\u001b[K\rremote: Counting objects:  33% (65/195)\u001b[K\rremote: Counting objects:  34% (67/195)\u001b[K\rremote: Counting objects:  35% (69/195)\u001b[K\rremote: Counting objects:  36% (71/195)\u001b[K\rremote: Counting objects:  37% (73/195)\u001b[K\rremote: Counting objects:  38% (75/195)\u001b[K\rremote: Counting objects:  39% (77/195)\u001b[K\rremote: Counting objects:  40% (78/195)\u001b[K\rremote: Counting objects:  41% (80/195)\u001b[K\rremote: Counting objects:  42% (82/195)\u001b[K\rremote: Counting objects:  43% (84/195)\u001b[K\rremote: Counting objects:  44% (86/195)\u001b[K\rremote: Counting objects:  45% (88/195)\u001b[K\rremote: Counting objects:  46% (90/195)\u001b[K\rremote: Counting objects:  47% (92/195)\u001b[K\rremote: Counting objects:  48% (94/195)\u001b[K\rremote: Counting objects:  49% (96/195)\u001b[K\rremote: Counting objects:  50% (98/195)\u001b[K\rremote: Counting objects:  51% (100/195)\u001b[K\rremote: Counting objects:  52% (102/195)\u001b[K\rremote: Counting objects:  53% (104/195)\u001b[K\rremote: Counting objects:  54% (106/195)\u001b[K\rremote: Counting objects:  55% (108/195)\u001b[K\rremote: Counting objects:  56% (110/195)\u001b[K\rremote: Counting objects:  57% (112/195)\u001b[K\rremote: Counting objects:  58% (114/195)\u001b[K\rremote: Counting objects:  59% (116/195)\u001b[K\rremote: Counting objects:  60% (117/195)\u001b[K\rremote: Counting objects:  61% (119/195)\u001b[K\rremote: Counting objects:  62% (121/195)\u001b[K\rremote: Counting objects:  63% (123/195)\u001b[K\rremote: Counting objects:  64% (125/195)\u001b[K\rremote: Counting objects:  65% (127/195)\u001b[K\rremote: Counting objects:  66% (129/195)\u001b[K\rremote: Counting objects:  67% (131/195)\u001b[K\rremote: Counting objects:  68% (133/195)\u001b[K\rremote: Counting objects:  69% (135/195)\u001b[K\rremote: Counting objects:  70% (137/195)\u001b[K\rremote: Counting objects:  71% (139/195)\u001b[K\rremote: Counting objects:  72% (141/195)\u001b[K\rremote: Counting objects:  73% (143/195)\u001b[K\rremote: Counting objects:  74% (145/195)\u001b[K\rremote: Counting objects:  75% (147/195)\u001b[K\rremote: Counting objects:  76% (149/195)\u001b[K\rremote: Counting objects:  77% (151/195)\u001b[K\rremote: Counting objects:  78% (153/195)\u001b[K\rremote: Counting objects:  79% (155/195)\u001b[K\rremote: Counting objects:  80% (156/195)\u001b[K\rremote: Counting objects:  81% (158/195)\u001b[K\rremote: Counting objects:  82% (160/195)\u001b[K\rremote: Counting objects:  83% (162/195)\u001b[K\rremote: Counting objects:  84% (164/195)\u001b[K\rremote: Counting objects:  85% (166/195)\u001b[K\rremote: Counting objects:  86% (168/195)\u001b[K\rremote: Counting objects:  87% (170/195)\u001b[K\rremote: Counting objects:  88% (172/195)\u001b[K\rremote: Counting objects:  89% (174/195)\u001b[K\rremote: Counting objects:  90% (176/195)\u001b[K\rremote: Counting objects:  91% (178/195)\u001b[K\rremote: Counting objects:  92% (180/195)\u001b[K\rremote: Counting objects:  93% (182/195)\u001b[K\rremote: Counting objects:  94% (184/195)\u001b[K\rremote: Counting objects:  95% (186/195)\u001b[K\rremote: Counting objects:  96% (188/195)\u001b[K\rremote: Counting objects:  97% (190/195)\u001b[K\rremote: Counting objects:  98% (192/195)\u001b[K\rremote: Counting objects:  99% (194/195)\u001b[K\rremote: Counting objects: 100% (195/195)\u001b[K\rremote: Counting objects: 100% (195/195), done.\u001b[K\n",
            "remote: Compressing objects:   0% (1/129)\u001b[K\rremote: Compressing objects:   1% (2/129)\u001b[K\rremote: Compressing objects:   2% (3/129)\u001b[K\rremote: Compressing objects:   3% (4/129)\u001b[K\rremote: Compressing objects:   4% (6/129)\u001b[K\rremote: Compressing objects:   5% (7/129)\u001b[K\rremote: Compressing objects:   6% (8/129)\u001b[K\rremote: Compressing objects:   7% (10/129)\u001b[K\rremote: Compressing objects:   8% (11/129)\u001b[K\rremote: Compressing objects:   9% (12/129)\u001b[K\rremote: Compressing objects:  10% (13/129)\u001b[K\rremote: Compressing objects:  11% (15/129)\u001b[K\rremote: Compressing objects:  12% (16/129)\u001b[K\rremote: Compressing objects:  13% (17/129)\u001b[K\rremote: Compressing objects:  14% (19/129)\u001b[K\rremote: Compressing objects:  15% (20/129)\u001b[K\rremote: Compressing objects:  16% (21/129)\u001b[K\rremote: Compressing objects:  17% (22/129)\u001b[K\rremote: Compressing objects:  18% (24/129)\u001b[K\rremote: Compressing objects:  19% (25/129)\u001b[K\rremote: Compressing objects:  20% (26/129)\u001b[K\rremote: Compressing objects:  21% (28/129)\u001b[K\rremote: Compressing objects:  22% (29/129)\u001b[K\rremote: Compressing objects:  23% (30/129)\u001b[K\rremote: Compressing objects:  24% (31/129)\u001b[K\rremote: Compressing objects:  25% (33/129)\u001b[K\rremote: Compressing objects:  26% (34/129)\u001b[K\rremote: Compressing objects:  27% (35/129)\u001b[K\rremote: Compressing objects:  28% (37/129)\u001b[K\rremote: Compressing objects:  29% (38/129)\u001b[K\rremote: Compressing objects:  30% (39/129)\u001b[K\rremote: Compressing objects:  31% (40/129)\u001b[K\rremote: Compressing objects:  32% (42/129)\u001b[K\rremote: Compressing objects:  33% (43/129)\u001b[K\rremote: Compressing objects:  34% (44/129)\u001b[K\rremote: Compressing objects:  35% (46/129)\u001b[K\rremote: Compressing objects:  36% (47/129)\u001b[K\rremote: Compressing objects:  37% (48/129)\u001b[K\rremote: Compressing objects:  38% (50/129)\u001b[K\rremote: Compressing objects:  39% (51/129)\u001b[K\rremote: Compressing objects:  40% (52/129)\u001b[K\rremote: Compressing objects:  41% (53/129)\u001b[K\rremote: Compressing objects:  42% (55/129)\u001b[K\rremote: Compressing objects:  43% (56/129)\u001b[K\rremote: Compressing objects:  44% (57/129)\u001b[K\rremote: Compressing objects:  45% (59/129)\u001b[K\rremote: Compressing objects:  46% (60/129)\u001b[K\rremote: Compressing objects:  47% (61/129)\u001b[K\rremote: Compressing objects:  48% (62/129)\u001b[K\rremote: Compressing objects:  49% (64/129)\u001b[K\rremote: Compressing objects:  50% (65/129)\u001b[K\rremote: Compressing objects:  51% (66/129)\u001b[K\rremote: Compressing objects:  52% (68/129)\u001b[K\rremote: Compressing objects:  53% (69/129)\u001b[K\rremote: Compressing objects:  54% (70/129)\u001b[K\rremote: Compressing objects:  55% (71/129)\u001b[K\rremote: Compressing objects:  56% (73/129)\u001b[K\rremote: Compressing objects:  57% (74/129)\u001b[K\rremote: Compressing objects:  58% (75/129)\u001b[K\rremote: Compressing objects:  59% (77/129)\u001b[K\rremote: Compressing objects:  60% (78/129)\u001b[K\rremote: Compressing objects:  61% (79/129)\u001b[K\rremote: Compressing objects:  62% (80/129)\u001b[K\rremote: Compressing objects:  63% (82/129)\u001b[K\rremote: Compressing objects:  64% (83/129)\u001b[K\rremote: Compressing objects:  65% (84/129)\u001b[K\rremote: Compressing objects:  66% (86/129)\u001b[K\rremote: Compressing objects:  67% (87/129)\u001b[K\rremote: Compressing objects:  68% (88/129)\u001b[K\rremote: Compressing objects:  69% (90/129)\u001b[K\rremote: Compressing objects:  70% (91/129)\u001b[K\rremote: Compressing objects:  71% (92/129)\u001b[K\rremote: Compressing objects:  72% (93/129)\u001b[K\rremote: Compressing objects:  73% (95/129)\u001b[K\rremote: Compressing objects:  74% (96/129)\u001b[K\rremote: Compressing objects:  75% (97/129)\u001b[K\rremote: Compressing objects:  76% (99/129)\u001b[K\rremote: Compressing objects:  77% (100/129)\u001b[K\rremote: Compressing objects:  78% (101/129)\u001b[K\rremote: Compressing objects:  79% (102/129)\u001b[K\rremote: Compressing objects:  80% (104/129)\u001b[K\rremote: Compressing objects:  81% (105/129)\u001b[K\rremote: Compressing objects:  82% (106/129)\u001b[K\rremote: Compressing objects:  83% (108/129)\u001b[K\rremote: Compressing objects:  84% (109/129)\u001b[K\rremote: Compressing objects:  85% (110/129)\u001b[K\rremote: Compressing objects:  86% (111/129)\u001b[K\rremote: Compressing objects:  87% (113/129)\u001b[K\rremote: Compressing objects:  88% (114/129)\u001b[K\rremote: Compressing objects:  89% (115/129)\u001b[K\rremote: Compressing objects:  90% (117/129)\u001b[K\rremote: Compressing objects:  91% (118/129)\u001b[K\rremote: Compressing objects:  92% (119/129)\u001b[K\rremote: Compressing objects:  93% (120/129)\u001b[K\rremote: Compressing objects:  94% (122/129)\u001b[K\rremote: Compressing objects:  95% (123/129)\u001b[K\rremote: Compressing objects:  96% (124/129)\u001b[K\rremote: Compressing objects:  97% (126/129)\u001b[K\rremote: Compressing objects:  98% (127/129)\u001b[K\rremote: Compressing objects:  99% (128/129)\u001b[K\rremote: Compressing objects: 100% (129/129)\u001b[K\rremote: Compressing objects: 100% (129/129), done.\u001b[K\n",
            "Receiving objects:   0% (1/195)   \rReceiving objects:   1% (2/195)   \rReceiving objects:   2% (4/195)   \rReceiving objects:   3% (6/195)   \rReceiving objects:   4% (8/195)   \rReceiving objects:   5% (10/195)   \rReceiving objects:   6% (12/195)   \rReceiving objects:   7% (14/195)   \rReceiving objects:   8% (16/195)   \rReceiving objects:   9% (18/195)   \rReceiving objects:  10% (20/195)   \rReceiving objects:  11% (22/195)   \rReceiving objects:  12% (24/195)   \rReceiving objects:  13% (26/195)   \rReceiving objects:  14% (28/195)   \rReceiving objects:  15% (30/195)   \rReceiving objects:  16% (32/195)   \rReceiving objects:  17% (34/195)   \rReceiving objects:  18% (36/195)   \rReceiving objects:  19% (38/195)   \rReceiving objects:  20% (39/195)   \rReceiving objects:  21% (41/195)   \rReceiving objects:  22% (43/195)   \rReceiving objects:  23% (45/195)   \rReceiving objects:  24% (47/195)   \rReceiving objects:  25% (49/195)   \rReceiving objects:  26% (51/195)   \rReceiving objects:  27% (53/195)   \rReceiving objects:  28% (55/195)   \rReceiving objects:  29% (57/195)   \rReceiving objects:  30% (59/195)   \rReceiving objects:  31% (61/195)   \rReceiving objects:  32% (63/195)   \rReceiving objects:  33% (65/195)   \rReceiving objects:  34% (67/195)   \rReceiving objects:  35% (69/195)   \rReceiving objects:  36% (71/195)   \rReceiving objects:  37% (73/195)   \rReceiving objects:  38% (75/195)   \rReceiving objects:  39% (77/195)   \rReceiving objects:  40% (78/195)   \rReceiving objects:  41% (80/195)   \rReceiving objects:  42% (82/195)   \rReceiving objects:  43% (84/195)   \rReceiving objects:  44% (86/195)   \rReceiving objects:  45% (88/195)   \rReceiving objects:  46% (90/195)   \rReceiving objects:  47% (92/195)   \rReceiving objects:  48% (94/195)   \rReceiving objects:  49% (96/195)   \rReceiving objects:  50% (98/195)   \rReceiving objects:  51% (100/195)   \rReceiving objects:  52% (102/195)   \rReceiving objects:  53% (104/195)   \rReceiving objects:  54% (106/195)   \rReceiving objects:  55% (108/195)   \rReceiving objects:  56% (110/195)   \rReceiving objects:  57% (112/195)   \rReceiving objects:  58% (114/195)   \rReceiving objects:  59% (116/195)   \rReceiving objects:  60% (117/195)   \rReceiving objects:  61% (119/195)   \rReceiving objects:  62% (121/195)   \rReceiving objects:  63% (123/195)   \rReceiving objects:  64% (125/195)   \rReceiving objects:  65% (127/195)   \rReceiving objects:  66% (129/195)   \rReceiving objects:  67% (131/195)   \rReceiving objects:  68% (133/195)   \rReceiving objects:  69% (135/195)   \rReceiving objects:  70% (137/195)   \rReceiving objects:  71% (139/195)   \rReceiving objects:  72% (141/195)   \rReceiving objects:  73% (143/195)   \rReceiving objects:  74% (145/195)   \rReceiving objects:  75% (147/195)   \rReceiving objects:  76% (149/195)   \rReceiving objects:  77% (151/195)   \rReceiving objects:  78% (153/195)   \rReceiving objects:  79% (155/195)   \rReceiving objects:  80% (156/195)   \rReceiving objects:  81% (158/195)   \rReceiving objects:  82% (160/195)   \rremote: Total 195 (delta 117), reused 137 (delta 59), pack-reused 0\u001b[K\n",
            "Receiving objects:  83% (162/195)   \rReceiving objects:  84% (164/195)   \rReceiving objects:  85% (166/195)   \rReceiving objects:  86% (168/195)   \rReceiving objects:  87% (170/195)   \rReceiving objects:  88% (172/195)   \rReceiving objects:  89% (174/195)   \rReceiving objects:  90% (176/195)   \rReceiving objects:  91% (178/195)   \rReceiving objects:  92% (180/195)   \rReceiving objects:  93% (182/195)   \rReceiving objects:  94% (184/195)   \rReceiving objects:  95% (186/195)   \rReceiving objects:  96% (188/195)   \rReceiving objects:  97% (190/195)   \rReceiving objects:  98% (192/195)   \rReceiving objects:  99% (194/195)   \rReceiving objects: 100% (195/195)   \rReceiving objects: 100% (195/195), 165.26 KiB | 8.26 MiB/s, done.\n",
            "Resolving deltas:   0% (0/117)   \rResolving deltas:   1% (2/117)   \rResolving deltas:  25% (30/117)   \rResolving deltas:  33% (39/117)   \rResolving deltas:  38% (45/117)   \rResolving deltas:  41% (48/117)   \rResolving deltas:  44% (52/117)   \rResolving deltas:  73% (86/117)   \rResolving deltas:  76% (89/117)   \rResolving deltas:  81% (95/117)   \rResolving deltas:  82% (96/117)   \rResolving deltas:  84% (99/117)   \rResolving deltas:  88% (104/117)   \rResolving deltas: 100% (117/117)   \rResolving deltas: 100% (117/117), done.\n"
          ],
          "name": "stdout"
        }
      ]
    },
    {
      "cell_type": "code",
      "metadata": {
        "id": "TQZiX7WgkQeu",
        "colab_type": "code",
        "colab": {
          "base_uri": "https://localhost:8080/",
          "height": 122
        },
        "outputId": "8121748a-bf51-4ef1-d754-bf395ab3dc62"
      },
      "source": [
        "from google.colab import drive\n",
        "drive.mount('/content/drive')"
      ],
      "execution_count": 5,
      "outputs": [
        {
          "output_type": "stream",
          "text": [
            "Go to this URL in a browser: https://accounts.google.com/o/oauth2/auth?client_id=947318989803-6bn6qk8qdgf4n4g3pfee6491hc0brc4i.apps.googleusercontent.com&redirect_uri=urn%3aietf%3awg%3aoauth%3a2.0%3aoob&scope=email%20https%3a%2f%2fwww.googleapis.com%2fauth%2fdocs.test%20https%3a%2f%2fwww.googleapis.com%2fauth%2fdrive%20https%3a%2f%2fwww.googleapis.com%2fauth%2fdrive.photos.readonly%20https%3a%2f%2fwww.googleapis.com%2fauth%2fpeopleapi.readonly&response_type=code\n",
            "\n",
            "Enter your authorization code:\n",
            "··········\n",
            "Mounted at /content/drive\n"
          ],
          "name": "stdout"
        }
      ]
    },
    {
      "cell_type": "code",
      "metadata": {
        "id": "caNfRIj1kRcf",
        "colab_type": "code",
        "colab": {
          "base_uri": "https://localhost:8080/",
          "height": 34
        },
        "outputId": "824d69d4-ff45-463c-f4a7-c71fd4886f2a"
      },
      "source": [
        "%cd deep_Q_learning_from_scratch"
      ],
      "execution_count": 6,
      "outputs": [
        {
          "output_type": "stream",
          "text": [
            "/content/deep_Q_learning_from_scratch\n"
          ],
          "name": "stdout"
        }
      ]
    },
    {
      "cell_type": "code",
      "metadata": {
        "id": "OzhhtvRQkWJW",
        "colab_type": "code",
        "colab": {
          "base_uri": "https://localhost:8080/",
          "height": 34
        },
        "outputId": "30ab7701-32ab-4006-fdff-3340a6ed832c"
      },
      "source": [
        "!git pull"
      ],
      "execution_count": 7,
      "outputs": [
        {
          "output_type": "stream",
          "text": [
            "Already up to date.\n"
          ],
          "name": "stdout"
        }
      ]
    },
    {
      "cell_type": "code",
      "metadata": {
        "id": "W0SnQz--kXCg",
        "colab_type": "code",
        "colab": {}
      },
      "source": [
        "import gym\n",
        "import time\n",
        "import cv2\n",
        "import numpy as np\n",
        "from collections import deque\n",
        "\n",
        "from settings import *\n",
        "from agent import *\n",
        "from experience import *"
      ],
      "execution_count": 8,
      "outputs": []
    },
    {
      "cell_type": "code",
      "metadata": {
        "id": "hc4bwkXTkX7_",
        "colab_type": "code",
        "colab": {
          "base_uri": "https://localhost:8080/",
          "height": 357
        },
        "outputId": "25e528d1-fe18-45b5-9e5b-2a0fd0eb75bd"
      },
      "source": [
        "agt = Agent(actions=[0,2,3], epsilon=1, min_epsilon=0.1, eps_decay=1e-6, target_update_thresh=1000)\n",
        "D_exp = ReplayMemory(capacity=2_000_000, nlap=2)"
      ],
      "execution_count": 9,
      "outputs": [
        {
          "output_type": "stream",
          "text": [
            "⎽⎽⎽⎽⎽⎽⎽⎽⎽⎽⎽⎽⎽⎽⎽⎽⎽⎽⎽⎽⎽⎽⎽⎽⎽⎽⎽⎽⎽⎽⎽⎽⎽⎽⎽⎽⎽⎽⎽⎽⎽⎽⎽⎽⎽⎽⎽⎽⎽⎽⎽⎽⎽⎽⎽⎽⎽⎽⎽⎽⎽⎽⎽⎽⎽⎽⎽⎽⎽⎽⎽⎽⎽⎽⎽⎽⎽⎽⎽⎽⎽⎽⎽⎽⎽⎽⎽⎽⎽⎽\n",
            "Layer (type)               Output Shape             Activation        Param #\n",
            "==========================================================================================\n",
            "- InputLayer(InputLayer)  (None, 80, 80, 4)          echo             0\n",
            "__________________________________________________________________________________________\n",
            "0 Conv2D(Conv2D)          (None, 40, 40, 32)         relu             1184\n",
            "__________________________________________________________________________________________\n",
            "1 Conv2D(Conv2D)          (None, 20, 20, 64)         relu             18496\n",
            "__________________________________________________________________________________________\n",
            "2 Conv2D(Conv2D)          (None, 10, 10, 128)        relu             73856\n",
            "__________________________________________________________________________________________\n",
            "3 Flatten(Flatten)        (None, 12800)              echo             0\n",
            "__________________________________________________________________________________________\n",
            "4 Dense(Dense)            (None, 512)                relu             6554112\n",
            "__________________________________________________________________________________________\n",
            "5 Dense(Dense)            (None, 3)                  tanh             1539\n",
            "==========================================================================================\n",
            "Total Params: 6,649,187\n",
            "Trainable Params: 6,649,187\n",
            "Non-trainable Params: 0\n"
          ],
          "name": "stdout"
        }
      ]
    },
    {
      "cell_type": "code",
      "metadata": {
        "id": "MDlH0rWlH2Kt",
        "colab_type": "code",
        "colab": {
          "base_uri": "https://localhost:8080/",
          "height": 34
        },
        "outputId": "7f1819b0-4c47-44a0-a1a2-a3c158f6474a"
      },
      "source": [
        "D_exp.current_state.nbytes/1024/1024/1024"
      ],
      "execution_count": 10,
      "outputs": [
        {
          "output_type": "execute_result",
          "data": {
            "text/plain": [
              "11.920928955078125"
            ]
          },
          "metadata": {
            "tags": []
          },
          "execution_count": 10
        }
      ]
    },
    {
      "cell_type": "code",
      "metadata": {
        "id": "XFlEoOqOkbcy",
        "colab_type": "code",
        "colab": {}
      },
      "source": [
        "env = gym.make('Pong-v0')"
      ],
      "execution_count": 11,
      "outputs": []
    },
    {
      "cell_type": "code",
      "metadata": {
        "id": "OdUHf1_ZkcqT",
        "colab_type": "code",
        "colab": {}
      },
      "source": [
        "def preproc_obsv(obsv):\n",
        "    obsv = cv2.cvtColor(obsv, cv2.COLOR_RGB2GRAY)\n",
        "    obsv = obsv[34:194:2,::2]\n",
        "    return obsv"
      ],
      "execution_count": 12,
      "outputs": []
    },
    {
      "cell_type": "code",
      "metadata": {
        "id": "do2kpfL9Yd_o",
        "colab_type": "code",
        "colab": {
          "base_uri": "https://localhost:8080/",
          "height": 34
        },
        "outputId": "4cc9f646-fc4a-4376-f36d-d3b00f17b734"
      },
      "source": [
        "D_exp.len"
      ],
      "execution_count": 13,
      "outputs": [
        {
          "output_type": "execute_result",
          "data": {
            "text/plain": [
              "0"
            ]
          },
          "metadata": {
            "tags": []
          },
          "execution_count": 13
        }
      ]
    },
    {
      "cell_type": "code",
      "metadata": {
        "id": "1-zscT4Tkd2Z",
        "colab_type": "code",
        "colab": {}
      },
      "source": [
        "for i_episode in range(1000):\n",
        "    obinit = env.reset()\n",
        "    if not i_episode:\n",
        "        observation = obinit\n",
        "        state = preproc_obsv(observation)\n",
        "        state_que = deque([], maxlen=NFRAMES)\n",
        "        for i in range(NFRAMES):\n",
        "            state_que.append(state)\n",
        "    ep_score = 0\n",
        "    start = time.time()\n",
        "    for t in range(10_000):\n",
        "#         env.render()\n",
        "        state = preproc_obsv(observation)\n",
        "        state_que.append(state)\n",
        "        action = agt.get_action(state_que)\n",
        "        next_observation, reward, done, info = env.step(action)\n",
        "        ep_score += reward\n",
        "\n",
        "        D_exp.store_transition(state, agt.actions.index(action), reward, done)\n",
        "        observation = next_observation\n",
        "\n",
        "        if (D_exp.len-D_exp.nxt_end) > BATCH_SIZE:\n",
        "            agt.train(D_exp, BATCH_SIZE)\n",
        "        if done:\n",
        "            break\n",
        "        print('\\r', t, action, ep_score, end='  ')\n",
        "    print(f\"\\rEpisode {i_episode+1} finished after {t+1} timesteps, Score: {ep_score}, Epsilon: {agt.epsilon:.6f}, Time: {time.time()-start:.2f}\")\n",
        "    # agt.update_target()\n",
        "    if not i_episode%4:\n",
        "        agt.model.save_weights(\"/content/drive/My Drive/model.w8s\")\n",
        "env.close()"
      ],
      "execution_count": null,
      "outputs": []
    },
    {
      "cell_type": "code",
      "metadata": {
        "id": "iJ8xVnmIM-d_",
        "colab_type": "code",
        "colab": {}
      },
      "source": [
        ""
      ],
      "execution_count": null,
      "outputs": []
    }
  ]
}