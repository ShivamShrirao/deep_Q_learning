{
  "nbformat": 4,
  "nbformat_minor": 0,
  "metadata": {
    "colab": {
      "name": "Deep_Q_RL.ipynb",
      "provenance": [],
      "collapsed_sections": [],
      "machine_shape": "hm"
    },
    "kernelspec": {
      "name": "python3",
      "display_name": "Python 3"
    },
    "accelerator": "GPU"
  },
  "cells": [
    {
      "cell_type": "code",
      "metadata": {
        "id": "LbuhMj8QkFUO",
        "colab_type": "code",
        "colab": {
          "base_uri": "https://localhost:8080/",
          "height": 357
        },
        "outputId": "ea18807c-2fe5-4780-d371-62620ee4b839"
      },
      "source": [
        "!nvidia-smi"
      ],
      "execution_count": 1,
      "outputs": [
        {
          "output_type": "stream",
          "text": [
            "Wed Aug 12 02:47:28 2020       \n",
            "+-----------------------------------------------------------------------------+\n",
            "| NVIDIA-SMI 450.57       Driver Version: 418.67       CUDA Version: 10.1     |\n",
            "|-------------------------------+----------------------+----------------------+\n",
            "| GPU  Name        Persistence-M| Bus-Id        Disp.A | Volatile Uncorr. ECC |\n",
            "| Fan  Temp  Perf  Pwr:Usage/Cap|         Memory-Usage | GPU-Util  Compute M. |\n",
            "|                               |                      |               MIG M. |\n",
            "|===============================+======================+======================|\n",
            "|   0  Tesla P100-PCIE...  Off  | 00000000:00:04.0 Off |                    0 |\n",
            "| N/A   37C    P0    26W / 250W |      0MiB / 16280MiB |      0%      Default |\n",
            "|                               |                      |                 ERR! |\n",
            "+-------------------------------+----------------------+----------------------+\n",
            "                                                                               \n",
            "+-----------------------------------------------------------------------------+\n",
            "| Processes:                                                                  |\n",
            "|  GPU   GI   CI        PID   Type   Process name                  GPU Memory |\n",
            "|        ID   ID                                                   Usage      |\n",
            "|=============================================================================|\n",
            "|  No running processes found                                                 |\n",
            "+-----------------------------------------------------------------------------+\n"
          ],
          "name": "stdout"
        }
      ]
    },
    {
      "cell_type": "code",
      "metadata": {
        "id": "v6pXJGDekFNt",
        "colab_type": "code",
        "colab": {
          "base_uri": "https://localhost:8080/",
          "height": 136
        },
        "outputId": "854aec8c-d678-4e22-c8b7-31530aa5a5dd"
      },
      "source": [
        "!git clone https://github.com/ShivamShrirao/dnn_from_scratch.git"
      ],
      "execution_count": 2,
      "outputs": [
        {
          "output_type": "stream",
          "text": [
            "Cloning into 'dnn_from_scratch'...\n",
            "remote: Enumerating objects: 214, done.\u001b[K\n",
            "remote: Counting objects: 100% (214/214), done.\u001b[K\n",
            "remote: Compressing objects: 100% (129/129), done.\u001b[K\n",
            "remote: Total 1432 (delta 137), reused 148 (delta 83), pack-reused 1218\u001b[K\n",
            "Receiving objects: 100% (1432/1432), 13.74 MiB | 23.14 MiB/s, done.\n",
            "Resolving deltas: 100% (952/952), done.\n"
          ],
          "name": "stdout"
        }
      ]
    },
    {
      "cell_type": "code",
      "metadata": {
        "id": "CgT-5T6EkO8a",
        "colab_type": "code",
        "colab": {
          "base_uri": "https://localhost:8080/",
          "height": 136
        },
        "outputId": "8e707203-5404-4310-ab4e-b903c5b5593e"
      },
      "source": [
        "!git clone https://github.com/ShivamShrirao/deep_Q_learning_from_scratch.git"
      ],
      "execution_count": 3,
      "outputs": [
        {
          "output_type": "stream",
          "text": [
            "Cloning into 'deep_Q_learning'...\n",
            "remote: Enumerating objects: 111, done.\u001b[K\n",
            "remote: Counting objects:   0% (1/111)\u001b[K\rremote: Counting objects:   1% (2/111)\u001b[K\rremote: Counting objects:   2% (3/111)\u001b[K\rremote: Counting objects:   3% (4/111)\u001b[K\rremote: Counting objects:   4% (5/111)\u001b[K\rremote: Counting objects:   5% (6/111)\u001b[K\rremote: Counting objects:   6% (7/111)\u001b[K\rremote: Counting objects:   7% (8/111)\u001b[K\rremote: Counting objects:   8% (9/111)\u001b[K\rremote: Counting objects:   9% (10/111)\u001b[K\rremote: Counting objects:  10% (12/111)\u001b[K\rremote: Counting objects:  11% (13/111)\u001b[K\rremote: Counting objects:  12% (14/111)\u001b[K\rremote: Counting objects:  13% (15/111)\u001b[K\rremote: Counting objects:  14% (16/111)\u001b[K\rremote: Counting objects:  15% (17/111)\u001b[K\rremote: Counting objects:  16% (18/111)\u001b[K\rremote: Counting objects:  17% (19/111)\u001b[K\rremote: Counting objects:  18% (20/111)\u001b[K\rremote: Counting objects:  19% (22/111)\u001b[K\rremote: Counting objects:  20% (23/111)\u001b[K\rremote: Counting objects:  21% (24/111)\u001b[K\rremote: Counting objects:  22% (25/111)\u001b[K\rremote: Counting objects:  23% (26/111)\u001b[K\rremote: Counting objects:  24% (27/111)\u001b[K\rremote: Counting objects:  25% (28/111)\u001b[K\rremote: Counting objects:  26% (29/111)\u001b[K\rremote: Counting objects:  27% (30/111)\u001b[K\rremote: Counting objects:  28% (32/111)\u001b[K\rremote: Counting objects:  29% (33/111)\u001b[K\rremote: Counting objects:  30% (34/111)\u001b[K\rremote: Counting objects:  31% (35/111)\u001b[K\rremote: Counting objects:  32% (36/111)\u001b[K\rremote: Counting objects:  33% (37/111)\u001b[K\rremote: Counting objects:  34% (38/111)\u001b[K\rremote: Counting objects:  35% (39/111)\u001b[K\rremote: Counting objects:  36% (40/111)\u001b[K\rremote: Counting objects:  37% (42/111)\u001b[K\rremote: Counting objects:  38% (43/111)\u001b[K\rremote: Counting objects:  39% (44/111)\u001b[K\rremote: Counting objects:  40% (45/111)\u001b[K\rremote: Counting objects:  41% (46/111)\u001b[K\rremote: Counting objects:  42% (47/111)\u001b[K\rremote: Counting objects:  43% (48/111)\u001b[K\rremote: Counting objects:  44% (49/111)\u001b[K\rremote: Counting objects:  45% (50/111)\u001b[K\rremote: Counting objects:  46% (52/111)\u001b[K\rremote: Counting objects:  47% (53/111)\u001b[K\rremote: Counting objects:  48% (54/111)\u001b[K\rremote: Counting objects:  49% (55/111)\u001b[K\rremote: Counting objects:  50% (56/111)\u001b[K\rremote: Counting objects:  51% (57/111)\u001b[K\rremote: Counting objects:  52% (58/111)\u001b[K\rremote: Counting objects:  53% (59/111)\u001b[K\rremote: Counting objects:  54% (60/111)\u001b[K\rremote: Counting objects:  55% (62/111)\u001b[K\rremote: Counting objects:  56% (63/111)\u001b[K\rremote: Counting objects:  57% (64/111)\u001b[K\rremote: Counting objects:  58% (65/111)\u001b[K\rremote: Counting objects:  59% (66/111)\u001b[K\rremote: Counting objects:  60% (67/111)\u001b[K\rremote: Counting objects:  61% (68/111)\u001b[K\rremote: Counting objects:  62% (69/111)\u001b[K\rremote: Counting objects:  63% (70/111)\u001b[K\rremote: Counting objects:  64% (72/111)\u001b[K\rremote: Counting objects:  65% (73/111)\u001b[K\rremote: Counting objects:  66% (74/111)\u001b[K\rremote: Counting objects:  67% (75/111)\u001b[K\rremote: Counting objects:  68% (76/111)\u001b[K\rremote: Counting objects:  69% (77/111)\u001b[K\rremote: Counting objects:  70% (78/111)\u001b[K\rremote: Counting objects:  71% (79/111)\u001b[K\rremote: Counting objects:  72% (80/111)\u001b[K\rremote: Counting objects:  73% (82/111)\u001b[K\rremote: Counting objects:  74% (83/111)\u001b[K\rremote: Counting objects:  75% (84/111)\u001b[K\rremote: Counting objects:  76% (85/111)\u001b[K\rremote: Counting objects:  77% (86/111)\u001b[K\rremote: Counting objects:  78% (87/111)\u001b[K\rremote: Counting objects:  79% (88/111)\u001b[K\rremote: Counting objects:  80% (89/111)\u001b[K\rremote: Counting objects:  81% (90/111)\u001b[K\rremote: Counting objects:  82% (92/111)\u001b[K\rremote: Counting objects:  83% (93/111)\u001b[K\rremote: Counting objects:  84% (94/111)\u001b[K\rremote: Counting objects:  85% (95/111)\u001b[K\rremote: Counting objects:  86% (96/111)\u001b[K\rremote: Counting objects:  87% (97/111)\u001b[K\rremote: Counting objects:  88% (98/111)\u001b[K\rremote: Counting objects:  89% (99/111)\u001b[K\rremote: Counting objects:  90% (100/111)\u001b[K\rremote: Counting objects:  91% (102/111)\u001b[K\rremote: Counting objects:  92% (103/111)\u001b[K\rremote: Counting objects:  93% (104/111)\u001b[K\rremote: Counting objects:  94% (105/111)\u001b[K\rremote: Counting objects:  95% (106/111)\u001b[K\rremote: Counting objects:  96% (107/111)\u001b[K\rremote: Counting objects:  97% (108/111)\u001b[K\rremote: Counting objects:  98% (109/111)\u001b[K\rremote: Counting objects:  99% (110/111)\u001b[K\rremote: Counting objects: 100% (111/111)\u001b[K\rremote: Counting objects: 100% (111/111), done.\u001b[K\n",
            "remote: Compressing objects:   1% (1/67)\u001b[K\rremote: Compressing objects:   2% (2/67)\u001b[K\rremote: Compressing objects:   4% (3/67)\u001b[K\rremote: Compressing objects:   5% (4/67)\u001b[K\rremote: Compressing objects:   7% (5/67)\u001b[K\rremote: Compressing objects:   8% (6/67)\u001b[K\rremote: Compressing objects:  10% (7/67)\u001b[K\rremote: Compressing objects:  11% (8/67)\u001b[K\rremote: Compressing objects:  13% (9/67)\u001b[K\rremote: Compressing objects:  14% (10/67)\u001b[K\rremote: Compressing objects:  16% (11/67)\u001b[K\rremote: Compressing objects:  17% (12/67)\u001b[K\rremote: Compressing objects:  19% (13/67)\u001b[K\rremote: Compressing objects:  20% (14/67)\u001b[K\rremote: Compressing objects:  22% (15/67)\u001b[K\rremote: Compressing objects:  23% (16/67)\u001b[K\rremote: Compressing objects:  25% (17/67)\u001b[K\rremote: Compressing objects:  26% (18/67)\u001b[K\rremote: Compressing objects:  28% (19/67)\u001b[K\rremote: Compressing objects:  29% (20/67)\u001b[K\rremote: Compressing objects:  31% (21/67)\u001b[K\rremote: Compressing objects:  32% (22/67)\u001b[K\rremote: Compressing objects:  34% (23/67)\u001b[K\rremote: Compressing objects:  35% (24/67)\u001b[K\rremote: Compressing objects:  37% (25/67)\u001b[K\rremote: Compressing objects:  38% (26/67)\u001b[K\rremote: Compressing objects:  40% (27/67)\u001b[K\rremote: Compressing objects:  41% (28/67)\u001b[K\rremote: Compressing objects:  43% (29/67)\u001b[K\rremote: Compressing objects:  44% (30/67)\u001b[K\rremote: Compressing objects:  46% (31/67)\u001b[K\rremote: Compressing objects:  47% (32/67)\u001b[K\rremote: Compressing objects:  49% (33/67)\u001b[K\rremote: Compressing objects:  50% (34/67)\u001b[K\rremote: Compressing objects:  52% (35/67)\u001b[K\rremote: Compressing objects:  53% (36/67)\u001b[K\rremote: Compressing objects:  55% (37/67)\u001b[K\rremote: Compressing objects:  56% (38/67)\u001b[K\rremote: Compressing objects:  58% (39/67)\u001b[K\rremote: Compressing objects:  59% (40/67)\u001b[K\rremote: Compressing objects:  61% (41/67)\u001b[K\rremote: Compressing objects:  62% (42/67)\u001b[K\rremote: Compressing objects:  64% (43/67)\u001b[K\rremote: Compressing objects:  65% (44/67)\u001b[K\rremote: Compressing objects:  67% (45/67)\u001b[K\rremote: Compressing objects:  68% (46/67)\u001b[K\rremote: Compressing objects:  70% (47/67)\u001b[K\rremote: Compressing objects:  71% (48/67)\u001b[K\rremote: Compressing objects:  73% (49/67)\u001b[K\rremote: Compressing objects:  74% (50/67)\u001b[K\rremote: Compressing objects:  76% (51/67)\u001b[K\rremote: Compressing objects:  77% (52/67)\u001b[K\rremote: Compressing objects:  79% (53/67)\u001b[K\rremote: Compressing objects:  80% (54/67)\u001b[K\rremote: Compressing objects:  82% (55/67)\u001b[K\rremote: Compressing objects:  83% (56/67)\u001b[K\rremote: Compressing objects:  85% (57/67)\u001b[K\rremote: Compressing objects:  86% (58/67)\u001b[K\rremote: Compressing objects:  88% (59/67)\u001b[K\rremote: Compressing objects:  89% (60/67)\u001b[K\rremote: Compressing objects:  91% (61/67)\u001b[K\rremote: Compressing objects:  92% (62/67)\u001b[K\rremote: Compressing objects:  94% (63/67)\u001b[K\rremote: Compressing objects:  95% (64/67)\u001b[K\rremote: Compressing objects:  97% (65/67)\u001b[K\rremote: Compressing objects:  98% (66/67)\u001b[K\rremote: Compressing objects: 100% (67/67)\u001b[K\rremote: Compressing objects: 100% (67/67), done.\u001b[K\n",
            "Receiving objects:   0% (1/111)   \rReceiving objects:   1% (2/111)   \rReceiving objects:   2% (3/111)   \rReceiving objects:   3% (4/111)   \rReceiving objects:   4% (5/111)   \rReceiving objects:   5% (6/111)   \rReceiving objects:   6% (7/111)   \rReceiving objects:   7% (8/111)   \rReceiving objects:   8% (9/111)   \rReceiving objects:   9% (10/111)   \rReceiving objects:  10% (12/111)   \rReceiving objects:  11% (13/111)   \rReceiving objects:  12% (14/111)   \rReceiving objects:  13% (15/111)   \rReceiving objects:  14% (16/111)   \rReceiving objects:  15% (17/111)   \rReceiving objects:  16% (18/111)   \rReceiving objects:  17% (19/111)   \rReceiving objects:  18% (20/111)   \rReceiving objects:  19% (22/111)   \rReceiving objects:  20% (23/111)   \rReceiving objects:  21% (24/111)   \rReceiving objects:  22% (25/111)   \rReceiving objects:  23% (26/111)   \rReceiving objects:  24% (27/111)   \rReceiving objects:  25% (28/111)   \rReceiving objects:  26% (29/111)   \rReceiving objects:  27% (30/111)   \rReceiving objects:  28% (32/111)   \rReceiving objects:  29% (33/111)   \rReceiving objects:  30% (34/111)   \rReceiving objects:  31% (35/111)   \rReceiving objects:  32% (36/111)   \rremote: Total 111 (delta 61), reused 88 (delta 38), pack-reused 0\u001b[K\n",
            "Receiving objects:  33% (37/111)   \rReceiving objects:  34% (38/111)   \rReceiving objects:  35% (39/111)   \rReceiving objects:  36% (40/111)   \rReceiving objects:  37% (42/111)   \rReceiving objects:  38% (43/111)   \rReceiving objects:  39% (44/111)   \rReceiving objects:  40% (45/111)   \rReceiving objects:  41% (46/111)   \rReceiving objects:  42% (47/111)   \rReceiving objects:  43% (48/111)   \rReceiving objects:  44% (49/111)   \rReceiving objects:  45% (50/111)   \rReceiving objects:  46% (52/111)   \rReceiving objects:  47% (53/111)   \rReceiving objects:  48% (54/111)   \rReceiving objects:  49% (55/111)   \rReceiving objects:  50% (56/111)   \rReceiving objects:  51% (57/111)   \rReceiving objects:  52% (58/111)   \rReceiving objects:  53% (59/111)   \rReceiving objects:  54% (60/111)   \rReceiving objects:  55% (62/111)   \rReceiving objects:  56% (63/111)   \rReceiving objects:  57% (64/111)   \rReceiving objects:  58% (65/111)   \rReceiving objects:  59% (66/111)   \rReceiving objects:  60% (67/111)   \rReceiving objects:  61% (68/111)   \rReceiving objects:  62% (69/111)   \rReceiving objects:  63% (70/111)   \rReceiving objects:  64% (72/111)   \rReceiving objects:  65% (73/111)   \rReceiving objects:  66% (74/111)   \rReceiving objects:  67% (75/111)   \rReceiving objects:  68% (76/111)   \rReceiving objects:  69% (77/111)   \rReceiving objects:  70% (78/111)   \rReceiving objects:  71% (79/111)   \rReceiving objects:  72% (80/111)   \rReceiving objects:  73% (82/111)   \rReceiving objects:  74% (83/111)   \rReceiving objects:  75% (84/111)   \rReceiving objects:  76% (85/111)   \rReceiving objects:  77% (86/111)   \rReceiving objects:  78% (87/111)   \rReceiving objects:  79% (88/111)   \rReceiving objects:  80% (89/111)   \rReceiving objects:  81% (90/111)   \rReceiving objects:  82% (92/111)   \rReceiving objects:  83% (93/111)   \rReceiving objects:  84% (94/111)   \rReceiving objects:  85% (95/111)   \rReceiving objects:  86% (96/111)   \rReceiving objects:  87% (97/111)   \rReceiving objects:  88% (98/111)   \rReceiving objects:  89% (99/111)   \rReceiving objects:  90% (100/111)   \rReceiving objects:  91% (102/111)   \rReceiving objects:  92% (103/111)   \rReceiving objects:  93% (104/111)   \rReceiving objects:  94% (105/111)   \rReceiving objects:  95% (106/111)   \rReceiving objects:  96% (107/111)   \rReceiving objects:  97% (108/111)   \rReceiving objects:  98% (109/111)   \rReceiving objects:  99% (110/111)   \rReceiving objects: 100% (111/111)   \rReceiving objects: 100% (111/111), 62.85 KiB | 1.14 MiB/s, done.\n",
            "Resolving deltas:   0% (0/61)   \rResolving deltas:  13% (8/61)   \rResolving deltas:  16% (10/61)   \rResolving deltas:  24% (15/61)   \rResolving deltas:  32% (20/61)   \rResolving deltas:  70% (43/61)   \rResolving deltas:  73% (45/61)   \rResolving deltas:  75% (46/61)   \rResolving deltas:  81% (50/61)   \rResolving deltas:  98% (60/61)   \rResolving deltas: 100% (61/61)   \rResolving deltas: 100% (61/61), done.\n"
          ],
          "name": "stdout"
        }
      ]
    },
    {
      "cell_type": "code",
      "metadata": {
        "id": "TQZiX7WgkQeu",
        "colab_type": "code",
        "colab": {
          "base_uri": "https://localhost:8080/",
          "height": 122
        },
        "outputId": "1f248295-d700-4d7a-f93e-9ec7546ef512"
      },
      "source": [
        "from google.colab import drive\n",
        "drive.mount('/content/drive')"
      ],
      "execution_count": 4,
      "outputs": [
        {
          "output_type": "stream",
          "text": [
            "Go to this URL in a browser: https://accounts.google.com/o/oauth2/auth?client_id=947318989803-6bn6qk8qdgf4n4g3pfee6491hc0brc4i.apps.googleusercontent.com&redirect_uri=urn%3aietf%3awg%3aoauth%3a2.0%3aoob&scope=email%20https%3a%2f%2fwww.googleapis.com%2fauth%2fdocs.test%20https%3a%2f%2fwww.googleapis.com%2fauth%2fdrive%20https%3a%2f%2fwww.googleapis.com%2fauth%2fdrive.photos.readonly%20https%3a%2f%2fwww.googleapis.com%2fauth%2fpeopleapi.readonly&response_type=code\n",
            "\n",
            "Enter your authorization code:\n",
            "··········\n",
            "Mounted at /content/drive\n"
          ],
          "name": "stdout"
        }
      ]
    },
    {
      "cell_type": "code",
      "metadata": {
        "id": "caNfRIj1kRcf",
        "colab_type": "code",
        "colab": {
          "base_uri": "https://localhost:8080/",
          "height": 34
        },
        "outputId": "4c09ddca-0924-450e-cb39-3beba7b45085"
      },
      "source": [
        "%cd deep_Q_learning_from_scratch"
      ],
      "execution_count": 5,
      "outputs": [
        {
          "output_type": "stream",
          "text": [
            "/content/deep_Q_learning\n"
          ],
          "name": "stdout"
        }
      ]
    },
    {
      "cell_type": "code",
      "metadata": {
        "id": "OzhhtvRQkWJW",
        "colab_type": "code",
        "colab": {
          "base_uri": "https://localhost:8080/",
          "height": 34
        },
        "outputId": "970e09a9-b21b-4c89-99be-135b0b4f0e0d"
      },
      "source": [
        "!git pull"
      ],
      "execution_count": 6,
      "outputs": [
        {
          "output_type": "stream",
          "text": [
            "Already up to date.\n"
          ],
          "name": "stdout"
        }
      ]
    },
    {
      "cell_type": "code",
      "metadata": {
        "id": "W0SnQz--kXCg",
        "colab_type": "code",
        "colab": {}
      },
      "source": [
        "import gym\n",
        "import time\n",
        "import cv2\n",
        "import numpy as np\n",
        "\n",
        "from settings import *\n",
        "from agent import *\n",
        "from experience import *\n",
        "from atari_wrappers import *"
      ],
      "execution_count": 7,
      "outputs": []
    },
    {
      "cell_type": "code",
      "metadata": {
        "id": "hc4bwkXTkX7_",
        "colab_type": "code",
        "colab": {
          "base_uri": "https://localhost:8080/",
          "height": 357
        },
        "outputId": "f8c6d0b7-f742-4519-b75a-2e435a5d1092"
      },
      "source": [
        "agt = Agent(actions=[0,2,3], epsilon=1, min_epsilon=0.1, eps_decay=1e-6)\n",
        "D_exp = ReplayMemory(capacity=600000)"
      ],
      "execution_count": 8,
      "outputs": [
        {
          "output_type": "stream",
          "text": [
            "⎽⎽⎽⎽⎽⎽⎽⎽⎽⎽⎽⎽⎽⎽⎽⎽⎽⎽⎽⎽⎽⎽⎽⎽⎽⎽⎽⎽⎽⎽⎽⎽⎽⎽⎽⎽⎽⎽⎽⎽⎽⎽⎽⎽⎽⎽⎽⎽⎽⎽⎽⎽⎽⎽⎽⎽⎽⎽⎽⎽⎽⎽⎽⎽⎽⎽⎽⎽⎽⎽⎽⎽⎽⎽⎽⎽⎽⎽⎽⎽⎽⎽⎽⎽⎽⎽⎽⎽⎽⎽\n",
            "Layer (type)               Output Shape             Activation        Param #\n",
            "==========================================================================================\n",
            "- InputLayer(InputLayer)  (None, 80, 80, 4)          echo             0\n",
            "__________________________________________________________________________________________\n",
            "0 Conv2D(Conv2D)          (None, 40, 40, 32)         relu             1184\n",
            "__________________________________________________________________________________________\n",
            "1 Conv2D(Conv2D)          (None, 20, 20, 64)         relu             18496\n",
            "__________________________________________________________________________________________\n",
            "2 Conv2D(Conv2D)          (None, 10, 10, 128)        relu             73856\n",
            "__________________________________________________________________________________________\n",
            "3 Flatten(Flatten)        (None, 12800)              echo             0\n",
            "__________________________________________________________________________________________\n",
            "4 Dense(Dense)            (None, 256)                relu             3277056\n",
            "__________________________________________________________________________________________\n",
            "5 Dense(Dense)            (None, 3)                  echo             771\n",
            "==========================================================================================\n",
            "Total Params: 3,371,363\n",
            "Trainable Params: 3,371,363\n",
            "Non-trainable Params: 0\n"
          ],
          "name": "stdout"
        }
      ]
    },
    {
      "cell_type": "code",
      "metadata": {
        "id": "XFlEoOqOkbcy",
        "colab_type": "code",
        "colab": {}
      },
      "source": [
        "env = gym.make('Pong-v0')\n",
        "env = FrameStack(env, NFRAMES)      # preprocess and stack frames"
      ],
      "execution_count": 9,
      "outputs": []
    },
    {
      "cell_type": "code",
      "metadata": {
        "id": "OdUHf1_ZkcqT",
        "colab_type": "code",
        "colab": {
          "base_uri": "https://localhost:8080/",
          "height": 34
        },
        "outputId": "c33ec29a-f1c2-4b1f-9b5f-401ba3363d71"
      },
      "source": [
        "len(D_exp.ndone)"
      ],
      "execution_count": 10,
      "outputs": [
        {
          "output_type": "execute_result",
          "data": {
            "text/plain": [
              "0"
            ]
          },
          "metadata": {
            "tags": []
          },
          "execution_count": 10
        }
      ]
    },
    {
      "cell_type": "code",
      "metadata": {
        "id": "1-zscT4Tkd2Z",
        "colab_type": "code",
        "colab": {
          "base_uri": "https://localhost:8080/",
          "height": 1000
        },
        "outputId": "fdcd01d9-fa2d-42bc-dc84-362126f07aeb"
      },
      "source": [
        "for i_episode in range(2000):\n",
        "    observation = env.reset()\n",
        "    ep_score = 0\n",
        "    start = time.time()\n",
        "    sv_obs = deque([], maxlen=NFRAMES)\n",
        "    sv_act = deque([], maxlen=NFRAMES)\n",
        "    sv_rew = deque([], maxlen=NFRAMES)\n",
        "    sv_don = deque([], maxlen=NFRAMES)\n",
        "    for t in range(10000):\n",
        "#         env.render()\n",
        "        action = agt.get_action(observation)\n",
        "        next_observation, reward, done, info = env.step(action)\n",
        "        ep_score += reward\n",
        "\n",
        "        sv_obs.append(observation)\n",
        "        sv_act.append(action)\n",
        "        sv_rew.append(reward)\n",
        "        sv_don.append(done)\n",
        "\n",
        "        D_exp.store_transition(sv_obs[0], agt.actions.index(sv_act[0]), sv_rew[0], next_observation, sv_don[0])\n",
        "        observation = next_observation\n",
        "\n",
        "        # D_exp.current_state.popleft()\n",
        "        # D_exp.action_idx.popleft()\n",
        "        # D_exp.reward.popleft()\n",
        "        # D_exp.next_state.popleft()\n",
        "        # D_exp.ndone.popleft()\n",
        "\n",
        "        if len(D_exp.ndone) > BATCH_SIZE:\n",
        "            agt.train(D_exp, BATCH_SIZE)\n",
        "        \n",
        "        if done:\n",
        "            break\n",
        "        print('\\r', t, action, ep_score, end='  ')\n",
        "    print(f\"\\rEpisode {i_episode+1} finished after {t+1} timesteps, Score: {ep_score}, Epsilon: {agt.epsilon}, Time: {time.time()-start}\")\n",
        "    if not i_episode%8:\n",
        "        agt.model.save_weights(\"/content/drive/My Drive/model.w8s\")\n",
        "env.close()"
      ],
      "execution_count": null,
      "outputs": [
        {
          "output_type": "stream",
          "text": [
            "Episode 1 finished after 1433 timesteps, Score: -21.0, Epsilon: 0.989811999999707, Time: 29.253997087478638\n",
            "Episode 2 finished after 1172 timesteps, Score: -21.0, Epsilon: 0.9886399999996733, Time: 23.76466965675354\n",
            "Episode 3 finished after 1269 timesteps, Score: -21.0, Epsilon: 0.9873709999996368, Time: 25.96623682975769\n",
            "Episode 4 finished after 1470 timesteps, Score: -18.0, Epsilon: 0.9859009999995946, Time: 30.172743797302246\n",
            "Episode 5 finished after 1340 timesteps, Score: -21.0, Epsilon: 0.984560999999556, Time: 27.45044755935669\n",
            "Episode 6 finished after 1385 timesteps, Score: -20.0, Epsilon: 0.9831759999995162, Time: 28.4764564037323\n",
            "Episode 7 finished after 1431 timesteps, Score: -21.0, Epsilon: 0.9817449999994751, Time: 29.92097282409668\n",
            "Episode 8 finished after 1367 timesteps, Score: -20.0, Epsilon: 0.9803779999994358, Time: 28.446946144104004\n",
            "Episode 9 finished after 1327 timesteps, Score: -20.0, Epsilon: 0.9790509999993976, Time: 27.816803455352783\n",
            "Episode 10 finished after 1100 timesteps, Score: -21.0, Epsilon: 0.977950999999366, Time: 23.259704113006592\n",
            "Episode 11 finished after 1387 timesteps, Score: -20.0, Epsilon: 0.9765639999993261, Time: 29.66754722595215\n",
            "Episode 12 finished after 1106 timesteps, Score: -21.0, Epsilon: 0.9754579999992943, Time: 23.527107000350952\n",
            "Episode 13 finished after 1533 timesteps, Score: -20.0, Epsilon: 0.9739249999992502, Time: 33.029273986816406\n",
            "Episode 14 finished after 1092 timesteps, Score: -21.0, Epsilon: 0.9728329999992188, Time: 23.387707233428955\n",
            "Episode 15 finished after 1365 timesteps, Score: -21.0, Epsilon: 0.9714679999991795, Time: 29.300959825515747\n",
            "Episode 16 finished after 1081 timesteps, Score: -21.0, Epsilon: 0.9703869999991485, Time: 23.363508224487305\n",
            "Episode 17 finished after 1017 timesteps, Score: -21.0, Epsilon: 0.9693699999991192, Time: 21.99429726600647\n",
            "Episode 18 finished after 1260 timesteps, Score: -21.0, Epsilon: 0.968109999999083, Time: 27.270660877227783\n",
            "Episode 19 finished after 1165 timesteps, Score: -21.0, Epsilon: 0.9669449999990495, Time: 25.440826892852783\n",
            "Episode 20 finished after 1321 timesteps, Score: -20.0, Epsilon: 0.9656239999990115, Time: 28.642454147338867\n",
            "Episode 21 finished after 1269 timesteps, Score: -21.0, Epsilon: 0.964354999998975, Time: 27.899644136428833\n",
            "Episode 22 finished after 1328 timesteps, Score: -21.0, Epsilon: 0.9630269999989368, Time: 29.210105657577515\n",
            "Episode 23 finished after 1548 timesteps, Score: -20.0, Epsilon: 0.9614789999988923, Time: 33.70056462287903\n",
            "Episode 24 finished after 1453 timesteps, Score: -20.0, Epsilon: 0.9600259999988505, Time: 32.022053718566895\n",
            "Episode 25 finished after 1661 timesteps, Score: -16.0, Epsilon: 0.9583649999988028, Time: 36.565608739852905\n",
            "Episode 26 finished after 1432 timesteps, Score: -21.0, Epsilon: 0.9569329999987616, Time: 31.422239065170288\n",
            "Episode 27 finished after 1259 timesteps, Score: -21.0, Epsilon: 0.9556739999987254, Time: 27.531140089035034\n",
            "Episode 28 finished after 1020 timesteps, Score: -21.0, Epsilon: 0.954653999998696, Time: 22.206833839416504\n",
            "Episode 29 finished after 1344 timesteps, Score: -21.0, Epsilon: 0.9533099999986574, Time: 29.731993198394775\n",
            "Episode 30 finished after 1304 timesteps, Score: -20.0, Epsilon: 0.9520059999986199, Time: 28.705570936203003\n",
            "Episode 31 finished after 1105 timesteps, Score: -21.0, Epsilon: 0.9509009999985881, Time: 24.603670835494995\n",
            "Episode 32 finished after 1179 timesteps, Score: -21.0, Epsilon: 0.9497219999985542, Time: 26.47426152229309\n",
            "Episode 33 finished after 1031 timesteps, Score: -21.0, Epsilon: 0.9486909999985246, Time: 23.357176780700684\n",
            "Episode 34 finished after 1188 timesteps, Score: -21.0, Epsilon: 0.9475029999984904, Time: 27.025407791137695\n",
            "Episode 35 finished after 1507 timesteps, Score: -19.0, Epsilon: 0.9459959999984471, Time: 34.29421925544739\n",
            "Episode 36 finished after 1262 timesteps, Score: -21.0, Epsilon: 0.9447339999984108, Time: 28.539105653762817\n",
            "Episode 37 finished after 1268 timesteps, Score: -21.0, Epsilon: 0.9434659999983743, Time: 28.71446466445923\n",
            "Episode 38 finished after 1580 timesteps, Score: -19.0, Epsilon: 0.9418859999983289, Time: 35.428642988204956\n",
            "Episode 39 finished after 1253 timesteps, Score: -21.0, Epsilon: 0.9406329999982929, Time: 28.831010580062866\n",
            "Episode 40 finished after 1342 timesteps, Score: -21.0, Epsilon: 0.9392909999982543, Time: 30.795795679092407\n",
            "Episode 41 finished after 1190 timesteps, Score: -21.0, Epsilon: 0.93810099999822, Time: 27.248473644256592\n",
            "Episode 42 finished after 1342 timesteps, Score: -19.0, Epsilon: 0.9367589999981815, Time: 30.665207386016846\n",
            "Episode 43 finished after 1346 timesteps, Score: -21.0, Epsilon: 0.9354129999981428, Time: 31.346561431884766\n",
            "Episode 44 finished after 1096 timesteps, Score: -21.0, Epsilon: 0.9343169999981112, Time: 24.67907476425171\n",
            "Episode 45 finished after 1013 timesteps, Score: -21.0, Epsilon: 0.9333039999980821, Time: 23.427715301513672\n",
            "Episode 46 finished after 1094 timesteps, Score: -21.0, Epsilon: 0.9322099999980507, Time: 26.48479461669922\n",
            "Episode 47 finished after 1111 timesteps, Score: -21.0, Epsilon: 0.9310989999980187, Time: 26.56102705001831\n",
            "Episode 48 finished after 1340 timesteps, Score: -21.0, Epsilon: 0.9297589999979802, Time: 31.526161909103394\n",
            "Episode 49 finished after 1170 timesteps, Score: -21.0, Epsilon: 0.9285889999979465, Time: 26.800127029418945\n",
            "Episode 50 finished after 1382 timesteps, Score: -20.0, Epsilon: 0.9272069999979068, Time: 31.78436541557312\n",
            "Episode 51 finished after 1426 timesteps, Score: -19.0, Epsilon: 0.9257809999978658, Time: 32.372381925582886\n",
            "Episode 52 finished after 1428 timesteps, Score: -21.0, Epsilon: 0.9243529999978247, Time: 32.86579918861389\n",
            "Episode 53 finished after 1417 timesteps, Score: -21.0, Epsilon: 0.922935999997784, Time: 32.227942943573\n",
            "Episode 54 finished after 1022 timesteps, Score: -21.0, Epsilon: 0.9219139999977546, Time: 23.71526026725769\n",
            "Episode 55 finished after 1465 timesteps, Score: -20.0, Epsilon: 0.9204489999977125, Time: 33.923476696014404\n",
            "Episode 56 finished after 1190 timesteps, Score: -21.0, Epsilon: 0.9192589999976782, Time: 27.2751247882843\n",
            "Episode 57 finished after 1105 timesteps, Score: -21.0, Epsilon: 0.9181539999976465, Time: 25.31265425682068\n",
            "Episode 58 finished after 1024 timesteps, Score: -21.0, Epsilon: 0.917129999997617, Time: 23.815065622329712\n",
            "Episode 59 finished after 1379 timesteps, Score: -20.0, Epsilon: 0.9157509999975774, Time: 31.745150327682495\n",
            "Episode 60 finished after 1468 timesteps, Score: -20.0, Epsilon: 0.9142829999975352, Time: 34.59585356712341\n",
            "Episode 61 finished after 1189 timesteps, Score: -21.0, Epsilon: 0.913093999997501, Time: 27.364416122436523\n",
            "Episode 62 finished after 1175 timesteps, Score: -21.0, Epsilon: 0.9119189999974672, Time: 27.38962411880493\n",
            "Episode 63 finished after 1676 timesteps, Score: -19.0, Epsilon: 0.910242999997419, Time: 40.10859704017639\n",
            "Episode 64 finished after 1212 timesteps, Score: -20.0, Epsilon: 0.9090309999973841, Time: 28.547340154647827\n",
            "Episode 65 finished after 1096 timesteps, Score: -21.0, Epsilon: 0.9079349999973526, Time: 26.402748346328735\n",
            "Episode 66 finished after 1098 timesteps, Score: -21.0, Epsilon: 0.906836999997321, Time: 26.632080554962158\n",
            "Episode 67 finished after 1245 timesteps, Score: -21.0, Epsilon: 0.9055919999972852, Time: 29.624135971069336\n",
            "Episode 68 finished after 1187 timesteps, Score: -21.0, Epsilon: 0.9044049999972511, Time: 28.181399822235107\n",
            "Episode 69 finished after 1656 timesteps, Score: -21.0, Epsilon: 0.9027489999972035, Time: 38.87954783439636\n",
            "Episode 70 finished after 1011 timesteps, Score: -21.0, Epsilon: 0.9017379999971744, Time: 23.95922327041626\n",
            "Episode 71 finished after 1504 timesteps, Score: -21.0, Epsilon: 0.9002339999971312, Time: 35.61029005050659\n",
            "Episode 72 finished after 1253 timesteps, Score: -21.0, Epsilon: 0.8989809999970951, Time: 29.716153860092163\n",
            "Episode 73 finished after 1003 timesteps, Score: -21.0, Epsilon: 0.8979779999970663, Time: 23.896821975708008\n",
            "Episode 74 finished after 1338 timesteps, Score: -21.0, Epsilon: 0.8966399999970278, Time: 31.946618795394897\n",
            "Episode 75 finished after 1105 timesteps, Score: -21.0, Epsilon: 0.895534999996996, Time: 26.98840618133545\n",
            "Episode 76 finished after 1265 timesteps, Score: -21.0, Epsilon: 0.8942699999969597, Time: 30.61401104927063\n",
            "Episode 77 finished after 1098 timesteps, Score: -21.0, Epsilon: 0.8931719999969281, Time: 26.5433087348938\n",
            "Episode 78 finished after 1189 timesteps, Score: -21.0, Epsilon: 0.8919829999968939, Time: 28.483774185180664\n",
            "Episode 79 finished after 1500 timesteps, Score: -21.0, Epsilon: 0.8904829999968508, Time: 36.15815830230713\n",
            "Episode 80 finished after 1441 timesteps, Score: -19.0, Epsilon: 0.8890419999968093, Time: 34.9801242351532\n",
            "Episode 81 finished after 1374 timesteps, Score: -20.0, Epsilon: 0.8876679999967698, Time: 32.86301231384277\n",
            "Episode 82 finished after 1269 timesteps, Score: -21.0, Epsilon: 0.8863989999967333, Time: 30.677773237228394\n",
            "Episode 83 finished after 1260 timesteps, Score: -21.0, Epsilon: 0.8851389999966971, Time: 30.980613470077515\n",
            "Episode 84 finished after 1687 timesteps, Score: -19.0, Epsilon: 0.8834519999966486, Time: 41.46344256401062\n",
            "Episode 85 finished after 1266 timesteps, Score: -21.0, Epsilon: 0.8821859999966122, Time: 31.00503373146057\n",
            "Episode 86 finished after 1083 timesteps, Score: -21.0, Epsilon: 0.881102999996581, Time: 26.1960768699646\n",
            "Episode 87 finished after 1590 timesteps, Score: -19.0, Epsilon: 0.8795129999965353, Time: 38.84673237800598\n",
            "Episode 88 finished after 1329 timesteps, Score: -21.0, Epsilon: 0.8781839999964971, Time: 32.226534605026245\n",
            "Episode 89 finished after 1173 timesteps, Score: -21.0, Epsilon: 0.8770109999964634, Time: 28.94793176651001\n",
            "Episode 90 finished after 1582 timesteps, Score: -18.0, Epsilon: 0.8754289999964179, Time: 39.6008505821228\n",
            "Episode 91 finished after 1346 timesteps, Score: -21.0, Epsilon: 0.8740829999963792, Time: 33.532400131225586\n",
            "Episode 92 finished after 1255 timesteps, Score: -21.0, Epsilon: 0.8728279999963431, Time: 31.313594341278076\n",
            "Episode 93 finished after 1346 timesteps, Score: -21.0, Epsilon: 0.8714819999963044, Time: 33.48863744735718\n",
            "Episode 94 finished after 1096 timesteps, Score: -21.0, Epsilon: 0.8703859999962729, Time: 27.75654149055481\n",
            "Episode 95 finished after 1630 timesteps, Score: -20.0, Epsilon: 0.868755999996226, Time: 40.865588665008545\n",
            "Episode 96 finished after 1406 timesteps, Score: -20.0, Epsilon: 0.8673499999961856, Time: 34.95582175254822\n",
            "Episode 97 finished after 1016 timesteps, Score: -21.0, Epsilon: 0.8663339999961563, Time: 25.627410650253296\n",
            "Episode 98 finished after 1448 timesteps, Score: -19.0, Epsilon: 0.8648859999961147, Time: 36.64240789413452\n",
            "Episode 99 finished after 1114 timesteps, Score: -21.0, Epsilon: 0.8637719999960827, Time: 28.145905256271362\n",
            "Episode 100 finished after 1234 timesteps, Score: -20.0, Epsilon: 0.8625379999960472, Time: 31.486263751983643\n",
            "Episode 101 finished after 1348 timesteps, Score: -21.0, Epsilon: 0.8611899999960084, Time: 34.408817768096924\n",
            "Episode 102 finished after 1221 timesteps, Score: -20.0, Epsilon: 0.8599689999959733, Time: 31.13338041305542\n",
            "Episode 103 finished after 1257 timesteps, Score: -21.0, Epsilon: 0.8587119999959372, Time: 32.57522249221802\n",
            "Episode 104 finished after 1309 timesteps, Score: -20.0, Epsilon: 0.8574029999958995, Time: 34.39746809005737\n",
            "Episode 105 finished after 1372 timesteps, Score: -20.0, Epsilon: 0.8560309999958601, Time: 35.23591923713684\n",
            "Episode 106 finished after 1256 timesteps, Score: -21.0, Epsilon: 0.854774999995824, Time: 32.475269079208374\n",
            "Episode 107 finished after 1416 timesteps, Score: -21.0, Epsilon: 0.8533589999957832, Time: 36.72905230522156\n",
            "Episode 108 finished after 1465 timesteps, Score: -20.0, Epsilon: 0.8518939999957411, Time: 38.379151582717896\n",
            "Episode 109 finished after 1426 timesteps, Score: -21.0, Epsilon: 0.8504679999957001, Time: 37.73783850669861\n",
            "Episode 110 finished after 1182 timesteps, Score: -21.0, Epsilon: 0.8492859999956661, Time: 31.38741421699524\n",
            "Episode 111 finished after 1336 timesteps, Score: -21.0, Epsilon: 0.8479499999956277, Time: 35.49305438995361\n",
            "Episode 112 finished after 1339 timesteps, Score: -21.0, Epsilon: 0.8466109999955892, Time: 35.34168314933777\n",
            "Episode 113 finished after 1336 timesteps, Score: -21.0, Epsilon: 0.8452749999955508, Time: 35.73008131980896\n",
            "Episode 114 finished after 1344 timesteps, Score: -21.0, Epsilon: 0.8439309999955121, Time: 35.63547205924988\n",
            "Episode 115 finished after 1099 timesteps, Score: -21.0, Epsilon: 0.8428319999954805, Time: 29.37195634841919\n",
            "Episode 116 finished after 1376 timesteps, Score: -19.0, Epsilon: 0.841455999995441, Time: 37.3541316986084\n",
            "Episode 117 finished after 1693 timesteps, Score: -17.0, Epsilon: 0.8397629999953923, Time: 45.86383628845215\n",
            "Episode 118 finished after 1409 timesteps, Score: -21.0, Epsilon: 0.8383539999953518, Time: 37.96201419830322\n",
            "Episode 119 finished after 1606 timesteps, Score: -19.0, Epsilon: 0.8367479999953056, Time: 43.76210618019104\n",
            "Episode 120 finished after 1495 timesteps, Score: -20.0, Epsilon: 0.8352529999952626, Time: 41.23388195037842\n",
            "Episode 121 finished after 1539 timesteps, Score: -19.0, Epsilon: 0.8337139999952183, Time: 42.33710694313049\n",
            "Episode 122 finished after 1400 timesteps, Score: -20.0, Epsilon: 0.8323139999951781, Time: 38.44121694564819\n",
            "Episode 123 finished after 1304 timesteps, Score: -20.0, Epsilon: 0.8310099999951406, Time: 36.0272958278656\n",
            "Episode 124 finished after 1243 timesteps, Score: -20.0, Epsilon: 0.8297669999951048, Time: 34.334696531295776\n",
            "Episode 125 finished after 1172 timesteps, Score: -21.0, Epsilon: 0.8285949999950711, Time: 32.39458775520325\n",
            "Episode 126 finished after 1269 timesteps, Score: -21.0, Epsilon: 0.8273259999950346, Time: 35.29467964172363\n",
            "Episode 127 finished after 1187 timesteps, Score: -21.0, Epsilon: 0.8261389999950005, Time: 33.133028745651245\n",
            "Episode 128 finished after 1529 timesteps, Score: -19.0, Epsilon: 0.8246099999949565, Time: 43.03218865394592\n",
            "Episode 129 finished after 1495 timesteps, Score: -18.0, Epsilon: 0.8231149999949136, Time: 42.438210248947144\n",
            "Episode 130 finished after 1223 timesteps, Score: -20.0, Epsilon: 0.8218919999948784, Time: 34.56607937812805\n",
            "Episode 131 finished after 1100 timesteps, Score: -21.0, Epsilon: 0.8207919999948468, Time: 30.85896873474121\n",
            "Episode 132 finished after 1432 timesteps, Score: -21.0, Epsilon: 0.8193599999948056, Time: 40.60293221473694\n",
            "Episode 133 finished after 1400 timesteps, Score: -20.0, Epsilon: 0.8179599999947653, Time: 39.4591646194458\n",
            "Episode 134 finished after 1190 timesteps, Score: -21.0, Epsilon: 0.8167699999947311, Time: 33.993932485580444\n",
            "Episode 135 finished after 1186 timesteps, Score: -21.0, Epsilon: 0.815583999994697, Time: 34.17231369018555\n",
            "Episode 136 finished after 1341 timesteps, Score: -19.0, Epsilon: 0.8142429999946584, Time: 38.4657883644104\n",
            "Episode 137 finished after 1255 timesteps, Score: -21.0, Epsilon: 0.8129879999946223, Time: 35.81572508811951\n",
            "Episode 138 finished after 1267 timesteps, Score: -21.0, Epsilon: 0.8117209999945859, Time: 36.823551177978516\n",
            "Episode 139 finished after 1282 timesteps, Score: -21.0, Epsilon: 0.810438999994549, Time: 37.12551474571228\n",
            "Episode 140 finished after 1550 timesteps, Score: -20.0, Epsilon: 0.8088889999945045, Time: 44.7854790687561\n",
            "Episode 141 finished after 1173 timesteps, Score: -21.0, Epsilon: 0.8077159999944707, Time: 34.22928214073181\n",
            "Episode 142 finished after 1097 timesteps, Score: -21.0, Epsilon: 0.8066189999944392, Time: 31.820895433425903\n",
            "Episode 143 finished after 1171 timesteps, Score: -21.0, Epsilon: 0.8054479999944055, Time: 34.54905152320862\n",
            "Episode 144 finished after 1389 timesteps, Score: -20.0, Epsilon: 0.8040589999943656, Time: 40.81880974769592\n",
            "Episode 145 finished after 1755 timesteps, Score: -21.0, Epsilon: 0.8023039999943151, Time: 51.78917932510376\n",
            "Episode 146 finished after 1219 timesteps, Score: -20.0, Epsilon: 0.8010849999942801, Time: 36.18796706199646\n",
            "Episode 147 finished after 1438 timesteps, Score: -21.0, Epsilon: 0.7996469999942387, Time: 42.770806550979614\n",
            "Episode 148 finished after 1172 timesteps, Score: -21.0, Epsilon: 0.798474999994205, Time: 34.51116490364075\n",
            "Episode 149 finished after 1442 timesteps, Score: -19.0, Epsilon: 0.7970329999941635, Time: 42.93600845336914\n",
            "Episode 150 finished after 1232 timesteps, Score: -20.0, Epsilon: 0.7958009999941281, Time: 36.886199712753296\n",
            "Episode 151 finished after 1434 timesteps, Score: -21.0, Epsilon: 0.7943669999940869, Time: 43.041367292404175\n",
            "Episode 152 finished after 1351 timesteps, Score: -19.0, Epsilon: 0.793015999994048, Time: 40.61687469482422\n",
            "Episode 153 finished after 1688 timesteps, Score: -19.0, Epsilon: 0.7913279999939995, Time: 51.23141121864319\n",
            "Episode 154 finished after 1318 timesteps, Score: -20.0, Epsilon: 0.7900099999939616, Time: 39.72891092300415\n",
            "Episode 155 finished after 1186 timesteps, Score: -21.0, Epsilon: 0.7888239999939275, Time: 36.14964008331299\n",
            "Episode 156 finished after 1346 timesteps, Score: -21.0, Epsilon: 0.7874779999938888, Time: 40.68899583816528\n",
            "Episode 157 finished after 1266 timesteps, Score: -21.0, Epsilon: 0.7862119999938524, Time: 38.66840672492981\n",
            "Episode 158 finished after 1179 timesteps, Score: -21.0, Epsilon: 0.7850329999938185, Time: 36.03759980201721\n",
            "Episode 159 finished after 1337 timesteps, Score: -21.0, Epsilon: 0.78369599999378, Time: 40.978617429733276\n",
            "Episode 160 finished after 1348 timesteps, Score: -21.0, Epsilon: 0.7823479999937413, Time: 41.13649940490723\n",
            "Episode 161 finished after 1497 timesteps, Score: -21.0, Epsilon: 0.7808509999936982, Time: 46.32067155838013\n",
            "Episode 162 finished after 1254 timesteps, Score: -21.0, Epsilon: 0.7795969999936622, Time: 38.59885883331299\n",
            "Episode 163 finished after 1419 timesteps, Score: -21.0, Epsilon: 0.7781779999936214, Time: 44.13600492477417\n",
            "Episode 164 finished after 1390 timesteps, Score: -20.0, Epsilon: 0.7767879999935814, Time: 42.96428322792053\n",
            "Episode 165 finished after 1308 timesteps, Score: -20.0, Epsilon: 0.7754799999935438, Time: 40.69599914550781\n",
            "Episode 166 finished after 1178 timesteps, Score: -21.0, Epsilon: 0.7743019999935099, Time: 36.76839876174927\n",
            "Episode 167 finished after 1337 timesteps, Score: -21.0, Epsilon: 0.7729649999934715, Time: 41.97324085235596\n",
            "Episode 168 finished after 1106 timesteps, Score: -21.0, Epsilon: 0.7718589999934397, Time: 34.82910776138306\n",
            "Episode 169 finished after 1520 timesteps, Score: -19.0, Epsilon: 0.770338999993396, Time: 48.68278622627258\n",
            "Episode 170 finished after 1020 timesteps, Score: -21.0, Epsilon: 0.7693189999933666, Time: 32.29193186759949\n",
            "Episode 171 finished after 1088 timesteps, Score: -21.0, Epsilon: 0.7682309999933353, Time: 34.55089235305786\n",
            "Episode 172 finished after 1085 timesteps, Score: -21.0, Epsilon: 0.7671459999933041, Time: 34.26645565032959\n",
            " 98 3 0.0  "
          ],
          "name": "stdout"
        }
      ]
    },
    {
      "cell_type": "code",
      "metadata": {
        "id": "sxsgV_xJkhHi",
        "colab_type": "code",
        "colab": {}
      },
      "source": [
        "env.close()"
      ],
      "execution_count": null,
      "outputs": []
    }
  ]
}