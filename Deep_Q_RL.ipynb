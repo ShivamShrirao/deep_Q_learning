{
 "cells": [
  {
   "cell_type": "code",
   "execution_count": 1,
   "metadata": {
    "colab": {
     "base_uri": "https://localhost:8080/",
     "height": 357
    },
    "colab_type": "code",
    "id": "LbuhMj8QkFUO",
    "outputId": "0b5c0d14-dcb2-4eab-cb9b-ba701bf89c60"
   },
   "outputs": [
    {
     "name": "stdout",
     "output_type": "stream",
     "text": [
      "Tue Aug 18 14:52:39 2020       \r\n",
      "+-----------------------------------------------------------------------------+\r\n",
      "| NVIDIA-SMI 440.100      Driver Version: 440.100      CUDA Version: 10.2     |\r\n",
      "|-------------------------------+----------------------+----------------------+\r\n",
      "| GPU  Name        Persistence-M| Bus-Id        Disp.A | Volatile Uncorr. ECC |\r\n",
      "| Fan  Temp  Perf  Pwr:Usage/Cap|         Memory-Usage | GPU-Util  Compute M. |\r\n",
      "|===============================+======================+======================|\r\n",
      "|   0  GeForce 920MX       Off  | 00000000:03:00.0 Off |                  N/A |\r\n",
      "| N/A   41C    P0    N/A /  N/A |      5MiB /  2004MiB |      0%      Default |\r\n",
      "+-------------------------------+----------------------+----------------------+\r\n",
      "                                                                               \r\n",
      "+-----------------------------------------------------------------------------+\r\n",
      "| Processes:                                                       GPU Memory |\r\n",
      "|  GPU       PID   Type   Process name                             Usage      |\r\n",
      "|=============================================================================|\r\n",
      "|    0     15774      G   /usr/lib/Xorg                                  4MiB |\r\n",
      "+-----------------------------------------------------------------------------+\r\n"
     ]
    }
   ],
   "source": [
    "!nvidia-smi"
   ]
  },
  {
   "cell_type": "code",
   "execution_count": 2,
   "metadata": {
    "colab": {
     "base_uri": "https://localhost:8080/",
     "height": 136
    },
    "colab_type": "code",
    "id": "v6pXJGDekFNt",
    "outputId": "e10e90c9-d3b5-4912-da73-2b49efa4c89d"
   },
   "outputs": [],
   "source": [
    "# !git clone https://github.com/ShivamShrirao/dnn_from_scratch.git"
   ]
  },
  {
   "cell_type": "code",
   "execution_count": 3,
   "metadata": {
    "colab": {
     "base_uri": "https://localhost:8080/",
     "height": 136
    },
    "colab_type": "code",
    "id": "CgT-5T6EkO8a",
    "outputId": "3c101b0c-7383-4c91-b7c3-f4b62c35d23e"
   },
   "outputs": [],
   "source": [
    "# !git clone https://github.com/ShivamShrirao/deep_Q_learning_from_scratch.git"
   ]
  },
  {
   "cell_type": "code",
   "execution_count": 4,
   "metadata": {
    "colab": {
     "base_uri": "https://localhost:8080/",
     "height": 122
    },
    "colab_type": "code",
    "id": "TQZiX7WgkQeu",
    "outputId": "d4bda335-1acb-49ce-a8de-b7cb263764a6"
   },
   "outputs": [],
   "source": [
    "# from google.colab import drive\n",
    "# drive.mount('/content/drive')"
   ]
  },
  {
   "cell_type": "code",
   "execution_count": 5,
   "metadata": {
    "colab": {
     "base_uri": "https://localhost:8080/",
     "height": 34
    },
    "colab_type": "code",
    "id": "caNfRIj1kRcf",
    "outputId": "94584442-d939-442b-925b-26ad97aeb728"
   },
   "outputs": [],
   "source": [
    "# %cd deep_Q_learning_from_scratch"
   ]
  },
  {
   "cell_type": "code",
   "execution_count": 6,
   "metadata": {
    "colab": {
     "base_uri": "https://localhost:8080/",
     "height": 34
    },
    "colab_type": "code",
    "id": "OzhhtvRQkWJW",
    "outputId": "73338800-eba8-48b1-bbc9-ef58cd067590"
   },
   "outputs": [],
   "source": [
    "# !git pull"
   ]
  },
  {
   "cell_type": "code",
   "execution_count": 1,
   "metadata": {
    "colab": {},
    "colab_type": "code",
    "id": "W0SnQz--kXCg"
   },
   "outputs": [],
   "source": [
    "import gym\n",
    "import time\n",
    "import cv2\n",
    "import numpy as np\n",
    "\n",
    "from settings import *\n",
    "from agent import *\n",
    "from experience import *"
   ]
  },
  {
   "cell_type": "code",
   "execution_count": 2,
   "metadata": {
    "colab": {
     "base_uri": "https://localhost:8080/",
     "height": 357
    },
    "colab_type": "code",
    "id": "hc4bwkXTkX7_",
    "outputId": "fa5c0ea9-2ea4-4d46-d238-43b27c681679"
   },
   "outputs": [
    {
     "name": "stdout",
     "output_type": "stream",
     "text": [
      "⎽⎽⎽⎽⎽⎽⎽⎽⎽⎽⎽⎽⎽⎽⎽⎽⎽⎽⎽⎽⎽⎽⎽⎽⎽⎽⎽⎽⎽⎽⎽⎽⎽⎽⎽⎽⎽⎽⎽⎽⎽⎽⎽⎽⎽⎽⎽⎽⎽⎽⎽⎽⎽⎽⎽⎽⎽⎽⎽⎽⎽⎽⎽⎽⎽⎽⎽⎽⎽⎽⎽⎽⎽⎽⎽⎽⎽⎽⎽⎽⎽⎽⎽⎽⎽⎽⎽⎽⎽⎽\n",
      "Layer (type)               Output Shape             Activation        Param #\n",
      "==========================================================================================\n",
      "- InputLayer(InputLayer)  (None, 80, 80, 4)          echo             0\n",
      "__________________________________________________________________________________________\n",
      "0 Conv2D(Conv2D)          (None, 40, 40, 32)         relu             1184\n",
      "__________________________________________________________________________________________\n",
      "1 Conv2D(Conv2D)          (None, 20, 20, 64)         relu             18496\n",
      "__________________________________________________________________________________________\n",
      "2 Conv2D(Conv2D)          (None, 10, 10, 128)        relu             73856\n",
      "__________________________________________________________________________________________\n",
      "3 Flatten(Flatten)        (None, 12800)              echo             0\n",
      "__________________________________________________________________________________________\n",
      "4 Dense(Dense)            (None, 512)                relu             6554112\n",
      "__________________________________________________________________________________________\n",
      "5 Dense(Dense)            (None, 3)                  tanh             1539\n",
      "==========================================================================================\n",
      "Total Params: 6,649,187\n",
      "Trainable Params: 6,649,187\n",
      "Non-trainable Params: 0\n"
     ]
    }
   ],
   "source": [
    "agt = Agent(actions=[0,2,3], epsilon=1, min_epsilon=0.1, eps_decay=1e-6, target_update_thresh=1000)\n",
    "D_exp = ReplayMemory(capacity=1_000_000, nlap=2)"
   ]
  },
  {
   "cell_type": "code",
   "execution_count": 3,
   "metadata": {
    "colab": {},
    "colab_type": "code",
    "id": "XFlEoOqOkbcy"
   },
   "outputs": [],
   "source": [
    "env = gym.make('Pong-v0')"
   ]
  },
  {
   "cell_type": "code",
   "execution_count": 4,
   "metadata": {},
   "outputs": [],
   "source": [
    "def preproc_obsv(obsv):\n",
    "    obsv = cv2.cvtColor(obsv, cv2.COLOR_RGB2GRAY)\n",
    "    obsv = obsv[34:194:2,::2]\n",
    "    return obsv"
   ]
  },
  {
   "cell_type": "code",
   "execution_count": 5,
   "metadata": {},
   "outputs": [
    {
     "data": {
      "text/plain": [
       "0"
      ]
     },
     "execution_count": 5,
     "metadata": {},
     "output_type": "execute_result"
    }
   ],
   "source": [
    "D_exp.len"
   ]
  },
  {
   "cell_type": "code",
   "execution_count": null,
   "metadata": {
    "colab": {},
    "colab_type": "code",
    "id": "1-zscT4Tkd2Z"
   },
   "outputs": [
    {
     "name": "stdout",
     "output_type": "stream",
     "text": [
      " 949 3 -14.0  "
     ]
    }
   ],
   "source": [
    "for i_episode in range(1000):\n",
    "    obinit = env.reset()\n",
    "    if not i_episode:\n",
    "        observation = obinit\n",
    "    ep_score = 0\n",
    "    start = time.time()\n",
    "    for t in range(10_000):\n",
    "#         env.render()\n",
    "        action = agt.get_action(observation)\n",
    "        next_observation, reward, done, info = env.step(action)\n",
    "        ep_score += reward\n",
    "\n",
    "        D_exp.store_transition(preproc_obsv(observation), agt.actions.index(action), reward, done)\n",
    "        observation = next_observation\n",
    "\n",
    "        if (D_exp.len-D_exp.nxt_end) > BATCH_SIZE:\n",
    "            agt.train(D_exp, BATCH_SIZE)\n",
    "        if done:\n",
    "            break\n",
    "        print('\\r', t, action, ep_score, end='  ')\n",
    "    print(f\"\\rEpisode {i_episode+1} finished after {t+1} timesteps, Score: {ep_score}, Epsilon: {agt.epsilon:.6f}, Time: {time.time()-start:.2f}\")\n",
    "    # agt.update_target()\n",
    "    if not i_episode%4:\n",
    "        agt.model.save_weights(\"/content/drive/My Drive/model.w8s\")\n",
    "env.close()"
   ]
  },
  {
   "cell_type": "code",
   "execution_count": null,
   "metadata": {
    "colab": {},
    "colab_type": "code",
    "id": "sxsgV_xJkhHi"
   },
   "outputs": [],
   "source": [
    "env.close()"
   ]
  }
 ],
 "metadata": {
  "accelerator": "GPU",
  "colab": {
   "collapsed_sections": [],
   "machine_shape": "hm",
   "name": "Deep_Q_RL.ipynb",
   "provenance": []
  },
  "kernelspec": {
   "display_name": "Python 3",
   "language": "python",
   "name": "python3"
  },
  "language_info": {
   "codemirror_mode": {
    "name": "ipython",
    "version": 3
   },
   "file_extension": ".py",
   "mimetype": "text/x-python",
   "name": "python",
   "nbconvert_exporter": "python",
   "pygments_lexer": "ipython3",
   "version": "3.8.3"
  }
 },
 "nbformat": 4,
 "nbformat_minor": 1
}
