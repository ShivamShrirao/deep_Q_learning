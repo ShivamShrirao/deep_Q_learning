{
  "nbformat": 4,
  "nbformat_minor": 0,
  "metadata": {
    "colab": {
      "name": "Deep_Q_RL.ipynb",
      "provenance": [],
      "collapsed_sections": [],
      "machine_shape": "hm"
    },
    "kernelspec": {
      "name": "python3",
      "display_name": "Python 3"
    },
    "accelerator": "GPU"
  },
  "cells": [
    {
      "cell_type": "code",
      "metadata": {
        "id": "LbuhMj8QkFUO",
        "colab_type": "code",
        "colab": {
          "base_uri": "https://localhost:8080/",
          "height": 357
        },
        "outputId": "0b5c0d14-dcb2-4eab-cb9b-ba701bf89c60"
      },
      "source": [
        "!nvidia-smi"
      ],
      "execution_count": null,
      "outputs": [
        {
          "output_type": "stream",
          "text": [
            "Thu Aug 13 03:27:23 2020       \n",
            "+-----------------------------------------------------------------------------+\n",
            "| NVIDIA-SMI 450.57       Driver Version: 418.67       CUDA Version: 10.1     |\n",
            "|-------------------------------+----------------------+----------------------+\n",
            "| GPU  Name        Persistence-M| Bus-Id        Disp.A | Volatile Uncorr. ECC |\n",
            "| Fan  Temp  Perf  Pwr:Usage/Cap|         Memory-Usage | GPU-Util  Compute M. |\n",
            "|                               |                      |               MIG M. |\n",
            "|===============================+======================+======================|\n",
            "|   0  Tesla P100-PCIE...  Off  | 00000000:00:04.0 Off |                    0 |\n",
            "| N/A   35C    P0    26W / 250W |      0MiB / 16280MiB |      0%      Default |\n",
            "|                               |                      |                 ERR! |\n",
            "+-------------------------------+----------------------+----------------------+\n",
            "                                                                               \n",
            "+-----------------------------------------------------------------------------+\n",
            "| Processes:                                                                  |\n",
            "|  GPU   GI   CI        PID   Type   Process name                  GPU Memory |\n",
            "|        ID   ID                                                   Usage      |\n",
            "|=============================================================================|\n",
            "|  No running processes found                                                 |\n",
            "+-----------------------------------------------------------------------------+\n"
          ],
          "name": "stdout"
        }
      ]
    },
    {
      "cell_type": "code",
      "metadata": {
        "id": "v6pXJGDekFNt",
        "colab_type": "code",
        "colab": {
          "base_uri": "https://localhost:8080/",
          "height": 136
        },
        "outputId": "e10e90c9-d3b5-4912-da73-2b49efa4c89d"
      },
      "source": [
        "!git clone https://github.com/ShivamShrirao/dnn_from_scratch.git"
      ],
      "execution_count": null,
      "outputs": [
        {
          "output_type": "stream",
          "text": [
            "Cloning into 'dnn_from_scratch'...\n",
            "remote: Enumerating objects: 222, done.\u001b[K\n",
            "remote: Counting objects: 100% (222/222), done.\u001b[K\n",
            "remote: Compressing objects: 100% (134/134), done.\u001b[K\n",
            "remote: Total 1440 (delta 143), reused 153 (delta 86), pack-reused 1218\u001b[K\n",
            "Receiving objects: 100% (1440/1440), 13.74 MiB | 7.79 MiB/s, done.\n",
            "Resolving deltas: 100% (958/958), done.\n"
          ],
          "name": "stdout"
        }
      ]
    },
    {
      "cell_type": "code",
      "metadata": {
        "id": "CgT-5T6EkO8a",
        "colab_type": "code",
        "colab": {
          "base_uri": "https://localhost:8080/",
          "height": 136
        },
        "outputId": "3c101b0c-7383-4c91-b7c3-f4b62c35d23e"
      },
      "source": [
        "!git clone https://github.com/ShivamShrirao/deep_Q_learning_from_scratch.git"
      ],
      "execution_count": null,
      "outputs": [
        {
          "output_type": "stream",
          "text": [
            "Cloning into 'deep_Q_learning_from_scratch'...\n",
            "remote: Enumerating objects: 166, done.\u001b[K\n",
            "remote: Counting objects:   0% (1/166)\u001b[K\rremote: Counting objects:   1% (2/166)\u001b[K\rremote: Counting objects:   2% (4/166)\u001b[K\rremote: Counting objects:   3% (5/166)\u001b[K\rremote: Counting objects:   4% (7/166)\u001b[K\rremote: Counting objects:   5% (9/166)\u001b[K\rremote: Counting objects:   6% (10/166)\u001b[K\rremote: Counting objects:   7% (12/166)\u001b[K\rremote: Counting objects:   8% (14/166)\u001b[K\rremote: Counting objects:   9% (15/166)\u001b[K\rremote: Counting objects:  10% (17/166)\u001b[K\rremote: Counting objects:  11% (19/166)\u001b[K\rremote: Counting objects:  12% (20/166)\u001b[K\rremote: Counting objects:  13% (22/166)\u001b[K\rremote: Counting objects:  14% (24/166)\u001b[K\rremote: Counting objects:  15% (25/166)\u001b[K\rremote: Counting objects:  16% (27/166)\u001b[K\rremote: Counting objects:  17% (29/166)\u001b[K\rremote: Counting objects:  18% (30/166)\u001b[K\rremote: Counting objects:  19% (32/166)\u001b[K\rremote: Counting objects:  20% (34/166)\u001b[K\rremote: Counting objects:  21% (35/166)\u001b[K\rremote: Counting objects:  22% (37/166)\u001b[K\rremote: Counting objects:  23% (39/166)\u001b[K\rremote: Counting objects:  24% (40/166)\u001b[K\rremote: Counting objects:  25% (42/166)\u001b[K\rremote: Counting objects:  26% (44/166)\u001b[K\rremote: Counting objects:  27% (45/166)\u001b[K\rremote: Counting objects:  28% (47/166)\u001b[K\rremote: Counting objects:  29% (49/166)\u001b[K\rremote: Counting objects:  30% (50/166)\u001b[K\rremote: Counting objects:  31% (52/166)\u001b[K\rremote: Counting objects:  32% (54/166)\u001b[K\rremote: Counting objects:  33% (55/166)\u001b[K\rremote: Counting objects:  34% (57/166)\u001b[K\rremote: Counting objects:  35% (59/166)\u001b[K\rremote: Counting objects:  36% (60/166)\u001b[K\rremote: Counting objects:  37% (62/166)\u001b[K\rremote: Counting objects:  38% (64/166)\u001b[K\rremote: Counting objects:  39% (65/166)\u001b[K\rremote: Counting objects:  40% (67/166)\u001b[K\rremote: Counting objects:  41% (69/166)\u001b[K\rremote: Counting objects:  42% (70/166)\u001b[K\rremote: Counting objects:  43% (72/166)\u001b[K\rremote: Counting objects:  44% (74/166)\u001b[K\rremote: Counting objects:  45% (75/166)\u001b[K\rremote: Counting objects:  46% (77/166)\u001b[K\rremote: Counting objects:  47% (79/166)\u001b[K\rremote: Counting objects:  48% (80/166)\u001b[K\rremote: Counting objects:  49% (82/166)\u001b[K\rremote: Counting objects:  50% (83/166)\u001b[K\rremote: Counting objects:  51% (85/166)\u001b[K\rremote: Counting objects:  52% (87/166)\u001b[K\rremote: Counting objects:  53% (88/166)\u001b[K\rremote: Counting objects:  54% (90/166)\u001b[K\rremote: Counting objects:  55% (92/166)\u001b[K\rremote: Counting objects:  56% (93/166)\u001b[K\rremote: Counting objects:  57% (95/166)\u001b[K\rremote: Counting objects:  58% (97/166)\u001b[K\rremote: Counting objects:  59% (98/166)\u001b[K\rremote: Counting objects:  60% (100/166)\u001b[K\rremote: Counting objects:  61% (102/166)\u001b[K\rremote: Counting objects:  62% (103/166)\u001b[K\rremote: Counting objects:  63% (105/166)\u001b[K\rremote: Counting objects:  64% (107/166)\u001b[K\rremote: Counting objects:  65% (108/166)\u001b[K\rremote: Counting objects:  66% (110/166)\u001b[K\rremote: Counting objects:  67% (112/166)\u001b[K\rremote: Counting objects:  68% (113/166)\u001b[K\rremote: Counting objects:  69% (115/166)\u001b[K\rremote: Counting objects:  70% (117/166)\u001b[K\rremote: Counting objects:  71% (118/166)\u001b[K\rremote: Counting objects:  72% (120/166)\u001b[K\rremote: Counting objects:  73% (122/166)\u001b[K\rremote: Counting objects:  74% (123/166)\u001b[K\rremote: Counting objects:  75% (125/166)\u001b[K\rremote: Counting objects:  76% (127/166)\u001b[K\rremote: Counting objects:  77% (128/166)\u001b[K\rremote: Counting objects:  78% (130/166)\u001b[K\rremote: Counting objects:  79% (132/166)\u001b[K\rremote: Counting objects:  80% (133/166)\u001b[K\rremote: Counting objects:  81% (135/166)\u001b[K\rremote: Counting objects:  82% (137/166)\u001b[K\rremote: Counting objects:  83% (138/166)\u001b[K\rremote: Counting objects:  84% (140/166)\u001b[K\rremote: Counting objects:  85% (142/166)\u001b[K\rremote: Counting objects:  86% (143/166)\u001b[K\rremote: Counting objects:  87% (145/166)\u001b[K\rremote: Counting objects:  88% (147/166)\u001b[K\rremote: Counting objects:  89% (148/166)\u001b[K\rremote: Counting objects:  90% (150/166)\u001b[K\rremote: Counting objects:  91% (152/166)\u001b[K\rremote: Counting objects:  92% (153/166)\u001b[K\rremote: Counting objects:  93% (155/166)\u001b[K\rremote: Counting objects:  94% (157/166)\u001b[K\rremote: Counting objects:  95% (158/166)\u001b[K\rremote: Counting objects:  96% (160/166)\u001b[K\rremote: Counting objects:  97% (162/166)\u001b[K\rremote: Counting objects:  98% (163/166)\rremote: Counting objects:  99% (165/166)\u001b[K\rremote: Counting objects: 100% (166/166)\u001b[K\rremote: Counting objects: 100% (166/166), done.\u001b[K\n",
            "remote: Compressing objects: 100% (105/105), done.\u001b[K\n",
            "remote: Total 166 (delta 99), reused 122 (delta 55), pack-reused 0\u001b[K\n",
            "Receiving objects: 100% (166/166), 95.78 KiB | 269.00 KiB/s, done.\n",
            "Resolving deltas: 100% (99/99), done.\n"
          ],
          "name": "stdout"
        }
      ]
    },
    {
      "cell_type": "code",
      "metadata": {
        "id": "TQZiX7WgkQeu",
        "colab_type": "code",
        "colab": {
          "base_uri": "https://localhost:8080/",
          "height": 122
        },
        "outputId": "d4bda335-1acb-49ce-a8de-b7cb263764a6"
      },
      "source": [
        "from google.colab import drive\n",
        "drive.mount('/content/drive')"
      ],
      "execution_count": null,
      "outputs": [
        {
          "output_type": "stream",
          "text": [
            "Go to this URL in a browser: https://accounts.google.com/o/oauth2/auth?client_id=947318989803-6bn6qk8qdgf4n4g3pfee6491hc0brc4i.apps.googleusercontent.com&redirect_uri=urn%3aietf%3awg%3aoauth%3a2.0%3aoob&scope=email%20https%3a%2f%2fwww.googleapis.com%2fauth%2fdocs.test%20https%3a%2f%2fwww.googleapis.com%2fauth%2fdrive%20https%3a%2f%2fwww.googleapis.com%2fauth%2fdrive.photos.readonly%20https%3a%2f%2fwww.googleapis.com%2fauth%2fpeopleapi.readonly&response_type=code\n",
            "\n",
            "Enter your authorization code:\n",
            "··········\n",
            "Mounted at /content/drive\n"
          ],
          "name": "stdout"
        }
      ]
    },
    {
      "cell_type": "code",
      "metadata": {
        "id": "caNfRIj1kRcf",
        "colab_type": "code",
        "colab": {
          "base_uri": "https://localhost:8080/",
          "height": 34
        },
        "outputId": "94584442-d939-442b-925b-26ad97aeb728"
      },
      "source": [
        "%cd deep_Q_learning_from_scratch"
      ],
      "execution_count": null,
      "outputs": [
        {
          "output_type": "stream",
          "text": [
            "/content/deep_Q_learning_from_scratch\n"
          ],
          "name": "stdout"
        }
      ]
    },
    {
      "cell_type": "code",
      "metadata": {
        "id": "OzhhtvRQkWJW",
        "colab_type": "code",
        "colab": {
          "base_uri": "https://localhost:8080/",
          "height": 34
        },
        "outputId": "73338800-eba8-48b1-bbc9-ef58cd067590"
      },
      "source": [
        "!git pull"
      ],
      "execution_count": null,
      "outputs": [
        {
          "output_type": "stream",
          "text": [
            "Already up to date.\n"
          ],
          "name": "stdout"
        }
      ]
    },
    {
      "cell_type": "code",
      "metadata": {
        "id": "W0SnQz--kXCg",
        "colab_type": "code",
        "colab": {}
      },
      "source": [
        "import gym\n",
        "import time\n",
        "import cv2\n",
        "import numpy as np\n",
        "\n",
        "from settings import *\n",
        "from agent import *\n",
        "from experience import *\n",
        "from atari_wrappers import *"
      ],
      "execution_count": null,
      "outputs": []
    },
    {
      "cell_type": "code",
      "metadata": {
        "id": "hc4bwkXTkX7_",
        "colab_type": "code",
        "colab": {
          "base_uri": "https://localhost:8080/",
          "height": 357
        },
        "outputId": "fa5c0ea9-2ea4-4d46-d238-43b27c681679"
      },
      "source": [
        "agt = Agent(actions=[0,2,3], epsilon=1, min_epsilon=0.1, eps_decay=1e-6)\n",
        "D_exp = ReplayMemory(capacity=600000)"
      ],
      "execution_count": null,
      "outputs": [
        {
          "output_type": "stream",
          "text": [
            "⎽⎽⎽⎽⎽⎽⎽⎽⎽⎽⎽⎽⎽⎽⎽⎽⎽⎽⎽⎽⎽⎽⎽⎽⎽⎽⎽⎽⎽⎽⎽⎽⎽⎽⎽⎽⎽⎽⎽⎽⎽⎽⎽⎽⎽⎽⎽⎽⎽⎽⎽⎽⎽⎽⎽⎽⎽⎽⎽⎽⎽⎽⎽⎽⎽⎽⎽⎽⎽⎽⎽⎽⎽⎽⎽⎽⎽⎽⎽⎽⎽⎽⎽⎽⎽⎽⎽⎽⎽⎽\n",
            "Layer (type)               Output Shape             Activation        Param #\n",
            "==========================================================================================\n",
            "- InputLayer(InputLayer)  (None, 80, 80, 4)          echo             0\n",
            "__________________________________________________________________________________________\n",
            "0 Conv2D(Conv2D)          (None, 40, 40, 32)         relu             1184\n",
            "__________________________________________________________________________________________\n",
            "1 Conv2D(Conv2D)          (None, 20, 20, 64)         relu             18496\n",
            "__________________________________________________________________________________________\n",
            "2 Conv2D(Conv2D)          (None, 10, 10, 128)        relu             73856\n",
            "__________________________________________________________________________________________\n",
            "3 Flatten(Flatten)        (None, 12800)              echo             0\n",
            "__________________________________________________________________________________________\n",
            "4 Dense(Dense)            (None, 512)                relu             6554112\n",
            "__________________________________________________________________________________________\n",
            "5 Dense(Dense)            (None, 3)                  tanh             1539\n",
            "==========================================================================================\n",
            "Total Params: 6,649,187\n",
            "Trainable Params: 6,649,187\n",
            "Non-trainable Params: 0\n"
          ],
          "name": "stdout"
        }
      ]
    },
    {
      "cell_type": "code",
      "metadata": {
        "id": "XFlEoOqOkbcy",
        "colab_type": "code",
        "colab": {}
      },
      "source": [
        "env = gym.make('Pong-v0')\n",
        "env = FrameStack(env, NFRAMES)      # preprocess and stack frames"
      ],
      "execution_count": null,
      "outputs": []
    },
    {
      "cell_type": "code",
      "metadata": {
        "id": "OdUHf1_ZkcqT",
        "colab_type": "code",
        "colab": {
          "base_uri": "https://localhost:8080/",
          "height": 34
        },
        "outputId": "284eaf3d-7729-4454-cf2e-1d7aa61c3c12"
      },
      "source": [
        "len(D_exp.ndone)"
      ],
      "execution_count": null,
      "outputs": [
        {
          "output_type": "execute_result",
          "data": {
            "text/plain": [
              "0"
            ]
          },
          "metadata": {
            "tags": []
          },
          "execution_count": 6
        }
      ]
    },
    {
      "cell_type": "code",
      "metadata": {
        "id": "do2kpfL9Yd_o",
        "colab_type": "code",
        "colab": {}
      },
      "source": [
        "agt.get_Qtr_next = agt.DQN_Qtr_next"
      ],
      "execution_count": null,
      "outputs": []
    },
    {
      "cell_type": "code",
      "metadata": {
        "id": "1-zscT4Tkd2Z",
        "colab_type": "code",
        "colab": {}
      },
      "source": [
        "for i_episode in range(1000):\n",
        "    observation = env.reset()\n",
        "    ep_score = 0\n",
        "    start = time.time()\n",
        "    nlap = NFRAMES - 1\n",
        "    sv_obs = deque([], maxlen=nlap)\n",
        "    sv_act = deque([], maxlen=nlap)\n",
        "    sv_rew = deque([], maxlen=nlap)\n",
        "    sv_don = deque([], maxlen=nlap)\n",
        "    for t in range(10000):\n",
        "#         env.render()\n",
        "        action = agt.get_action(observation)\n",
        "        next_observation, reward, done, info = env.step(action)\n",
        "        ep_score += reward\n",
        "\n",
        "        sv_obs.append(observation)\n",
        "        sv_act.append(action)\n",
        "        sv_rew.append(reward)\n",
        "        sv_don.append(done)\n",
        "\n",
        "        if t >= nlap-1:\n",
        "            D_exp.store_transition(sv_obs[0], agt.actions.index(sv_act[0]), sv_rew[0], next_observation, sv_don[0])\n",
        "        observation = next_observation\n",
        "\n",
        "        if len(D_exp.ndone) > BATCH_SIZE:\n",
        "            agt.train(D_exp, BATCH_SIZE)\n",
        "            if not t%100:\n",
        "                agt.update_target()\n",
        "        if done:\n",
        "            D_exp.store_transition(sv_obs[-1], agt.actions.index(sv_act[-1]), sv_rew[-1], next_observation, sv_don[-1])\n",
        "            break\n",
        "        print('\\r', t, action, ep_score, end='  ')\n",
        "    print(f\"\\rEpisode {i_episode+1} finished after {t+1} timesteps, Score: {ep_score}, Epsilon: {agt.epsilon:.6f}, Time: {time.time()-start:.2f}\")\n",
        "    # agt.update_target()\n",
        "    if not i_episode%4:\n",
        "        agt.model.save_weights(\"/content/drive/My Drive/model.w8s\")\n",
        "env.close()"
      ],
      "execution_count": null,
      "outputs": []
    },
    {
      "cell_type": "code",
      "metadata": {
        "id": "gX_JL2KckeZR",
        "colab_type": "code",
        "colab": {}
      },
      "source": [
        "agt.epsilon = 1"
      ],
      "execution_count": null,
      "outputs": []
    },
    {
      "cell_type": "code",
      "metadata": {
        "id": "Vd4IjHivkfeL",
        "colab_type": "code",
        "colab": {}
      },
      "source": [
        "for i_episode in range(1000):\n",
        "    observation = env.reset()\n",
        "    ep_score = 0\n",
        "    start = time.time()\n",
        "    nlap = NFRAMES - 2\n",
        "    sv_obs = deque([], maxlen=nlap)\n",
        "    sv_act = deque([], maxlen=nlap)\n",
        "    sv_rew = deque([], maxlen=nlap)\n",
        "    sv_don = deque([], maxlen=nlap)\n",
        "    for t in range(10000):\n",
        "#         env.render()\n",
        "        action = agt.get_action(observation)\n",
        "        next_observation, reward, done, info = env.step(action)\n",
        "        ep_score += reward\n",
        "\n",
        "        sv_obs.append(observation)\n",
        "        sv_act.append(action)\n",
        "        sv_rew.append(reward)\n",
        "        sv_don.append(done)\n",
        "\n",
        "        if t >= nlap-1:\n",
        "            D_exp.store_transition(sv_obs[0], agt.actions.index(sv_act[0]), sv_rew[0], next_observation, sv_don[0])\n",
        "        observation = next_observation\n",
        "\n",
        "        if len(D_exp.ndone) > BATCH_SIZE:\n",
        "            agt.train(D_exp, BATCH_SIZE)\n",
        "            if not t%1000:\n",
        "                agt.update_target()\n",
        "        if done:\n",
        "            D_exp.store_transition(sv_obs[-1], agt.actions.index(sv_act[-1]), sv_rew[-1], next_observation, sv_don[-1])\n",
        "            break\n",
        "        print('\\r', t, action, ep_score, end='  ')\n",
        "    print(f\"\\rEpisode {i_episode+1} finished after {t+1} timesteps, Score: {ep_score}, Epsilon: {agt.epsilon:.6f}, Time: {time.time()-start:.2f}\")\n",
        "    # agt.update_target()\n",
        "    if not i_episode%4:\n",
        "        agt.model.save_weights(\"/content/drive/My Drive/model.w8s\")\n",
        "env.close()"
      ],
      "execution_count": null,
      "outputs": []
    },
    {
      "cell_type": "code",
      "metadata": {
        "id": "sxsgV_xJkhHi",
        "colab_type": "code",
        "colab": {}
      },
      "source": [
        "env.close()"
      ],
      "execution_count": null,
      "outputs": []
    }
  ]
}